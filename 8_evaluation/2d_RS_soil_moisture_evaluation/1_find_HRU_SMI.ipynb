{
 "cells": [
  {
   "cell_type": "markdown",
   "metadata": {},
   "source": [
    "# Intersect catchment with ESA soil moisture project\n",
    "# Finds the mean SM of each HRU in the model setup with rasterstats.\n",
    "\n",
    "### Note\n",
    "The rasterstats function `ZonalStatistics` automatically adds the calculated value to the shapefile used as input to the function. The workflow is thus:\n",
    "1. Find the source catchment shapefile;\n",
    "2. Copy the source catchment shapefile to the destintion location;\n",
    "3. Run the zonal statistics algorithm on the copy."
   ]
  },
  {
   "cell_type": "code",
   "execution_count": 3,
   "metadata": {},
   "outputs": [],
   "source": [
    "# modules\n",
    "import os\n",
    "import sys\n",
    "from pathlib import Path\n",
    "from shutil import copyfile\n",
    "from datetime import datetime\n",
    "import geopandas as gpd\n",
    "import rasterstats\n",
    "import pandas as pd\n",
    "import rasterio as rio\n",
    "import matplotlib.pyplot as plt\n",
    "import numpy as np\n",
    "import xarray as xr\n",
    "import regionmask\n",
    "import dask\n",
    "# Import libraries\n",
    "import rioxarray as riox\n",
    "from rasterio.enums import Resampling\n"
   ]
  },
  {
   "cell_type": "code",
   "execution_count": null,
   "metadata": {},
   "outputs": [],
   "source": []
  },
  {
   "cell_type": "markdown",
   "metadata": {},
   "source": [
    "#### Control file handling"
   ]
  },
  {
   "cell_type": "code",
   "execution_count": 4,
   "metadata": {},
   "outputs": [],
   "source": [
    "# Easy access to control file folder\n",
    "controlFolder = Path('../../0_control_files')"
   ]
  },
  {
   "cell_type": "markdown",
   "metadata": {},
   "source": []
  },
  {
   "cell_type": "code",
   "execution_count": 5,
   "metadata": {},
   "outputs": [],
   "source": [
    "# Store the name of the 'active' file in a variable\n",
    "controlFile = 'control_Yukon_Merit.txt'"
   ]
  },
  {
   "cell_type": "code",
   "execution_count": 6,
   "metadata": {},
   "outputs": [],
   "source": [
    "# Function to extract a given setting from the control file\n",
    "def read_from_control( file, setting ):\n",
    "    \n",
    "    # Open 'control_active.txt' and ...\n",
    "    with open(file) as contents:\n",
    "        for line in contents:\n",
    "            \n",
    "            # ... find the line with the requested setting\n",
    "            if setting in line and not line.startswith('#'):\n",
    "                break\n",
    "    \n",
    "    # Extract the setting's value\n",
    "    substring = line.split('|',1)[1]      # Remove the setting's name (split into 2 based on '|', keep only 2nd part)\n",
    "    substring = substring.split('#',1)[0] # Remove comments, does nothing if no '#' is found\n",
    "    substring = substring.strip()         # Remove leading and trailing whitespace, tabs, newlines\n",
    "       \n",
    "    # Return this value    \n",
    "    return substring"
   ]
  },
  {
   "cell_type": "code",
   "execution_count": 7,
   "metadata": {},
   "outputs": [],
   "source": [
    "# Function to specify a default path\n",
    "def make_default_path(suffix):\n",
    "    \n",
    "    # Get the root path\n",
    "    rootPath = Path( read_from_control(controlFolder/controlFile,'root_path') )\n",
    "    \n",
    "    # Get the domain folder\n",
    "    domainName = read_from_control(controlFolder/controlFile,'domain_name')\n",
    "    domainFolder = 'domain_' + domainName\n",
    "    \n",
    "    # Specify the forcing path\n",
    "    defaultPath = rootPath / domainFolder / suffix\n",
    "    \n",
    "    return defaultPath"
   ]
  },
  {
   "cell_type": "markdown",
   "metadata": {},
   "source": [
    "#### Find location of shapefile and DEM"
   ]
  },
  {
   "cell_type": "code",
   "execution_count": 8,
   "metadata": {},
   "outputs": [],
   "source": [
    "# Catchment shapefile path & name\n",
    "catchment_path = read_from_control(controlFolder/controlFile,'catchment_shp_path')\n",
    "catchment_name = read_from_control(controlFolder/controlFile,'catchment_shp_name')"
   ]
  },
  {
   "cell_type": "code",
   "execution_count": 9,
   "metadata": {},
   "outputs": [],
   "source": [
    "# Specify default path if needed\n",
    "if catchment_path == 'default':\n",
    "    catchment_path = make_default_path('shapefiles/catchment') # outputs a Path()\n",
    "else:\n",
    "    catchment_path = Path(catchment_path) # make sure a user-specified path is a Path()"
   ]
  },
  {
   "cell_type": "code",
   "execution_count": 10,
   "metadata": {},
   "outputs": [],
   "source": [
    "# DEM path & name\n",
    "mod10a1_path = read_from_control(controlFolder/controlFile,'observation_snow_mod10a1_path')\n",
    "mod10a1_name = read_from_control(controlFolder/controlFile,'observation_snow_mod10a1_name')"
   ]
  },
  {
   "cell_type": "code",
   "execution_count": 11,
   "metadata": {},
   "outputs": [
    {
     "data": {
      "text/plain": [
       "PosixPath('/Users/darrieythorsson/compHydro/data/CWARHM_data/domain_Yukon/observations/MOD10A1/6_tif_multiband')"
      ]
     },
     "execution_count": 11,
     "metadata": {},
     "output_type": "execute_result"
    }
   ],
   "source": [
    "# Specify default path if needed\n",
    "if mod10a1_path == 'default':\n",
    "    mod10a1_path = make_default_path('observations/MOD10A1/6_tif_multiband') # outputs a Path()\n",
    "else:\n",
    "    mod10a1_path = Path(mod10a1_path) # make sure a user-specified path is a Path()\n",
    "\n",
    "mod10a1_path"
   ]
  },
  {
   "cell_type": "markdown",
   "metadata": {},
   "source": [
    "#### Find where the intersection needs to go"
   ]
  },
  {
   "cell_type": "code",
   "execution_count": 12,
   "metadata": {},
   "outputs": [
    {
     "name": "stdout",
     "output_type": "stream",
     "text": [
      "catchment_with_mod10a1.shp\n",
      "default\n"
     ]
    }
   ],
   "source": [
    "# Intersected shapefile path and name\n",
    "intersect_path = read_from_control(controlFolder/controlFile,'intersect_mod10a1_path')\n",
    "intersect_name = read_from_control(controlFolder/controlFile,'intersect_mod10a1_name')\n",
    "print(intersect_name)\n",
    "print(intersect_path)"
   ]
  },
  {
   "cell_type": "code",
   "execution_count": 13,
   "metadata": {},
   "outputs": [],
   "source": [
    "# Specify default path if needed\n",
    "if intersect_path == 'default':\n",
    "    intersect_path = make_default_path('shapefiles/catchment_intersection/with_ESA_SM') # outputs a Path()\n",
    "else:\n",
    "    intersect_path = Path(intersect_path) # make sure a user-specified path is a Path()"
   ]
  },
  {
   "cell_type": "code",
   "execution_count": 14,
   "metadata": {},
   "outputs": [],
   "source": [
    "# Make the folder if it doesn't exist\n",
    "intersect_path.mkdir(parents=True, exist_ok=True)"
   ]
  },
  {
   "cell_type": "markdown",
   "metadata": {},
   "source": [
    "#### Copy the source catchment shapefile into the destination location"
   ]
  },
  {
   "cell_type": "code",
   "execution_count": 15,
   "metadata": {},
   "outputs": [],
   "source": [
    "# Find the name without extension\n",
    "catchment_base = catchment_name.replace('.shp','')"
   ]
  },
  {
   "cell_type": "code",
   "execution_count": 16,
   "metadata": {},
   "outputs": [],
   "source": [
    "# Loop over directory contents and copy files that match the filename of the shape\n",
    "for file in os.listdir(catchment_path):\n",
    "    if catchment_base in file: # copy only the relevant files in case there are more than 1 .shp files\n",
    "        \n",
    "        # make the output file name\n",
    "        _,ext = os.path.splitext(file)                    # extension of current file\n",
    "        basefile,_ = os.path.splitext(intersect_name)     # name of the intersection file w/o extension\n",
    "        newfile = basefile + ext                          # new name + old extension\n",
    "        \n",
    "        # copy\n",
    "        copyfile(catchment_path/file, intersect_path/newfile);"
   ]
  },
  {
   "cell_type": "markdown",
   "metadata": {},
   "source": [
    "## Get the SUMMA output file"
   ]
  },
  {
   "cell_type": "code",
   "execution_count": 17,
   "metadata": {},
   "outputs": [],
   "source": [
    "simulation_path = read_from_control(controlFolder/controlFile,'experiment_output_summa')\n",
    "simulation_name = read_from_control(controlFolder/controlFile,'experiment_id')"
   ]
  },
  {
   "cell_type": "code",
   "execution_count": 18,
   "metadata": {},
   "outputs": [
    {
     "data": {
      "text/plain": [
       "PosixPath('/Users/darrieythorsson/compHydro/data/CWARHM_data/domain_Yukon/simulations/run_Yukon_Merit_1/SUMMA/run_Yukon_Merit_1_day.nc')"
      ]
     },
     "execution_count": 18,
     "metadata": {},
     "output_type": "execute_result"
    }
   ],
   "source": [
    "# Specify default path if needed\n",
    "if simulation_path == 'default':\n",
    "    simulation_path = make_default_path('simulations/' + simulation_name + '/SUMMA/' + simulation_name + '_day.nc')\n",
    "    simulation_path = Path(simulation_path) # make sure a user-specified path is a Path()\n",
    "\n",
    "simulation_path"
   ]
  },
  {
   "cell_type": "markdown",
   "metadata": {},
   "source": [
    "## Rasterstats analysis"
   ]
  },
  {
   "cell_type": "code",
   "execution_count": 19,
   "metadata": {},
   "outputs": [],
   "source": [
    "ds = xr.open_dataset(simulation_path)"
   ]
  },
  {
   "cell_type": "code",
   "execution_count": 20,
   "metadata": {},
   "outputs": [
    {
     "data": {
      "text/html": [
       "<div><svg style=\"position: absolute; width: 0; height: 0; overflow: hidden\">\n",
       "<defs>\n",
       "<symbol id=\"icon-database\" viewBox=\"0 0 32 32\">\n",
       "<path d=\"M16 0c-8.837 0-16 2.239-16 5v4c0 2.761 7.163 5 16 5s16-2.239 16-5v-4c0-2.761-7.163-5-16-5z\"></path>\n",
       "<path d=\"M16 17c-8.837 0-16-2.239-16-5v6c0 2.761 7.163 5 16 5s16-2.239 16-5v-6c0 2.761-7.163 5-16 5z\"></path>\n",
       "<path d=\"M16 26c-8.837 0-16-2.239-16-5v6c0 2.761 7.163 5 16 5s16-2.239 16-5v-6c0 2.761-7.163 5-16 5z\"></path>\n",
       "</symbol>\n",
       "<symbol id=\"icon-file-text2\" viewBox=\"0 0 32 32\">\n",
       "<path d=\"M28.681 7.159c-0.694-0.947-1.662-2.053-2.724-3.116s-2.169-2.030-3.116-2.724c-1.612-1.182-2.393-1.319-2.841-1.319h-15.5c-1.378 0-2.5 1.121-2.5 2.5v27c0 1.378 1.122 2.5 2.5 2.5h23c1.378 0 2.5-1.122 2.5-2.5v-19.5c0-0.448-0.137-1.23-1.319-2.841zM24.543 5.457c0.959 0.959 1.712 1.825 2.268 2.543h-4.811v-4.811c0.718 0.556 1.584 1.309 2.543 2.268zM28 29.5c0 0.271-0.229 0.5-0.5 0.5h-23c-0.271 0-0.5-0.229-0.5-0.5v-27c0-0.271 0.229-0.5 0.5-0.5 0 0 15.499-0 15.5 0v7c0 0.552 0.448 1 1 1h7v19.5z\"></path>\n",
       "<path d=\"M23 26h-14c-0.552 0-1-0.448-1-1s0.448-1 1-1h14c0.552 0 1 0.448 1 1s-0.448 1-1 1z\"></path>\n",
       "<path d=\"M23 22h-14c-0.552 0-1-0.448-1-1s0.448-1 1-1h14c0.552 0 1 0.448 1 1s-0.448 1-1 1z\"></path>\n",
       "<path d=\"M23 18h-14c-0.552 0-1-0.448-1-1s0.448-1 1-1h14c0.552 0 1 0.448 1 1s-0.448 1-1 1z\"></path>\n",
       "</symbol>\n",
       "</defs>\n",
       "</svg>\n",
       "<style>/* CSS stylesheet for displaying xarray objects in jupyterlab.\n",
       " *\n",
       " */\n",
       "\n",
       ":root {\n",
       "  --xr-font-color0: var(--jp-content-font-color0, rgba(0, 0, 0, 1));\n",
       "  --xr-font-color2: var(--jp-content-font-color2, rgba(0, 0, 0, 0.54));\n",
       "  --xr-font-color3: var(--jp-content-font-color3, rgba(0, 0, 0, 0.38));\n",
       "  --xr-border-color: var(--jp-border-color2, #e0e0e0);\n",
       "  --xr-disabled-color: var(--jp-layout-color3, #bdbdbd);\n",
       "  --xr-background-color: var(--jp-layout-color0, white);\n",
       "  --xr-background-color-row-even: var(--jp-layout-color1, white);\n",
       "  --xr-background-color-row-odd: var(--jp-layout-color2, #eeeeee);\n",
       "}\n",
       "\n",
       "html[theme=dark],\n",
       "body[data-theme=dark],\n",
       "body.vscode-dark {\n",
       "  --xr-font-color0: rgba(255, 255, 255, 1);\n",
       "  --xr-font-color2: rgba(255, 255, 255, 0.54);\n",
       "  --xr-font-color3: rgba(255, 255, 255, 0.38);\n",
       "  --xr-border-color: #1F1F1F;\n",
       "  --xr-disabled-color: #515151;\n",
       "  --xr-background-color: #111111;\n",
       "  --xr-background-color-row-even: #111111;\n",
       "  --xr-background-color-row-odd: #313131;\n",
       "}\n",
       "\n",
       ".xr-wrap {\n",
       "  display: block !important;\n",
       "  min-width: 300px;\n",
       "  max-width: 700px;\n",
       "}\n",
       "\n",
       ".xr-text-repr-fallback {\n",
       "  /* fallback to plain text repr when CSS is not injected (untrusted notebook) */\n",
       "  display: none;\n",
       "}\n",
       "\n",
       ".xr-header {\n",
       "  padding-top: 6px;\n",
       "  padding-bottom: 6px;\n",
       "  margin-bottom: 4px;\n",
       "  border-bottom: solid 1px var(--xr-border-color);\n",
       "}\n",
       "\n",
       ".xr-header > div,\n",
       ".xr-header > ul {\n",
       "  display: inline;\n",
       "  margin-top: 0;\n",
       "  margin-bottom: 0;\n",
       "}\n",
       "\n",
       ".xr-obj-type,\n",
       ".xr-array-name {\n",
       "  margin-left: 2px;\n",
       "  margin-right: 10px;\n",
       "}\n",
       "\n",
       ".xr-obj-type {\n",
       "  color: var(--xr-font-color2);\n",
       "}\n",
       "\n",
       ".xr-sections {\n",
       "  padding-left: 0 !important;\n",
       "  display: grid;\n",
       "  grid-template-columns: 150px auto auto 1fr 20px 20px;\n",
       "}\n",
       "\n",
       ".xr-section-item {\n",
       "  display: contents;\n",
       "}\n",
       "\n",
       ".xr-section-item input {\n",
       "  display: none;\n",
       "}\n",
       "\n",
       ".xr-section-item input + label {\n",
       "  color: var(--xr-disabled-color);\n",
       "}\n",
       "\n",
       ".xr-section-item input:enabled + label {\n",
       "  cursor: pointer;\n",
       "  color: var(--xr-font-color2);\n",
       "}\n",
       "\n",
       ".xr-section-item input:enabled + label:hover {\n",
       "  color: var(--xr-font-color0);\n",
       "}\n",
       "\n",
       ".xr-section-summary {\n",
       "  grid-column: 1;\n",
       "  color: var(--xr-font-color2);\n",
       "  font-weight: 500;\n",
       "}\n",
       "\n",
       ".xr-section-summary > span {\n",
       "  display: inline-block;\n",
       "  padding-left: 0.5em;\n",
       "}\n",
       "\n",
       ".xr-section-summary-in:disabled + label {\n",
       "  color: var(--xr-font-color2);\n",
       "}\n",
       "\n",
       ".xr-section-summary-in + label:before {\n",
       "  display: inline-block;\n",
       "  content: '►';\n",
       "  font-size: 11px;\n",
       "  width: 15px;\n",
       "  text-align: center;\n",
       "}\n",
       "\n",
       ".xr-section-summary-in:disabled + label:before {\n",
       "  color: var(--xr-disabled-color);\n",
       "}\n",
       "\n",
       ".xr-section-summary-in:checked + label:before {\n",
       "  content: '▼';\n",
       "}\n",
       "\n",
       ".xr-section-summary-in:checked + label > span {\n",
       "  display: none;\n",
       "}\n",
       "\n",
       ".xr-section-summary,\n",
       ".xr-section-inline-details {\n",
       "  padding-top: 4px;\n",
       "  padding-bottom: 4px;\n",
       "}\n",
       "\n",
       ".xr-section-inline-details {\n",
       "  grid-column: 2 / -1;\n",
       "}\n",
       "\n",
       ".xr-section-details {\n",
       "  display: none;\n",
       "  grid-column: 1 / -1;\n",
       "  margin-bottom: 5px;\n",
       "}\n",
       "\n",
       ".xr-section-summary-in:checked ~ .xr-section-details {\n",
       "  display: contents;\n",
       "}\n",
       "\n",
       ".xr-array-wrap {\n",
       "  grid-column: 1 / -1;\n",
       "  display: grid;\n",
       "  grid-template-columns: 20px auto;\n",
       "}\n",
       "\n",
       ".xr-array-wrap > label {\n",
       "  grid-column: 1;\n",
       "  vertical-align: top;\n",
       "}\n",
       "\n",
       ".xr-preview {\n",
       "  color: var(--xr-font-color3);\n",
       "}\n",
       "\n",
       ".xr-array-preview,\n",
       ".xr-array-data {\n",
       "  padding: 0 5px !important;\n",
       "  grid-column: 2;\n",
       "}\n",
       "\n",
       ".xr-array-data,\n",
       ".xr-array-in:checked ~ .xr-array-preview {\n",
       "  display: none;\n",
       "}\n",
       "\n",
       ".xr-array-in:checked ~ .xr-array-data,\n",
       ".xr-array-preview {\n",
       "  display: inline-block;\n",
       "}\n",
       "\n",
       ".xr-dim-list {\n",
       "  display: inline-block !important;\n",
       "  list-style: none;\n",
       "  padding: 0 !important;\n",
       "  margin: 0;\n",
       "}\n",
       "\n",
       ".xr-dim-list li {\n",
       "  display: inline-block;\n",
       "  padding: 0;\n",
       "  margin: 0;\n",
       "}\n",
       "\n",
       ".xr-dim-list:before {\n",
       "  content: '(';\n",
       "}\n",
       "\n",
       ".xr-dim-list:after {\n",
       "  content: ')';\n",
       "}\n",
       "\n",
       ".xr-dim-list li:not(:last-child):after {\n",
       "  content: ',';\n",
       "  padding-right: 5px;\n",
       "}\n",
       "\n",
       ".xr-has-index {\n",
       "  font-weight: bold;\n",
       "}\n",
       "\n",
       ".xr-var-list,\n",
       ".xr-var-item {\n",
       "  display: contents;\n",
       "}\n",
       "\n",
       ".xr-var-item > div,\n",
       ".xr-var-item label,\n",
       ".xr-var-item > .xr-var-name span {\n",
       "  background-color: var(--xr-background-color-row-even);\n",
       "  margin-bottom: 0;\n",
       "}\n",
       "\n",
       ".xr-var-item > .xr-var-name:hover span {\n",
       "  padding-right: 5px;\n",
       "}\n",
       "\n",
       ".xr-var-list > li:nth-child(odd) > div,\n",
       ".xr-var-list > li:nth-child(odd) > label,\n",
       ".xr-var-list > li:nth-child(odd) > .xr-var-name span {\n",
       "  background-color: var(--xr-background-color-row-odd);\n",
       "}\n",
       "\n",
       ".xr-var-name {\n",
       "  grid-column: 1;\n",
       "}\n",
       "\n",
       ".xr-var-dims {\n",
       "  grid-column: 2;\n",
       "}\n",
       "\n",
       ".xr-var-dtype {\n",
       "  grid-column: 3;\n",
       "  text-align: right;\n",
       "  color: var(--xr-font-color2);\n",
       "}\n",
       "\n",
       ".xr-var-preview {\n",
       "  grid-column: 4;\n",
       "}\n",
       "\n",
       ".xr-index-preview {\n",
       "  grid-column: 2 / 5;\n",
       "  color: var(--xr-font-color2);\n",
       "}\n",
       "\n",
       ".xr-var-name,\n",
       ".xr-var-dims,\n",
       ".xr-var-dtype,\n",
       ".xr-preview,\n",
       ".xr-attrs dt {\n",
       "  white-space: nowrap;\n",
       "  overflow: hidden;\n",
       "  text-overflow: ellipsis;\n",
       "  padding-right: 10px;\n",
       "}\n",
       "\n",
       ".xr-var-name:hover,\n",
       ".xr-var-dims:hover,\n",
       ".xr-var-dtype:hover,\n",
       ".xr-attrs dt:hover {\n",
       "  overflow: visible;\n",
       "  width: auto;\n",
       "  z-index: 1;\n",
       "}\n",
       "\n",
       ".xr-var-attrs,\n",
       ".xr-var-data,\n",
       ".xr-index-data {\n",
       "  display: none;\n",
       "  background-color: var(--xr-background-color) !important;\n",
       "  padding-bottom: 5px !important;\n",
       "}\n",
       "\n",
       ".xr-var-attrs-in:checked ~ .xr-var-attrs,\n",
       ".xr-var-data-in:checked ~ .xr-var-data,\n",
       ".xr-index-data-in:checked ~ .xr-index-data {\n",
       "  display: block;\n",
       "}\n",
       "\n",
       ".xr-var-data > table {\n",
       "  float: right;\n",
       "}\n",
       "\n",
       ".xr-var-name span,\n",
       ".xr-var-data,\n",
       ".xr-index-name div,\n",
       ".xr-index-data,\n",
       ".xr-attrs {\n",
       "  padding-left: 25px !important;\n",
       "}\n",
       "\n",
       ".xr-attrs,\n",
       ".xr-var-attrs,\n",
       ".xr-var-data,\n",
       ".xr-index-data {\n",
       "  grid-column: 1 / -1;\n",
       "}\n",
       "\n",
       "dl.xr-attrs {\n",
       "  padding: 0;\n",
       "  margin: 0;\n",
       "  display: grid;\n",
       "  grid-template-columns: 125px auto;\n",
       "}\n",
       "\n",
       ".xr-attrs dt,\n",
       ".xr-attrs dd {\n",
       "  padding: 0;\n",
       "  margin: 0;\n",
       "  float: left;\n",
       "  padding-right: 10px;\n",
       "  width: auto;\n",
       "}\n",
       "\n",
       ".xr-attrs dt {\n",
       "  font-weight: normal;\n",
       "  grid-column: 1;\n",
       "}\n",
       "\n",
       ".xr-attrs dt:hover span {\n",
       "  display: inline-block;\n",
       "  background: var(--xr-background-color);\n",
       "  padding-right: 10px;\n",
       "}\n",
       "\n",
       ".xr-attrs dd {\n",
       "  grid-column: 2;\n",
       "  white-space: pre-wrap;\n",
       "  word-break: break-all;\n",
       "}\n",
       "\n",
       ".xr-icon-database,\n",
       ".xr-icon-file-text2,\n",
       ".xr-no-icon {\n",
       "  display: inline-block;\n",
       "  vertical-align: middle;\n",
       "  width: 1em;\n",
       "  height: 1.5em !important;\n",
       "  stroke-width: 0;\n",
       "  stroke: currentColor;\n",
       "  fill: currentColor;\n",
       "}\n",
       "</style><pre class='xr-text-repr-fallback'>&lt;xarray.Dataset&gt; Size: 16GB\n",
       "Dimensions:               (time: 15705, hru: 18225, gru: 18225)\n",
       "Coordinates:\n",
       "  * time                  (time) datetime64[ns] 126kB 1980-01-02 ... 2022-12-31\n",
       "  * hru                   (hru) int64 146kB 81001460 81001703 ... 81036235\n",
       "  * gru                   (gru) int64 146kB 81001460 81001703 ... 81036235\n",
       "Data variables:\n",
       "    scalarSWE             (time, hru) float64 2GB ...\n",
       "    scalarAquiferStorage  (time, hru) float64 2GB ...\n",
       "    scalarTotalSoilWat    (time, hru) float64 2GB ...\n",
       "    scalarInfiltration    (time, hru) float64 2GB ...\n",
       "    scalarTotalET         (time, hru) float64 2GB ...\n",
       "    scalarTotalRunoff     (time, hru) float64 2GB ...\n",
       "    scalarNetRadiation    (time, hru) float64 2GB ...\n",
       "    hruId                 (hru) int64 146kB ...\n",
       "    gruId                 (gru) int64 146kB ...</pre><div class='xr-wrap' style='display:none'><div class='xr-header'><div class='xr-obj-type'>xarray.Dataset</div></div><ul class='xr-sections'><li class='xr-section-item'><input id='section-de646c6d-041a-48e7-ad34-fe844836f539' class='xr-section-summary-in' type='checkbox' disabled ><label for='section-de646c6d-041a-48e7-ad34-fe844836f539' class='xr-section-summary'  title='Expand/collapse section'>Dimensions:</label><div class='xr-section-inline-details'><ul class='xr-dim-list'><li><span class='xr-has-index'>time</span>: 15705</li><li><span class='xr-has-index'>hru</span>: 18225</li><li><span class='xr-has-index'>gru</span>: 18225</li></ul></div><div class='xr-section-details'></div></li><li class='xr-section-item'><input id='section-a4bce740-7de2-4ab0-a238-80f7895e154a' class='xr-section-summary-in' type='checkbox'  checked><label for='section-a4bce740-7de2-4ab0-a238-80f7895e154a' class='xr-section-summary' >Coordinates: <span>(3)</span></label><div class='xr-section-inline-details'></div><div class='xr-section-details'><ul class='xr-var-list'><li class='xr-var-item'><div class='xr-var-name'><span class='xr-has-index'>time</span></div><div class='xr-var-dims'>(time)</div><div class='xr-var-dtype'>datetime64[ns]</div><div class='xr-var-preview xr-preview'>1980-01-02 ... 2022-12-31</div><input id='attrs-5541d689-870e-48af-98f5-4a111f1cf11c' class='xr-var-attrs-in' type='checkbox' ><label for='attrs-5541d689-870e-48af-98f5-4a111f1cf11c' title='Show/Hide attributes'><svg class='icon xr-icon-file-text2'><use xlink:href='#icon-file-text2'></use></svg></label><input id='data-02a01cb9-f4a3-487a-a30b-e502ada2b1d6' class='xr-var-data-in' type='checkbox'><label for='data-02a01cb9-f4a3-487a-a30b-e502ada2b1d6' title='Show/Hide data repr'><svg class='icon xr-icon-database'><use xlink:href='#icon-database'></use></svg></label><div class='xr-var-attrs'><dl class='xr-attrs'><dt><span>long_name :</span></dt><dd>time since time reference (instant)</dd></dl></div><div class='xr-var-data'><pre>array([&#x27;1980-01-02T00:00:00.000000000&#x27;, &#x27;1980-01-03T00:00:00.000000000&#x27;,\n",
       "       &#x27;1980-01-04T00:00:00.000000000&#x27;, ..., &#x27;2022-12-29T00:00:00.000000000&#x27;,\n",
       "       &#x27;2022-12-30T00:00:00.000000000&#x27;, &#x27;2022-12-31T00:00:00.000000000&#x27;],\n",
       "      dtype=&#x27;datetime64[ns]&#x27;)</pre></div></li><li class='xr-var-item'><div class='xr-var-name'><span class='xr-has-index'>hru</span></div><div class='xr-var-dims'>(hru)</div><div class='xr-var-dtype'>int64</div><div class='xr-var-preview xr-preview'>81001460 81001703 ... 81036235</div><input id='attrs-fabae738-125b-4b32-9bed-ba768b9673b9' class='xr-var-attrs-in' type='checkbox' ><label for='attrs-fabae738-125b-4b32-9bed-ba768b9673b9' title='Show/Hide attributes'><svg class='icon xr-icon-file-text2'><use xlink:href='#icon-file-text2'></use></svg></label><input id='data-41d76ce4-7af4-4e19-a8f1-5ee2be390db0' class='xr-var-data-in' type='checkbox'><label for='data-41d76ce4-7af4-4e19-a8f1-5ee2be390db0' title='Show/Hide data repr'><svg class='icon xr-icon-database'><use xlink:href='#icon-database'></use></svg></label><div class='xr-var-attrs'><dl class='xr-attrs'><dt><span>long_name :</span></dt><dd>hruId in the input file</dd><dt><span>units :</span></dt><dd>-</dd></dl></div><div class='xr-var-data'><pre>array([81001460, 81001703, 81001738, ..., 81036216, 81036221, 81036235])</pre></div></li><li class='xr-var-item'><div class='xr-var-name'><span class='xr-has-index'>gru</span></div><div class='xr-var-dims'>(gru)</div><div class='xr-var-dtype'>int64</div><div class='xr-var-preview xr-preview'>81001460 81001703 ... 81036235</div><input id='attrs-cea6d140-e72b-48ba-ad9f-e641a95f2d19' class='xr-var-attrs-in' type='checkbox' ><label for='attrs-cea6d140-e72b-48ba-ad9f-e641a95f2d19' title='Show/Hide attributes'><svg class='icon xr-icon-file-text2'><use xlink:href='#icon-file-text2'></use></svg></label><input id='data-ad86fabc-371e-4acd-9e1c-5d5d958554ce' class='xr-var-data-in' type='checkbox'><label for='data-ad86fabc-371e-4acd-9e1c-5d5d958554ce' title='Show/Hide data repr'><svg class='icon xr-icon-database'><use xlink:href='#icon-database'></use></svg></label><div class='xr-var-attrs'><dl class='xr-attrs'><dt><span>long_name :</span></dt><dd>gruId in the input file</dd><dt><span>units :</span></dt><dd>-</dd></dl></div><div class='xr-var-data'><pre>array([81001460, 81001703, 81001738, ..., 81036216, 81036221, 81036235])</pre></div></li></ul></div></li><li class='xr-section-item'><input id='section-7d628fef-5907-4713-8133-1160f6490ee9' class='xr-section-summary-in' type='checkbox'  checked><label for='section-7d628fef-5907-4713-8133-1160f6490ee9' class='xr-section-summary' >Data variables: <span>(9)</span></label><div class='xr-section-inline-details'></div><div class='xr-section-details'><ul class='xr-var-list'><li class='xr-var-item'><div class='xr-var-name'><span>scalarSWE</span></div><div class='xr-var-dims'>(time, hru)</div><div class='xr-var-dtype'>float64</div><div class='xr-var-preview xr-preview'>...</div><input id='attrs-9ce8e1bb-9f97-4ca6-9cbe-e4568a1d930c' class='xr-var-attrs-in' type='checkbox' ><label for='attrs-9ce8e1bb-9f97-4ca6-9cbe-e4568a1d930c' title='Show/Hide attributes'><svg class='icon xr-icon-file-text2'><use xlink:href='#icon-file-text2'></use></svg></label><input id='data-195d4932-a641-4a93-8b85-3188bd99db7b' class='xr-var-data-in' type='checkbox'><label for='data-195d4932-a641-4a93-8b85-3188bd99db7b' title='Show/Hide data repr'><svg class='icon xr-icon-database'><use xlink:href='#icon-database'></use></svg></label><div class='xr-var-attrs'><dl class='xr-attrs'><dt><span>long_name :</span></dt><dd>snow water equivalent (instant)</dd><dt><span>units :</span></dt><dd>kg m-2</dd></dl></div><div class='xr-var-data'><pre>[286223625 values with dtype=float64]</pre></div></li><li class='xr-var-item'><div class='xr-var-name'><span>scalarAquiferStorage</span></div><div class='xr-var-dims'>(time, hru)</div><div class='xr-var-dtype'>float64</div><div class='xr-var-preview xr-preview'>...</div><input id='attrs-eec93b94-1a74-4c7a-ad52-a469bc9ea9fe' class='xr-var-attrs-in' type='checkbox' ><label for='attrs-eec93b94-1a74-4c7a-ad52-a469bc9ea9fe' title='Show/Hide attributes'><svg class='icon xr-icon-file-text2'><use xlink:href='#icon-file-text2'></use></svg></label><input id='data-f8129f6c-f70e-4c6b-901e-9f5a52086315' class='xr-var-data-in' type='checkbox'><label for='data-f8129f6c-f70e-4c6b-901e-9f5a52086315' title='Show/Hide data repr'><svg class='icon xr-icon-database'><use xlink:href='#icon-database'></use></svg></label><div class='xr-var-attrs'><dl class='xr-attrs'><dt><span>long_name :</span></dt><dd>water required to bring aquifer to the bottom of the soil profile (instant)</dd><dt><span>units :</span></dt><dd>m</dd></dl></div><div class='xr-var-data'><pre>[286223625 values with dtype=float64]</pre></div></li><li class='xr-var-item'><div class='xr-var-name'><span>scalarTotalSoilWat</span></div><div class='xr-var-dims'>(time, hru)</div><div class='xr-var-dtype'>float64</div><div class='xr-var-preview xr-preview'>...</div><input id='attrs-26ba9c61-55f9-4d82-baf4-c4420c9f3669' class='xr-var-attrs-in' type='checkbox' ><label for='attrs-26ba9c61-55f9-4d82-baf4-c4420c9f3669' title='Show/Hide attributes'><svg class='icon xr-icon-file-text2'><use xlink:href='#icon-file-text2'></use></svg></label><input id='data-3c85eb47-582f-49f0-af36-d759f9db3d6b' class='xr-var-data-in' type='checkbox'><label for='data-3c85eb47-582f-49f0-af36-d759f9db3d6b' title='Show/Hide data repr'><svg class='icon xr-icon-database'><use xlink:href='#icon-database'></use></svg></label><div class='xr-var-attrs'><dl class='xr-attrs'><dt><span>long_name :</span></dt><dd>total mass of water in the soil (instant)</dd><dt><span>units :</span></dt><dd>kg m-2</dd></dl></div><div class='xr-var-data'><pre>[286223625 values with dtype=float64]</pre></div></li><li class='xr-var-item'><div class='xr-var-name'><span>scalarInfiltration</span></div><div class='xr-var-dims'>(time, hru)</div><div class='xr-var-dtype'>float64</div><div class='xr-var-preview xr-preview'>...</div><input id='attrs-16e83f34-c58e-4a75-aa6e-1a4956fc5d7c' class='xr-var-attrs-in' type='checkbox' ><label for='attrs-16e83f34-c58e-4a75-aa6e-1a4956fc5d7c' title='Show/Hide attributes'><svg class='icon xr-icon-file-text2'><use xlink:href='#icon-file-text2'></use></svg></label><input id='data-252a6469-46f7-434c-95bf-30f0f71b781e' class='xr-var-data-in' type='checkbox'><label for='data-252a6469-46f7-434c-95bf-30f0f71b781e' title='Show/Hide data repr'><svg class='icon xr-icon-database'><use xlink:href='#icon-database'></use></svg></label><div class='xr-var-attrs'><dl class='xr-attrs'><dt><span>long_name :</span></dt><dd>infiltration of water into the soil profile (instant)</dd><dt><span>units :</span></dt><dd>m s-1</dd></dl></div><div class='xr-var-data'><pre>[286223625 values with dtype=float64]</pre></div></li><li class='xr-var-item'><div class='xr-var-name'><span>scalarTotalET</span></div><div class='xr-var-dims'>(time, hru)</div><div class='xr-var-dtype'>float64</div><div class='xr-var-preview xr-preview'>...</div><input id='attrs-332a8533-bac8-4e45-a561-6fae20d14679' class='xr-var-attrs-in' type='checkbox' ><label for='attrs-332a8533-bac8-4e45-a561-6fae20d14679' title='Show/Hide attributes'><svg class='icon xr-icon-file-text2'><use xlink:href='#icon-file-text2'></use></svg></label><input id='data-39b86780-2eae-44f9-9655-485c97b89c46' class='xr-var-data-in' type='checkbox'><label for='data-39b86780-2eae-44f9-9655-485c97b89c46' title='Show/Hide data repr'><svg class='icon xr-icon-database'><use xlink:href='#icon-database'></use></svg></label><div class='xr-var-attrs'><dl class='xr-attrs'><dt><span>long_name :</span></dt><dd>total ET (instant)</dd><dt><span>units :</span></dt><dd>kg m-2 s-1</dd></dl></div><div class='xr-var-data'><pre>[286223625 values with dtype=float64]</pre></div></li><li class='xr-var-item'><div class='xr-var-name'><span>scalarTotalRunoff</span></div><div class='xr-var-dims'>(time, hru)</div><div class='xr-var-dtype'>float64</div><div class='xr-var-preview xr-preview'>...</div><input id='attrs-0bb9671e-6c2a-42f6-ba13-fb69bf187e2d' class='xr-var-attrs-in' type='checkbox' ><label for='attrs-0bb9671e-6c2a-42f6-ba13-fb69bf187e2d' title='Show/Hide attributes'><svg class='icon xr-icon-file-text2'><use xlink:href='#icon-file-text2'></use></svg></label><input id='data-b3853bee-069b-419a-9a85-163fc3b783b5' class='xr-var-data-in' type='checkbox'><label for='data-b3853bee-069b-419a-9a85-163fc3b783b5' title='Show/Hide data repr'><svg class='icon xr-icon-database'><use xlink:href='#icon-database'></use></svg></label><div class='xr-var-attrs'><dl class='xr-attrs'><dt><span>long_name :</span></dt><dd>total runoff (instant)</dd><dt><span>units :</span></dt><dd>m s-1</dd></dl></div><div class='xr-var-data'><pre>[286223625 values with dtype=float64]</pre></div></li><li class='xr-var-item'><div class='xr-var-name'><span>scalarNetRadiation</span></div><div class='xr-var-dims'>(time, hru)</div><div class='xr-var-dtype'>float64</div><div class='xr-var-preview xr-preview'>...</div><input id='attrs-25caeae0-e55e-4c4e-bd9d-c7b6ad3fa5fc' class='xr-var-attrs-in' type='checkbox' ><label for='attrs-25caeae0-e55e-4c4e-bd9d-c7b6ad3fa5fc' title='Show/Hide attributes'><svg class='icon xr-icon-file-text2'><use xlink:href='#icon-file-text2'></use></svg></label><input id='data-b4bbce45-d861-442b-bae3-f6031f324336' class='xr-var-data-in' type='checkbox'><label for='data-b4bbce45-d861-442b-bae3-f6031f324336' title='Show/Hide data repr'><svg class='icon xr-icon-database'><use xlink:href='#icon-database'></use></svg></label><div class='xr-var-attrs'><dl class='xr-attrs'><dt><span>long_name :</span></dt><dd>net radiation (instant)</dd><dt><span>units :</span></dt><dd>W m-2</dd></dl></div><div class='xr-var-data'><pre>[286223625 values with dtype=float64]</pre></div></li><li class='xr-var-item'><div class='xr-var-name'><span>hruId</span></div><div class='xr-var-dims'>(hru)</div><div class='xr-var-dtype'>int64</div><div class='xr-var-preview xr-preview'>...</div><input id='attrs-66644b99-5ed4-4938-8dd2-fb032177a63a' class='xr-var-attrs-in' type='checkbox' ><label for='attrs-66644b99-5ed4-4938-8dd2-fb032177a63a' title='Show/Hide attributes'><svg class='icon xr-icon-file-text2'><use xlink:href='#icon-file-text2'></use></svg></label><input id='data-d37dbcf1-0b8f-4eb4-965c-bc923419dfad' class='xr-var-data-in' type='checkbox'><label for='data-d37dbcf1-0b8f-4eb4-965c-bc923419dfad' title='Show/Hide data repr'><svg class='icon xr-icon-database'><use xlink:href='#icon-database'></use></svg></label><div class='xr-var-attrs'><dl class='xr-attrs'><dt><span>long_name :</span></dt><dd>ID defining the hydrologic response unit</dd><dt><span>units :</span></dt><dd>-</dd></dl></div><div class='xr-var-data'><pre>[18225 values with dtype=int64]</pre></div></li><li class='xr-var-item'><div class='xr-var-name'><span>gruId</span></div><div class='xr-var-dims'>(gru)</div><div class='xr-var-dtype'>int64</div><div class='xr-var-preview xr-preview'>...</div><input id='attrs-92ce74ac-4e29-410e-b612-b2accd44d52f' class='xr-var-attrs-in' type='checkbox' ><label for='attrs-92ce74ac-4e29-410e-b612-b2accd44d52f' title='Show/Hide attributes'><svg class='icon xr-icon-file-text2'><use xlink:href='#icon-file-text2'></use></svg></label><input id='data-1516ea18-5571-4aad-aeea-7ffb200cafc1' class='xr-var-data-in' type='checkbox'><label for='data-1516ea18-5571-4aad-aeea-7ffb200cafc1' title='Show/Hide data repr'><svg class='icon xr-icon-database'><use xlink:href='#icon-database'></use></svg></label><div class='xr-var-attrs'><dl class='xr-attrs'><dt><span>long_name :</span></dt><dd>ID defining the grouped (basin) response unit</dd><dt><span>units :</span></dt><dd>-</dd></dl></div><div class='xr-var-data'><pre>[18225 values with dtype=int64]</pre></div></li></ul></div></li><li class='xr-section-item'><input id='section-31bc29a6-54cb-4815-b54d-6ac3cb125129' class='xr-section-summary-in' type='checkbox'  ><label for='section-31bc29a6-54cb-4815-b54d-6ac3cb125129' class='xr-section-summary' >Indexes: <span>(3)</span></label><div class='xr-section-inline-details'></div><div class='xr-section-details'><ul class='xr-var-list'><li class='xr-var-item'><div class='xr-index-name'><div>time</div></div><div class='xr-index-preview'>PandasIndex</div><div></div><input id='index-b13cd03d-edc6-462c-95aa-b9ca9cd0529c' class='xr-index-data-in' type='checkbox'/><label for='index-b13cd03d-edc6-462c-95aa-b9ca9cd0529c' title='Show/Hide index repr'><svg class='icon xr-icon-database'><use xlink:href='#icon-database'></use></svg></label><div class='xr-index-data'><pre>PandasIndex(DatetimeIndex([&#x27;1980-01-02&#x27;, &#x27;1980-01-03&#x27;, &#x27;1980-01-04&#x27;, &#x27;1980-01-05&#x27;,\n",
       "               &#x27;1980-01-06&#x27;, &#x27;1980-01-07&#x27;, &#x27;1980-01-08&#x27;, &#x27;1980-01-09&#x27;,\n",
       "               &#x27;1980-01-10&#x27;, &#x27;1980-01-11&#x27;,\n",
       "               ...\n",
       "               &#x27;2022-12-22&#x27;, &#x27;2022-12-23&#x27;, &#x27;2022-12-24&#x27;, &#x27;2022-12-25&#x27;,\n",
       "               &#x27;2022-12-26&#x27;, &#x27;2022-12-27&#x27;, &#x27;2022-12-28&#x27;, &#x27;2022-12-29&#x27;,\n",
       "               &#x27;2022-12-30&#x27;, &#x27;2022-12-31&#x27;],\n",
       "              dtype=&#x27;datetime64[ns]&#x27;, name=&#x27;time&#x27;, length=15705, freq=None))</pre></div></li><li class='xr-var-item'><div class='xr-index-name'><div>hru</div></div><div class='xr-index-preview'>PandasIndex</div><div></div><input id='index-0166a5ae-6453-4665-917f-5460894454aa' class='xr-index-data-in' type='checkbox'/><label for='index-0166a5ae-6453-4665-917f-5460894454aa' title='Show/Hide index repr'><svg class='icon xr-icon-database'><use xlink:href='#icon-database'></use></svg></label><div class='xr-index-data'><pre>PandasIndex(Index([81001460, 81001703, 81001738, 81001746, 81001836, 81001838, 81001870,\n",
       "       81001890, 81001914, 81001971,\n",
       "       ...\n",
       "       81036199, 81036201, 81036208, 81036210, 81036211, 81036213, 81036215,\n",
       "       81036216, 81036221, 81036235],\n",
       "      dtype=&#x27;int64&#x27;, name=&#x27;hru&#x27;, length=18225))</pre></div></li><li class='xr-var-item'><div class='xr-index-name'><div>gru</div></div><div class='xr-index-preview'>PandasIndex</div><div></div><input id='index-038f252d-7173-410b-90db-d038608a2d90' class='xr-index-data-in' type='checkbox'/><label for='index-038f252d-7173-410b-90db-d038608a2d90' title='Show/Hide index repr'><svg class='icon xr-icon-database'><use xlink:href='#icon-database'></use></svg></label><div class='xr-index-data'><pre>PandasIndex(Index([81001460, 81001703, 81001738, 81001746, 81001836, 81001838, 81001870,\n",
       "       81001890, 81001914, 81001971,\n",
       "       ...\n",
       "       81036199, 81036201, 81036208, 81036210, 81036211, 81036213, 81036215,\n",
       "       81036216, 81036221, 81036235],\n",
       "      dtype=&#x27;int64&#x27;, name=&#x27;gru&#x27;, length=18225))</pre></div></li></ul></div></li><li class='xr-section-item'><input id='section-55638cc1-2be3-4390-a1d1-639c1c65b37a' class='xr-section-summary-in' type='checkbox' disabled ><label for='section-55638cc1-2be3-4390-a1d1-639c1c65b37a' class='xr-section-summary'  title='Expand/collapse section'>Attributes: <span>(0)</span></label><div class='xr-section-inline-details'></div><div class='xr-section-details'><dl class='xr-attrs'></dl></div></li></ul></div></div>"
      ],
      "text/plain": [
       "<xarray.Dataset> Size: 16GB\n",
       "Dimensions:               (time: 15705, hru: 18225, gru: 18225)\n",
       "Coordinates:\n",
       "  * time                  (time) datetime64[ns] 126kB 1980-01-02 ... 2022-12-31\n",
       "  * hru                   (hru) int64 146kB 81001460 81001703 ... 81036235\n",
       "  * gru                   (gru) int64 146kB 81001460 81001703 ... 81036235\n",
       "Data variables:\n",
       "    scalarSWE             (time, hru) float64 2GB ...\n",
       "    scalarAquiferStorage  (time, hru) float64 2GB ...\n",
       "    scalarTotalSoilWat    (time, hru) float64 2GB ...\n",
       "    scalarInfiltration    (time, hru) float64 2GB ...\n",
       "    scalarTotalET         (time, hru) float64 2GB ...\n",
       "    scalarTotalRunoff     (time, hru) float64 2GB ...\n",
       "    scalarNetRadiation    (time, hru) float64 2GB ...\n",
       "    hruId                 (hru) int64 146kB ...\n",
       "    gruId                 (gru) int64 146kB ..."
      ]
     },
     "execution_count": 20,
     "metadata": {},
     "output_type": "execute_result"
    }
   ],
   "source": [
    "ds"
   ]
  },
  {
   "cell_type": "markdown",
   "metadata": {},
   "source": [
    "#### Spatial analysis"
   ]
  },
  {
   "cell_type": "code",
   "execution_count": 21,
   "metadata": {},
   "outputs": [],
   "source": [
    "# Convert Path() to string for QGIS\n",
    "catchment_file = str(intersect_path/intersect_name) # needs to be the coped file because output is automatically added to this\n",
    "mod10a1_file = str(mod10a1_path/mod10a1_name)"
   ]
  },
  {
   "cell_type": "code",
   "execution_count": 22,
   "metadata": {},
   "outputs": [
    {
     "name": "stdout",
     "output_type": "stream",
     "text": [
      "/Users/darrieythorsson/compHydro/data/CWARHM_data/domain_Yukon/observations/RS_Soil_moisture/ESA_SM/dap.ceda.ac.uk/neodc/esacci/soil_moisture/data/daily_files/ACTIVE/v08.1/2005/ESACCI-SOILMOISTURE-L3S-SSMS-ACTIVE-20051201000000-fv08.1.nc\n",
      "/Users/darrieythorsson/compHydro/data/CWARHM_data/domain_Yukon/shapefiles/catchment_intersection/with_ESA_SM/catchment_with_mod10a1.shp\n"
     ]
    }
   ],
   "source": [
    "layer_polygon = catchment_file\n",
    "layer_SM = '/Users/darrieythorsson/compHydro/data/CWARHM_data/domain_Yukon/observations/RS_Soil_moisture/ESA_SM/dap.ceda.ac.uk/neodc/esacci/soil_moisture/data/daily_files/ACTIVE/v08.1/2005/ESACCI-SOILMOISTURE-L3S-SSMS-ACTIVE-20051201000000-fv08.1.nc'\n",
    "\n",
    "\n",
    "print(layer_SM)\n",
    "print(layer_polygon)"
   ]
  },
  {
   "cell_type": "code",
   "execution_count": 23,
   "metadata": {},
   "outputs": [],
   "source": [
    "bbox = read_from_control(controlFolder/controlFile,'forcing_raw_space').split('/')\n",
    "lat_max = bbox[0]\n",
    "lon_min = bbox[1]\n",
    "lat_min = bbox[2]\n",
    "lon_max = bbox[3]"
   ]
  },
  {
   "cell_type": "code",
   "execution_count": 24,
   "metadata": {},
   "outputs": [
    {
     "ename": "NameError",
     "evalue": "name 'total_path' is not defined",
     "output_type": "error",
     "traceback": [
      "\u001b[0;31m---------------------------------------------------------------------------\u001b[0m",
      "\u001b[0;31mNameError\u001b[0m                                 Traceback (most recent call last)",
      "Cell \u001b[0;32mIn[24], line 1\u001b[0m\n\u001b[0;32m----> 1\u001b[0m raster_file \u001b[38;5;241m=\u001b[39m rio\u001b[38;5;241m.\u001b[39mopen(\u001b[43mtotal_path\u001b[49m)\n\u001b[1;32m      2\u001b[0m raster \u001b[38;5;241m=\u001b[39m raster_file\u001b[38;5;241m.\u001b[39mread(\u001b[38;5;241m1\u001b[39m)\n\u001b[1;32m      3\u001b[0m raster_file\u001b[38;5;241m.\u001b[39mrio\u001b[38;5;241m.\u001b[39mwidth\n",
      "\u001b[0;31mNameError\u001b[0m: name 'total_path' is not defined"
     ]
    }
   ],
   "source": [
    "raster_file = rio.open(total_path)\n",
    "raster = raster_file.read(1)\n",
    "raster_file.rio.width\n"
   ]
  },
  {
   "cell_type": "code",
   "execution_count": 25,
   "metadata": {},
   "outputs": [
    {
     "ename": "NameError",
     "evalue": "name 'total_path' is not defined",
     "output_type": "error",
     "traceback": [
      "\u001b[0;31m---------------------------------------------------------------------------\u001b[0m",
      "\u001b[0;31mNameError\u001b[0m                                 Traceback (most recent call last)",
      "Cell \u001b[0;32mIn[25], line 3\u001b[0m\n\u001b[1;32m      1\u001b[0m \u001b[38;5;66;03m# Read raster \u001b[39;00m\n\u001b[0;32m----> 3\u001b[0m raster \u001b[38;5;241m=\u001b[39m riox\u001b[38;5;241m.\u001b[39mopen_rasterio(\u001b[43mtotal_path\u001b[49m, crs \u001b[38;5;241m=\u001b[39m \u001b[38;5;124m'\u001b[39m\u001b[38;5;124mEPSG:4326\u001b[39m\u001b[38;5;124m'\u001b[39m)\n\u001b[1;32m      4\u001b[0m raster \u001b[38;5;241m=\u001b[39m raster\u001b[38;5;241m.\u001b[39mrio\u001b[38;5;241m.\u001b[39mwrite_crs(\u001b[38;5;124m'\u001b[39m\u001b[38;5;124mEPSG:4326\u001b[39m\u001b[38;5;124m'\u001b[39m)\n\u001b[1;32m      5\u001b[0m upscale_factor \u001b[38;5;241m=\u001b[39m \u001b[38;5;241m100\u001b[39m\n",
      "\u001b[0;31mNameError\u001b[0m: name 'total_path' is not defined"
     ]
    }
   ],
   "source": [
    "\n",
    " \n",
    "# Read raster \n",
    "\n",
    "raster = riox.open_rasterio(total_path, crs = 'EPSG:4326')\n",
    "raster = raster.rio.write_crs('EPSG:4326')\n",
    "upscale_factor = 100\n",
    " \n",
    "# Caluculate new height and width using upscale_factor\n",
    "new_width = raster.rio.width * upscale_factor\n",
    "new_height = raster.rio.height * upscale_factor\n",
    " \n",
    "#upsample raster\n",
    "up_sampled = raster.rio.reproject(raster.rio.crs, shape=(int(new_height), int(new_width)), resampling=Resampling.bilinear)\n",
    " \n",
    "\n",
    "\n",
    "print(raster.rio.resolution(), up_sampled.rio.resolution())\n",
    "# ((500.0, -500.0), (250.0, -250.0))\n",
    " \n",
    "print(raster.shape, up_sampled.shape)\n",
    "# ((1, 2660, 2305), (1, 5320, 4610))\n"
   ]
  },
  {
   "cell_type": "markdown",
   "metadata": {},
   "source": []
  },
  {
   "cell_type": "code",
   "execution_count": 32,
   "metadata": {},
   "outputs": [
    {
     "name": "stdout",
     "output_type": "stream",
     "text": [
      "Starting on year: 1992\n",
      "Starting on year: 1993\n",
      "Starting on year: 1994\n",
      "Starting on year: 1995\n",
      "Starting on year: 1996\n",
      "Starting on year: 1997\n",
      "Starting on year: 1998\n",
      "Starting on year: 1999\n",
      "Starting on year: 2000\n",
      "Starting on year: 2001\n",
      "Starting on year: 2002\n",
      "Starting on year: 2003\n",
      "Starting on year: 2004\n",
      "Starting on year: 2005\n",
      "Starting on year: 2006\n",
      "Starting on year: 2007\n",
      "Starting on year: 2008\n",
      "Starting on year: 2009\n",
      "Starting on year: 2010\n",
      "Starting on year: 2011\n",
      "Starting on year: 2012\n",
      "Starting on year: 2013\n",
      "Starting on year: 2014\n",
      "Starting on year: 2015\n",
      "Starting on year: 2016\n",
      "Starting on year: 2017\n",
      "Starting on year: 2018\n",
      "Starting on year: 2019\n",
      "Starting on year: 2020\n",
      "Starting on year: 2021\n",
      "Starting on year: 2022\n"
     ]
    }
   ],
   "source": [
    "files = []\n",
    "for year in range(1992,2023):\n",
    "    year_dir_path = '/Users/darrieythorsson/compHydro/data/CWARHM_data/domain_Yukon/observations/RS_Soil_moisture/ESA_SM/dap.ceda.ac.uk/neodc/esacci/soil_moisture/data/daily_files/ACTIVE/v08.1/' + str(year) + '/'\n",
    "\n",
    "    print('Starting on year: ' + str(year))\n",
    "    raster_path = year_dir_path + 'ESA_SM_' + str(year) + '.tif'\n",
    "    #if not os.path.isfile(raster_path):\n",
    "\n",
    "    dsYear = ds.sel(time = slice(str(year) + '-01-01', str(year) + '-12-31'))\n",
    "\n",
    "    year_files = []\n",
    "    for file in os.listdir(year_dir_path):\n",
    "        if file.endswith('.nc'):\n",
    "            files.append(Path(year_dir_path + file))\n",
    "            year_files.append(Path(year_dir_path + file))\n",
    "\n",
    "    dsSM = xr.open_mfdataset(year_files)\n",
    "    dsSMslice = dsSM.sel(lat = slice(lat_max,lat_min), lon = slice(lon_max, lon_min))\n",
    "    dsSMslice.sm.rio.to_raster(raster_path)\n",
    "    #else:\n",
    "    #    print('file already exists, skipping: ' + raster_path)\n",
    "\n",
    "\n",
    "#dsSM = xr.open_mfdataset(files)\n",
    "#dsSM = dsSM.sel(lat = slice(lat_max,lat_min), lon = slice(lon_max, lon_min))\n",
    "#total_path = '/Users/darrieythorsson/compHydro/data/CWARHM_data/domain_Yukon/observations/RS_Soil_moisture/ESA_SM/2_merged_geotiff/ESA_SM.tif'\n",
    "#dsSM.sm.rio.to_raster(total_path)\n"
   ]
  },
  {
   "cell_type": "code",
   "execution_count": 27,
   "metadata": {},
   "outputs": [],
   "source": [
    "# Read raster \n",
    "raster = riox.open_rasterio(raster_path)#, crs = 'EPSG:4326')\n",
    "raster = raster.rio.write_crs('EPSG:4326')\n",
    "upscale_factor = 16\n",
    " \n",
    "# Caluculate new height and width using upscale_factor\n",
    "new_width = raster.rio.width * upscale_factor\n",
    "new_height = raster.rio.height * upscale_factor\n",
    "\n",
    "\n",
    "for year in range(1992,2023):\n",
    "    year_dir_path = '/Users/darrieythorsson/compHydro/data/CWARHM_data/domain_Yukon/observations/RS_Soil_moisture/ESA_SM/dap.ceda.ac.uk/neodc/esacci/soil_moisture/data/daily_files/ACTIVE/v08.1/' + str(year) + '/'\n",
    "    raster_path = year_dir_path + 'ESA_SM_' + str(year) + '.tif'\n",
    "\n",
    "    raster_file = riox.open_rasterio(raster_path)\n",
    "    raster_file = raster_file.rio.write_crs('EPSG:4326')\n",
    "    \n",
    "    raster_file_resampled = raster_file.rio.reproject(raster.rio.crs, shape=(int(new_height), int(new_width)), resampling=Resampling.bilinear)\n",
    "    raster_file_resampled.rio.to_raster(raster_path)\n"
   ]
  },
  {
   "cell_type": "code",
   "execution_count": 29,
   "metadata": {},
   "outputs": [
    {
     "name": "stdout",
     "output_type": "stream",
     "text": [
      "Starting on year: 1992\n",
      "Starting on year: 1993\n",
      "Starting on year: 1994\n",
      "Starting on year: 1995\n",
      "Starting on year: 1996\n",
      "Starting on year: 1997\n",
      "Starting on year: 1998\n",
      "Starting on year: 1999\n",
      "Starting on year: 2000\n",
      "Starting on year: 2001\n",
      "Starting on year: 2002\n",
      "Starting on year: 2003\n",
      "Starting on year: 2004\n",
      "Starting on year: 2005\n",
      "Starting on year: 2006\n",
      "Starting on year: 2007\n",
      "Starting on year: 2008\n",
      "Starting on year: 2009\n",
      "Starting on year: 2010\n",
      "Starting on year: 2011\n",
      "Starting on year: 2012\n",
      "Starting on year: 2013\n",
      "Starting on year: 2014\n",
      "Starting on year: 2015\n",
      "Starting on year: 2016\n",
      "Starting on year: 2017\n",
      "Starting on year: 2018\n",
      "Starting on year: 2019\n",
      "Starting on year: 2020\n",
      "Starting on year: 2021\n",
      "Starting on year: 2022\n"
     ]
    }
   ],
   "source": [
    "for year in range(1992,2023):\n",
    "    year_dir_path = '/Users/darrieythorsson/compHydro/data/CWARHM_data/domain_Yukon/observations/RS_Soil_moisture/ESA_SM/dap.ceda.ac.uk/neodc/esacci/soil_moisture/data/daily_files/ACTIVE/v08.1/' + str(year) + '/'\n",
    "    raster_path = year_dir_path + 'ESA_SM_' + str(year) + '.tif'\n",
    "    layer_polygon = catchment_file\n",
    "    print('Starting on year: ' + str(year))\n",
    "    dsYear = ds.sel(time = slice(str(year) + '-01-01', str(year) + '-12-31'))\n",
    "    raster_file = rio.open(raster_path)\n",
    "    #print(raster_file.count)\n",
    "    affine = raster_file.transform\n",
    "    ESA_SM = []\n",
    "    for i, dt in enumerate(dsYear.time):\n",
    "\n",
    "        array = np.array(raster_file.read(i+1)).astype(float)\n",
    "        array[array == -9999] = np.nan\n",
    "        zstats = rasterstats.zonal_stats(layer_polygon, array, affine=affine)\n",
    "        zstats = pd.DataFrame(zstats)\n",
    "        \n",
    "        ESA_SM.append(zstats['mean'])\n",
    "    \n",
    "    dsYear['ESA_SM'] = (['time','hru'],ESA_SM)\n",
    "    netcdf_path = '/Users/darrieythorsson/compHydro/data/CWARHM_data/domain_Yukon/observations/RS_Soil_moisture/ESA_SM/3_daily_correlation/'\n",
    "    netcdf_name = 'ESA_SM_dailyCorrelation_year_' + str(year) + '.nc'\n",
    "    dsYear.to_netcdf(netcdf_path + netcdf_name)"
   ]
  },
  {
   "cell_type": "code",
   "execution_count": 31,
   "metadata": {},
   "outputs": [],
   "source": [
    "#clean up the reprojected rasters\n",
    "for year in range(1992,2023):\n",
    "    year_dir_path = '/Users/darrieythorsson/compHydro/data/CWARHM_data/domain_Yukon/observations/RS_Soil_moisture/ESA_SM/dap.ceda.ac.uk/neodc/esacci/soil_moisture/data/daily_files/ACTIVE/v08.1/' + str(year) + '/'\n",
    "    raster_path = year_dir_path + 'ESA_SM_' + str(year) + '.tif'\n",
    "    os.remove(raster_path)"
   ]
  },
  {
   "cell_type": "code",
   "execution_count": null,
   "metadata": {},
   "outputs": [],
   "source": []
  },
  {
   "cell_type": "code",
   "execution_count": null,
   "metadata": {},
   "outputs": [],
   "source": [
    "dsYear = xr.open_dataset(netcdf_path + netcdf_name)\n",
    "dsYear"
   ]
  },
  {
   "cell_type": "code",
   "execution_count": null,
   "metadata": {},
   "outputs": [
    {
     "data": {
      "text/plain": [
       "array([[-9999., -9999., -9999., ..., -9999., -9999., -9999.],\n",
       "       [-9999., -9999., -9999., ..., -9999., -9999., -9999.],\n",
       "       [-9999., -9999., -9999., ..., -9999., -9999., -9999.],\n",
       "       ...,\n",
       "       [-9999., -9999., -9999., ..., -9999., -9999., -9999.],\n",
       "       [-9999., -9999., -9999., ..., -9999., -9999., -9999.],\n",
       "       [-9999., -9999., -9999., ..., -9999., -9999., -9999.]],\n",
       "      dtype=float32)"
      ]
     },
     "execution_count": 69,
     "metadata": {},
     "output_type": "execute_result"
    }
   ],
   "source": [
    "raster_file = rio.open(total_path)\n",
    "raster = raster_file.read(1)\n",
    "raster"
   ]
  },
  {
   "cell_type": "code",
   "execution_count": null,
   "metadata": {},
   "outputs": [
    {
     "data": {
      "text/plain": [
       "0"
      ]
     },
     "execution_count": 70,
     "metadata": {},
     "output_type": "execute_result"
    }
   ],
   "source": [
    "affine = raster_file.transform\n",
    "raster = raster_file.read(4)\n",
    "raster[raster==-9999] = np.nan\n",
    "raster_zstats = rasterstats.zonal_stats(layer_polygon, raster, affine=affine)\n",
    "raster_zstats = pd.DataFrame(raster_zstats)\n",
    "raster_zstats['count'].sum()"
   ]
  },
  {
   "cell_type": "code",
   "execution_count": null,
   "metadata": {},
   "outputs": [
    {
     "ename": "KeyboardInterrupt",
     "evalue": "",
     "output_type": "error",
     "traceback": [
      "\u001b[0;31m---------------------------------------------------------------------------\u001b[0m",
      "\u001b[0;31mKeyboardInterrupt\u001b[0m                         Traceback (most recent call last)",
      "Cell \u001b[0;32mIn[71], line 8\u001b[0m\n\u001b[1;32m      6\u001b[0m array \u001b[38;5;241m=\u001b[39m np\u001b[38;5;241m.\u001b[39marray(raster_file\u001b[38;5;241m.\u001b[39mread(i\u001b[38;5;241m+\u001b[39m\u001b[38;5;241m1\u001b[39m))\u001b[38;5;241m.\u001b[39mastype(\u001b[38;5;28mfloat\u001b[39m)\n\u001b[1;32m      7\u001b[0m array[array \u001b[38;5;241m==\u001b[39m \u001b[38;5;241m-\u001b[39m\u001b[38;5;241m9999\u001b[39m] \u001b[38;5;241m=\u001b[39m np\u001b[38;5;241m.\u001b[39mnan\n\u001b[0;32m----> 8\u001b[0m zstats \u001b[38;5;241m=\u001b[39m \u001b[43mrasterstats\u001b[49m\u001b[38;5;241;43m.\u001b[39;49m\u001b[43mzonal_stats\u001b[49m\u001b[43m(\u001b[49m\u001b[43mlayer_polygon\u001b[49m\u001b[43m,\u001b[49m\u001b[43m \u001b[49m\u001b[43marray\u001b[49m\u001b[43m,\u001b[49m\u001b[43m \u001b[49m\u001b[43maffine\u001b[49m\u001b[38;5;241;43m=\u001b[39;49m\u001b[43maffine\u001b[49m\u001b[43m)\u001b[49m\n\u001b[1;32m      9\u001b[0m zstats \u001b[38;5;241m=\u001b[39m pd\u001b[38;5;241m.\u001b[39mDataFrame(zstats)\n\u001b[1;32m     11\u001b[0m ESA_SM\u001b[38;5;241m.\u001b[39mappend(zstats[\u001b[38;5;124m'\u001b[39m\u001b[38;5;124mmean\u001b[39m\u001b[38;5;124m'\u001b[39m])\n",
      "File \u001b[0;32m~/compHydro/data/CAMELS_spat/camels-spat-env/lib/python3.12/site-packages/rasterstats/main.py:36\u001b[0m, in \u001b[0;36mzonal_stats\u001b[0;34m(*args, **kwargs)\u001b[0m\n\u001b[1;32m     28\u001b[0m \u001b[38;5;28;01mdef\u001b[39;00m \u001b[38;5;21mzonal_stats\u001b[39m(\u001b[38;5;241m*\u001b[39margs, \u001b[38;5;241m*\u001b[39m\u001b[38;5;241m*\u001b[39mkwargs):\n\u001b[1;32m     29\u001b[0m \u001b[38;5;250m    \u001b[39m\u001b[38;5;124;03m\"\"\"The primary zonal statistics entry point.\u001b[39;00m\n\u001b[1;32m     30\u001b[0m \n\u001b[1;32m     31\u001b[0m \u001b[38;5;124;03m    All arguments are passed directly to ``gen_zonal_stats``.\u001b[39;00m\n\u001b[0;32m   (...)\u001b[0m\n\u001b[1;32m     34\u001b[0m \u001b[38;5;124;03m    The only difference is that ``zonal_stats`` will\u001b[39;00m\n\u001b[1;32m     35\u001b[0m \u001b[38;5;124;03m    return a list rather than a generator.\"\"\"\u001b[39;00m\n\u001b[0;32m---> 36\u001b[0m     \u001b[38;5;28;01mreturn\u001b[39;00m \u001b[38;5;28;43mlist\u001b[39;49m\u001b[43m(\u001b[49m\u001b[43mgen_zonal_stats\u001b[49m\u001b[43m(\u001b[49m\u001b[38;5;241;43m*\u001b[39;49m\u001b[43margs\u001b[49m\u001b[43m,\u001b[49m\u001b[43m \u001b[49m\u001b[38;5;241;43m*\u001b[39;49m\u001b[38;5;241;43m*\u001b[39;49m\u001b[43mkwargs\u001b[49m\u001b[43m)\u001b[49m\u001b[43m)\u001b[49m\n",
      "File \u001b[0;32m~/compHydro/data/CAMELS_spat/camels-spat-env/lib/python3.12/site-packages/rasterstats/main.py:174\u001b[0m, in \u001b[0;36mgen_zonal_stats\u001b[0;34m(vectors, raster, layer, band, nodata, affine, stats, all_touched, categorical, category_map, add_stats, zone_func, raster_out, prefix, geojson_out, boundless, **kwargs)\u001b[0m\n\u001b[1;32m    171\u001b[0m fsrc \u001b[38;5;241m=\u001b[39m rast\u001b[38;5;241m.\u001b[39mread(bounds\u001b[38;5;241m=\u001b[39mgeom_bounds, boundless\u001b[38;5;241m=\u001b[39mboundless)\n\u001b[1;32m    173\u001b[0m \u001b[38;5;66;03m# rasterized geometry\u001b[39;00m\n\u001b[0;32m--> 174\u001b[0m rv_array \u001b[38;5;241m=\u001b[39m \u001b[43mrasterize_geom\u001b[49m\u001b[43m(\u001b[49m\u001b[43mgeom\u001b[49m\u001b[43m,\u001b[49m\u001b[43m \u001b[49m\u001b[43mlike\u001b[49m\u001b[38;5;241;43m=\u001b[39;49m\u001b[43mfsrc\u001b[49m\u001b[43m,\u001b[49m\u001b[43m \u001b[49m\u001b[43mall_touched\u001b[49m\u001b[38;5;241;43m=\u001b[39;49m\u001b[43mall_touched\u001b[49m\u001b[43m)\u001b[49m\n\u001b[1;32m    176\u001b[0m \u001b[38;5;66;03m# nodata mask\u001b[39;00m\n\u001b[1;32m    177\u001b[0m isnodata \u001b[38;5;241m=\u001b[39m fsrc\u001b[38;5;241m.\u001b[39marray \u001b[38;5;241m==\u001b[39m fsrc\u001b[38;5;241m.\u001b[39mnodata\n",
      "File \u001b[0;32m~/compHydro/data/CAMELS_spat/camels-spat-env/lib/python3.12/site-packages/rasterstats/utils.py:46\u001b[0m, in \u001b[0;36mrasterize_geom\u001b[0;34m(geom, like, all_touched)\u001b[0m\n\u001b[1;32m     34\u001b[0m \u001b[38;5;250m\u001b[39m\u001b[38;5;124;03m\"\"\"\u001b[39;00m\n\u001b[1;32m     35\u001b[0m \u001b[38;5;124;03mParameters\u001b[39;00m\n\u001b[1;32m     36\u001b[0m \u001b[38;5;124;03m----------\u001b[39;00m\n\u001b[0;32m   (...)\u001b[0m\n\u001b[1;32m     43\u001b[0m \u001b[38;5;124;03mndarray: boolean\u001b[39;00m\n\u001b[1;32m     44\u001b[0m \u001b[38;5;124;03m\"\"\"\u001b[39;00m\n\u001b[1;32m     45\u001b[0m geoms \u001b[38;5;241m=\u001b[39m [(geom, \u001b[38;5;241m1\u001b[39m)]\n\u001b[0;32m---> 46\u001b[0m rv_array \u001b[38;5;241m=\u001b[39m \u001b[43mfeatures\u001b[49m\u001b[38;5;241;43m.\u001b[39;49m\u001b[43mrasterize\u001b[49m\u001b[43m(\u001b[49m\n\u001b[1;32m     47\u001b[0m \u001b[43m    \u001b[49m\u001b[43mgeoms\u001b[49m\u001b[43m,\u001b[49m\n\u001b[1;32m     48\u001b[0m \u001b[43m    \u001b[49m\u001b[43mout_shape\u001b[49m\u001b[38;5;241;43m=\u001b[39;49m\u001b[43mlike\u001b[49m\u001b[38;5;241;43m.\u001b[39;49m\u001b[43mshape\u001b[49m\u001b[43m,\u001b[49m\n\u001b[1;32m     49\u001b[0m \u001b[43m    \u001b[49m\u001b[43mtransform\u001b[49m\u001b[38;5;241;43m=\u001b[39;49m\u001b[43mlike\u001b[49m\u001b[38;5;241;43m.\u001b[39;49m\u001b[43maffine\u001b[49m\u001b[43m,\u001b[49m\n\u001b[1;32m     50\u001b[0m \u001b[43m    \u001b[49m\u001b[43mfill\u001b[49m\u001b[38;5;241;43m=\u001b[39;49m\u001b[38;5;241;43m0\u001b[39;49m\u001b[43m,\u001b[49m\n\u001b[1;32m     51\u001b[0m \u001b[43m    \u001b[49m\u001b[43mdtype\u001b[49m\u001b[38;5;241;43m=\u001b[39;49m\u001b[38;5;124;43m\"\u001b[39;49m\u001b[38;5;124;43muint8\u001b[39;49m\u001b[38;5;124;43m\"\u001b[39;49m\u001b[43m,\u001b[49m\n\u001b[1;32m     52\u001b[0m \u001b[43m    \u001b[49m\u001b[43mall_touched\u001b[49m\u001b[38;5;241;43m=\u001b[39;49m\u001b[43mall_touched\u001b[49m\u001b[43m,\u001b[49m\n\u001b[1;32m     53\u001b[0m \u001b[43m\u001b[49m\u001b[43m)\u001b[49m\n\u001b[1;32m     55\u001b[0m \u001b[38;5;28;01mreturn\u001b[39;00m rv_array\u001b[38;5;241m.\u001b[39mastype(\u001b[38;5;28mbool\u001b[39m)\n",
      "File \u001b[0;32m~/compHydro/data/CAMELS_spat/camels-spat-env/lib/python3.12/site-packages/rasterio/env.py:400\u001b[0m, in \u001b[0;36mensure_env.<locals>.wrapper\u001b[0;34m(*args, **kwds)\u001b[0m\n\u001b[1;32m    398\u001b[0m     \u001b[38;5;28;01mreturn\u001b[39;00m f(\u001b[38;5;241m*\u001b[39margs, \u001b[38;5;241m*\u001b[39m\u001b[38;5;241m*\u001b[39mkwds)\n\u001b[1;32m    399\u001b[0m \u001b[38;5;28;01melse\u001b[39;00m:\n\u001b[0;32m--> 400\u001b[0m \u001b[43m    \u001b[49m\u001b[38;5;28;43;01mwith\u001b[39;49;00m\u001b[43m \u001b[49m\u001b[43mEnv\u001b[49m\u001b[38;5;241;43m.\u001b[39;49m\u001b[43mfrom_defaults\u001b[49m\u001b[43m(\u001b[49m\u001b[43m)\u001b[49m\u001b[43m:\u001b[49m\n\u001b[1;32m    401\u001b[0m \u001b[43m        \u001b[49m\u001b[38;5;28;43;01mreturn\u001b[39;49;00m\u001b[43m \u001b[49m\u001b[43mf\u001b[49m\u001b[43m(\u001b[49m\u001b[38;5;241;43m*\u001b[39;49m\u001b[43margs\u001b[49m\u001b[43m,\u001b[49m\u001b[43m \u001b[49m\u001b[38;5;241;43m*\u001b[39;49m\u001b[38;5;241;43m*\u001b[39;49m\u001b[43mkwds\u001b[49m\u001b[43m)\u001b[49m\n",
      "File \u001b[0;32m~/compHydro/data/CAMELS_spat/camels-spat-env/lib/python3.12/site-packages/rasterio/env.py:287\u001b[0m, in \u001b[0;36mEnv.__enter__\u001b[0;34m(self)\u001b[0m\n\u001b[1;32m    284\u001b[0m         \u001b[38;5;28;01mif\u001b[39;00m val \u001b[38;5;129;01mis\u001b[39;00m \u001b[38;5;129;01mnot\u001b[39;00m \u001b[38;5;28;01mNone\u001b[39;00m:\n\u001b[1;32m    285\u001b[0m             local\u001b[38;5;241m.\u001b[39m_discovered_options[key] \u001b[38;5;241m=\u001b[39m val\n\u001b[0;32m--> 287\u001b[0m     \u001b[43mdefenv\u001b[49m\u001b[43m(\u001b[49m\u001b[38;5;241;43m*\u001b[39;49m\u001b[38;5;241;43m*\u001b[39;49m\u001b[38;5;28;43mself\u001b[39;49m\u001b[38;5;241;43m.\u001b[39;49m\u001b[43moptions\u001b[49m\u001b[43m)\u001b[49m\n\u001b[1;32m    288\u001b[0m     \u001b[38;5;28mself\u001b[39m\u001b[38;5;241m.\u001b[39mcontext_options \u001b[38;5;241m=\u001b[39m {}\n\u001b[1;32m    289\u001b[0m \u001b[38;5;28;01melse\u001b[39;00m:\n",
      "File \u001b[0;32m~/compHydro/data/CAMELS_spat/camels-spat-env/lib/python3.12/site-packages/rasterio/env.py:326\u001b[0m, in \u001b[0;36mdefenv\u001b[0;34m(**options)\u001b[0m\n\u001b[1;32m    323\u001b[0m     local\u001b[38;5;241m.\u001b[39m_env\u001b[38;5;241m.\u001b[39mupdate_config_options(\u001b[38;5;241m*\u001b[39m\u001b[38;5;241m*\u001b[39moptions)\n\u001b[1;32m    324\u001b[0m     log\u001b[38;5;241m.\u001b[39mdebug(\n\u001b[1;32m    325\u001b[0m         \u001b[38;5;124m\"\u001b[39m\u001b[38;5;124mNew GDAL environment \u001b[39m\u001b[38;5;132;01m%r\u001b[39;00m\u001b[38;5;124m created\u001b[39m\u001b[38;5;124m\"\u001b[39m, local\u001b[38;5;241m.\u001b[39m_env)\n\u001b[0;32m--> 326\u001b[0m \u001b[43mlocal\u001b[49m\u001b[38;5;241;43m.\u001b[39;49m\u001b[43m_env\u001b[49m\u001b[38;5;241;43m.\u001b[39;49m\u001b[43mstart\u001b[49m\u001b[43m(\u001b[49m\u001b[43m)\u001b[49m\n",
      "File \u001b[0;32mrasterio/_env.pyx:361\u001b[0m, in \u001b[0;36mrasterio._env.GDALEnv.start\u001b[0;34m()\u001b[0m\n",
      "File \u001b[0;32mrasterio/_env.pyx:368\u001b[0m, in \u001b[0;36mrasterio._env.GDALEnv.start\u001b[0;34m()\u001b[0m\n",
      "File \u001b[0;32m/opt/homebrew/Cellar/python@3.12/3.12.2_1/Frameworks/Python.framework/Versions/3.12/lib/python3.12/_collections_abc.py:811\u001b[0m, in \u001b[0;36mMapping.__contains__\u001b[0;34m(self, key)\u001b[0m\n\u001b[1;32m    808\u001b[0m     \u001b[38;5;28;01mexcept\u001b[39;00m \u001b[38;5;167;01mKeyError\u001b[39;00m:\n\u001b[1;32m    809\u001b[0m         \u001b[38;5;28;01mreturn\u001b[39;00m default\n\u001b[0;32m--> 811\u001b[0m \u001b[38;5;28;01mdef\u001b[39;00m \u001b[38;5;21m__contains__\u001b[39m(\u001b[38;5;28mself\u001b[39m, key):\n\u001b[1;32m    812\u001b[0m     \u001b[38;5;28;01mtry\u001b[39;00m:\n\u001b[1;32m    813\u001b[0m         \u001b[38;5;28mself\u001b[39m[key]\n",
      "\u001b[0;31mKeyboardInterrupt\u001b[0m: "
     ]
    }
   ],
   "source": [
    "\n",
    "ESA_SM = []\n",
    "\n",
    "for i, dt in enumerate(dsSM.time):\n",
    "\n",
    "    array = np.array(raster_file.read(i+1)).astype(float)\n",
    "    array[array == -9999] = np.nan\n",
    "    zstats = rasterstats.zonal_stats(layer_polygon, array, affine=affine)\n",
    "    zstats = pd.DataFrame(zstats)\n",
    "\n",
    "    ESA_SM.append(zstats['mean'])\n",
    "\n"
   ]
  },
  {
   "cell_type": "code",
   "execution_count": null,
   "metadata": {},
   "outputs": [
    {
     "data": {
      "text/plain": [
       "array([   0,    0,    0,    0,    0,    0,    0,    0,    0,    0,    0,\n",
       "          0,    0,    0,    0,    0,    0,    0,    0,    0,    0,    0,\n",
       "          0,    0,    0,    0,    0,    0,    0,    0,    0,    0,    0,\n",
       "          0,    0,    0,    0,    0,    0,    0,    0,    0,    0,    0,\n",
       "          0,    0,    0,    0,    0,    0,    0,    0,    0,    0,    0,\n",
       "          0,    0,    0,    0,    0,    0,    0,    0,    0,    0,    0,\n",
       "          0,    0,    0,    0,    0,    0,    0,    0,    0,    0,    0,\n",
       "          0,    0,    0,    0,    0,    0,    0,    0,    0,    0,    0,\n",
       "          0,    0,    0,    0,    0,    0,    0,    0,    0,    0,    0,\n",
       "          0,    0,    0,    0,    0,    0,    0,    0,    0,    0,    0,\n",
       "          0,    0,    0,    0,    0,    0,    0,    0,    0,    0,    0,\n",
       "          0,    0,    0,    0,    0,    0,    0,    0,    0,   14,    6,\n",
       "          0,    0,    0,    0,    0,    0,    3,    0,  291,    0,    0,\n",
       "          0,  151,    0,    0,    0,    0,    0,    0,    0,    0,  605,\n",
       "          0,  157,    0,    0,  337,  707,  329,    0,    0,    0,    0,\n",
       "        841,  578,    0,  928,    0,    0,    0,  683,  322, 1174,  789,\n",
       "          0,    0,    0,  473,   31,    0,  543,    0,    0,    0,   11,\n",
       "        987,  651,  263,   16,    0,    0, 1253,    0,  423,    0,    0,\n",
       "          0,   50,  798,  563,   31,  943,    0,    0,  129,  766,  306,\n",
       "        194,  695,    0,    0,  780,  488,   33,    0,  503,  119,  930,\n",
       "        672,  182,    0,  722,  258,  201,    0,    0, 1258,  807,    0,\n",
       "         22,    0,    0,   58,  880,  624,  150,   47,    0,    0,    0,\n",
       "          0,    0, 1156,  785,    0,   13,    0,    0,    0,    0,    0,\n",
       "         89,  794,  645,  129,  796,    0,    0,  729,    0,    0,  469,\n",
       "        521,  324,  433,  323,    0,    0,    5,    0,    0,    0,    0,\n",
       "          0,    0,    0,    0,    0,    0,    0,    0,    0,    0,    0,\n",
       "          0,    0,    0,    0,    0,    0,    0,    0,    0,    0,    0,\n",
       "          0,    0,    0,    0,    0,    0,    0,    0,    0,    0,    0,\n",
       "          0,    0,    0,    0,    0,    0,    0,    0,    0,    0,    0,\n",
       "          0,    0,    0,    0,    0,    0,    0,    0,    0,    0,    0,\n",
       "          0,    0,    0,    0,    0,    0,    0,    0,    0,    0,    0,\n",
       "          0,    0,    0,    0,    0,    0,    0,    0,    0,    0,    0,\n",
       "          0,    0,    0,    0,    0,    0,    0,    0,    0,    0,    0,\n",
       "          0,    0])"
      ]
     },
     "execution_count": 62,
     "metadata": {},
     "output_type": "execute_result"
    }
   ],
   "source": [
    "np.array(ESA_SM)"
   ]
  },
  {
   "cell_type": "code",
   "execution_count": null,
   "metadata": {},
   "outputs": [
    {
     "ename": "AttributeError",
     "evalue": "'numpy.int64' object has no attribute 'isna'",
     "output_type": "error",
     "traceback": [
      "\u001b[0;31m---------------------------------------------------------------------------\u001b[0m",
      "\u001b[0;31mAttributeError\u001b[0m                            Traceback (most recent call last)",
      "Cell \u001b[0;32mIn[58], line 1\u001b[0m\n\u001b[0;32m----> 1\u001b[0m \u001b[38;5;28mprint\u001b[39m(\u001b[43mESA_SM\u001b[49m\u001b[43m[\u001b[49m\u001b[38;5;241;43m5\u001b[39;49m\u001b[43m]\u001b[49m\u001b[38;5;241;43m.\u001b[39;49m\u001b[43misna\u001b[49m()\u001b[38;5;241m.\u001b[39mall())\n",
      "\u001b[0;31mAttributeError\u001b[0m: 'numpy.int64' object has no attribute 'isna'"
     ]
    }
   ],
   "source": []
  },
  {
   "cell_type": "markdown",
   "metadata": {},
   "source": [
    "#### Code provenance\n",
    "Generates a basic log file in the domain folder and copies the control file and itself there."
   ]
  },
  {
   "cell_type": "code",
   "execution_count": null,
   "metadata": {},
   "outputs": [],
   "source": [
    "# Set the log path and file name\n",
    "logPath = intersect_path\n",
    "log_suffix = '_catchment_dem_intersect_log.txt'"
   ]
  },
  {
   "cell_type": "code",
   "execution_count": null,
   "metadata": {},
   "outputs": [],
   "source": [
    "# Create a log folder\n",
    "logFolder = '_workflow_log'\n",
    "Path( logPath / logFolder ).mkdir(parents=True, exist_ok=True)"
   ]
  },
  {
   "cell_type": "code",
   "execution_count": null,
   "metadata": {},
   "outputs": [],
   "source": [
    "# Copy this script\n",
    "thisFile = '1_find_HRU_elevation.ipynb'\n",
    "copyfile(thisFile, logPath / logFolder / thisFile);"
   ]
  },
  {
   "cell_type": "code",
   "execution_count": null,
   "metadata": {},
   "outputs": [],
   "source": [
    "# Get current date and time\n",
    "now = datetime.now()"
   ]
  },
  {
   "cell_type": "code",
   "execution_count": null,
   "metadata": {},
   "outputs": [],
   "source": [
    "# Create a log file \n",
    "logFile = now.strftime('%Y%m%d') + log_suffix\n",
    "with open( logPath / logFolder / logFile, 'w') as file:\n",
    "    \n",
    "    lines = ['Log generated by ' + thisFile + ' on ' + now.strftime('%Y/%m/%d %H:%M:%S') + '\\n',\n",
    "             'Found mean HRU elevation from MERIT Hydro adjusted elevation DEM.']\n",
    "    for txt in lines:\n",
    "        file.write(txt)  "
   ]
  },
  {
   "cell_type": "code",
   "execution_count": null,
   "metadata": {},
   "outputs": [],
   "source": []
  }
 ],
 "metadata": {
  "kernelspec": {
   "display_name": "camels-spat-env",
   "language": "python",
   "name": "camels-spat-env"
  },
  "language_info": {
   "codemirror_mode": {
    "name": "ipython",
    "version": 3
   },
   "file_extension": ".py",
   "mimetype": "text/x-python",
   "name": "python",
   "nbconvert_exporter": "python",
   "pygments_lexer": "ipython3",
   "version": "3.12.2"
  }
 },
 "nbformat": 4,
 "nbformat_minor": 4
}
