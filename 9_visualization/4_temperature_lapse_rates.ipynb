{
 "cells": [
  {
   "cell_type": "markdown",
   "metadata": {},
   "source": [
    "# Temperature lapse rates"
   ]
  },
  {
   "cell_type": "code",
   "execution_count": 1,
   "metadata": {},
   "outputs": [],
   "source": [
    "# modules\n",
    "import os\n",
    "import xarray as xr\n",
    "import pandas as pd\n",
    "import geopandas as gpd\n",
    "from pathlib import Path\n",
    "import matplotlib.pyplot as plt\n",
    "from matplotlib.lines import Line2D"
   ]
  },
  {
   "cell_type": "markdown",
   "metadata": {},
   "source": [
    "#### Control file handling"
   ]
  },
  {
   "cell_type": "code",
   "execution_count": 2,
   "metadata": {},
   "outputs": [],
   "source": [
    "# Easy access to control file folder\n",
    "controlFolder = Path('../0_control_files')"
   ]
  },
  {
   "cell_type": "code",
   "execution_count": 3,
   "metadata": {},
   "outputs": [],
   "source": [
    "# Store the name of the 'active' file in a variable\n",
    "controlFile = 'control_Iceland.txt'"
   ]
  },
  {
   "cell_type": "code",
   "execution_count": 4,
   "metadata": {},
   "outputs": [],
   "source": [
    "# Function to extract a given setting from the control file\n",
    "def read_from_control( file, setting ):\n",
    "    \n",
    "    # Open 'control_active.txt' and ...\n",
    "    with open(file) as contents:\n",
    "        for line in contents:\n",
    "            \n",
    "            # ... find the line with the requested setting\n",
    "            if setting in line and not line.startswith('#'):\n",
    "                break\n",
    "    \n",
    "    # Extract the setting's value\n",
    "    substring = line.split('|',1)[1]      # Remove the setting's name (split into 2 based on '|', keep only 2nd part)\n",
    "    substring = substring.split('#',1)[0] # Remove comments, does nothing if no '#' is found\n",
    "    substring = substring.strip()         # Remove leading and trailing whitespace, tabs, newlines\n",
    "       \n",
    "    # Return this value    \n",
    "    return substring"
   ]
  },
  {
   "cell_type": "code",
   "execution_count": 5,
   "metadata": {},
   "outputs": [],
   "source": [
    "# Function to specify a default path\n",
    "def make_default_path(suffix):\n",
    "    \n",
    "    # Get the root path\n",
    "    rootPath = Path( read_from_control(controlFolder/controlFile,'root_path') )\n",
    "    \n",
    "    # Get the domain folder\n",
    "    domainName = read_from_control(controlFolder/controlFile,'domain_name')\n",
    "    domainFolder = 'domain_' + domainName\n",
    "    \n",
    "    # Specify the forcing path\n",
    "    defaultPath = rootPath / domainFolder / suffix\n",
    "    \n",
    "    return defaultPath"
   ]
  },
  {
   "cell_type": "markdown",
   "metadata": {},
   "source": [
    "#### Define where to save the figure"
   ]
  },
  {
   "cell_type": "code",
   "execution_count": 6,
   "metadata": {},
   "outputs": [],
   "source": [
    "# Path and filename\n",
    "fig_path = read_from_control(controlFolder/controlFile,'visualization_folder')\n",
    "fig_name = 'forcing_lapse_rates_v2.png'\n",
    "\n",
    "# Specify default path if needed\n",
    "if fig_path == 'default':\n",
    "    fig_path = make_default_path('visualization') # outputs a Path()\n",
    "else:\n",
    "    fig_path = Path(fig_path) # make sure a user-specified path is a Path()\n",
    "    \n",
    "# Make the folder if it doesn't exist\n",
    "fig_path.mkdir(parents=True, exist_ok=True)"
   ]
  },
  {
   "cell_type": "markdown",
   "metadata": {},
   "source": [
    "#### Find catchment-average and temperature-lapsed forcing files"
   ]
  },
  {
   "cell_type": "code",
   "execution_count": 7,
   "metadata": {},
   "outputs": [],
   "source": [
    "# Forcing files as produced by EASYMORE\n",
    "forcing_easymore_path = read_from_control(controlFolder/controlFile,'forcing_basin_avg_path')"
   ]
  },
  {
   "cell_type": "code",
   "execution_count": 8,
   "metadata": {},
   "outputs": [],
   "source": [
    "# Specify default path if needed\n",
    "if forcing_easymore_path == 'default':\n",
    "    forcing_easymore_path = make_default_path('forcing/3_basin_averaged_data') # outputs a Path()\n",
    "else:\n",
    "    forcing_easymore_path = Path(forcing_easymore_path) # make sure a user-specified path is a Path()"
   ]
  },
  {
   "cell_type": "code",
   "execution_count": 9,
   "metadata": {},
   "outputs": [],
   "source": [
    "# Find the files\n",
    "_,_,forcing_files_esmr = next(os.walk(forcing_easymore_path))\n",
    "forcing_files_esmr.sort()"
   ]
  },
  {
   "cell_type": "code",
   "execution_count": 10,
   "metadata": {},
   "outputs": [],
   "source": [
    "# Location for SUMMA-ready files\n",
    "forcing_summa_path = read_from_control(controlFolder/controlFile,'forcing_summa_path')"
   ]
  },
  {
   "cell_type": "code",
   "execution_count": 11,
   "metadata": {},
   "outputs": [],
   "source": [
    "# Specify default path if needed\n",
    "if forcing_summa_path == 'default':\n",
    "    forcing_summa_path = make_default_path('forcing/4_SUMMA_input') # outputs a Path()\n",
    "else:\n",
    "    forcing_summa_path = Path(forcing_summa_path) # make sure a user-specified path is a Path()"
   ]
  },
  {
   "cell_type": "code",
   "execution_count": 12,
   "metadata": {},
   "outputs": [],
   "source": [
    "# Find the files\n",
    "_,_,forcing_files_summa = next(os.walk(forcing_summa_path))\n",
    "forcing_files_summa.sort()"
   ]
  },
  {
   "cell_type": "markdown",
   "metadata": {},
   "source": [
    "#### Find where the catchment/forcing intersection is"
   ]
  },
  {
   "cell_type": "code",
   "execution_count": 13,
   "metadata": {},
   "outputs": [],
   "source": [
    "# Intersected shapefile path. Name is set by EASYMORE as [prefix]_intersected_shapefile.shp\n",
    "intersect_path = read_from_control(controlFolder/controlFile,'intersect_forcing_path')"
   ]
  },
  {
   "cell_type": "code",
   "execution_count": 14,
   "metadata": {},
   "outputs": [],
   "source": [
    "# Specify default path if needed\n",
    "if intersect_path == 'default':\n",
    "    intersect_path = make_default_path('shapefiles/catchment_intersection/with_forcing') # outputs a Path()\n",
    "else:\n",
    "    intersect_path = Path(intersect_path) # make sure a user-specified path is a Path()"
   ]
  },
  {
   "cell_type": "code",
   "execution_count": 15,
   "metadata": {},
   "outputs": [],
   "source": [
    "# Make the file name\n",
    "domain = read_from_control(controlFolder/controlFile,'domain_name')\n",
    "intersect_name = domain + '_intersected_shapefile.csv' # can also be .shp, but using the .csv is easier on memory"
   ]
  },
  {
   "cell_type": "markdown",
   "metadata": {},
   "source": [
    "#### Find where the catchment/DEM intersection is"
   ]
  },
  {
   "cell_type": "code",
   "execution_count": 16,
   "metadata": {},
   "outputs": [],
   "source": [
    "# Find location of DEM intersection for shapes and elevation\n",
    "elev_catchment_path = read_from_control(controlFolder/controlFile,'intersect_dem_path')\n",
    "elev_catchment_name = read_from_control(controlFolder/controlFile,'intersect_dem_name')"
   ]
  },
  {
   "cell_type": "code",
   "execution_count": 17,
   "metadata": {},
   "outputs": [],
   "source": [
    "# Specify default path if needed\n",
    "if elev_catchment_path == 'default':\n",
    "    elev_catchment_path = make_default_path('shapefiles/catchment_intersection/with_dem') # outputs a Path()\n",
    "else:\n",
    "    elev_catchment_path = Path(elev_catchment_path) # make sure a user-specified path is a Path()"
   ]
  },
  {
   "cell_type": "markdown",
   "metadata": {},
   "source": [
    "#### Find where the ERA5 geopotential data is"
   ]
  },
  {
   "cell_type": "code",
   "execution_count": 18,
   "metadata": {},
   "outputs": [],
   "source": [
    "# Find file path\n",
    "geo_path = read_from_control(controlFolder/controlFile,'forcing_geo_path')"
   ]
  },
  {
   "cell_type": "code",
   "execution_count": 19,
   "metadata": {},
   "outputs": [],
   "source": [
    "# Specify the default path if required\n",
    "if geo_path == 'default':\n",
    "    geo_path = make_default_path('forcing/0_geopotential')\n",
    "else: \n",
    "    geo_path = Path(geo_path) # ensure Path() object "
   ]
  },
  {
   "cell_type": "code",
   "execution_count": 20,
   "metadata": {},
   "outputs": [],
   "source": [
    "# Specify the filename\n",
    "geo_name = 'ERA5_geopotential.nc'"
   ]
  },
  {
   "cell_type": "markdown",
   "metadata": {},
   "source": [
    "#### Reproduce the lapse code"
   ]
  },
  {
   "cell_type": "code",
   "execution_count": 30,
   "metadata": {},
   "outputs": [],
   "source": [
    "# Load the intersection file\n",
    "topo_data = pd.read_csv(intersect_path/intersect_name) "
   ]
  },
  {
   "cell_type": "code",
   "execution_count": 31,
   "metadata": {},
   "outputs": [],
   "source": [
    "# Find hruId name in user's shapefile\n",
    "hru_ID_name = read_from_control(controlFolder/controlFile,'catchment_shp_hruid')\n",
    "gru_ID_name = read_from_control(controlFolder/controlFile,'catchment_shp_gruid')"
   ]
  },
  {
   "cell_type": "code",
   "execution_count": 32,
   "metadata": {},
   "outputs": [],
   "source": [
    "# Specify the column names\n",
    "# Note that column names are truncated at 10 characters in the ESRI shapefile, but NOT in the .csv we use here\n",
    "gru_ID         = 'S_1_' + gru_ID_name # EASYMORE prefix + user's hruId name\n",
    "hru_ID         = 'S_1_' + hru_ID_name # EASYMORE prefix + user's hruId name\n",
    "forcing_ID     = 'S_2_ID'             # fixed name assigned by EASYMORE\n",
    "catchment_elev = 'S_1_elev_mean'      # EASYMORE prefix + name used in catchment+DEM intersection step\n",
    "forcing_elev   = 'S_2_elev_m'         # EASYMORE prefix + name used in ERA5 shapefile generation\n",
    "weights        = 'weight'             # EASYMORE feature"
   ]
  },
  {
   "cell_type": "code",
   "execution_count": 33,
   "metadata": {},
   "outputs": [],
   "source": [
    "# Define the lapse rate\n",
    "lapse_rate = 0.0065 # [K m-1]"
   ]
  },
  {
   "cell_type": "code",
   "execution_count": 86,
   "metadata": {},
   "outputs": [],
   "source": [
    "# Calculate weighted lapse values for each HRU \n",
    "# Note that these lapse values need to be ADDED to ERA5 temperature data\n",
    "topo_data['lapse_values'] = topo_data[weights] * lapse_rate * \\\n",
    "    (topo_data[forcing_elev] - topo_data[catchment_elev]) # [K]"
   ]
  },
  {
   "cell_type": "code",
   "execution_count": null,
   "metadata": {},
   "outputs": [],
   "source": []
  },
  {
   "cell_type": "code",
   "execution_count": 87,
   "metadata": {},
   "outputs": [
    {
     "name": "stdout",
     "output_type": "stream",
     "text": [
      "fid\n",
      "7.0                                                -0.039433\n",
      "8.0                                                -1.082094\n",
      "9.0                                                -1.294675\n",
      "10.0                                                -0.84465\n",
      "11.0                                               -0.443292\n",
      "                                 ...                        \n",
      "10892.0                                             1.063564\n",
      "10893.0                                             1.017316\n",
      "10894.0                                             1.520139\n",
      "10895.0                                             1.507986\n",
      "fid        [7.0, 8.0, 9.0, 10.0, 11.0, 12.0, 13.0, 14.0, ...\n",
      "Name: lapse_values, Length: 10865, dtype: object\n"
     ]
    }
   ],
   "source": [
    "# Find the total lapse value per basin; i.e. sum the individual contributions of each HRU+ERA5-grid overlapping part\n",
    "lapse_values = topo_data.groupby([hru_ID]).lapse_values.sum()\n",
    "lapse_values.index = lapse_values.index.rename('fid')\n",
    "lapse_values['fid'] = lapse_values.index.values\n",
    "#lapse_values = topo_data.groupby([hru_ID]).lapse_values.sum()#.reset_index()\n",
    "print(lapse_values)"
   ]
  },
  {
   "cell_type": "code",
   "execution_count": 82,
   "metadata": {},
   "outputs": [
    {
     "ename": "TypeError",
     "evalue": "Series.sort_values() takes 1 positional argument but 2 were given",
     "output_type": "error",
     "traceback": [
      "\u001b[0;31m---------------------------------------------------------------------------\u001b[0m",
      "\u001b[0;31mTypeError\u001b[0m                                 Traceback (most recent call last)",
      "Cell \u001b[0;32mIn[82], line 2\u001b[0m\n\u001b[1;32m      1\u001b[0m \u001b[38;5;66;03m# Sort and set hruID as the index variable\u001b[39;00m\n\u001b[0;32m----> 2\u001b[0m lapse_values \u001b[38;5;241m=\u001b[39m \u001b[43mlapse_values\u001b[49m\u001b[38;5;241;43m.\u001b[39;49m\u001b[43msort_values\u001b[49m\u001b[43m(\u001b[49m\u001b[43mhru_ID\u001b[49m\u001b[43m)\u001b[49m\u001b[38;5;241m.\u001b[39mset_index(hru_ID)\n",
      "\u001b[0;31mTypeError\u001b[0m: Series.sort_values() takes 1 positional argument but 2 were given"
     ]
    }
   ],
   "source": [
    "# Sort and set hruID as the index variable\n",
    "lapse_values = lapse_values.sort_values(hru_ID).set_index(hru_ID)"
   ]
  },
  {
   "cell_type": "code",
   "execution_count": 28,
   "metadata": {},
   "outputs": [],
   "source": [
    "# Close the main file\n",
    "del topo_data # hopefully this saves some RAM but this is apparently not so straightforward in Python.. Can't hurt"
   ]
  },
  {
   "cell_type": "markdown",
   "metadata": {},
   "source": [
    "#### Prepare plotting data (elevation, lapse rates)"
   ]
  },
  {
   "cell_type": "code",
   "execution_count": 37,
   "metadata": {},
   "outputs": [],
   "source": [
    "# load catchment with DEM\n",
    "catchment = gpd.read_file(elev_catchment_path/elev_catchment_name)"
   ]
  },
  {
   "cell_type": "code",
   "execution_count": 38,
   "metadata": {},
   "outputs": [],
   "source": [
    "# Create a shapefile with only GRU boundaries for overlay\n",
    "hm_grus_only = catchment[[gru_ID_name,'geometry']] # keep only the gruId and geometry\n",
    "hm_grus_only = hm_grus_only.dissolve(by=gru_ID_name) # Dissolve HRU delineation"
   ]
  },
  {
   "cell_type": "code",
   "execution_count": 135,
   "metadata": {},
   "outputs": [
    {
     "data": {
      "text/html": [
       "<div>\n",
       "<style scoped>\n",
       "    .dataframe tbody tr th:only-of-type {\n",
       "        vertical-align: middle;\n",
       "    }\n",
       "\n",
       "    .dataframe tbody tr th {\n",
       "        vertical-align: top;\n",
       "    }\n",
       "\n",
       "    .dataframe thead th {\n",
       "        text-align: right;\n",
       "    }\n",
       "</style>\n",
       "<table border=\"1\" class=\"dataframe\">\n",
       "  <thead>\n",
       "    <tr style=\"text-align: right;\">\n",
       "      <th></th>\n",
       "      <th>streamID</th>\n",
       "      <th>center_lat</th>\n",
       "      <th>center_lon</th>\n",
       "      <th>HRU_area</th>\n",
       "      <th>elev_mean</th>\n",
       "      <th>geometry</th>\n",
       "      <th>lapse_rate</th>\n",
       "      <th>old_T</th>\n",
       "      <th>new_T</th>\n",
       "    </tr>\n",
       "    <tr>\n",
       "      <th>fid</th>\n",
       "      <th></th>\n",
       "      <th></th>\n",
       "      <th></th>\n",
       "      <th></th>\n",
       "      <th></th>\n",
       "      <th></th>\n",
       "      <th></th>\n",
       "      <th></th>\n",
       "      <th></th>\n",
       "    </tr>\n",
       "  </thead>\n",
       "  <tbody>\n",
       "    <tr>\n",
       "      <th>7.0</th>\n",
       "      <td>94.0</td>\n",
       "      <td>66.491313</td>\n",
       "      <td>-16.475102</td>\n",
       "      <td>4.759548e+06</td>\n",
       "      <td>11.868185</td>\n",
       "      <td>POLYGON ((-16.47462 66.51449, -16.47439 66.514...</td>\n",
       "      <td>-0.039433</td>\n",
       "      <td>273.369019</td>\n",
       "      <td>271.231153</td>\n",
       "    </tr>\n",
       "    <tr>\n",
       "      <th>8.0</th>\n",
       "      <td>95.0</td>\n",
       "      <td>66.425602</td>\n",
       "      <td>-22.934435</td>\n",
       "      <td>5.171903e+06</td>\n",
       "      <td>208.372392</td>\n",
       "      <td>POLYGON ((-22.91911 66.44294, -22.91887 66.442...</td>\n",
       "      <td>-1.082094</td>\n",
       "      <td>271.990417</td>\n",
       "      <td>270.005822</td>\n",
       "    </tr>\n",
       "    <tr>\n",
       "      <th>9.0</th>\n",
       "      <td>96.0</td>\n",
       "      <td>66.415716</td>\n",
       "      <td>-22.996603</td>\n",
       "      <td>6.917460e+06</td>\n",
       "      <td>241.077082</td>\n",
       "      <td>POLYGON ((-22.99918 66.43071, -22.99872 66.430...</td>\n",
       "      <td>-1.294675</td>\n",
       "      <td>272.454651</td>\n",
       "      <td>270.897735</td>\n",
       "    </tr>\n",
       "    <tr>\n",
       "      <th>10.0</th>\n",
       "      <td>97.0</td>\n",
       "      <td>66.342840</td>\n",
       "      <td>-23.023239</td>\n",
       "      <td>5.849050e+06</td>\n",
       "      <td>258.830053</td>\n",
       "      <td>POLYGON ((-23.00289 66.35260, -23.00173 66.352...</td>\n",
       "      <td>-0.84465</td>\n",
       "      <td>272.910004</td>\n",
       "      <td>271.161233</td>\n",
       "    </tr>\n",
       "    <tr>\n",
       "      <th>11.0</th>\n",
       "      <td>98.0</td>\n",
       "      <td>66.322681</td>\n",
       "      <td>-23.044861</td>\n",
       "      <td>1.158526e+07</td>\n",
       "      <td>197.082664</td>\n",
       "      <td>POLYGON ((-23.07577 66.34305, -23.07508 66.343...</td>\n",
       "      <td>-0.443292</td>\n",
       "      <td>272.688660</td>\n",
       "      <td>270.689139</td>\n",
       "    </tr>\n",
       "    <tr>\n",
       "      <th>...</th>\n",
       "      <td>...</td>\n",
       "      <td>...</td>\n",
       "      <td>...</td>\n",
       "      <td>...</td>\n",
       "      <td>...</td>\n",
       "      <td>...</td>\n",
       "      <td>...</td>\n",
       "      <td>...</td>\n",
       "      <td>...</td>\n",
       "    </tr>\n",
       "    <tr>\n",
       "      <th>10891.0</th>\n",
       "      <td>48128.0</td>\n",
       "      <td>64.797742</td>\n",
       "      <td>-15.868487</td>\n",
       "      <td>8.052737e+05</td>\n",
       "      <td>570.937512</td>\n",
       "      <td>POLYGON ((-15.86907 64.80838, -15.86861 64.808...</td>\n",
       "      <td>1.639346</td>\n",
       "      <td>NaN</td>\n",
       "      <td>NaN</td>\n",
       "    </tr>\n",
       "    <tr>\n",
       "      <th>10892.0</th>\n",
       "      <td>48288.0</td>\n",
       "      <td>64.831846</td>\n",
       "      <td>-15.929088</td>\n",
       "      <td>1.874350e+07</td>\n",
       "      <td>659.141881</td>\n",
       "      <td>POLYGON ((-15.90342 64.86916, -15.90296 64.869...</td>\n",
       "      <td>1.063564</td>\n",
       "      <td>NaN</td>\n",
       "      <td>NaN</td>\n",
       "    </tr>\n",
       "    <tr>\n",
       "      <th>10893.0</th>\n",
       "      <td>48448.0</td>\n",
       "      <td>64.789998</td>\n",
       "      <td>-20.732402</td>\n",
       "      <td>6.416776e+06</td>\n",
       "      <td>372.141666</td>\n",
       "      <td>POLYGON ((-20.68538 64.80738, -20.68514 64.807...</td>\n",
       "      <td>1.017316</td>\n",
       "      <td>NaN</td>\n",
       "      <td>NaN</td>\n",
       "    </tr>\n",
       "    <tr>\n",
       "      <th>10894.0</th>\n",
       "      <td>48608.0</td>\n",
       "      <td>64.808267</td>\n",
       "      <td>-15.866003</td>\n",
       "      <td>5.016419e+04</td>\n",
       "      <td>589.292326</td>\n",
       "      <td>POLYGON ((-15.86652 64.80982, -15.86629 64.809...</td>\n",
       "      <td>1.520139</td>\n",
       "      <td>NaN</td>\n",
       "      <td>NaN</td>\n",
       "    </tr>\n",
       "    <tr>\n",
       "      <th>10895.0</th>\n",
       "      <td>48768.0</td>\n",
       "      <td>64.822959</td>\n",
       "      <td>-15.860940</td>\n",
       "      <td>3.078879e+06</td>\n",
       "      <td>591.162018</td>\n",
       "      <td>MULTIPOLYGON (((-15.85909 64.85249, -15.85909 ...</td>\n",
       "      <td>1.507986</td>\n",
       "      <td>NaN</td>\n",
       "      <td>NaN</td>\n",
       "    </tr>\n",
       "  </tbody>\n",
       "</table>\n",
       "<p>10864 rows × 9 columns</p>\n",
       "</div>"
      ],
      "text/plain": [
       "         streamID  center_lat  center_lon      HRU_area   elev_mean  \\\n",
       "fid                                                                   \n",
       "7.0          94.0   66.491313  -16.475102  4.759548e+06   11.868185   \n",
       "8.0          95.0   66.425602  -22.934435  5.171903e+06  208.372392   \n",
       "9.0          96.0   66.415716  -22.996603  6.917460e+06  241.077082   \n",
       "10.0         97.0   66.342840  -23.023239  5.849050e+06  258.830053   \n",
       "11.0         98.0   66.322681  -23.044861  1.158526e+07  197.082664   \n",
       "...           ...         ...         ...           ...         ...   \n",
       "10891.0   48128.0   64.797742  -15.868487  8.052737e+05  570.937512   \n",
       "10892.0   48288.0   64.831846  -15.929088  1.874350e+07  659.141881   \n",
       "10893.0   48448.0   64.789998  -20.732402  6.416776e+06  372.141666   \n",
       "10894.0   48608.0   64.808267  -15.866003  5.016419e+04  589.292326   \n",
       "10895.0   48768.0   64.822959  -15.860940  3.078879e+06  591.162018   \n",
       "\n",
       "                                                  geometry lapse_rate  \\\n",
       "fid                                                                     \n",
       "7.0      POLYGON ((-16.47462 66.51449, -16.47439 66.514...  -0.039433   \n",
       "8.0      POLYGON ((-22.91911 66.44294, -22.91887 66.442...  -1.082094   \n",
       "9.0      POLYGON ((-22.99918 66.43071, -22.99872 66.430...  -1.294675   \n",
       "10.0     POLYGON ((-23.00289 66.35260, -23.00173 66.352...   -0.84465   \n",
       "11.0     POLYGON ((-23.07577 66.34305, -23.07508 66.343...  -0.443292   \n",
       "...                                                    ...        ...   \n",
       "10891.0  POLYGON ((-15.86907 64.80838, -15.86861 64.808...   1.639346   \n",
       "10892.0  POLYGON ((-15.90342 64.86916, -15.90296 64.869...   1.063564   \n",
       "10893.0  POLYGON ((-20.68538 64.80738, -20.68514 64.807...   1.017316   \n",
       "10894.0  POLYGON ((-15.86652 64.80982, -15.86629 64.809...   1.520139   \n",
       "10895.0  MULTIPOLYGON (((-15.85909 64.85249, -15.85909 ...   1.507986   \n",
       "\n",
       "              old_T       new_T  \n",
       "fid                              \n",
       "7.0      273.369019  271.231153  \n",
       "8.0      271.990417  270.005822  \n",
       "9.0      272.454651  270.897735  \n",
       "10.0     272.910004  271.161233  \n",
       "11.0     272.688660  270.689139  \n",
       "...             ...         ...  \n",
       "10891.0         NaN         NaN  \n",
       "10892.0         NaN         NaN  \n",
       "10893.0         NaN         NaN  \n",
       "10894.0         NaN         NaN  \n",
       "10895.0         NaN         NaN  \n",
       "\n",
       "[10864 rows x 9 columns]"
      ]
     },
     "execution_count": 135,
     "metadata": {},
     "output_type": "execute_result"
    }
   ],
   "source": [
    "# Add lapse rates to catchment shapefile\n",
    "#catchment['fid'] = catchment.index.values\n",
    "#catchment = catchment.set_index(hru_ID_name) # ensure that HRU_ID is the index\n",
    "\n",
    "catchment['lapse_rate'] = lapse_values.values[:-1] # merge with the lapse rate dataframe\n",
    "catchment\n"
   ]
  },
  {
   "cell_type": "markdown",
   "metadata": {},
   "source": [
    "#### Prepare plotting data (geopotential -> ERA5 elevation)"
   ]
  },
  {
   "cell_type": "code",
   "execution_count": 99,
   "metadata": {},
   "outputs": [],
   "source": [
    "# Open the geopotential data file\n",
    "geo = xr.open_dataset( geo_path / geo_name ).isel(time=0)"
   ]
  },
  {
   "cell_type": "code",
   "execution_count": 100,
   "metadata": {},
   "outputs": [],
   "source": [
    "# Define the gravitational acceleration constant\n",
    "g = 9.80665 # [m s-2]"
   ]
  },
  {
   "cell_type": "code",
   "execution_count": 101,
   "metadata": {},
   "outputs": [],
   "source": [
    "# Make a new variable\n",
    "geo['elev'] = geo['z'] / g"
   ]
  },
  {
   "cell_type": "code",
   "execution_count": null,
   "metadata": {},
   "outputs": [],
   "source": []
  },
  {
   "cell_type": "markdown",
   "metadata": {},
   "source": [
    "#### Prep plotting data (old and new forcing)"
   ]
  },
  {
   "cell_type": "code",
   "execution_count": 111,
   "metadata": {},
   "outputs": [],
   "source": [
    "# select the files\n",
    "idx = 0\n",
    "old_file = forcing_files_esmr[idx+1]\n",
    "new_file = forcing_files_summa[idx]"
   ]
  },
  {
   "cell_type": "code",
   "execution_count": 113,
   "metadata": {},
   "outputs": [
    {
     "data": {
      "text/plain": [
       "'Iceland_remapped_2000-01-01-00-00-00.nc'"
      ]
     },
     "execution_count": 113,
     "metadata": {},
     "output_type": "execute_result"
    }
   ],
   "source": [
    "old_file\n",
    "new_file"
   ]
  },
  {
   "cell_type": "code",
   "execution_count": 114,
   "metadata": {},
   "outputs": [],
   "source": [
    "# open old and new file\n",
    "forcing_old = xr.open_dataset(forcing_easymore_path / old_file)\n",
    "forcing_new = xr.open_dataset(forcing_summa_path / new_file)"
   ]
  },
  {
   "cell_type": "code",
   "execution_count": 115,
   "metadata": {},
   "outputs": [],
   "source": [
    "# Prepare dataframes with temperature for a given time\n",
    "time = 0\n",
    "old_temp = {'airtemp': forcing_old['airtemp'].isel(time=time).values, 'hruId': forcing_old['hruId']}\n",
    "new_temp = {'airtemp': forcing_new['airtemp'].isel(time=time).values, 'hruId': forcing_old['hruId']}"
   ]
  },
  {
   "cell_type": "code",
   "execution_count": 123,
   "metadata": {},
   "outputs": [
    {
     "name": "stdout",
     "output_type": "stream",
     "text": [
      "<xarray.Dataset> Size: 259MB\n",
      "Dimensions:    (time: 744, hru: 10864)\n",
      "Coordinates:\n",
      "  * time       (time) datetime64[ns] 6kB 2000-01-01 ... 2000-01-31T23:00:00\n",
      "Dimensions without coordinates: hru\n",
      "Data variables:\n",
      "    latitude   (hru) float64 87kB ...\n",
      "    longitude  (hru) float64 87kB ...\n",
      "    hruId      (hru) float64 87kB ...\n",
      "    airpres    (time, hru) float32 32MB ...\n",
      "    LWRadAtm   (time, hru) float32 32MB ...\n",
      "    SWRadAtm   (time, hru) float32 32MB ...\n",
      "    pptrate    (time, hru) float32 32MB ...\n",
      "    airtemp    (time, hru) float64 65MB ...\n",
      "    spechum    (time, hru) float32 32MB ...\n",
      "    windspd    (time, hru) float32 32MB ...\n",
      "    data_step  int64 8B ...\n",
      "Attributes:\n",
      "    Conventions:  CF-1.6\n",
      "    Author:       The data were written by SUMMA public workflow scripts\n",
      "    License:      Copernicus data use license: https://cds.climate.copernicus...\n",
      "    History:      Created Sun Mar 24 19:00:36 2024\n",
      "    Source:       Case: Iceland; remapped by script from library of Shervan G...\n"
     ]
    }
   ],
   "source": [
    "# Make dataframes\n",
    "df_old_temp = pd.DataFrame(old_temp)\n",
    "df_new_temp = pd.DataFrame(new_temp)\n"
   ]
  },
  {
   "cell_type": "code",
   "execution_count": 117,
   "metadata": {},
   "outputs": [],
   "source": [
    "# Set indices\n",
    "df_old_temp = df_old_temp.set_index('hruId')\n",
    "df_new_temp = df_new_temp.set_index('hruId')"
   ]
  },
  {
   "cell_type": "code",
   "execution_count": 136,
   "metadata": {},
   "outputs": [
    {
     "name": "stdout",
     "output_type": "stream",
     "text": [
      "         streamID  center_lat  center_lon      HRU_area   elev_mean  \\\n",
      "fid                                                                   \n",
      "7.0          94.0   66.491313  -16.475102  4.759548e+06   11.868185   \n",
      "8.0          95.0   66.425602  -22.934435  5.171903e+06  208.372392   \n",
      "9.0          96.0   66.415716  -22.996603  6.917460e+06  241.077082   \n",
      "10.0         97.0   66.342840  -23.023239  5.849050e+06  258.830053   \n",
      "11.0         98.0   66.322681  -23.044861  1.158526e+07  197.082664   \n",
      "...           ...         ...         ...           ...         ...   \n",
      "10891.0   48128.0   64.797742  -15.868487  8.052737e+05  570.937512   \n",
      "10892.0   48288.0   64.831846  -15.929088  1.874350e+07  659.141881   \n",
      "10893.0   48448.0   64.789998  -20.732402  6.416776e+06  372.141666   \n",
      "10894.0   48608.0   64.808267  -15.866003  5.016419e+04  589.292326   \n",
      "10895.0   48768.0   64.822959  -15.860940  3.078879e+06  591.162018   \n",
      "\n",
      "                                                  geometry lapse_rate  \\\n",
      "fid                                                                     \n",
      "7.0      POLYGON ((-16.47462 66.51449, -16.47439 66.514...  -0.039433   \n",
      "8.0      POLYGON ((-22.91911 66.44294, -22.91887 66.442...  -1.082094   \n",
      "9.0      POLYGON ((-22.99918 66.43071, -22.99872 66.430...  -1.294675   \n",
      "10.0     POLYGON ((-23.00289 66.35260, -23.00173 66.352...   -0.84465   \n",
      "11.0     POLYGON ((-23.07577 66.34305, -23.07508 66.343...  -0.443292   \n",
      "...                                                    ...        ...   \n",
      "10891.0  POLYGON ((-15.86907 64.80838, -15.86861 64.808...   1.639346   \n",
      "10892.0  POLYGON ((-15.90342 64.86916, -15.90296 64.869...   1.063564   \n",
      "10893.0  POLYGON ((-20.68538 64.80738, -20.68514 64.807...   1.017316   \n",
      "10894.0  POLYGON ((-15.86652 64.80982, -15.86629 64.809...   1.520139   \n",
      "10895.0  MULTIPOLYGON (((-15.85909 64.85249, -15.85909 ...   1.507986   \n",
      "\n",
      "              old_T       new_T  \n",
      "fid                              \n",
      "7.0      273.369019  271.231153  \n",
      "8.0      271.990417  270.005822  \n",
      "9.0      272.454651  270.897735  \n",
      "10.0     272.910004  271.161233  \n",
      "11.0     272.688660  270.689139  \n",
      "...             ...         ...  \n",
      "10891.0         NaN         NaN  \n",
      "10892.0         NaN         NaN  \n",
      "10893.0         NaN         NaN  \n",
      "10894.0         NaN         NaN  \n",
      "10895.0         NaN         NaN  \n",
      "\n",
      "[10864 rows x 9 columns]\n"
     ]
    }
   ],
   "source": [
    "# Merge with catchment shapefile\n",
    "catchment['old_T'] = df_old_temp['airtemp']\n",
    "catchment['new_T'] = df_new_temp['airtemp']\n",
    "print(catchment)\n",
    "catchment.to_file(elev_catchment_path/elev_catchment_name, driver='ESRI Shapefile')"
   ]
  },
  {
   "cell_type": "markdown",
   "metadata": {},
   "source": [
    "#### Figure"
   ]
  },
  {
   "cell_type": "code",
   "execution_count": 119,
   "metadata": {},
   "outputs": [],
   "source": [
    "# plot settings\n",
    "cmap_elev = 'terrain'\n",
    "cmap_lapse = 'coolwarm'"
   ]
  },
  {
   "cell_type": "code",
   "execution_count": 120,
   "metadata": {},
   "outputs": [],
   "source": [
    "# scaling\n",
    "vmin_elev,vmax_elev = catchment['elev_mean'].min(),catchment['elev_mean'].max()\n",
    "vmin_rate,vmax_rate = -5,5\n",
    "vmin_temp = min(df_new_temp.min().values,df_old_temp.min().values)\n",
    "vmax_temp = max(df_new_temp.max().values,df_old_temp.max().values)\n",
    "#vmin_temp,vmax_temp = 252,262 # these ranges match those in the grid-to-hru figure"
   ]
  },
  {
   "cell_type": "code",
   "execution_count": 121,
   "metadata": {},
   "outputs": [],
   "source": [
    "# Get the forcing time\n",
    "time_str_old = forcing_old['time'].isel(time=time).dt.strftime('%Y-%m-%d %H:%M').values\n",
    "time_str_new = forcing_new['time'].isel(time=time).dt.strftime('%Y-%m-%d %H:%M').values"
   ]
  },
  {
   "cell_type": "code",
   "execution_count": 129,
   "metadata": {},
   "outputs": [
    {
     "ename": "AttributeError",
     "evalue": "'Axes' object has no attribute 'flatten'",
     "output_type": "error",
     "traceback": [
      "\u001b[0;31m---------------------------------------------------------------------------\u001b[0m",
      "\u001b[0;31mAttributeError\u001b[0m                            Traceback (most recent call last)",
      "Cell \u001b[0;32mIn[129], line 3\u001b[0m\n\u001b[1;32m      1\u001b[0m \u001b[38;5;66;03m# figure\u001b[39;00m\n\u001b[1;32m      2\u001b[0m fig, axs \u001b[38;5;241m=\u001b[39m plt\u001b[38;5;241m.\u001b[39msubplots()\u001b[38;5;66;03m#2,2,figsize=(20,20))\u001b[39;00m\n\u001b[0;32m----> 3\u001b[0m axs \u001b[38;5;241m=\u001b[39m \u001b[43maxs\u001b[49m\u001b[38;5;241;43m.\u001b[39;49m\u001b[43mflatten\u001b[49m()\n\u001b[1;32m      4\u001b[0m plt\u001b[38;5;241m.\u001b[39mtight_layout()\n\u001b[1;32m      5\u001b[0m plt\u001b[38;5;241m.\u001b[39mrcParams\u001b[38;5;241m.\u001b[39mupdate({\u001b[38;5;124m'\u001b[39m\u001b[38;5;124mfont.size\u001b[39m\u001b[38;5;124m'\u001b[39m: \u001b[38;5;241m16\u001b[39m})\n",
      "\u001b[0;31mAttributeError\u001b[0m: 'Axes' object has no attribute 'flatten'"
     ]
    },
    {
     "data": {
      "image/png": "[encoded data removed]",
      "text/plain": [
       "<Figure size 640x480 with 1 Axes>"
      ]
     },
     "metadata": {},
     "output_type": "display_data"
    }
   ],
   "source": [
    "# figure\n",
    "fig, axs = plt.subplots(2,2,figsize=(20,20))\n",
    "axs = axs.flatten()\n",
    "plt.tight_layout()\n",
    "plt.rcParams.update({'font.size': 16})\n",
    "plt.rcParams.update({'axes.titlesize': 16}) \n",
    "\n",
    "# --- elevation\n",
    "axId = 0\n",
    "\n",
    "# Data\n",
    "geo['elev'].plot(ax=axs[axId], cmap = cmap_elev, add_colorbar=False, vmin=vmin_elev, vmax=vmax_elev)\n",
    "catchment.plot(ax=axs[axId], column='elev_mean',edgecolor='k', cmap = cmap_elev, legend=False, vmin=vmin_elev, vmax=vmax_elev)\n",
    "hm_grus_only.plot(ax=axs[axId],facecolor='none',edgecolor='k',linewidth=2) \n",
    "\n",
    "# Custom colorbar\n",
    "cax = fig.add_axes([0.46, 0.55, 0.02, 0.4])\n",
    "sm = plt.cm.ScalarMappable(cmap=cmap_elev, norm=plt.Normalize(vmin=vmin_elev, vmax=vmax_elev))\n",
    "sm._A = []\n",
    "cbr = fig.colorbar(sm, cax=cax)\n",
    "cbr.ax.set_title('  [m.a.s.l.]')\n",
    "\n",
    "\n",
    "# Custom legend\n",
    "lines = [Line2D([0], [0], color='k', lw=2),\n",
    "         Line2D([0], [0], color='k', lw=1)]\n",
    "label = ['SUMMA GRUs',\n",
    "         'SUMMA HRUs']\n",
    "axs[axId].legend(lines,label,loc='lower left');\n",
    "\n",
    "# Chart junk\n",
    "axs[axId].set_title('(a) ERA5 grid and mean HRU elevation');\n",
    "axs[axId].set_frame_on(False)\n",
    "axs[axId].set_ylabel('Latitude [degrees North]');\n",
    "\n",
    "\n",
    "# --- lapse rates\n",
    "axId = 1\n",
    "\n",
    "# Data\n",
    "catchment.plot(ax=axs[axId], column='lapse_rate',edgecolor='k', cmap = cmap_lapse, legend=False, vmin=-5, vmax=5)\n",
    "hm_grus_only.plot(ax=axs[axId],facecolor='none',edgecolor='k',linewidth=2) \n",
    "\n",
    "# Custom colorbar\n",
    "cax = fig.add_axes([0.96, 0.55, 0.02, 0.4])\n",
    "sm = plt.cm.ScalarMappable(cmap=cmap_lapse, norm=plt.Normalize(vmin=vmin_rate, vmax=vmax_rate))\n",
    "sm._A = []\n",
    "cbr = fig.colorbar(sm, cax=cax)\n",
    "cbr.ax.set_title('[K]')\n",
    "\n",
    "\n",
    "# Custom legend\n",
    "lines = [Line2D([0], [0], color='k', lw=2),\n",
    "         Line2D([0], [0], color='k', lw=1)]\n",
    "label = ['SUMMA GRUs',\n",
    "         'SUMMA HRUs']\n",
    "axs[axId].legend(lines,label,loc='lower left');\n",
    "\n",
    "# Chart junk\n",
    "axs[axId].set_title('(b) Temperature lapse rates');\n",
    "axs[axId].set_frame_on(False)\n",
    "\n",
    "\n",
    "# --- reset axes on first plot\n",
    "xlim = axs[axId].get_xlim()\n",
    "ylim = axs[axId].get_ylim()\n",
    "axId = 0\n",
    "axs[axId].set_xlim(xlim)\n",
    "axs[axId].set_ylim(ylim)\n",
    "\n",
    "# ---------------------------------------------------------------------------------------------------------------\n",
    "# --- old forcing\n",
    "axId = 2\n",
    "\n",
    "# Data\n",
    "catchment.plot(ax=axs[axId], column='old_T',edgecolor='k', legend=False, vmin=vmin_temp, vmax=vmax_temp)\n",
    "hm_grus_only.plot(ax=axs[axId],facecolor='none',edgecolor='k',linewidth=2) \n",
    "\n",
    "# Custom colorbar\n",
    "cax = fig.add_axes([0.46, 0.05, 0.02, 0.4])\n",
    "vmin = min(df_new_temp.min().values,df_old_temp.min().values)\n",
    "vmax = max(df_new_temp.max().values,df_old_temp.max().values)\n",
    "sm = plt.cm.ScalarMappable(norm=plt.Normalize(vmin=vmin_temp, vmax=vmax_temp))\n",
    "sm._A = []\n",
    "cbr = fig.colorbar(sm, cax=cax)\n",
    "cbr.ax.set_title('[K]')\n",
    "\n",
    "# Custom legend\n",
    "lines = [Line2D([0], [0], color='k', lw=2),\n",
    "         Line2D([0], [0], color='k', lw=1)]\n",
    "label = ['SUMMA GRUs',\n",
    "         'SUMMA HRUs']\n",
    "axs[axId].legend(lines,label,loc='lower left');\n",
    "\n",
    "# Chart junk\n",
    "axs[axId].set_title('(c) HRU-averaged temperature on {}'.format(time_str_old))\n",
    "axs[axId].set_frame_on(False)\n",
    "axs[axId].set_xlabel('Longitude [degrees East]');\n",
    "axs[axId].set_ylabel('Latitude [degrees North]');\n",
    "\n",
    "\n",
    "# --- new forcing\n",
    "axId = 3\n",
    "\n",
    "# Data\n",
    "catchment.plot(ax=axs[axId], column='new_T',edgecolor='k', legend=False, vmin=vmin_temp, vmax=vmax_temp)\n",
    "hm_grus_only.plot(ax=axs[axId],facecolor='none',edgecolor='k',linewidth=2) \n",
    "\n",
    "# Custom colorbar\n",
    "cax = fig.add_axes([0.96, 0.05, 0.02, 0.4])\n",
    "sm = plt.cm.ScalarMappable(norm=plt.Normalize(vmin=vmin_temp, vmax=vmax_temp))\n",
    "sm._A = []\n",
    "cbr = fig.colorbar(sm, cax=cax)\n",
    "cbr.ax.set_title('[K]')\n",
    "\n",
    "# Custom legend\n",
    "lines = [Line2D([0], [0], color='k', lw=2),\n",
    "         Line2D([0], [0], color='k', lw=1)]\n",
    "label = ['SUMMA GRUs',\n",
    "         'SUMMA HRUs']\n",
    "axs[axId].legend(lines,label,loc='lower left');\n",
    "\n",
    "# Chart junk\n",
    "axs[axId].set_title('(d) HRU-averaged temperature with lapse rates on {}'.format(time_str_new))\n",
    "axs[axId].set_frame_on(False)\n",
    "axs[axId].set_xlabel('Longitude [degrees East]');\n",
    "\n",
    "\n",
    "# save\n",
    "plt.tight_layout()\n",
    "plt.savefig(fig_path/fig_name, bbox_inches='tight', dpi=300)"
   ]
  },
  {
   "cell_type": "code",
   "execution_count": null,
   "metadata": {},
   "outputs": [],
   "source": []
  },
  {
   "cell_type": "code",
   "execution_count": null,
   "metadata": {},
   "outputs": [],
   "source": []
  }
 ],
 "metadata": {
  "kernelspec": {
   "display_name": "camels-spat-env",
   "language": "python",
   "name": "camels-spat-env"
  },
  "language_info": {
   "codemirror_mode": {
    "name": "ipython",
    "version": 3
   },
   "file_extension": ".py",
   "mimetype": "text/x-python",
   "name": "python",
   "nbconvert_exporter": "python",
   "pygments_lexer": "ipython3",
   "version": "3.12.2"
  }
 },
 "nbformat": 4,
 "nbformat_minor": 4
}
