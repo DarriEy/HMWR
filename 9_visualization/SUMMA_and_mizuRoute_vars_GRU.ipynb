{
 "cells": [
  {
   "cell_type": "markdown",
   "metadata": {},
   "source": [
    "# Visualize maximum SWE, mean soil water, mean ET and mean runoff per GRU\n",
    "Needs: \n",
    "- Catchment shapefile with GRU delineation\n",
    "- River shapefile with network delineation\n",
    "- SUMMA output `scalarSWE`, `scalarTotalSoilWat`, `scalarTotalET`\n",
    "- mizuRoute output `IRFroutedRunoff`\n",
    "\n",
    "#### Special note\n",
    "SUMMA and mizuRoute simulations have been preprocessed into single value statistics per model element, using auxiliary scripts in `~/summaWorkflow_public/0_tools/`. Paths to the `.nc` files that contain these statistics are not read from the `control_active.txt` file but hard-coded the sections \"Simulation statistics file locations\" below.\n",
    "\n",
    "To improve visualization of large lakes, HydroLAKES lake delineations are plotted on top of the catchment GRUs and river segments. Dealing with HydroLAKES inputs is not considered within scope of the workflow and therefore requires some manual downloading and preprocessing of this data for those who wish to reproduce this step. The relevant code is easily disabled by switching the `plot_lakes = True` flag to `False`."
   ]
  },
  {
   "cell_type": "code",
   "execution_count": 1,
   "metadata": {},
   "outputs": [],
   "source": [
    "# modules\n",
    "import pyproj\n",
    "import matplotlib\n",
    "import numpy as np\n",
    "import xarray as xr\n",
    "import geopandas as gpd\n",
    "import pandas as pd\n",
    "from pathlib import Path\n",
    "import matplotlib.pyplot as plt\n",
    "import matplotlib.gridspec as gridspec\n",
    "from geocube.api.core import make_geocube\n",
    "import cartopy.crs as ccrs\n",
    "%matplotlib inline"
   ]
  },
  {
   "cell_type": "markdown",
   "metadata": {},
   "source": [
    "#### Control file handling"
   ]
  },
  {
   "cell_type": "code",
   "execution_count": 2,
   "metadata": {},
   "outputs": [],
   "source": [
    "# Easy access to control file folder\n",
    "controlFolder = Path('../0_control_files')"
   ]
  },
  {
   "cell_type": "code",
   "execution_count": 3,
   "metadata": {},
   "outputs": [],
   "source": [
    "# Store the name of the 'active' file in a variable\n",
    "controlFile = 'control_active.txt'"
   ]
  },
  {
   "cell_type": "code",
   "execution_count": 4,
   "metadata": {},
   "outputs": [],
   "source": [
    "# Function to extract a given setting from the control file\n",
    "def read_from_control( file, setting ):\n",
    "    \n",
    "    # Open 'control_active.txt' and ...\n",
    "    with open(file) as contents:\n",
    "        for line in contents:\n",
    "            \n",
    "            # ... find the line with the requested setting\n",
    "            if setting in line and not line.startswith('#'):\n",
    "                break\n",
    "    \n",
    "    # Extract the setting's value\n",
    "    substring = line.split('|',1)[1]      # Remove the setting's name (split into 2 based on '|', keep only 2nd part)\n",
    "    substring = substring.split('#',1)[0] # Remove comments, does nothing if no '#' is found\n",
    "    substring = substring.strip()         # Remove leading and trailing whitespace, tabs, newlines\n",
    "       \n",
    "    # Return this value    \n",
    "    return substring"
   ]
  },
  {
   "cell_type": "code",
   "execution_count": 5,
   "metadata": {},
   "outputs": [],
   "source": [
    "# Function to specify a default path\n",
    "def make_default_path(suffix):\n",
    "    \n",
    "    # Get the root path\n",
    "    rootPath = Path( read_from_control(controlFolder/controlFile,'root_path') )\n",
    "    \n",
    "    # Get the domain folder\n",
    "    domainName = read_from_control(controlFolder/controlFile,'domain_name')\n",
    "    domainFolder = 'domain_' + domainName\n",
    "    \n",
    "    # Specify the forcing path\n",
    "    defaultPath = rootPath / domainFolder / suffix\n",
    "    \n",
    "    return defaultPath"
   ]
  },
  {
   "cell_type": "code",
   "execution_count": 6,
   "metadata": {},
   "outputs": [],
   "source": [
    "#### Simulation statistics file locations"
   ]
  },
  {
   "cell_type": "code",
   "execution_count": 7,
   "metadata": {},
   "outputs": [],
   "source": [
    "# SUMMA simulations\n",
    "root_path = read_from_control(controlFolder/controlFile,'root_path')\n",
    "experiment_id = read_from_control(controlFolder/controlFile,'experiment_id')\n",
    "domain_name = read_from_control(controlFolder/controlFile,'domain_name')\n",
    "\n",
    "summa_output_path = Path(root_path + '/domain_' + domain_name + '/simulations/' + experiment_id + '/SUMMA/')\n",
    "summa_output_name = Path(experiment_id + '_day.nc')"
   ]
  },
  {
   "cell_type": "code",
   "execution_count": 26,
   "metadata": {},
   "outputs": [],
   "source": [
    "# mizuRoute simulations\\\n",
    "\n",
    "\n",
    "root_path = read_from_control(controlFolder/controlFile,'root_path')\n",
    "experiment_id = read_from_control(controlFolder/controlFile,'experiment_id')\n",
    "domain_name = read_from_control(controlFolder/controlFile,'domain_name')\n",
    "experiment_time_start = read_from_control(controlFolder/controlFile,'experiment_time_start')\n",
    "experiment_time_end = read_from_control(controlFolder/controlFile,'experiment_time_end')\n",
    "\n",
    "\n",
    "\n",
    "mizu_output_path = Path(root_path + '/domain_' + domain_name + '/simulations/' + experiment_id + '/mizuRoute/')\n",
    "mizu_output_name = Path(experiment_id + '.h.2000-01-01-00000.nc')"
   ]
  },
  {
   "cell_type": "markdown",
   "metadata": {},
   "source": [
    "## Define where to save the output "
   ]
  },
  {
   "cell_type": "code",
   "execution_count": 9,
   "metadata": {},
   "outputs": [],
   "source": [
    "# Path and filename\n",
    "fig_path = read_from_control(controlFolder/controlFile,'visualization_folder')\n",
    "fig_name = 'SUMMA_mizuRoute_vars_' + domain_name + '.png'\n",
    "\n",
    "# Specify default path if needed\n",
    "if fig_path == 'default':\n",
    "    fig_path = make_default_path('visualization') # outputs a Path()\n",
    "else:\n",
    "    fig_path = Path(fig_path) # make sure a user-specified path is a Path()\n",
    "    \n",
    "# Make the folder if it doesn't exist\n",
    "fig_path.mkdir(parents=True, exist_ok=True)"
   ]
  },
  {
   "cell_type": "markdown",
   "metadata": {},
   "source": [
    "#### Catchment shapefile location and variable names"
   ]
  },
  {
   "cell_type": "code",
   "execution_count": 10,
   "metadata": {},
   "outputs": [],
   "source": [
    "# HM catchment shapefile path & name\n",
    "hm_catchment_path = read_from_control(controlFolder/controlFile,'catchment_shp_path')\n",
    "hm_catchment_name = read_from_control(controlFolder/controlFile,'catchment_shp_name')\n",
    "\n",
    "# Specify default path if needed\n",
    "if hm_catchment_path == 'default':\n",
    "    hm_catchment_path = make_default_path('shapefiles/catchment') # outputs a Path()\n",
    "else:\n",
    "    hm_catchment_path = Path(hm_catchment_path) # make sure a user-specified path is a Path()"
   ]
  },
  {
   "cell_type": "code",
   "execution_count": 11,
   "metadata": {},
   "outputs": [],
   "source": [
    "# Find the GRU and HRU identifiers\n",
    "hm_hruid = read_from_control(controlFolder/controlFile,'catchment_shp_hruid')"
   ]
  },
  {
   "cell_type": "markdown",
   "metadata": {},
   "source": [
    "#### River network shapefile location and variable names"
   ]
  },
  {
   "cell_type": "code",
   "execution_count": 12,
   "metadata": {},
   "outputs": [],
   "source": [
    "# River network path & name\n",
    "river_network_path = read_from_control(controlFolder/controlFile,'river_network_shp_path')\n",
    "river_network_name = read_from_control(controlFolder/controlFile,'river_network_shp_name')\n",
    "\n",
    "# Specify default path if needed\n",
    "if river_network_path == 'default':\n",
    "    river_network_path = make_default_path('shapefiles/river_network') # outputs a Path()\n",
    "else:\n",
    "    river_network_path = Path(river_network_path) # make sure a user-specified path is a Path()"
   ]
  },
  {
   "cell_type": "code",
   "execution_count": 13,
   "metadata": {},
   "outputs": [],
   "source": [
    "# Find the segment ID\n",
    "seg_id = read_from_control(controlFolder/controlFile,'river_network_shp_segid')"
   ]
  },
  {
   "cell_type": "markdown",
   "metadata": {},
   "source": [
    "#### Load all shapefiles and project to Albers Conformal Conic"
   ]
  },
  {
   "cell_type": "code",
   "execution_count": 14,
   "metadata": {},
   "outputs": [],
   "source": [
    "# catchment shapefile\n",
    "bas = gpd.read_file(hm_catchment_path/hm_catchment_name)"
   ]
  },
  {
   "cell_type": "code",
   "execution_count": 15,
   "metadata": {},
   "outputs": [],
   "source": [
    "# river network shapefile\n",
    "riv = gpd.read_file(river_network_path/river_network_name)"
   ]
  },
  {
   "cell_type": "code",
   "execution_count": 16,
   "metadata": {},
   "outputs": [],
   "source": [
    "# Set the target CRS\n",
    "acc = 'ESRI:102008'"
   ]
  },
  {
   "cell_type": "code",
   "execution_count": 17,
   "metadata": {},
   "outputs": [],
   "source": [
    "# Reproject\n",
    "bas_albers = bas#.to_crs(acc)\n",
    "riv_albers = riv#.to_crs(acc)"
   ]
  },
  {
   "cell_type": "code",
   "execution_count": 18,
   "metadata": {},
   "outputs": [
    {
     "name": "stdout",
     "output_type": "stream",
     "text": [
      "median area = 6.054635949 m^2\n",
      "mean area   = 7.4876770811299105 m^2\n"
     ]
    }
   ],
   "source": [
    "# Print the median basin size for curiousity\n",
    "print('median area = {} m^2'.format(bas['HRU_area'].median() / 10**6))\n",
    "print('mean area   = {} m^2'.format(bas['HRU_area'].mean() / 10**6))"
   ]
  },
  {
   "cell_type": "markdown",
   "metadata": {},
   "source": [
    "### Pre-processing\n",
    "#### Map SUMMA sims to catchment shapes"
   ]
  },
  {
   "cell_type": "code",
   "execution_count": 19,
   "metadata": {},
   "outputs": [],
   "source": [
    "# Get the aggregated statistics of SUMMA simulation\n",
    "summa = xr.open_dataset(summa_output_path/summa_output_name)"
   ]
  },
  {
   "cell_type": "code",
   "execution_count": 20,
   "metadata": {},
   "outputs": [],
   "source": [
    "# Specify variables of interest\n",
    "plot_vars = ['scalarSWE','scalarTotalET','scalarTotalSoilWat']"
   ]
  },
  {
   "cell_type": "code",
   "execution_count": 21,
   "metadata": {},
   "outputs": [],
   "source": [
    "# Match the accummulated values to the correct HRU IDs in the shapefile\n",
    "hru_ids_shp = bas_albers[hm_hruid].astype(int) # hru order in shapefile"
   ]
  },
  {
   "cell_type": "code",
   "execution_count": 22,
   "metadata": {},
   "outputs": [],
   "source": [
    "# Match the accummulated values to the correct HRU IDs in the shapefile\n",
    "#hru_ids_shp = bas_albers[hm_hruid].astype(int) # hru order in shapefile\n",
    "\n",
    "#for plot_var in plot_vars:\n",
    "#    bas_albers[plot_var] = summa[plot_var].sel(hru=hru_ids_shp.values, time = experiment_time_end[:10]).values\n"
   ]
  },
  {
   "cell_type": "code",
   "execution_count": 23,
   "metadata": {},
   "outputs": [],
   "source": [
    "#hru_ids_shp = riv_albers[hm_hruid].astype(int)\n",
    "#hru_ids_shp"
   ]
  },
  {
   "cell_type": "markdown",
   "metadata": {},
   "source": [
    "#### Map mizuRoute sims to river shapes"
   ]
  },
  {
   "cell_type": "code",
   "execution_count": 27,
   "metadata": {
    "scrolled": true
   },
   "outputs": [
    {
     "data": {
      "text/html": [
       "<div><svg style=\"position: absolute; width: 0; height: 0; overflow: hidden\">\n",
       "<defs>\n",
       "<symbol id=\"icon-database\" viewBox=\"0 0 32 32\">\n",
       "<path d=\"M16 0c-8.837 0-16 2.239-16 5v4c0 2.761 7.163 5 16 5s16-2.239 16-5v-4c0-2.761-7.163-5-16-5z\"></path>\n",
       "<path d=\"M16 17c-8.837 0-16-2.239-16-5v6c0 2.761 7.163 5 16 5s16-2.239 16-5v-6c0 2.761-7.163 5-16 5z\"></path>\n",
       "<path d=\"M16 26c-8.837 0-16-2.239-16-5v6c0 2.761 7.163 5 16 5s16-2.239 16-5v-6c0 2.761-7.163 5-16 5z\"></path>\n",
       "</symbol>\n",
       "<symbol id=\"icon-file-text2\" viewBox=\"0 0 32 32\">\n",
       "<path d=\"M28.681 7.159c-0.694-0.947-1.662-2.053-2.724-3.116s-2.169-2.030-3.116-2.724c-1.612-1.182-2.393-1.319-2.841-1.319h-15.5c-1.378 0-2.5 1.121-2.5 2.5v27c0 1.378 1.122 2.5 2.5 2.5h23c1.378 0 2.5-1.122 2.5-2.5v-19.5c0-0.448-0.137-1.23-1.319-2.841zM24.543 5.457c0.959 0.959 1.712 1.825 2.268 2.543h-4.811v-4.811c0.718 0.556 1.584 1.309 2.543 2.268zM28 29.5c0 0.271-0.229 0.5-0.5 0.5h-23c-0.271 0-0.5-0.229-0.5-0.5v-27c0-0.271 0.229-0.5 0.5-0.5 0 0 15.499-0 15.5 0v7c0 0.552 0.448 1 1 1h7v19.5z\"></path>\n",
       "<path d=\"M23 26h-14c-0.552 0-1-0.448-1-1s0.448-1 1-1h14c0.552 0 1 0.448 1 1s-0.448 1-1 1z\"></path>\n",
       "<path d=\"M23 22h-14c-0.552 0-1-0.448-1-1s0.448-1 1-1h14c0.552 0 1 0.448 1 1s-0.448 1-1 1z\"></path>\n",
       "<path d=\"M23 18h-14c-0.552 0-1-0.448-1-1s0.448-1 1-1h14c0.552 0 1 0.448 1 1s-0.448 1-1 1z\"></path>\n",
       "</symbol>\n",
       "</defs>\n",
       "</svg>\n",
       "<style>/* CSS stylesheet for displaying xarray objects in jupyterlab.\n",
       " *\n",
       " */\n",
       "\n",
       ":root {\n",
       "  --xr-font-color0: var(--jp-content-font-color0, rgba(0, 0, 0, 1));\n",
       "  --xr-font-color2: var(--jp-content-font-color2, rgba(0, 0, 0, 0.54));\n",
       "  --xr-font-color3: var(--jp-content-font-color3, rgba(0, 0, 0, 0.38));\n",
       "  --xr-border-color: var(--jp-border-color2, #e0e0e0);\n",
       "  --xr-disabled-color: var(--jp-layout-color3, #bdbdbd);\n",
       "  --xr-background-color: var(--jp-layout-color0, white);\n",
       "  --xr-background-color-row-even: var(--jp-layout-color1, white);\n",
       "  --xr-background-color-row-odd: var(--jp-layout-color2, #eeeeee);\n",
       "}\n",
       "\n",
       "html[theme=dark],\n",
       "body[data-theme=dark],\n",
       "body.vscode-dark {\n",
       "  --xr-font-color0: rgba(255, 255, 255, 1);\n",
       "  --xr-font-color2: rgba(255, 255, 255, 0.54);\n",
       "  --xr-font-color3: rgba(255, 255, 255, 0.38);\n",
       "  --xr-border-color: #1F1F1F;\n",
       "  --xr-disabled-color: #515151;\n",
       "  --xr-background-color: #111111;\n",
       "  --xr-background-color-row-even: #111111;\n",
       "  --xr-background-color-row-odd: #313131;\n",
       "}\n",
       "\n",
       ".xr-wrap {\n",
       "  display: block !important;\n",
       "  min-width: 300px;\n",
       "  max-width: 700px;\n",
       "}\n",
       "\n",
       ".xr-text-repr-fallback {\n",
       "  /* fallback to plain text repr when CSS is not injected (untrusted notebook) */\n",
       "  display: none;\n",
       "}\n",
       "\n",
       ".xr-header {\n",
       "  padding-top: 6px;\n",
       "  padding-bottom: 6px;\n",
       "  margin-bottom: 4px;\n",
       "  border-bottom: solid 1px var(--xr-border-color);\n",
       "}\n",
       "\n",
       ".xr-header > div,\n",
       ".xr-header > ul {\n",
       "  display: inline;\n",
       "  margin-top: 0;\n",
       "  margin-bottom: 0;\n",
       "}\n",
       "\n",
       ".xr-obj-type,\n",
       ".xr-array-name {\n",
       "  margin-left: 2px;\n",
       "  margin-right: 10px;\n",
       "}\n",
       "\n",
       ".xr-obj-type {\n",
       "  color: var(--xr-font-color2);\n",
       "}\n",
       "\n",
       ".xr-sections {\n",
       "  padding-left: 0 !important;\n",
       "  display: grid;\n",
       "  grid-template-columns: 150px auto auto 1fr 20px 20px;\n",
       "}\n",
       "\n",
       ".xr-section-item {\n",
       "  display: contents;\n",
       "}\n",
       "\n",
       ".xr-section-item input {\n",
       "  display: none;\n",
       "}\n",
       "\n",
       ".xr-section-item input + label {\n",
       "  color: var(--xr-disabled-color);\n",
       "}\n",
       "\n",
       ".xr-section-item input:enabled + label {\n",
       "  cursor: pointer;\n",
       "  color: var(--xr-font-color2);\n",
       "}\n",
       "\n",
       ".xr-section-item input:enabled + label:hover {\n",
       "  color: var(--xr-font-color0);\n",
       "}\n",
       "\n",
       ".xr-section-summary {\n",
       "  grid-column: 1;\n",
       "  color: var(--xr-font-color2);\n",
       "  font-weight: 500;\n",
       "}\n",
       "\n",
       ".xr-section-summary > span {\n",
       "  display: inline-block;\n",
       "  padding-left: 0.5em;\n",
       "}\n",
       "\n",
       ".xr-section-summary-in:disabled + label {\n",
       "  color: var(--xr-font-color2);\n",
       "}\n",
       "\n",
       ".xr-section-summary-in + label:before {\n",
       "  display: inline-block;\n",
       "  content: '►';\n",
       "  font-size: 11px;\n",
       "  width: 15px;\n",
       "  text-align: center;\n",
       "}\n",
       "\n",
       ".xr-section-summary-in:disabled + label:before {\n",
       "  color: var(--xr-disabled-color);\n",
       "}\n",
       "\n",
       ".xr-section-summary-in:checked + label:before {\n",
       "  content: '▼';\n",
       "}\n",
       "\n",
       ".xr-section-summary-in:checked + label > span {\n",
       "  display: none;\n",
       "}\n",
       "\n",
       ".xr-section-summary,\n",
       ".xr-section-inline-details {\n",
       "  padding-top: 4px;\n",
       "  padding-bottom: 4px;\n",
       "}\n",
       "\n",
       ".xr-section-inline-details {\n",
       "  grid-column: 2 / -1;\n",
       "}\n",
       "\n",
       ".xr-section-details {\n",
       "  display: none;\n",
       "  grid-column: 1 / -1;\n",
       "  margin-bottom: 5px;\n",
       "}\n",
       "\n",
       ".xr-section-summary-in:checked ~ .xr-section-details {\n",
       "  display: contents;\n",
       "}\n",
       "\n",
       ".xr-array-wrap {\n",
       "  grid-column: 1 / -1;\n",
       "  display: grid;\n",
       "  grid-template-columns: 20px auto;\n",
       "}\n",
       "\n",
       ".xr-array-wrap > label {\n",
       "  grid-column: 1;\n",
       "  vertical-align: top;\n",
       "}\n",
       "\n",
       ".xr-preview {\n",
       "  color: var(--xr-font-color3);\n",
       "}\n",
       "\n",
       ".xr-array-preview,\n",
       ".xr-array-data {\n",
       "  padding: 0 5px !important;\n",
       "  grid-column: 2;\n",
       "}\n",
       "\n",
       ".xr-array-data,\n",
       ".xr-array-in:checked ~ .xr-array-preview {\n",
       "  display: none;\n",
       "}\n",
       "\n",
       ".xr-array-in:checked ~ .xr-array-data,\n",
       ".xr-array-preview {\n",
       "  display: inline-block;\n",
       "}\n",
       "\n",
       ".xr-dim-list {\n",
       "  display: inline-block !important;\n",
       "  list-style: none;\n",
       "  padding: 0 !important;\n",
       "  margin: 0;\n",
       "}\n",
       "\n",
       ".xr-dim-list li {\n",
       "  display: inline-block;\n",
       "  padding: 0;\n",
       "  margin: 0;\n",
       "}\n",
       "\n",
       ".xr-dim-list:before {\n",
       "  content: '(';\n",
       "}\n",
       "\n",
       ".xr-dim-list:after {\n",
       "  content: ')';\n",
       "}\n",
       "\n",
       ".xr-dim-list li:not(:last-child):after {\n",
       "  content: ',';\n",
       "  padding-right: 5px;\n",
       "}\n",
       "\n",
       ".xr-has-index {\n",
       "  font-weight: bold;\n",
       "}\n",
       "\n",
       ".xr-var-list,\n",
       ".xr-var-item {\n",
       "  display: contents;\n",
       "}\n",
       "\n",
       ".xr-var-item > div,\n",
       ".xr-var-item label,\n",
       ".xr-var-item > .xr-var-name span {\n",
       "  background-color: var(--xr-background-color-row-even);\n",
       "  margin-bottom: 0;\n",
       "}\n",
       "\n",
       ".xr-var-item > .xr-var-name:hover span {\n",
       "  padding-right: 5px;\n",
       "}\n",
       "\n",
       ".xr-var-list > li:nth-child(odd) > div,\n",
       ".xr-var-list > li:nth-child(odd) > label,\n",
       ".xr-var-list > li:nth-child(odd) > .xr-var-name span {\n",
       "  background-color: var(--xr-background-color-row-odd);\n",
       "}\n",
       "\n",
       ".xr-var-name {\n",
       "  grid-column: 1;\n",
       "}\n",
       "\n",
       ".xr-var-dims {\n",
       "  grid-column: 2;\n",
       "}\n",
       "\n",
       ".xr-var-dtype {\n",
       "  grid-column: 3;\n",
       "  text-align: right;\n",
       "  color: var(--xr-font-color2);\n",
       "}\n",
       "\n",
       ".xr-var-preview {\n",
       "  grid-column: 4;\n",
       "}\n",
       "\n",
       ".xr-index-preview {\n",
       "  grid-column: 2 / 5;\n",
       "  color: var(--xr-font-color2);\n",
       "}\n",
       "\n",
       ".xr-var-name,\n",
       ".xr-var-dims,\n",
       ".xr-var-dtype,\n",
       ".xr-preview,\n",
       ".xr-attrs dt {\n",
       "  white-space: nowrap;\n",
       "  overflow: hidden;\n",
       "  text-overflow: ellipsis;\n",
       "  padding-right: 10px;\n",
       "}\n",
       "\n",
       ".xr-var-name:hover,\n",
       ".xr-var-dims:hover,\n",
       ".xr-var-dtype:hover,\n",
       ".xr-attrs dt:hover {\n",
       "  overflow: visible;\n",
       "  width: auto;\n",
       "  z-index: 1;\n",
       "}\n",
       "\n",
       ".xr-var-attrs,\n",
       ".xr-var-data,\n",
       ".xr-index-data {\n",
       "  display: none;\n",
       "  background-color: var(--xr-background-color) !important;\n",
       "  padding-bottom: 5px !important;\n",
       "}\n",
       "\n",
       ".xr-var-attrs-in:checked ~ .xr-var-attrs,\n",
       ".xr-var-data-in:checked ~ .xr-var-data,\n",
       ".xr-index-data-in:checked ~ .xr-index-data {\n",
       "  display: block;\n",
       "}\n",
       "\n",
       ".xr-var-data > table {\n",
       "  float: right;\n",
       "}\n",
       "\n",
       ".xr-var-name span,\n",
       ".xr-var-data,\n",
       ".xr-index-name div,\n",
       ".xr-index-data,\n",
       ".xr-attrs {\n",
       "  padding-left: 25px !important;\n",
       "}\n",
       "\n",
       ".xr-attrs,\n",
       ".xr-var-attrs,\n",
       ".xr-var-data,\n",
       ".xr-index-data {\n",
       "  grid-column: 1 / -1;\n",
       "}\n",
       "\n",
       "dl.xr-attrs {\n",
       "  padding: 0;\n",
       "  margin: 0;\n",
       "  display: grid;\n",
       "  grid-template-columns: 125px auto;\n",
       "}\n",
       "\n",
       ".xr-attrs dt,\n",
       ".xr-attrs dd {\n",
       "  padding: 0;\n",
       "  margin: 0;\n",
       "  float: left;\n",
       "  padding-right: 10px;\n",
       "  width: auto;\n",
       "}\n",
       "\n",
       ".xr-attrs dt {\n",
       "  font-weight: normal;\n",
       "  grid-column: 1;\n",
       "}\n",
       "\n",
       ".xr-attrs dt:hover span {\n",
       "  display: inline-block;\n",
       "  background: var(--xr-background-color);\n",
       "  padding-right: 10px;\n",
       "}\n",
       "\n",
       ".xr-attrs dd {\n",
       "  grid-column: 2;\n",
       "  white-space: pre-wrap;\n",
       "  word-break: break-all;\n",
       "}\n",
       "\n",
       ".xr-icon-database,\n",
       ".xr-icon-file-text2,\n",
       ".xr-no-icon {\n",
       "  display: inline-block;\n",
       "  vertical-align: middle;\n",
       "  width: 1em;\n",
       "  height: 1.5em !important;\n",
       "  stroke-width: 0;\n",
       "  stroke: currentColor;\n",
       "  fill: currentColor;\n",
       "}\n",
       "</style><pre class='xr-text-repr-fallback'>&lt;xarray.Dataset&gt; Size: 5GB\n",
       "Dimensions:          (time: 8783, seg: 35333, hru: 35324)\n",
       "Coordinates:\n",
       "  * time             (time) datetime64[ns] 70kB 2000-01-01 ... 2000-12-31T22:...\n",
       "Dimensions without coordinates: seg, hru\n",
       "Data variables:\n",
       "    reachID          (seg) int32 141kB ...\n",
       "    basinID          (hru) int32 141kB ...\n",
       "    basRunoff        (time, hru) float32 1GB ...\n",
       "    instRunoff       (time, seg) float32 1GB ...\n",
       "    dlayRunoff       (time, seg) float32 1GB ...\n",
       "    IRFroutedRunoff  (time, seg) float32 1GB ...\n",
       "Attributes:\n",
       "    mizuRoute-version:  v1.2.2\n",
       "    gitBranch:          develop-0-geb77a0d\n",
       "    gitHash:            eb77a0d2d4684ea55ac2a42b7c0dd3c8f7e958b3</pre><div class='xr-wrap' style='display:none'><div class='xr-header'><div class='xr-obj-type'>xarray.Dataset</div></div><ul class='xr-sections'><li class='xr-section-item'><input id='section-6f12abf9-8bc6-45a5-afc7-136f7ab16014' class='xr-section-summary-in' type='checkbox' disabled ><label for='section-6f12abf9-8bc6-45a5-afc7-136f7ab16014' class='xr-section-summary'  title='Expand/collapse section'>Dimensions:</label><div class='xr-section-inline-details'><ul class='xr-dim-list'><li><span class='xr-has-index'>time</span>: 8783</li><li><span>seg</span>: 35333</li><li><span>hru</span>: 35324</li></ul></div><div class='xr-section-details'></div></li><li class='xr-section-item'><input id='section-610f4d6e-bbac-475d-8d31-287e7e00414e' class='xr-section-summary-in' type='checkbox'  checked><label for='section-610f4d6e-bbac-475d-8d31-287e7e00414e' class='xr-section-summary' >Coordinates: <span>(1)</span></label><div class='xr-section-inline-details'></div><div class='xr-section-details'><ul class='xr-var-list'><li class='xr-var-item'><div class='xr-var-name'><span class='xr-has-index'>time</span></div><div class='xr-var-dims'>(time)</div><div class='xr-var-dtype'>datetime64[ns]</div><div class='xr-var-preview xr-preview'>2000-01-01 ... 2000-12-31T22:00:00</div><input id='attrs-ffc70174-8b34-4293-81f7-a5fb9a74d414' class='xr-var-attrs-in' type='checkbox' ><label for='attrs-ffc70174-8b34-4293-81f7-a5fb9a74d414' title='Show/Hide attributes'><svg class='icon xr-icon-file-text2'><use xlink:href='#icon-file-text2'></use></svg></label><input id='data-d37d7866-b36d-4703-8da5-a3281334f3ba' class='xr-var-data-in' type='checkbox'><label for='data-d37d7866-b36d-4703-8da5-a3281334f3ba' title='Show/Hide data repr'><svg class='icon xr-icon-database'><use xlink:href='#icon-database'></use></svg></label><div class='xr-var-attrs'><dl class='xr-attrs'><dt><span>long_name :</span></dt><dd>time</dd></dl></div><div class='xr-var-data'><pre>array([&#x27;2000-01-01T00:00:00.000000000&#x27;, &#x27;2000-01-01T01:00:00.000000000&#x27;,\n",
       "       &#x27;2000-01-01T02:00:00.000000000&#x27;, ..., &#x27;2000-12-31T20:00:00.000000000&#x27;,\n",
       "       &#x27;2000-12-31T21:00:00.000000000&#x27;, &#x27;2000-12-31T22:00:00.000000000&#x27;],\n",
       "      dtype=&#x27;datetime64[ns]&#x27;)</pre></div></li></ul></div></li><li class='xr-section-item'><input id='section-37e767c5-60f6-4891-8411-c6610d2f00d5' class='xr-section-summary-in' type='checkbox'  checked><label for='section-37e767c5-60f6-4891-8411-c6610d2f00d5' class='xr-section-summary' >Data variables: <span>(6)</span></label><div class='xr-section-inline-details'></div><div class='xr-section-details'><ul class='xr-var-list'><li class='xr-var-item'><div class='xr-var-name'><span>reachID</span></div><div class='xr-var-dims'>(seg)</div><div class='xr-var-dtype'>int32</div><div class='xr-var-preview xr-preview'>...</div><input id='attrs-4560a590-ce22-49db-b7dc-f436c9fdcf97' class='xr-var-attrs-in' type='checkbox' ><label for='attrs-4560a590-ce22-49db-b7dc-f436c9fdcf97' title='Show/Hide attributes'><svg class='icon xr-icon-file-text2'><use xlink:href='#icon-file-text2'></use></svg></label><input id='data-ba145ab2-c0ba-4519-b8fb-cb6be1a13c3e' class='xr-var-data-in' type='checkbox'><label for='data-ba145ab2-c0ba-4519-b8fb-cb6be1a13c3e' title='Show/Hide data repr'><svg class='icon xr-icon-database'><use xlink:href='#icon-database'></use></svg></label><div class='xr-var-attrs'><dl class='xr-attrs'><dt><span>long_name :</span></dt><dd>reach ID</dd><dt><span>units :</span></dt><dd>-</dd></dl></div><div class='xr-var-data'><pre>[35333 values with dtype=int32]</pre></div></li><li class='xr-var-item'><div class='xr-var-name'><span>basinID</span></div><div class='xr-var-dims'>(hru)</div><div class='xr-var-dtype'>int32</div><div class='xr-var-preview xr-preview'>...</div><input id='attrs-31c88cc0-60af-4022-831a-0f8e0d196830' class='xr-var-attrs-in' type='checkbox' ><label for='attrs-31c88cc0-60af-4022-831a-0f8e0d196830' title='Show/Hide attributes'><svg class='icon xr-icon-file-text2'><use xlink:href='#icon-file-text2'></use></svg></label><input id='data-e83ae5a6-67b9-403b-8041-920c7b43e5aa' class='xr-var-data-in' type='checkbox'><label for='data-e83ae5a6-67b9-403b-8041-920c7b43e5aa' title='Show/Hide data repr'><svg class='icon xr-icon-database'><use xlink:href='#icon-database'></use></svg></label><div class='xr-var-attrs'><dl class='xr-attrs'><dt><span>long_name :</span></dt><dd>basin ID</dd><dt><span>units :</span></dt><dd>-</dd></dl></div><div class='xr-var-data'><pre>[35324 values with dtype=int32]</pre></div></li><li class='xr-var-item'><div class='xr-var-name'><span>basRunoff</span></div><div class='xr-var-dims'>(time, hru)</div><div class='xr-var-dtype'>float32</div><div class='xr-var-preview xr-preview'>...</div><input id='attrs-077a7dc4-5d76-4003-aa01-8fcd46e7de05' class='xr-var-attrs-in' type='checkbox' ><label for='attrs-077a7dc4-5d76-4003-aa01-8fcd46e7de05' title='Show/Hide attributes'><svg class='icon xr-icon-file-text2'><use xlink:href='#icon-file-text2'></use></svg></label><input id='data-f251dc39-2212-4763-94b4-bbfc38302c29' class='xr-var-data-in' type='checkbox'><label for='data-f251dc39-2212-4763-94b4-bbfc38302c29' title='Show/Hide data repr'><svg class='icon xr-icon-database'><use xlink:href='#icon-database'></use></svg></label><div class='xr-var-attrs'><dl class='xr-attrs'><dt><span>long_name :</span></dt><dd>basin runoff</dd><dt><span>units :</span></dt><dd>m/s</dd></dl></div><div class='xr-var-data'><pre>[310250692 values with dtype=float32]</pre></div></li><li class='xr-var-item'><div class='xr-var-name'><span>instRunoff</span></div><div class='xr-var-dims'>(time, seg)</div><div class='xr-var-dtype'>float32</div><div class='xr-var-preview xr-preview'>...</div><input id='attrs-7515d872-9593-4008-87c5-5c57b154a35e' class='xr-var-attrs-in' type='checkbox' ><label for='attrs-7515d872-9593-4008-87c5-5c57b154a35e' title='Show/Hide attributes'><svg class='icon xr-icon-file-text2'><use xlink:href='#icon-file-text2'></use></svg></label><input id='data-58d7f969-d2af-4e1f-b223-03457ff47ebe' class='xr-var-data-in' type='checkbox'><label for='data-58d7f969-d2af-4e1f-b223-03457ff47ebe' title='Show/Hide data repr'><svg class='icon xr-icon-database'><use xlink:href='#icon-database'></use></svg></label><div class='xr-var-attrs'><dl class='xr-attrs'><dt><span>long_name :</span></dt><dd>instantaneous runoff in each reach</dd><dt><span>units :</span></dt><dd>m3/s</dd></dl></div><div class='xr-var-data'><pre>[310329739 values with dtype=float32]</pre></div></li><li class='xr-var-item'><div class='xr-var-name'><span>dlayRunoff</span></div><div class='xr-var-dims'>(time, seg)</div><div class='xr-var-dtype'>float32</div><div class='xr-var-preview xr-preview'>...</div><input id='attrs-16dc96b2-549f-4108-8780-956e01fd367d' class='xr-var-attrs-in' type='checkbox' ><label for='attrs-16dc96b2-549f-4108-8780-956e01fd367d' title='Show/Hide attributes'><svg class='icon xr-icon-file-text2'><use xlink:href='#icon-file-text2'></use></svg></label><input id='data-a2c21af2-2240-4cf4-834e-2ab543bb375e' class='xr-var-data-in' type='checkbox'><label for='data-a2c21af2-2240-4cf4-834e-2ab543bb375e' title='Show/Hide data repr'><svg class='icon xr-icon-database'><use xlink:href='#icon-database'></use></svg></label><div class='xr-var-attrs'><dl class='xr-attrs'><dt><span>long_name :</span></dt><dd>delayed runoff in each reach</dd><dt><span>units :</span></dt><dd>m3/s</dd></dl></div><div class='xr-var-data'><pre>[310329739 values with dtype=float32]</pre></div></li><li class='xr-var-item'><div class='xr-var-name'><span>IRFroutedRunoff</span></div><div class='xr-var-dims'>(time, seg)</div><div class='xr-var-dtype'>float32</div><div class='xr-var-preview xr-preview'>...</div><input id='attrs-5bcacce2-d931-460c-9ac0-201a154729cc' class='xr-var-attrs-in' type='checkbox' ><label for='attrs-5bcacce2-d931-460c-9ac0-201a154729cc' title='Show/Hide attributes'><svg class='icon xr-icon-file-text2'><use xlink:href='#icon-file-text2'></use></svg></label><input id='data-19d6e65a-edbb-472a-9272-aba94499ddc3' class='xr-var-data-in' type='checkbox'><label for='data-19d6e65a-edbb-472a-9272-aba94499ddc3' title='Show/Hide data repr'><svg class='icon xr-icon-database'><use xlink:href='#icon-database'></use></svg></label><div class='xr-var-attrs'><dl class='xr-attrs'><dt><span>long_name :</span></dt><dd>routed runoff in reach - Impulse Response Function</dd><dt><span>units :</span></dt><dd>m3/s</dd></dl></div><div class='xr-var-data'><pre>[310329739 values with dtype=float32]</pre></div></li></ul></div></li><li class='xr-section-item'><input id='section-9a590a37-6173-4a82-8aa5-05fe820f3882' class='xr-section-summary-in' type='checkbox'  ><label for='section-9a590a37-6173-4a82-8aa5-05fe820f3882' class='xr-section-summary' >Indexes: <span>(1)</span></label><div class='xr-section-inline-details'></div><div class='xr-section-details'><ul class='xr-var-list'><li class='xr-var-item'><div class='xr-index-name'><div>time</div></div><div class='xr-index-preview'>PandasIndex</div><div></div><input id='index-02d02755-e4b3-4153-9818-3fc71f59b0a3' class='xr-index-data-in' type='checkbox'/><label for='index-02d02755-e4b3-4153-9818-3fc71f59b0a3' title='Show/Hide index repr'><svg class='icon xr-icon-database'><use xlink:href='#icon-database'></use></svg></label><div class='xr-index-data'><pre>PandasIndex(DatetimeIndex([&#x27;2000-01-01 00:00:00&#x27;, &#x27;2000-01-01 01:00:00&#x27;,\n",
       "               &#x27;2000-01-01 02:00:00&#x27;, &#x27;2000-01-01 03:00:00&#x27;,\n",
       "               &#x27;2000-01-01 04:00:00&#x27;, &#x27;2000-01-01 05:00:00&#x27;,\n",
       "               &#x27;2000-01-01 06:00:00&#x27;, &#x27;2000-01-01 07:00:00&#x27;,\n",
       "               &#x27;2000-01-01 08:00:00&#x27;, &#x27;2000-01-01 09:00:00&#x27;,\n",
       "               ...\n",
       "               &#x27;2000-12-31 13:00:00&#x27;, &#x27;2000-12-31 14:00:00&#x27;,\n",
       "               &#x27;2000-12-31 15:00:00&#x27;, &#x27;2000-12-31 16:00:00&#x27;,\n",
       "               &#x27;2000-12-31 17:00:00&#x27;, &#x27;2000-12-31 18:00:00&#x27;,\n",
       "               &#x27;2000-12-31 19:00:00&#x27;, &#x27;2000-12-31 20:00:00&#x27;,\n",
       "               &#x27;2000-12-31 21:00:00&#x27;, &#x27;2000-12-31 22:00:00&#x27;],\n",
       "              dtype=&#x27;datetime64[ns]&#x27;, name=&#x27;time&#x27;, length=8783, freq=None))</pre></div></li></ul></div></li><li class='xr-section-item'><input id='section-91945c5b-4c18-47e2-b646-383294c46250' class='xr-section-summary-in' type='checkbox'  checked><label for='section-91945c5b-4c18-47e2-b646-383294c46250' class='xr-section-summary' >Attributes: <span>(3)</span></label><div class='xr-section-inline-details'></div><div class='xr-section-details'><dl class='xr-attrs'><dt><span>mizuRoute-version :</span></dt><dd>v1.2.2</dd><dt><span>gitBranch :</span></dt><dd>develop-0-geb77a0d</dd><dt><span>gitHash :</span></dt><dd>eb77a0d2d4684ea55ac2a42b7c0dd3c8f7e958b3</dd></dl></div></li></ul></div></div>"
      ],
      "text/plain": [
       "<xarray.Dataset> Size: 5GB\n",
       "Dimensions:          (time: 8783, seg: 35333, hru: 35324)\n",
       "Coordinates:\n",
       "  * time             (time) datetime64[ns] 70kB 2000-01-01 ... 2000-12-31T22:...\n",
       "Dimensions without coordinates: seg, hru\n",
       "Data variables:\n",
       "    reachID          (seg) int32 141kB ...\n",
       "    basinID          (hru) int32 141kB ...\n",
       "    basRunoff        (time, hru) float32 1GB ...\n",
       "    instRunoff       (time, seg) float32 1GB ...\n",
       "    dlayRunoff       (time, seg) float32 1GB ...\n",
       "    IRFroutedRunoff  (time, seg) float32 1GB ...\n",
       "Attributes:\n",
       "    mizuRoute-version:  v1.2.2\n",
       "    gitBranch:          develop-0-geb77a0d\n",
       "    gitHash:            eb77a0d2d4684ea55ac2a42b7c0dd3c8f7e958b3"
      ]
     },
     "execution_count": 27,
     "metadata": {},
     "output_type": "execute_result"
    }
   ],
   "source": [
    "# Get the aggregated statistics of mizuRoute simulations\n",
    "mizu = xr.open_dataset(mizu_output_path/mizu_output_name)\n",
    "mizu"
   ]
  },
  {
   "cell_type": "code",
   "execution_count": 28,
   "metadata": {},
   "outputs": [
    {
     "data": {
      "text/plain": [
       "[<matplotlib.lines.Line2D at 0x36a06f6e0>]"
      ]
     },
     "execution_count": 28,
     "metadata": {},
     "output_type": "execute_result"
    },
    {
     "data": {
      "image/png": "[encoded data removed]",
      "text/plain": [
       "<Figure size 640x480 with 1 Axes>"
      ]
     },
     "metadata": {},
     "output_type": "display_data"
    }
   ],
   "source": [
    "reach = mizu.sel(seg = 70)\n",
    "\n",
    "fig,ax = plt.subplots()\n",
    "plt.rcParams.update({'font.size': 8}) # must set in top\n",
    "reach['IRFroutedRunoff'].plot(ax = ax)\n",
    "#x.set_xlim(pd.to_datetime([experiment_time_end[:4] + '-01-01',experiment_time_end]))\n",
    "#ax.set_ylim([0,1])"
   ]
  },
  {
   "cell_type": "code",
   "execution_count": null,
   "metadata": {},
   "outputs": [],
   "source": []
  },
  {
   "cell_type": "code",
   "execution_count": null,
   "metadata": {},
   "outputs": [],
   "source": []
  },
  {
   "cell_type": "code",
   "execution_count": 29,
   "metadata": {},
   "outputs": [],
   "source": [
    "#fig,ax = plt.subplots()\n",
    "#plt.rcParams.update({'font.size': 23}) # must set in top\n",
    "#\n",
    "#summa['scalarTotalET'].sel(hru = 354).plot(ax=ax)"
   ]
  },
  {
   "cell_type": "code",
   "execution_count": 30,
   "metadata": {},
   "outputs": [],
   "source": [
    "# Specify variables of interest\n",
    "mizu_vars = ['IRFroutedRunoff']#,'KWTroutedRunoff']"
   ]
  },
  {
   "cell_type": "code",
   "execution_count": 31,
   "metadata": {},
   "outputs": [],
   "source": [
    "# polygon order in the simulation file\n",
    "seg_ids_sim = mizu['reachID'].values"
   ]
  },
  {
   "cell_type": "code",
   "execution_count": 32,
   "metadata": {},
   "outputs": [],
   "source": [
    "# ensure that the shapefile is in the same order as the sims\n",
    "riv_albers = riv_albers.set_index(riv_albers[seg_id].astype('int'))\n",
    "riv_albers = riv_albers.reindex(seg_ids_sim)"
   ]
  },
  {
   "cell_type": "code",
   "execution_count": 33,
   "metadata": {},
   "outputs": [],
   "source": [
    "# Match the accummulated values to the correct HRU IDs in the shapefile\n",
    "seg_ids_riv = riv_albers.index.values # hru order in shapefile\n",
    "for mizu_var in mizu_vars:\n",
    "    riv_albers[mizu_var] = mizu[mizu_var].sel(seg=np.where(mizu['reachID'].values == seg_ids_riv)[0]).values[0]"
   ]
  },
  {
   "cell_type": "code",
   "execution_count": 34,
   "metadata": {},
   "outputs": [],
   "source": [
    "# Add a linewidth column for the river network\n",
    "riv_albers['lineWidth'] = np.maximum(np.log10(riv_albers['IRFroutedRunoff'] ),0)"
   ]
  },
  {
   "cell_type": "markdown",
   "metadata": {},
   "source": [
    "### Figure"
   ]
  },
  {
   "cell_type": "code",
   "execution_count": 35,
   "metadata": {},
   "outputs": [],
   "source": [
    "# Set the font size: we need this to be huge so we can also make our plotting area huge, to avoid a gnarly plotting bug\n",
    "if 'compressed' in fig_name:\n",
    "    plt.rcParams.update({'font.size': 25})\n",
    "else:\n",
    "    plt.rcParams.update({'font.size': 100})"
   ]
  },
  {
   "cell_type": "code",
   "execution_count": 36,
   "metadata": {},
   "outputs": [],
   "source": [
    "# Flip the evaporation values so that they become positive\n",
    "#bas_albers['plot_ET'] = bas_albers['scalarTotalET'] * -1\n",
    "#bas_albers['plot_ET'] = bas_albers['plot_ET'].where(bas_albers['scalarTotalET'] != -9999, np.nan)\n"
   ]
  },
  {
   "cell_type": "code",
   "execution_count": 41,
   "metadata": {},
   "outputs": [
    {
     "name": "stdout",
     "output_type": "stream",
     "text": [
      "            fid  LINKNO  DSLINKNO  USLINKNO1  USLINKNO2  DSNODEID  strmOrder  \\\n",
      "LINKNO                                                                         \n",
      "16          1.0      16        -1         -1         -1      -1.0          1   \n",
      "17          2.0      17        -1         -1         -1      -1.0          1   \n",
      "2065        3.0    2065        -1         -1         -1      -1.0          1   \n",
      "3089        4.0    3089        -1       1042       2066      -1.0          2   \n",
      "1042        5.0    1042      3089         -1         -1      -1.0          1   \n",
      "...         ...     ...       ...        ...        ...       ...        ...   \n",
      "1000    35329.0    1000        -1         -1         -1      -1.0          1   \n",
      "1001    35330.0    1001        -1         -1         -1      -1.0          1   \n",
      "1002    35331.0    1002      2025         -1         -1      -1.0          1   \n",
      "2025    35332.0    2025        -1       1002        999      -1.0          2   \n",
      "1003    35333.0    1003        -1         -1         -1      -1.0          1   \n",
      "\n",
      "        Length  Magnitude  DSContArea  ...  StraightL  USContArea  WSNO  \\\n",
      "LINKNO                                 ...                                \n",
      "16       460.6          1   3973901.0  ...      443.3   3953735.2    16   \n",
      "17      3176.6          1  10947856.0  ...     2019.7   3965291.0    17   \n",
      "2065    3077.8          1   9752978.0  ...     2147.1   3946031.5  2065   \n",
      "3089    2605.3          2  11797876.0  ...     2018.8   9983524.0  3089   \n",
      "1042     537.1          1   4323176.5  ...      421.5   4011173.8  1042   \n",
      "...        ...        ...         ...  ...        ...         ...   ...   \n",
      "1000     290.2          1   4189380.2  ...      252.6   4115288.0  1000   \n",
      "1001     163.5          1   4251690.0  ...      157.0   4064420.5  1001   \n",
      "1002    2615.3          1   5477496.5  ...     1854.6   3938101.2  1002   \n",
      "2025    1162.3          2  16798646.0  ...     1110.9  16534791.0  2025   \n",
      "1003    2694.4          1   8237033.5  ...     1834.0   3933909.5  1003   \n",
      "\n",
      "        DOUTEND  DOUTSTART  DOUTMID  length_m  \\\n",
      "LINKNO                                          \n",
      "16          0.0      460.6    230.3   460.651   \n",
      "17          0.0     3176.6   1588.3  3176.927   \n",
      "2065        0.0     3077.8   1538.9  3078.186   \n",
      "3089        0.0     2605.3   1302.6  2605.465   \n",
      "1042     2605.3     3142.4   2873.8   537.149   \n",
      "...         ...        ...      ...       ...   \n",
      "1000        0.0      290.2    145.1   292.756   \n",
      "1001        0.0      163.5     81.7   164.908   \n",
      "1002     1162.3     3777.6   2470.0  2637.726   \n",
      "2025        0.0     1162.3    581.2  1172.291   \n",
      "1003        0.0     2694.4   1347.2  2717.672   \n",
      "\n",
      "                                                 geometry  IRFroutedRunoff  \\\n",
      "LINKNO                                                                       \n",
      "16      LINESTRING (172.93841 -34.42378, 172.93829 -34...     4.840686e-04   \n",
      "17      LINESTRING (172.85470 -34.42367, 172.85482 -34...     1.340765e-03   \n",
      "2065    LINESTRING (172.96569 -34.42100, 172.96569 -34...     1.188118e-03   \n",
      "3089    LINESTRING (172.71700 -34.42955, 172.71689 -34...     2.217787e-04   \n",
      "1042    LINESTRING (172.72024 -34.44755, 172.72012 -34...     5.263999e-04   \n",
      "...                                                   ...              ...   \n",
      "1000    LINESTRING (158.79402 -54.69396, 158.79414 -54...     3.618771e-13   \n",
      "1001    LINESTRING (158.80188 -54.70641, 158.80200 -54...     3.670305e-13   \n",
      "1002    LINESTRING (158.85992 -54.70030, 158.85981 -54...     4.727983e-13   \n",
      "2025    LINESTRING (158.86489 -54.70985, 158.86478 -54...     2.374796e-14   \n",
      "1003    LINESTRING (158.78130 -54.74718, 158.78142 -54...     7.104823e-13   \n",
      "\n",
      "       lineWidth  \n",
      "LINKNO            \n",
      "16           0.0  \n",
      "17           0.0  \n",
      "2065         0.0  \n",
      "3089         0.0  \n",
      "1042         0.0  \n",
      "...          ...  \n",
      "1000         0.0  \n",
      "1001         0.0  \n",
      "1002         0.0  \n",
      "2025         0.0  \n",
      "1003         0.0  \n",
      "\n",
      "[35333 rows x 22 columns]\n"
     ]
    },
    {
     "name": "stderr",
     "output_type": "stream",
     "text": [
      "/var/folders/pc/q8630ffx72z0bwfzz59ws0kc0000gn/T/ipykernel_40798/4181052636.py:11: UserWarning: Column names longer than 10 characters will be truncated when saved to ESRI Shapefile.\n",
      "  gdf.drop('LINKNO', axis = 1).to_file(save_path)\n"
     ]
    },
    {
     "name": "stdout",
     "output_type": "stream",
     "text": [
      "/Users/darrieythorsson/compHydro/data/CWARHM_data/domain_New_Zealand/visualization/New_Zealand_run_New_Zealand_TDX_2_routedRunoff.shp\n"
     ]
    },
    {
     "data": {
      "image/png": "[encoded data removed]",
      "text/plain": [
       "<Figure size 640x480 with 1 Axes>"
      ]
     },
     "metadata": {},
     "output_type": "display_data"
    }
   ],
   "source": [
    "riv_albers\n",
    "\n",
    "gdf = gpd.GeoDataFrame(\n",
    "    riv_albers,\n",
    "    geometry=riv_albers.geometry\n",
    ")\n",
    "\n",
    "save_path = root_path/Path('domain_' + domain_name)/Path('visualization')/Path(domain_name + '_' + experiment_id + '_routedRunoff.shp')\n",
    "print(gdf)\n",
    "#gdf.to_file(save_path)\n",
    "gdf.drop('LINKNO', axis = 1).to_file(save_path)\n",
    "gdf.plot() # first image hereunder\n",
    "print(save_path)"
   ]
  },
  {
   "cell_type": "code",
   "execution_count": null,
   "metadata": {},
   "outputs": [],
   "source": []
  },
  {
   "cell_type": "code",
   "execution_count": 38,
   "metadata": {},
   "outputs": [
    {
     "data": {
      "text/plain": [
       "\"\\n# lakes\\nif plot_lakes:\\n    large_lakes_albers.plot(ax=axs, color=lake_col, zorder=1)\\n    #large_lakes_albers.plot(ax=axs[0,1], color=lake_col, zorder=1)\\n    #large_lakes_albers.plot(ax=axs[1,0], color=lake_col, zorder=1)\\n    #large_lakes_albers.plot(ax=axs[1,1], color=lake_col, zorder=1)\\n\\n# Save \\nplt.savefig(fig_path/fig_name, bbox_inches='tight', transparent=True)\\n\""
      ]
     },
     "execution_count": 38,
     "metadata": {},
     "output_type": "execute_result"
    },
    {
     "data": {
      "image/png": "[encoded data removed]",
      "text/plain": [
       "<Figure size 640x480 with 2 Axes>"
      ]
     },
     "metadata": {},
     "output_type": "display_data"
    }
   ],
   "source": [
    "'''if 'compressed' in fig_name:\n",
    "    fig,axs = plt.subplots(2,2,figsize=(35,33))\n",
    "else:\n",
    "    fig,axs = plt.subplots(2,2,figsize=(140,133))\n",
    "\n",
    "# colorbar axes\n",
    "\n",
    "cax2 = fig.add_axes([0.97 ,0.60,0.02,0.3])\n",
    "cax3 = fig.add_axes([0.473,0.10,0.02,0.3])\n",
    "\n",
    "'''\n",
    "\n",
    "\n",
    "fig,axs = plt.subplots()\n",
    "#plt.tight_layout()\n",
    "'''\n",
    "cax1 = fig.add_axes([0.473,0.60,0.02,0.3])\n",
    "# add maps\n",
    "bas_albers.plot(ax=axs, column='scalarSWE', edgecolor='none', legend=True, vmin=0, vmax=200, \\\n",
    "                cmap='Greys_r', cax=cax1, zorder=0)\n",
    "axs.set_title('(a) Maximum simulated Snow Water Equivalent')\n",
    "axs.axis('off')\n",
    "cax1.set_ylabel('scalarSWE $[kg~m^{-2}]$',labelpad=-600)\n",
    "\n",
    "# SM\n",
    "bas_albers.plot(ax=axs[0,1], column='scalarTotalSoilWat', edgecolor='none', legend=True, vmin=0, \\\n",
    "                cmap='cividis_r', cax=cax2, zorder=0)\n",
    "axs[0,1].set_title('(b) Mean simulated total soil water content')\n",
    "axs[0,1].axis('off')\n",
    "cax2.set_ylabel('scalarTotalSoilWat $[kg~m^{-2}]$',labelpad=-600)\n",
    "\n",
    "# ET\n",
    "bas_albers.plot(ax=axs[1,0], column='plot_ET', edgecolor='none', legend=True,\\\n",
    "                cmap='viridis', cax=cax3, zorder=0)\n",
    "axs[1,0].set_title('(c) Mean simulated total evapotranspiration')\n",
    "axs[1,0].axis('off')\n",
    "cax3.set_ylabel('scalarTotalET $[kg~m^{-2}~s^{-1}]$',labelpad=-450)\n",
    "'''\n",
    "# Flow\n",
    "cax4 = fig.add_axes([0.97 ,0.10,0.02,0.3])\n",
    "var = 'IRFroutedRunoff'\n",
    "norm = matplotlib.colors.LogNorm(vmin=riv_albers[var].min(), vmax=riv_albers[var].max())\n",
    "riv_albers.plot(ax=axs,column=var, linewidth=riv_albers['lineWidth']*10, \\\n",
    "                                    cmap='Blues', legend=True, cax=cax4, norm=norm, zorder=0)\n",
    "axs.set_title('(d) Mean simulated streamflow')\n",
    "axs.axis('off')\n",
    "\n",
    "'''\n",
    "# lakes\n",
    "if plot_lakes:\n",
    "    large_lakes_albers.plot(ax=axs, color=lake_col, zorder=1)\n",
    "    #large_lakes_albers.plot(ax=axs[0,1], color=lake_col, zorder=1)\n",
    "    #large_lakes_albers.plot(ax=axs[1,0], color=lake_col, zorder=1)\n",
    "    #large_lakes_albers.plot(ax=axs[1,1], color=lake_col, zorder=1)\n",
    "\n",
    "# Save \n",
    "plt.savefig(fig_path/fig_name, bbox_inches='tight', transparent=True)\n",
    "'''"
   ]
  },
  {
   "cell_type": "code",
   "execution_count": null,
   "metadata": {},
   "outputs": [],
   "source": []
  }
 ],
 "metadata": {
  "kernelspec": {
   "display_name": "camels-spat-env",
   "language": "python",
   "name": "camels-spat-env"
  },
  "language_info": {
   "codemirror_mode": {
    "name": "ipython",
    "version": 3
   },
   "file_extension": ".py",
   "mimetype": "text/x-python",
   "name": "python",
   "nbconvert_exporter": "python",
   "pygments_lexer": "ipython3",
   "version": "3.12.3"
  }
 },
 "nbformat": 4,
 "nbformat_minor": 4
}
