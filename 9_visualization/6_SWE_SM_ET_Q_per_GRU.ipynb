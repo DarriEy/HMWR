{
 "cells": [
  {
   "cell_type": "markdown",
   "metadata": {},
   "source": [
    "# Visualize maximum SWE, mean soil water, mean ET and mean runoff per GRU\n",
    "Needs: \n",
    "- Catchment shapefile with GRU delineation\n",
    "- River shapefile with network delineation\n",
    "- SUMMA output `scalarSWE`, `scalarTotalSoilWat`, `scalarTotalET`\n",
    "- mizuRoute output `IRFroutedRunoff`\n",
    "\n",
    "#### Special note\n",
    "SUMMA and mizuRoute simulations have been preprocessed into single value statistics per model element, using auxiliary scripts in `~/summaWorkflow_public/0_tools/`. Paths to the `.nc` files that contain these statistics are not read from the `control_active.txt` file but hard-coded the sections \"Simulation statistics file locations\" below.\n",
    "\n",
    "To improve visualization of large lakes, HydroLAKES lake delineations are plotted on top of the catchment GRUs and river segments. Dealing with HydroLAKES inputs is not considered within scope of the workflow and therefore requires some manual downloading and preprocessing of this data for those who wish to reproduce this step. The relevant code is easily disabled by switching the `plot_lakes = True` flag to `False`."
   ]
  },
  {
   "cell_type": "code",
   "execution_count": 1,
   "metadata": {},
   "outputs": [],
   "source": [
    "# modules\n",
    "import pyproj\n",
    "import matplotlib\n",
    "import numpy as np\n",
    "import xarray as xr\n",
    "import geopandas as gpd\n",
    "from pathlib import Path\n",
    "import matplotlib.pyplot as plt\n",
    "import matplotlib.gridspec as gridspec\n",
    "\n",
    "from geocube.api.core import make_geocube\n",
    "import cartopy.crs as ccrs\n",
    "import rioxarray\n",
    "%matplotlib inline"
   ]
  },
  {
   "cell_type": "markdown",
   "metadata": {},
   "source": [
    "#### Simulation statistics file locations"
   ]
  },
  {
   "cell_type": "code",
   "execution_count": 3,
   "metadata": {},
   "outputs": [],
   "source": [
    "# SUMMA simulations\n",
    "summa_output_path = Path('/Users/darrieythorsson/compHydro/data/CWARHM_data/domain_Iceland/simulations/run_Iceland_TDX_1/SUMMA')\n",
    "summa_output_name = 'run_Iceland_TDX_1_day.nc'"
   ]
  },
  {
   "cell_type": "code",
   "execution_count": 4,
   "metadata": {},
   "outputs": [],
   "source": [
    "# mizuRoute simulations\n",
    "mizu_output_path = Path('/Users/darrieythorsson/compHydro/data/CWARHM_data/domain_Hawaii/simulations/run_Hawaii_TDX_1/mizuRoute')\n",
    "mizu_output_name = 'run_Hawaii_TDX_1.h.1950-12-01-00000.nc'"
   ]
  },
  {
   "cell_type": "markdown",
   "metadata": {},
   "source": [
    "#### Plot lakes?"
   ]
  },
  {
   "cell_type": "code",
   "execution_count": 5,
   "metadata": {},
   "outputs": [],
   "source": [
    "plot_lakes = True"
   ]
  },
  {
   "cell_type": "code",
   "execution_count": 6,
   "metadata": {},
   "outputs": [],
   "source": [
    "# lakes shapefile\n",
    "lake_path = Path('/Users/darrieythorsson/compHydro/data/Shapefiles/HydroLAKES/HydroLAKES_polys_v10_shp')\n",
    "lake_name = 'HydroLAKES_polys_v10_subset_YK.shp'"
   ]
  },
  {
   "cell_type": "markdown",
   "metadata": {},
   "source": [
    "#### Control file handling"
   ]
  },
  {
   "cell_type": "code",
   "execution_count": 7,
   "metadata": {},
   "outputs": [],
   "source": [
    "# Easy access to control file folder\n",
    "controlFolder = Path('../0_control_files')"
   ]
  },
  {
   "cell_type": "code",
   "execution_count": 8,
   "metadata": {},
   "outputs": [],
   "source": [
    "# Store the name of the 'active' file in a variable\n",
    "controlFile = 'control_Iceland.txt'"
   ]
  },
  {
   "cell_type": "code",
   "execution_count": 9,
   "metadata": {},
   "outputs": [],
   "source": [
    "# Function to extract a given setting from the control file\n",
    "def read_from_control( file, setting ):\n",
    "    \n",
    "    # Open 'control_active.txt' and ...\n",
    "    with open(file) as contents:\n",
    "        for line in contents:\n",
    "            \n",
    "            # ... find the line with the requested setting\n",
    "            if setting in line and not line.startswith('#'):\n",
    "                break\n",
    "    \n",
    "    # Extract the setting's value\n",
    "    substring = line.split('|',1)[1]      # Remove the setting's name (split into 2 based on '|', keep only 2nd part)\n",
    "    substring = substring.split('#',1)[0] # Remove comments, does nothing if no '#' is found\n",
    "    substring = substring.strip()         # Remove leading and trailing whitespace, tabs, newlines\n",
    "       \n",
    "    # Return this value    \n",
    "    return substring"
   ]
  },
  {
   "cell_type": "code",
   "execution_count": 10,
   "metadata": {},
   "outputs": [],
   "source": [
    "# Function to specify a default path\n",
    "def make_default_path(suffix):\n",
    "    \n",
    "    # Get the root path\n",
    "    rootPath = Path( read_from_control(controlFolder/controlFile,'root_path') )\n",
    "    \n",
    "    # Get the domain folder\n",
    "    domainName = read_from_control(controlFolder/controlFile,'domain_name')\n",
    "    domainFolder = 'domain_' + domainName\n",
    "    \n",
    "    # Specify the forcing path\n",
    "    defaultPath = rootPath / domainFolder / suffix\n",
    "    \n",
    "    return defaultPath"
   ]
  },
  {
   "cell_type": "markdown",
   "metadata": {},
   "source": [
    "#### Define where to save the figure"
   ]
  },
  {
   "cell_type": "code",
   "execution_count": 11,
   "metadata": {},
   "outputs": [],
   "source": [
    "# Path and filename\n",
    "fig_path = read_from_control(controlFolder/controlFile,'visualization_folder')\n",
    "fig_name = 'max_swe_AND_mean_sm_AND_mean_et_AND_mean_q_FOR_Iceland_v4_compressed.png'\n",
    "\n",
    "# Specify default path if needed\n",
    "if fig_path == 'default':\n",
    "    fig_path = make_default_path('visualization') # outputs a Path()\n",
    "else:\n",
    "    fig_path = Path(fig_path) # make sure a user-specified path is a Path()\n",
    "    \n",
    "# Make the folder if it doesn't exist\n",
    "fig_path.mkdir(parents=True, exist_ok=True)"
   ]
  },
  {
   "cell_type": "markdown",
   "metadata": {},
   "source": [
    "#### Catchment shapefile location and variable names"
   ]
  },
  {
   "cell_type": "code",
   "execution_count": 12,
   "metadata": {},
   "outputs": [],
   "source": [
    "# HM catchment shapefile path & name\n",
    "hm_catchment_path = read_from_control(controlFolder/controlFile,'catchment_shp_path')\n",
    "hm_catchment_name = read_from_control(controlFolder/controlFile,'catchment_shp_name')\n",
    "\n",
    "# Specify default path if needed\n",
    "if hm_catchment_path == 'default':\n",
    "    hm_catchment_path = make_default_path('shapefiles/catchment') # outputs a Path()\n",
    "else:\n",
    "    hm_catchment_path = Path(hm_catchment_path) # make sure a user-specified path is a Path()"
   ]
  },
  {
   "cell_type": "code",
   "execution_count": 13,
   "metadata": {},
   "outputs": [],
   "source": [
    "# Find the GRU and HRU identifiers\n",
    "hm_hruid = read_from_control(controlFolder/controlFile,'catchment_shp_hruid')"
   ]
  },
  {
   "cell_type": "markdown",
   "metadata": {},
   "source": [
    "#### River network shapefile location and variable names"
   ]
  },
  {
   "cell_type": "code",
   "execution_count": 14,
   "metadata": {},
   "outputs": [],
   "source": [
    "# River network path & name\n",
    "river_network_path = read_from_control(controlFolder/controlFile,'river_network_shp_path')\n",
    "river_network_name = read_from_control(controlFolder/controlFile,'river_network_shp_name')\n",
    "\n",
    "# Specify default path if needed\n",
    "if river_network_path == 'default':\n",
    "    river_network_path = make_default_path('shapefiles/river_network') # outputs a Path()\n",
    "else:\n",
    "    river_network_path = Path(river_network_path) # make sure a user-specified path is a Path()"
   ]
  },
  {
   "cell_type": "code",
   "execution_count": 15,
   "metadata": {},
   "outputs": [],
   "source": [
    "# Find the segment ID\n",
    "seg_id = read_from_control(controlFolder/controlFile,'river_network_shp_segid')"
   ]
  },
  {
   "cell_type": "markdown",
   "metadata": {},
   "source": [
    "#### Load all shapefiles and project to Albers Conformal Conic"
   ]
  },
  {
   "cell_type": "code",
   "execution_count": 16,
   "metadata": {},
   "outputs": [],
   "source": [
    "# catchment shapefile\n",
    "bas = gpd.read_file(hm_catchment_path/hm_catchment_name)"
   ]
  },
  {
   "cell_type": "code",
   "execution_count": 17,
   "metadata": {},
   "outputs": [],
   "source": [
    "# river network shapefile\n",
    "riv = gpd.read_file(river_network_path/river_network_name)"
   ]
  },
  {
   "cell_type": "code",
   "execution_count": 18,
   "metadata": {},
   "outputs": [],
   "source": [
    "# lakes shapefile\n",
    "if plot_lakes:\n",
    "    lakes = gpd.read_file(lake_path/lake_name)"
   ]
  },
  {
   "cell_type": "code",
   "execution_count": 19,
   "metadata": {},
   "outputs": [],
   "source": [
    "# Set the target CRS\n",
    "acc = 'ESRI:102008'"
   ]
  },
  {
   "cell_type": "code",
   "execution_count": 20,
   "metadata": {},
   "outputs": [],
   "source": [
    "# Reproject\n",
    "bas_albers = bas.to_crs(acc)\n",
    "riv_albers = riv.to_crs(acc)\n",
    "lak_albers = lakes.to_crs(acc)"
   ]
  },
  {
   "cell_type": "code",
   "execution_count": 21,
   "metadata": {},
   "outputs": [
    {
     "name": "stdout",
     "output_type": "stream",
     "text": [
      "median area = 7.2641590495 m^2\n",
      "mean area   = 8.983223795096961 m^2\n"
     ]
    }
   ],
   "source": [
    "# Print the median basin size for curiousity\n",
    "print('median area = {} m^2'.format(bas['HRU_area'].median() / 10**6))\n",
    "print('mean area   = {} m^2'.format(bas['HRU_area'].mean() / 10**6))"
   ]
  },
  {
   "cell_type": "code",
   "execution_count": 22,
   "metadata": {},
   "outputs": [],
   "source": [
    "# Get the albers shapes\n",
    "main = Path('/Users/darrieythorsson/compHydro/data/CWARHM_data/domainYukon/shapefiles/albers_projection')\n",
    "if False:\n",
    "    lak_albers = gpd.read_file(main/'lakes.shp')\n",
    "    riv_albers = gpd.read_file(main/'river.shp')\n",
    "    bas_albers = gpd.read_file(main/'basin.shp')"
   ]
  },
  {
   "cell_type": "markdown",
   "metadata": {},
   "source": [
    "### Pre-processing\n",
    "#### Map SUMMA sims to catchment shapes"
   ]
  },
  {
   "cell_type": "code",
   "execution_count": 23,
   "metadata": {},
   "outputs": [
    {
     "data": {
      "text/html": [
       "<div><svg style=\"position: absolute; width: 0; height: 0; overflow: hidden\">\n",
       "<defs>\n",
       "<symbol id=\"icon-database\" viewBox=\"0 0 32 32\">\n",
       "<path d=\"M16 0c-8.837 0-16 2.239-16 5v4c0 2.761 7.163 5 16 5s16-2.239 16-5v-4c0-2.761-7.163-5-16-5z\"></path>\n",
       "<path d=\"M16 17c-8.837 0-16-2.239-16-5v6c0 2.761 7.163 5 16 5s16-2.239 16-5v-6c0 2.761-7.163 5-16 5z\"></path>\n",
       "<path d=\"M16 26c-8.837 0-16-2.239-16-5v6c0 2.761 7.163 5 16 5s16-2.239 16-5v-6c0 2.761-7.163 5-16 5z\"></path>\n",
       "</symbol>\n",
       "<symbol id=\"icon-file-text2\" viewBox=\"0 0 32 32\">\n",
       "<path d=\"M28.681 7.159c-0.694-0.947-1.662-2.053-2.724-3.116s-2.169-2.030-3.116-2.724c-1.612-1.182-2.393-1.319-2.841-1.319h-15.5c-1.378 0-2.5 1.121-2.5 2.5v27c0 1.378 1.122 2.5 2.5 2.5h23c1.378 0 2.5-1.122 2.5-2.5v-19.5c0-0.448-0.137-1.23-1.319-2.841zM24.543 5.457c0.959 0.959 1.712 1.825 2.268 2.543h-4.811v-4.811c0.718 0.556 1.584 1.309 2.543 2.268zM28 29.5c0 0.271-0.229 0.5-0.5 0.5h-23c-0.271 0-0.5-0.229-0.5-0.5v-27c0-0.271 0.229-0.5 0.5-0.5 0 0 15.499-0 15.5 0v7c0 0.552 0.448 1 1 1h7v19.5z\"></path>\n",
       "<path d=\"M23 26h-14c-0.552 0-1-0.448-1-1s0.448-1 1-1h14c0.552 0 1 0.448 1 1s-0.448 1-1 1z\"></path>\n",
       "<path d=\"M23 22h-14c-0.552 0-1-0.448-1-1s0.448-1 1-1h14c0.552 0 1 0.448 1 1s-0.448 1-1 1z\"></path>\n",
       "<path d=\"M23 18h-14c-0.552 0-1-0.448-1-1s0.448-1 1-1h14c0.552 0 1 0.448 1 1s-0.448 1-1 1z\"></path>\n",
       "</symbol>\n",
       "</defs>\n",
       "</svg>\n",
       "<style>/* CSS stylesheet for displaying xarray objects in jupyterlab.\n",
       " *\n",
       " */\n",
       "\n",
       ":root {\n",
       "  --xr-font-color0: var(--jp-content-font-color0, rgba(0, 0, 0, 1));\n",
       "  --xr-font-color2: var(--jp-content-font-color2, rgba(0, 0, 0, 0.54));\n",
       "  --xr-font-color3: var(--jp-content-font-color3, rgba(0, 0, 0, 0.38));\n",
       "  --xr-border-color: var(--jp-border-color2, #e0e0e0);\n",
       "  --xr-disabled-color: var(--jp-layout-color3, #bdbdbd);\n",
       "  --xr-background-color: var(--jp-layout-color0, white);\n",
       "  --xr-background-color-row-even: var(--jp-layout-color1, white);\n",
       "  --xr-background-color-row-odd: var(--jp-layout-color2, #eeeeee);\n",
       "}\n",
       "\n",
       "html[theme=dark],\n",
       "body[data-theme=dark],\n",
       "body.vscode-dark {\n",
       "  --xr-font-color0: rgba(255, 255, 255, 1);\n",
       "  --xr-font-color2: rgba(255, 255, 255, 0.54);\n",
       "  --xr-font-color3: rgba(255, 255, 255, 0.38);\n",
       "  --xr-border-color: #1F1F1F;\n",
       "  --xr-disabled-color: #515151;\n",
       "  --xr-background-color: #111111;\n",
       "  --xr-background-color-row-even: #111111;\n",
       "  --xr-background-color-row-odd: #313131;\n",
       "}\n",
       "\n",
       ".xr-wrap {\n",
       "  display: block !important;\n",
       "  min-width: 300px;\n",
       "  max-width: 700px;\n",
       "}\n",
       "\n",
       ".xr-text-repr-fallback {\n",
       "  /* fallback to plain text repr when CSS is not injected (untrusted notebook) */\n",
       "  display: none;\n",
       "}\n",
       "\n",
       ".xr-header {\n",
       "  padding-top: 6px;\n",
       "  padding-bottom: 6px;\n",
       "  margin-bottom: 4px;\n",
       "  border-bottom: solid 1px var(--xr-border-color);\n",
       "}\n",
       "\n",
       ".xr-header > div,\n",
       ".xr-header > ul {\n",
       "  display: inline;\n",
       "  margin-top: 0;\n",
       "  margin-bottom: 0;\n",
       "}\n",
       "\n",
       ".xr-obj-type,\n",
       ".xr-array-name {\n",
       "  margin-left: 2px;\n",
       "  margin-right: 10px;\n",
       "}\n",
       "\n",
       ".xr-obj-type {\n",
       "  color: var(--xr-font-color2);\n",
       "}\n",
       "\n",
       ".xr-sections {\n",
       "  padding-left: 0 !important;\n",
       "  display: grid;\n",
       "  grid-template-columns: 150px auto auto 1fr 20px 20px;\n",
       "}\n",
       "\n",
       ".xr-section-item {\n",
       "  display: contents;\n",
       "}\n",
       "\n",
       ".xr-section-item input {\n",
       "  display: none;\n",
       "}\n",
       "\n",
       ".xr-section-item input + label {\n",
       "  color: var(--xr-disabled-color);\n",
       "}\n",
       "\n",
       ".xr-section-item input:enabled + label {\n",
       "  cursor: pointer;\n",
       "  color: var(--xr-font-color2);\n",
       "}\n",
       "\n",
       ".xr-section-item input:enabled + label:hover {\n",
       "  color: var(--xr-font-color0);\n",
       "}\n",
       "\n",
       ".xr-section-summary {\n",
       "  grid-column: 1;\n",
       "  color: var(--xr-font-color2);\n",
       "  font-weight: 500;\n",
       "}\n",
       "\n",
       ".xr-section-summary > span {\n",
       "  display: inline-block;\n",
       "  padding-left: 0.5em;\n",
       "}\n",
       "\n",
       ".xr-section-summary-in:disabled + label {\n",
       "  color: var(--xr-font-color2);\n",
       "}\n",
       "\n",
       ".xr-section-summary-in + label:before {\n",
       "  display: inline-block;\n",
       "  content: '►';\n",
       "  font-size: 11px;\n",
       "  width: 15px;\n",
       "  text-align: center;\n",
       "}\n",
       "\n",
       ".xr-section-summary-in:disabled + label:before {\n",
       "  color: var(--xr-disabled-color);\n",
       "}\n",
       "\n",
       ".xr-section-summary-in:checked + label:before {\n",
       "  content: '▼';\n",
       "}\n",
       "\n",
       ".xr-section-summary-in:checked + label > span {\n",
       "  display: none;\n",
       "}\n",
       "\n",
       ".xr-section-summary,\n",
       ".xr-section-inline-details {\n",
       "  padding-top: 4px;\n",
       "  padding-bottom: 4px;\n",
       "}\n",
       "\n",
       ".xr-section-inline-details {\n",
       "  grid-column: 2 / -1;\n",
       "}\n",
       "\n",
       ".xr-section-details {\n",
       "  display: none;\n",
       "  grid-column: 1 / -1;\n",
       "  margin-bottom: 5px;\n",
       "}\n",
       "\n",
       ".xr-section-summary-in:checked ~ .xr-section-details {\n",
       "  display: contents;\n",
       "}\n",
       "\n",
       ".xr-array-wrap {\n",
       "  grid-column: 1 / -1;\n",
       "  display: grid;\n",
       "  grid-template-columns: 20px auto;\n",
       "}\n",
       "\n",
       ".xr-array-wrap > label {\n",
       "  grid-column: 1;\n",
       "  vertical-align: top;\n",
       "}\n",
       "\n",
       ".xr-preview {\n",
       "  color: var(--xr-font-color3);\n",
       "}\n",
       "\n",
       ".xr-array-preview,\n",
       ".xr-array-data {\n",
       "  padding: 0 5px !important;\n",
       "  grid-column: 2;\n",
       "}\n",
       "\n",
       ".xr-array-data,\n",
       ".xr-array-in:checked ~ .xr-array-preview {\n",
       "  display: none;\n",
       "}\n",
       "\n",
       ".xr-array-in:checked ~ .xr-array-data,\n",
       ".xr-array-preview {\n",
       "  display: inline-block;\n",
       "}\n",
       "\n",
       ".xr-dim-list {\n",
       "  display: inline-block !important;\n",
       "  list-style: none;\n",
       "  padding: 0 !important;\n",
       "  margin: 0;\n",
       "}\n",
       "\n",
       ".xr-dim-list li {\n",
       "  display: inline-block;\n",
       "  padding: 0;\n",
       "  margin: 0;\n",
       "}\n",
       "\n",
       ".xr-dim-list:before {\n",
       "  content: '(';\n",
       "}\n",
       "\n",
       ".xr-dim-list:after {\n",
       "  content: ')';\n",
       "}\n",
       "\n",
       ".xr-dim-list li:not(:last-child):after {\n",
       "  content: ',';\n",
       "  padding-right: 5px;\n",
       "}\n",
       "\n",
       ".xr-has-index {\n",
       "  font-weight: bold;\n",
       "}\n",
       "\n",
       ".xr-var-list,\n",
       ".xr-var-item {\n",
       "  display: contents;\n",
       "}\n",
       "\n",
       ".xr-var-item > div,\n",
       ".xr-var-item label,\n",
       ".xr-var-item > .xr-var-name span {\n",
       "  background-color: var(--xr-background-color-row-even);\n",
       "  margin-bottom: 0;\n",
       "}\n",
       "\n",
       ".xr-var-item > .xr-var-name:hover span {\n",
       "  padding-right: 5px;\n",
       "}\n",
       "\n",
       ".xr-var-list > li:nth-child(odd) > div,\n",
       ".xr-var-list > li:nth-child(odd) > label,\n",
       ".xr-var-list > li:nth-child(odd) > .xr-var-name span {\n",
       "  background-color: var(--xr-background-color-row-odd);\n",
       "}\n",
       "\n",
       ".xr-var-name {\n",
       "  grid-column: 1;\n",
       "}\n",
       "\n",
       ".xr-var-dims {\n",
       "  grid-column: 2;\n",
       "}\n",
       "\n",
       ".xr-var-dtype {\n",
       "  grid-column: 3;\n",
       "  text-align: right;\n",
       "  color: var(--xr-font-color2);\n",
       "}\n",
       "\n",
       ".xr-var-preview {\n",
       "  grid-column: 4;\n",
       "}\n",
       "\n",
       ".xr-index-preview {\n",
       "  grid-column: 2 / 5;\n",
       "  color: var(--xr-font-color2);\n",
       "}\n",
       "\n",
       ".xr-var-name,\n",
       ".xr-var-dims,\n",
       ".xr-var-dtype,\n",
       ".xr-preview,\n",
       ".xr-attrs dt {\n",
       "  white-space: nowrap;\n",
       "  overflow: hidden;\n",
       "  text-overflow: ellipsis;\n",
       "  padding-right: 10px;\n",
       "}\n",
       "\n",
       ".xr-var-name:hover,\n",
       ".xr-var-dims:hover,\n",
       ".xr-var-dtype:hover,\n",
       ".xr-attrs dt:hover {\n",
       "  overflow: visible;\n",
       "  width: auto;\n",
       "  z-index: 1;\n",
       "}\n",
       "\n",
       ".xr-var-attrs,\n",
       ".xr-var-data,\n",
       ".xr-index-data {\n",
       "  display: none;\n",
       "  background-color: var(--xr-background-color) !important;\n",
       "  padding-bottom: 5px !important;\n",
       "}\n",
       "\n",
       ".xr-var-attrs-in:checked ~ .xr-var-attrs,\n",
       ".xr-var-data-in:checked ~ .xr-var-data,\n",
       ".xr-index-data-in:checked ~ .xr-index-data {\n",
       "  display: block;\n",
       "}\n",
       "\n",
       ".xr-var-data > table {\n",
       "  float: right;\n",
       "}\n",
       "\n",
       ".xr-var-name span,\n",
       ".xr-var-data,\n",
       ".xr-index-name div,\n",
       ".xr-index-data,\n",
       ".xr-attrs {\n",
       "  padding-left: 25px !important;\n",
       "}\n",
       "\n",
       ".xr-attrs,\n",
       ".xr-var-attrs,\n",
       ".xr-var-data,\n",
       ".xr-index-data {\n",
       "  grid-column: 1 / -1;\n",
       "}\n",
       "\n",
       "dl.xr-attrs {\n",
       "  padding: 0;\n",
       "  margin: 0;\n",
       "  display: grid;\n",
       "  grid-template-columns: 125px auto;\n",
       "}\n",
       "\n",
       ".xr-attrs dt,\n",
       ".xr-attrs dd {\n",
       "  padding: 0;\n",
       "  margin: 0;\n",
       "  float: left;\n",
       "  padding-right: 10px;\n",
       "  width: auto;\n",
       "}\n",
       "\n",
       ".xr-attrs dt {\n",
       "  font-weight: normal;\n",
       "  grid-column: 1;\n",
       "}\n",
       "\n",
       ".xr-attrs dt:hover span {\n",
       "  display: inline-block;\n",
       "  background: var(--xr-background-color);\n",
       "  padding-right: 10px;\n",
       "}\n",
       "\n",
       ".xr-attrs dd {\n",
       "  grid-column: 2;\n",
       "  white-space: pre-wrap;\n",
       "  word-break: break-all;\n",
       "}\n",
       "\n",
       ".xr-icon-database,\n",
       ".xr-icon-file-text2,\n",
       ".xr-no-icon {\n",
       "  display: inline-block;\n",
       "  vertical-align: middle;\n",
       "  width: 1em;\n",
       "  height: 1.5em !important;\n",
       "  stroke-width: 0;\n",
       "  stroke: currentColor;\n",
       "  fill: currentColor;\n",
       "}\n",
       "</style><pre class='xr-text-repr-fallback'>&lt;xarray.Dataset&gt; Size: 2GB\n",
       "Dimensions:                (time: 1825, hru: 10863, gru: 10863)\n",
       "Coordinates:\n",
       "  * time                   (time) datetime64[ns] 15kB 1950-01-02 ... 1954-12-31\n",
       "  * hru                    (hru) int64 87kB 7 8 9 10 ... 10892 10893 10894 10895\n",
       "  * gru                    (gru) int64 87kB 7 8 9 10 ... 10892 10893 10894 10895\n",
       "Data variables: (12/17)\n",
       "    scalarCanopyWat        (time, hru) float64 159MB ...\n",
       "    scalarSWE              (time, hru) float64 159MB ...\n",
       "    scalarAquiferStorage   (time, hru) float64 159MB ...\n",
       "    scalarTotalSoilWat     (time, hru) float64 159MB ...\n",
       "    scalarSenHeatTotal     (time, hru) float64 159MB ...\n",
       "    scalarLatHeatTotal     (time, hru) float64 159MB ...\n",
       "    ...                     ...\n",
       "    scalarAquiferBaseflow  (time, hru) float64 159MB ...\n",
       "    scalarTotalET          (time, hru) float64 159MB ...\n",
       "    scalarTotalRunoff      (time, hru) float64 159MB ...\n",
       "    scalarNetRadiation     (time, hru) float64 159MB ...\n",
       "    hruId                  (hru) int64 87kB ...\n",
       "    gruId                  (gru) int64 87kB ...\n",
       "Attributes: (12/32)\n",
       "    summaVersion:     undefined\n",
       "    buildTime:        Fri 16 Feb 2024 08:37:03 MST\n",
       "    gitBranch:        main-0-g8540d65\n",
       "    gitHash:          8540d65e99f9fde311900d4e23934f40b3ce8bd7\n",
       "    soilCatTbl:       ROSETTA\n",
       "    vegeParTbl:       MODIFIED_IGBP_MODIS_NOAH\n",
       "    ...               ...\n",
       "    snowLayers:       CLM_2010\n",
       "    compaction:       anderson\n",
       "    thCondSnow:       jrdn1991\n",
       "    thCondSoil:       funcSoilWet\n",
       "    spatial_gw:       localColumn\n",
       "    subRouting:       timeDlay</pre><div class='xr-wrap' style='display:none'><div class='xr-header'><div class='xr-obj-type'>xarray.Dataset</div></div><ul class='xr-sections'><li class='xr-section-item'><input id='section-92d2c31b-86cb-4898-879a-b11711a7e8d0' class='xr-section-summary-in' type='checkbox' disabled ><label for='section-92d2c31b-86cb-4898-879a-b11711a7e8d0' class='xr-section-summary'  title='Expand/collapse section'>Dimensions:</label><div class='xr-section-inline-details'><ul class='xr-dim-list'><li><span class='xr-has-index'>time</span>: 1825</li><li><span class='xr-has-index'>hru</span>: 10863</li><li><span class='xr-has-index'>gru</span>: 10863</li></ul></div><div class='xr-section-details'></div></li><li class='xr-section-item'><input id='section-7debb1a4-fbb1-4fcc-b3a7-8d45e85d477a' class='xr-section-summary-in' type='checkbox'  checked><label for='section-7debb1a4-fbb1-4fcc-b3a7-8d45e85d477a' class='xr-section-summary' >Coordinates: <span>(3)</span></label><div class='xr-section-inline-details'></div><div class='xr-section-details'><ul class='xr-var-list'><li class='xr-var-item'><div class='xr-var-name'><span class='xr-has-index'>time</span></div><div class='xr-var-dims'>(time)</div><div class='xr-var-dtype'>datetime64[ns]</div><div class='xr-var-preview xr-preview'>1950-01-02 ... 1954-12-31</div><input id='attrs-39433260-1ead-481c-b9b5-f11838a2bb1b' class='xr-var-attrs-in' type='checkbox' ><label for='attrs-39433260-1ead-481c-b9b5-f11838a2bb1b' title='Show/Hide attributes'><svg class='icon xr-icon-file-text2'><use xlink:href='#icon-file-text2'></use></svg></label><input id='data-06b75266-f47e-46a8-9065-51e99b18aa22' class='xr-var-data-in' type='checkbox'><label for='data-06b75266-f47e-46a8-9065-51e99b18aa22' title='Show/Hide data repr'><svg class='icon xr-icon-database'><use xlink:href='#icon-database'></use></svg></label><div class='xr-var-attrs'><dl class='xr-attrs'><dt><span>long_name :</span></dt><dd>time since time reference (instant)</dd></dl></div><div class='xr-var-data'><pre>array([&#x27;1950-01-02T00:00:00.000000000&#x27;, &#x27;1950-01-03T00:00:00.000000000&#x27;,\n",
       "       &#x27;1950-01-04T00:00:00.000000000&#x27;, ..., &#x27;1954-12-29T00:00:00.000000000&#x27;,\n",
       "       &#x27;1954-12-30T00:00:00.000000000&#x27;, &#x27;1954-12-31T00:00:00.000000000&#x27;],\n",
       "      dtype=&#x27;datetime64[ns]&#x27;)</pre></div></li><li class='xr-var-item'><div class='xr-var-name'><span class='xr-has-index'>hru</span></div><div class='xr-var-dims'>(hru)</div><div class='xr-var-dtype'>int64</div><div class='xr-var-preview xr-preview'>7 8 9 10 ... 10893 10894 10895</div><input id='attrs-85395807-0369-481b-a0ea-86a63dda79a5' class='xr-var-attrs-in' type='checkbox' ><label for='attrs-85395807-0369-481b-a0ea-86a63dda79a5' title='Show/Hide attributes'><svg class='icon xr-icon-file-text2'><use xlink:href='#icon-file-text2'></use></svg></label><input id='data-61085270-0ef5-47e2-a23d-82600cbc285d' class='xr-var-data-in' type='checkbox'><label for='data-61085270-0ef5-47e2-a23d-82600cbc285d' title='Show/Hide data repr'><svg class='icon xr-icon-database'><use xlink:href='#icon-database'></use></svg></label><div class='xr-var-attrs'><dl class='xr-attrs'><dt><span>long_name :</span></dt><dd>hruId in the input file</dd><dt><span>units :</span></dt><dd>-</dd></dl></div><div class='xr-var-data'><pre>array([    7,     8,     9, ..., 10893, 10894, 10895])</pre></div></li><li class='xr-var-item'><div class='xr-var-name'><span class='xr-has-index'>gru</span></div><div class='xr-var-dims'>(gru)</div><div class='xr-var-dtype'>int64</div><div class='xr-var-preview xr-preview'>7 8 9 10 ... 10893 10894 10895</div><input id='attrs-67d0acb7-88ee-4f01-b674-0ebb2c9b3e11' class='xr-var-attrs-in' type='checkbox' ><label for='attrs-67d0acb7-88ee-4f01-b674-0ebb2c9b3e11' title='Show/Hide attributes'><svg class='icon xr-icon-file-text2'><use xlink:href='#icon-file-text2'></use></svg></label><input id='data-4a450f11-5678-4ebd-aa28-3ea456296e6b' class='xr-var-data-in' type='checkbox'><label for='data-4a450f11-5678-4ebd-aa28-3ea456296e6b' title='Show/Hide data repr'><svg class='icon xr-icon-database'><use xlink:href='#icon-database'></use></svg></label><div class='xr-var-attrs'><dl class='xr-attrs'><dt><span>long_name :</span></dt><dd>gruId in the input file</dd><dt><span>units :</span></dt><dd>-</dd></dl></div><div class='xr-var-data'><pre>array([    7,     8,     9, ..., 10893, 10894, 10895])</pre></div></li></ul></div></li><li class='xr-section-item'><input id='section-9d9b260e-245e-42c5-bf79-2f6dd84c33a1' class='xr-section-summary-in' type='checkbox'  ><label for='section-9d9b260e-245e-42c5-bf79-2f6dd84c33a1' class='xr-section-summary' >Data variables: <span>(17)</span></label><div class='xr-section-inline-details'></div><div class='xr-section-details'><ul class='xr-var-list'><li class='xr-var-item'><div class='xr-var-name'><span>scalarCanopyWat</span></div><div class='xr-var-dims'>(time, hru)</div><div class='xr-var-dtype'>float64</div><div class='xr-var-preview xr-preview'>...</div><input id='attrs-12339780-e40d-469b-bcf1-b5920be85b0d' class='xr-var-attrs-in' type='checkbox' ><label for='attrs-12339780-e40d-469b-bcf1-b5920be85b0d' title='Show/Hide attributes'><svg class='icon xr-icon-file-text2'><use xlink:href='#icon-file-text2'></use></svg></label><input id='data-81fac3a8-832d-4ef1-bfd1-86c726217d25' class='xr-var-data-in' type='checkbox'><label for='data-81fac3a8-832d-4ef1-bfd1-86c726217d25' title='Show/Hide data repr'><svg class='icon xr-icon-database'><use xlink:href='#icon-database'></use></svg></label><div class='xr-var-attrs'><dl class='xr-attrs'><dt><span>long_name :</span></dt><dd>mass of total water on the vegetation canopy (instant)</dd><dt><span>units :</span></dt><dd>kg m-2</dd></dl></div><div class='xr-var-data'><pre>[19824975 values with dtype=float64]</pre></div></li><li class='xr-var-item'><div class='xr-var-name'><span>scalarSWE</span></div><div class='xr-var-dims'>(time, hru)</div><div class='xr-var-dtype'>float64</div><div class='xr-var-preview xr-preview'>...</div><input id='attrs-e87ee5a6-cce7-4630-85df-79f8f48c0999' class='xr-var-attrs-in' type='checkbox' ><label for='attrs-e87ee5a6-cce7-4630-85df-79f8f48c0999' title='Show/Hide attributes'><svg class='icon xr-icon-file-text2'><use xlink:href='#icon-file-text2'></use></svg></label><input id='data-c9654b5c-c4c9-4e27-a531-501c59c7d90d' class='xr-var-data-in' type='checkbox'><label for='data-c9654b5c-c4c9-4e27-a531-501c59c7d90d' title='Show/Hide data repr'><svg class='icon xr-icon-database'><use xlink:href='#icon-database'></use></svg></label><div class='xr-var-attrs'><dl class='xr-attrs'><dt><span>long_name :</span></dt><dd>snow water equivalent (instant)</dd><dt><span>units :</span></dt><dd>kg m-2</dd></dl></div><div class='xr-var-data'><pre>[19824975 values with dtype=float64]</pre></div></li><li class='xr-var-item'><div class='xr-var-name'><span>scalarAquiferStorage</span></div><div class='xr-var-dims'>(time, hru)</div><div class='xr-var-dtype'>float64</div><div class='xr-var-preview xr-preview'>...</div><input id='attrs-48d8e2b5-5778-4093-980e-1523366e071b' class='xr-var-attrs-in' type='checkbox' ><label for='attrs-48d8e2b5-5778-4093-980e-1523366e071b' title='Show/Hide attributes'><svg class='icon xr-icon-file-text2'><use xlink:href='#icon-file-text2'></use></svg></label><input id='data-c4f7fab9-0cf7-49b9-8cd3-f2668a37e08c' class='xr-var-data-in' type='checkbox'><label for='data-c4f7fab9-0cf7-49b9-8cd3-f2668a37e08c' title='Show/Hide data repr'><svg class='icon xr-icon-database'><use xlink:href='#icon-database'></use></svg></label><div class='xr-var-attrs'><dl class='xr-attrs'><dt><span>long_name :</span></dt><dd>water required to bring aquifer to the bottom of the soil profile (instant)</dd><dt><span>units :</span></dt><dd>m</dd></dl></div><div class='xr-var-data'><pre>[19824975 values with dtype=float64]</pre></div></li><li class='xr-var-item'><div class='xr-var-name'><span>scalarTotalSoilWat</span></div><div class='xr-var-dims'>(time, hru)</div><div class='xr-var-dtype'>float64</div><div class='xr-var-preview xr-preview'>...</div><input id='attrs-bb526188-95e7-4e69-9474-dfe20606e780' class='xr-var-attrs-in' type='checkbox' ><label for='attrs-bb526188-95e7-4e69-9474-dfe20606e780' title='Show/Hide attributes'><svg class='icon xr-icon-file-text2'><use xlink:href='#icon-file-text2'></use></svg></label><input id='data-85c16d2a-a1e2-430e-8d7b-f6b40a344410' class='xr-var-data-in' type='checkbox'><label for='data-85c16d2a-a1e2-430e-8d7b-f6b40a344410' title='Show/Hide data repr'><svg class='icon xr-icon-database'><use xlink:href='#icon-database'></use></svg></label><div class='xr-var-attrs'><dl class='xr-attrs'><dt><span>long_name :</span></dt><dd>total mass of water in the soil (instant)</dd><dt><span>units :</span></dt><dd>kg m-2</dd></dl></div><div class='xr-var-data'><pre>[19824975 values with dtype=float64]</pre></div></li><li class='xr-var-item'><div class='xr-var-name'><span>scalarSenHeatTotal</span></div><div class='xr-var-dims'>(time, hru)</div><div class='xr-var-dtype'>float64</div><div class='xr-var-preview xr-preview'>...</div><input id='attrs-8219d1f9-71a9-4788-8d6a-278746771133' class='xr-var-attrs-in' type='checkbox' ><label for='attrs-8219d1f9-71a9-4788-8d6a-278746771133' title='Show/Hide attributes'><svg class='icon xr-icon-file-text2'><use xlink:href='#icon-file-text2'></use></svg></label><input id='data-14fa19a6-1144-4962-bd07-66bbaa8872b5' class='xr-var-data-in' type='checkbox'><label for='data-14fa19a6-1144-4962-bd07-66bbaa8872b5' title='Show/Hide data repr'><svg class='icon xr-icon-database'><use xlink:href='#icon-database'></use></svg></label><div class='xr-var-attrs'><dl class='xr-attrs'><dt><span>long_name :</span></dt><dd>sensible heat from the canopy air space to the atmosphere (instant)</dd><dt><span>units :</span></dt><dd>W m-2</dd></dl></div><div class='xr-var-data'><pre>[19824975 values with dtype=float64]</pre></div></li><li class='xr-var-item'><div class='xr-var-name'><span>scalarLatHeatTotal</span></div><div class='xr-var-dims'>(time, hru)</div><div class='xr-var-dtype'>float64</div><div class='xr-var-preview xr-preview'>...</div><input id='attrs-580a5622-a753-47f6-83e5-71c9eba01f4b' class='xr-var-attrs-in' type='checkbox' ><label for='attrs-580a5622-a753-47f6-83e5-71c9eba01f4b' title='Show/Hide attributes'><svg class='icon xr-icon-file-text2'><use xlink:href='#icon-file-text2'></use></svg></label><input id='data-051b8e9c-ffd0-439c-8ec1-c7efbc9149c6' class='xr-var-data-in' type='checkbox'><label for='data-051b8e9c-ffd0-439c-8ec1-c7efbc9149c6' title='Show/Hide data repr'><svg class='icon xr-icon-database'><use xlink:href='#icon-database'></use></svg></label><div class='xr-var-attrs'><dl class='xr-attrs'><dt><span>long_name :</span></dt><dd>latent heat from the canopy air space to the atmosphere (instant)</dd><dt><span>units :</span></dt><dd>W m-2</dd></dl></div><div class='xr-var-data'><pre>[19824975 values with dtype=float64]</pre></div></li><li class='xr-var-item'><div class='xr-var-name'><span>scalarRainPlusMelt</span></div><div class='xr-var-dims'>(time, hru)</div><div class='xr-var-dtype'>float64</div><div class='xr-var-preview xr-preview'>...</div><input id='attrs-18115186-a508-4716-9def-114fc2cd1fc3' class='xr-var-attrs-in' type='checkbox' ><label for='attrs-18115186-a508-4716-9def-114fc2cd1fc3' title='Show/Hide attributes'><svg class='icon xr-icon-file-text2'><use xlink:href='#icon-file-text2'></use></svg></label><input id='data-10d6b0c6-88b5-47cb-9c33-c0e8d1a1f248' class='xr-var-data-in' type='checkbox'><label for='data-10d6b0c6-88b5-47cb-9c33-c0e8d1a1f248' title='Show/Hide data repr'><svg class='icon xr-icon-database'><use xlink:href='#icon-database'></use></svg></label><div class='xr-var-attrs'><dl class='xr-attrs'><dt><span>long_name :</span></dt><dd>rain plus melt, used as input to soil before surface runoff (instant)</dd><dt><span>units :</span></dt><dd>m s-1</dd></dl></div><div class='xr-var-data'><pre>[19824975 values with dtype=float64]</pre></div></li><li class='xr-var-item'><div class='xr-var-name'><span>scalarInfiltration</span></div><div class='xr-var-dims'>(time, hru)</div><div class='xr-var-dtype'>float64</div><div class='xr-var-preview xr-preview'>...</div><input id='attrs-2573c453-1413-4637-b7ef-3dd64a5c99c4' class='xr-var-attrs-in' type='checkbox' ><label for='attrs-2573c453-1413-4637-b7ef-3dd64a5c99c4' title='Show/Hide attributes'><svg class='icon xr-icon-file-text2'><use xlink:href='#icon-file-text2'></use></svg></label><input id='data-38ccfdcb-974d-4c00-8ea9-d2f9982c1d32' class='xr-var-data-in' type='checkbox'><label for='data-38ccfdcb-974d-4c00-8ea9-d2f9982c1d32' title='Show/Hide data repr'><svg class='icon xr-icon-database'><use xlink:href='#icon-database'></use></svg></label><div class='xr-var-attrs'><dl class='xr-attrs'><dt><span>long_name :</span></dt><dd>infiltration of water into the soil profile (instant)</dd><dt><span>units :</span></dt><dd>m s-1</dd></dl></div><div class='xr-var-data'><pre>[19824975 values with dtype=float64]</pre></div></li><li class='xr-var-item'><div class='xr-var-name'><span>scalarSurfaceRunoff</span></div><div class='xr-var-dims'>(time, hru)</div><div class='xr-var-dtype'>float64</div><div class='xr-var-preview xr-preview'>...</div><input id='attrs-0340e022-c339-49a3-a357-2ede6011702c' class='xr-var-attrs-in' type='checkbox' ><label for='attrs-0340e022-c339-49a3-a357-2ede6011702c' title='Show/Hide attributes'><svg class='icon xr-icon-file-text2'><use xlink:href='#icon-file-text2'></use></svg></label><input id='data-5a4dd9b9-7518-4025-b7ce-ba03d69cef04' class='xr-var-data-in' type='checkbox'><label for='data-5a4dd9b9-7518-4025-b7ce-ba03d69cef04' title='Show/Hide data repr'><svg class='icon xr-icon-database'><use xlink:href='#icon-database'></use></svg></label><div class='xr-var-attrs'><dl class='xr-attrs'><dt><span>long_name :</span></dt><dd>surface runoff (instant)</dd><dt><span>units :</span></dt><dd>m s-1</dd></dl></div><div class='xr-var-data'><pre>[19824975 values with dtype=float64]</pre></div></li><li class='xr-var-item'><div class='xr-var-name'><span>scalarSoilBaseflow</span></div><div class='xr-var-dims'>(time, hru)</div><div class='xr-var-dtype'>float64</div><div class='xr-var-preview xr-preview'>...</div><input id='attrs-4d48deef-4939-45a0-9d65-6afe6786d6a2' class='xr-var-attrs-in' type='checkbox' ><label for='attrs-4d48deef-4939-45a0-9d65-6afe6786d6a2' title='Show/Hide attributes'><svg class='icon xr-icon-file-text2'><use xlink:href='#icon-file-text2'></use></svg></label><input id='data-866ad4e4-006e-4053-943f-cc49360aded7' class='xr-var-data-in' type='checkbox'><label for='data-866ad4e4-006e-4053-943f-cc49360aded7' title='Show/Hide data repr'><svg class='icon xr-icon-database'><use xlink:href='#icon-database'></use></svg></label><div class='xr-var-attrs'><dl class='xr-attrs'><dt><span>long_name :</span></dt><dd>total baseflow from the soil profile (instant)</dd><dt><span>units :</span></dt><dd>m s-1</dd></dl></div><div class='xr-var-data'><pre>[19824975 values with dtype=float64]</pre></div></li><li class='xr-var-item'><div class='xr-var-name'><span>scalarSoilDrainage</span></div><div class='xr-var-dims'>(time, hru)</div><div class='xr-var-dtype'>float64</div><div class='xr-var-preview xr-preview'>...</div><input id='attrs-192d381c-f6d0-4efa-b13f-03042f3aa479' class='xr-var-attrs-in' type='checkbox' ><label for='attrs-192d381c-f6d0-4efa-b13f-03042f3aa479' title='Show/Hide attributes'><svg class='icon xr-icon-file-text2'><use xlink:href='#icon-file-text2'></use></svg></label><input id='data-04421cf7-8335-4b7b-8655-0a6d8268cea1' class='xr-var-data-in' type='checkbox'><label for='data-04421cf7-8335-4b7b-8655-0a6d8268cea1' title='Show/Hide data repr'><svg class='icon xr-icon-database'><use xlink:href='#icon-database'></use></svg></label><div class='xr-var-attrs'><dl class='xr-attrs'><dt><span>long_name :</span></dt><dd>drainage from the bottom of the soil profile (instant)</dd><dt><span>units :</span></dt><dd>m s-1</dd></dl></div><div class='xr-var-data'><pre>[19824975 values with dtype=float64]</pre></div></li><li class='xr-var-item'><div class='xr-var-name'><span>scalarAquiferBaseflow</span></div><div class='xr-var-dims'>(time, hru)</div><div class='xr-var-dtype'>float64</div><div class='xr-var-preview xr-preview'>...</div><input id='attrs-2b6c98f0-8745-4f30-aaaa-376e0375e5f2' class='xr-var-attrs-in' type='checkbox' ><label for='attrs-2b6c98f0-8745-4f30-aaaa-376e0375e5f2' title='Show/Hide attributes'><svg class='icon xr-icon-file-text2'><use xlink:href='#icon-file-text2'></use></svg></label><input id='data-4f34e2f8-ae91-48e7-a872-b5c4d37e3787' class='xr-var-data-in' type='checkbox'><label for='data-4f34e2f8-ae91-48e7-a872-b5c4d37e3787' title='Show/Hide data repr'><svg class='icon xr-icon-database'><use xlink:href='#icon-database'></use></svg></label><div class='xr-var-attrs'><dl class='xr-attrs'><dt><span>long_name :</span></dt><dd>baseflow from the aquifer (instant)</dd><dt><span>units :</span></dt><dd>m s-1</dd></dl></div><div class='xr-var-data'><pre>[19824975 values with dtype=float64]</pre></div></li><li class='xr-var-item'><div class='xr-var-name'><span>scalarTotalET</span></div><div class='xr-var-dims'>(time, hru)</div><div class='xr-var-dtype'>float64</div><div class='xr-var-preview xr-preview'>...</div><input id='attrs-38c56028-9dca-405c-966a-1ed1d7c40a69' class='xr-var-attrs-in' type='checkbox' ><label for='attrs-38c56028-9dca-405c-966a-1ed1d7c40a69' title='Show/Hide attributes'><svg class='icon xr-icon-file-text2'><use xlink:href='#icon-file-text2'></use></svg></label><input id='data-2c6749a9-1f0c-43bb-89ae-eaece5d25db8' class='xr-var-data-in' type='checkbox'><label for='data-2c6749a9-1f0c-43bb-89ae-eaece5d25db8' title='Show/Hide data repr'><svg class='icon xr-icon-database'><use xlink:href='#icon-database'></use></svg></label><div class='xr-var-attrs'><dl class='xr-attrs'><dt><span>long_name :</span></dt><dd>total ET (instant)</dd><dt><span>units :</span></dt><dd>kg m-2 s-1</dd></dl></div><div class='xr-var-data'><pre>[19824975 values with dtype=float64]</pre></div></li><li class='xr-var-item'><div class='xr-var-name'><span>scalarTotalRunoff</span></div><div class='xr-var-dims'>(time, hru)</div><div class='xr-var-dtype'>float64</div><div class='xr-var-preview xr-preview'>...</div><input id='attrs-14a35262-4f4b-42c1-b9f7-9f48fd415017' class='xr-var-attrs-in' type='checkbox' ><label for='attrs-14a35262-4f4b-42c1-b9f7-9f48fd415017' title='Show/Hide attributes'><svg class='icon xr-icon-file-text2'><use xlink:href='#icon-file-text2'></use></svg></label><input id='data-3514251f-d9c0-43c3-a2c2-dde7d5d2f97e' class='xr-var-data-in' type='checkbox'><label for='data-3514251f-d9c0-43c3-a2c2-dde7d5d2f97e' title='Show/Hide data repr'><svg class='icon xr-icon-database'><use xlink:href='#icon-database'></use></svg></label><div class='xr-var-attrs'><dl class='xr-attrs'><dt><span>long_name :</span></dt><dd>total runoff (instant)</dd><dt><span>units :</span></dt><dd>m s-1</dd></dl></div><div class='xr-var-data'><pre>[19824975 values with dtype=float64]</pre></div></li><li class='xr-var-item'><div class='xr-var-name'><span>scalarNetRadiation</span></div><div class='xr-var-dims'>(time, hru)</div><div class='xr-var-dtype'>float64</div><div class='xr-var-preview xr-preview'>...</div><input id='attrs-861bbcf3-a530-48fb-9620-b8c0c2b3f680' class='xr-var-attrs-in' type='checkbox' ><label for='attrs-861bbcf3-a530-48fb-9620-b8c0c2b3f680' title='Show/Hide attributes'><svg class='icon xr-icon-file-text2'><use xlink:href='#icon-file-text2'></use></svg></label><input id='data-ddf05e62-8982-4ced-82bf-8e1e3ab347e5' class='xr-var-data-in' type='checkbox'><label for='data-ddf05e62-8982-4ced-82bf-8e1e3ab347e5' title='Show/Hide data repr'><svg class='icon xr-icon-database'><use xlink:href='#icon-database'></use></svg></label><div class='xr-var-attrs'><dl class='xr-attrs'><dt><span>long_name :</span></dt><dd>net radiation (instant)</dd><dt><span>units :</span></dt><dd>W m-2</dd></dl></div><div class='xr-var-data'><pre>[19824975 values with dtype=float64]</pre></div></li><li class='xr-var-item'><div class='xr-var-name'><span>hruId</span></div><div class='xr-var-dims'>(hru)</div><div class='xr-var-dtype'>int64</div><div class='xr-var-preview xr-preview'>...</div><input id='attrs-f97eb64f-fe7c-4fcd-b0d2-cd6ad2a697c3' class='xr-var-attrs-in' type='checkbox' ><label for='attrs-f97eb64f-fe7c-4fcd-b0d2-cd6ad2a697c3' title='Show/Hide attributes'><svg class='icon xr-icon-file-text2'><use xlink:href='#icon-file-text2'></use></svg></label><input id='data-2758c34a-9148-455b-9aea-38a40800032c' class='xr-var-data-in' type='checkbox'><label for='data-2758c34a-9148-455b-9aea-38a40800032c' title='Show/Hide data repr'><svg class='icon xr-icon-database'><use xlink:href='#icon-database'></use></svg></label><div class='xr-var-attrs'><dl class='xr-attrs'><dt><span>long_name :</span></dt><dd>ID defining the hydrologic response unit</dd><dt><span>units :</span></dt><dd>-</dd></dl></div><div class='xr-var-data'><pre>[10863 values with dtype=int64]</pre></div></li><li class='xr-var-item'><div class='xr-var-name'><span>gruId</span></div><div class='xr-var-dims'>(gru)</div><div class='xr-var-dtype'>int64</div><div class='xr-var-preview xr-preview'>...</div><input id='attrs-2ec7e27f-58c4-4326-9432-33d0039e7bfa' class='xr-var-attrs-in' type='checkbox' ><label for='attrs-2ec7e27f-58c4-4326-9432-33d0039e7bfa' title='Show/Hide attributes'><svg class='icon xr-icon-file-text2'><use xlink:href='#icon-file-text2'></use></svg></label><input id='data-5dc3a129-adff-42ad-a8d0-92c03144bcf4' class='xr-var-data-in' type='checkbox'><label for='data-5dc3a129-adff-42ad-a8d0-92c03144bcf4' title='Show/Hide data repr'><svg class='icon xr-icon-database'><use xlink:href='#icon-database'></use></svg></label><div class='xr-var-attrs'><dl class='xr-attrs'><dt><span>long_name :</span></dt><dd>ID defining the grouped (basin) response unit</dd><dt><span>units :</span></dt><dd>-</dd></dl></div><div class='xr-var-data'><pre>[10863 values with dtype=int64]</pre></div></li></ul></div></li><li class='xr-section-item'><input id='section-7b0d0768-255d-4091-9384-0eb5def47117' class='xr-section-summary-in' type='checkbox'  ><label for='section-7b0d0768-255d-4091-9384-0eb5def47117' class='xr-section-summary' >Indexes: <span>(3)</span></label><div class='xr-section-inline-details'></div><div class='xr-section-details'><ul class='xr-var-list'><li class='xr-var-item'><div class='xr-index-name'><div>time</div></div><div class='xr-index-preview'>PandasIndex</div><div></div><input id='index-022a1659-0f29-41a0-8ac6-8cf26215ead8' class='xr-index-data-in' type='checkbox'/><label for='index-022a1659-0f29-41a0-8ac6-8cf26215ead8' title='Show/Hide index repr'><svg class='icon xr-icon-database'><use xlink:href='#icon-database'></use></svg></label><div class='xr-index-data'><pre>PandasIndex(DatetimeIndex([&#x27;1950-01-02&#x27;, &#x27;1950-01-03&#x27;, &#x27;1950-01-04&#x27;, &#x27;1950-01-05&#x27;,\n",
       "               &#x27;1950-01-06&#x27;, &#x27;1950-01-07&#x27;, &#x27;1950-01-08&#x27;, &#x27;1950-01-09&#x27;,\n",
       "               &#x27;1950-01-10&#x27;, &#x27;1950-01-11&#x27;,\n",
       "               ...\n",
       "               &#x27;1954-12-22&#x27;, &#x27;1954-12-23&#x27;, &#x27;1954-12-24&#x27;, &#x27;1954-12-25&#x27;,\n",
       "               &#x27;1954-12-26&#x27;, &#x27;1954-12-27&#x27;, &#x27;1954-12-28&#x27;, &#x27;1954-12-29&#x27;,\n",
       "               &#x27;1954-12-30&#x27;, &#x27;1954-12-31&#x27;],\n",
       "              dtype=&#x27;datetime64[ns]&#x27;, name=&#x27;time&#x27;, length=1825, freq=None))</pre></div></li><li class='xr-var-item'><div class='xr-index-name'><div>hru</div></div><div class='xr-index-preview'>PandasIndex</div><div></div><input id='index-89ee1a42-cbbe-4ff2-8aaf-46f10ce83174' class='xr-index-data-in' type='checkbox'/><label for='index-89ee1a42-cbbe-4ff2-8aaf-46f10ce83174' title='Show/Hide index repr'><svg class='icon xr-icon-database'><use xlink:href='#icon-database'></use></svg></label><div class='xr-index-data'><pre>PandasIndex(Index([    7,     8,     9,    10,    11,    12,    13,    14,    15,    16,\n",
       "       ...\n",
       "       10886, 10887, 10888, 10889, 10890, 10891, 10892, 10893, 10894, 10895],\n",
       "      dtype=&#x27;int64&#x27;, name=&#x27;hru&#x27;, length=10863))</pre></div></li><li class='xr-var-item'><div class='xr-index-name'><div>gru</div></div><div class='xr-index-preview'>PandasIndex</div><div></div><input id='index-66a15550-c0dd-454f-ac5e-f45eccc6fbaf' class='xr-index-data-in' type='checkbox'/><label for='index-66a15550-c0dd-454f-ac5e-f45eccc6fbaf' title='Show/Hide index repr'><svg class='icon xr-icon-database'><use xlink:href='#icon-database'></use></svg></label><div class='xr-index-data'><pre>PandasIndex(Index([    7,     8,     9,    10,    11,    12,    13,    14,    15,    16,\n",
       "       ...\n",
       "       10886, 10887, 10888, 10889, 10890, 10891, 10892, 10893, 10894, 10895],\n",
       "      dtype=&#x27;int64&#x27;, name=&#x27;gru&#x27;, length=10863))</pre></div></li></ul></div></li><li class='xr-section-item'><input id='section-f958e4a4-8334-4e64-8408-75def58254f7' class='xr-section-summary-in' type='checkbox'  ><label for='section-f958e4a4-8334-4e64-8408-75def58254f7' class='xr-section-summary' >Attributes: <span>(32)</span></label><div class='xr-section-inline-details'></div><div class='xr-section-details'><dl class='xr-attrs'><dt><span>summaVersion :</span></dt><dd>undefined</dd><dt><span>buildTime :</span></dt><dd>Fri 16 Feb 2024 08:37:03 MST</dd><dt><span>gitBranch :</span></dt><dd>main-0-g8540d65</dd><dt><span>gitHash :</span></dt><dd>8540d65e99f9fde311900d4e23934f40b3ce8bd7</dd><dt><span>soilCatTbl :</span></dt><dd>ROSETTA</dd><dt><span>vegeParTbl :</span></dt><dd>MODIFIED_IGBP_MODIS_NOAH</dd><dt><span>soilStress :</span></dt><dd>NoahType</dd><dt><span>stomResist :</span></dt><dd>BallBerry</dd><dt><span>num_method :</span></dt><dd>itertive</dd><dt><span>fDerivMeth :</span></dt><dd>analytic</dd><dt><span>LAI_method :</span></dt><dd>monTable</dd><dt><span>notPopulatedYet :</span></dt><dd>notPopulatedYet</dd><dt><span>f_Richards :</span></dt><dd>mixdform</dd><dt><span>groundwatr :</span></dt><dd>bigBuckt</dd><dt><span>hc_profile :</span></dt><dd>constant</dd><dt><span>bcUpprTdyn :</span></dt><dd>nrg_flux</dd><dt><span>bcLowrTdyn :</span></dt><dd>zeroFlux</dd><dt><span>bcUpprSoiH :</span></dt><dd>liq_flux</dd><dt><span>bcLowrSoiH :</span></dt><dd>drainage</dd><dt><span>veg_traits :</span></dt><dd>Raupach_BLM1994</dd><dt><span>canopyEmis :</span></dt><dd>difTrans</dd><dt><span>snowIncept :</span></dt><dd>lightSnow</dd><dt><span>windPrfile :</span></dt><dd>logBelowCanopy</dd><dt><span>astability :</span></dt><dd>louisinv</dd><dt><span>canopySrad :</span></dt><dd>BeersLaw</dd><dt><span>alb_method :</span></dt><dd>conDecay</dd><dt><span>snowLayers :</span></dt><dd>CLM_2010</dd><dt><span>compaction :</span></dt><dd>anderson</dd><dt><span>thCondSnow :</span></dt><dd>jrdn1991</dd><dt><span>thCondSoil :</span></dt><dd>funcSoilWet</dd><dt><span>spatial_gw :</span></dt><dd>localColumn</dd><dt><span>subRouting :</span></dt><dd>timeDlay</dd></dl></div></li></ul></div></div>"
      ],
      "text/plain": [
       "<xarray.Dataset> Size: 2GB\n",
       "Dimensions:                (time: 1825, hru: 10863, gru: 10863)\n",
       "Coordinates:\n",
       "  * time                   (time) datetime64[ns] 15kB 1950-01-02 ... 1954-12-31\n",
       "  * hru                    (hru) int64 87kB 7 8 9 10 ... 10892 10893 10894 10895\n",
       "  * gru                    (gru) int64 87kB 7 8 9 10 ... 10892 10893 10894 10895\n",
       "Data variables: (12/17)\n",
       "    scalarCanopyWat        (time, hru) float64 159MB ...\n",
       "    scalarSWE              (time, hru) float64 159MB ...\n",
       "    scalarAquiferStorage   (time, hru) float64 159MB ...\n",
       "    scalarTotalSoilWat     (time, hru) float64 159MB ...\n",
       "    scalarSenHeatTotal     (time, hru) float64 159MB ...\n",
       "    scalarLatHeatTotal     (time, hru) float64 159MB ...\n",
       "    ...                     ...\n",
       "    scalarAquiferBaseflow  (time, hru) float64 159MB ...\n",
       "    scalarTotalET          (time, hru) float64 159MB ...\n",
       "    scalarTotalRunoff      (time, hru) float64 159MB ...\n",
       "    scalarNetRadiation     (time, hru) float64 159MB ...\n",
       "    hruId                  (hru) int64 87kB ...\n",
       "    gruId                  (gru) int64 87kB ...\n",
       "Attributes: (12/32)\n",
       "    summaVersion:     undefined\n",
       "    buildTime:        Fri 16 Feb 2024 08:37:03 MST\n",
       "    gitBranch:        main-0-g8540d65\n",
       "    gitHash:          8540d65e99f9fde311900d4e23934f40b3ce8bd7\n",
       "    soilCatTbl:       ROSETTA\n",
       "    vegeParTbl:       MODIFIED_IGBP_MODIS_NOAH\n",
       "    ...               ...\n",
       "    snowLayers:       CLM_2010\n",
       "    compaction:       anderson\n",
       "    thCondSnow:       jrdn1991\n",
       "    thCondSoil:       funcSoilWet\n",
       "    spatial_gw:       localColumn\n",
       "    subRouting:       timeDlay"
      ]
     },
     "execution_count": 23,
     "metadata": {},
     "output_type": "execute_result"
    }
   ],
   "source": [
    "# Get the aggregated statistics of SUMMA simulation\n",
    "summa = xr.open_dataset(summa_output_path/summa_output_name)\n",
    "summa"
   ]
  },
  {
   "cell_type": "code",
   "execution_count": 24,
   "metadata": {},
   "outputs": [],
   "source": [
    "# Specify variables of interest\n",
    "plot_vars = ['scalarSWE','scalarTotalET','scalarTotalSoilWat']"
   ]
  },
  {
   "cell_type": "code",
   "execution_count": null,
   "metadata": {},
   "outputs": [],
   "source": []
  },
  {
   "cell_type": "code",
   "execution_count": 25,
   "metadata": {},
   "outputs": [],
   "source": [
    "# Match the accummulated values to the correct HRU IDs in the shapefile\n",
    "hru_ids_shp = bas_albers[hm_hruid].astype(int) # hru order in shapefile\n",
    "\n",
    "\n",
    "\n"
   ]
  },
  {
   "cell_type": "code",
   "execution_count": null,
   "metadata": {},
   "outputs": [],
   "source": []
  },
  {
   "cell_type": "code",
   "execution_count": null,
   "metadata": {},
   "outputs": [],
   "source": []
  },
  {
   "cell_type": "code",
   "execution_count": null,
   "metadata": {},
   "outputs": [],
   "source": []
  },
  {
   "cell_type": "code",
   "execution_count": null,
   "metadata": {},
   "outputs": [],
   "source": []
  },
  {
   "cell_type": "code",
   "execution_count": null,
   "metadata": {},
   "outputs": [],
   "source": []
  },
  {
   "cell_type": "code",
   "execution_count": null,
   "metadata": {},
   "outputs": [],
   "source": []
  },
  {
   "cell_type": "code",
   "execution_count": 26,
   "metadata": {},
   "outputs": [
    {
     "ename": "KeyError",
     "evalue": "\"not all values found in index 'hru'\"",
     "output_type": "error",
     "traceback": [
      "\u001b[0;31m---------------------------------------------------------------------------\u001b[0m",
      "\u001b[0;31mKeyError\u001b[0m                                  Traceback (most recent call last)",
      "Cell \u001b[0;32mIn[26], line 5\u001b[0m\n\u001b[1;32m      2\u001b[0m hru_ids_shp \u001b[38;5;241m=\u001b[39m bas_albers[hm_hruid]\u001b[38;5;241m.\u001b[39mastype(\u001b[38;5;28mint\u001b[39m) \u001b[38;5;66;03m# hru order in shapefile\u001b[39;00m\n\u001b[1;32m      4\u001b[0m \u001b[38;5;28;01mfor\u001b[39;00m plot_var \u001b[38;5;129;01min\u001b[39;00m plot_vars:\n\u001b[0;32m----> 5\u001b[0m     bas_albers[plot_var] \u001b[38;5;241m=\u001b[39m \u001b[43msumma\u001b[49m\u001b[43m[\u001b[49m\u001b[43mplot_var\u001b[49m\u001b[43m]\u001b[49m\u001b[38;5;241;43m.\u001b[39;49m\u001b[43msel\u001b[49m\u001b[43m(\u001b[49m\u001b[43mhru\u001b[49m\u001b[38;5;241;43m=\u001b[39;49m\u001b[43mhru_ids_shp\u001b[49m\u001b[38;5;241;43m.\u001b[39;49m\u001b[43mvalues\u001b[49m\u001b[43m,\u001b[49m\u001b[43m \u001b[49m\u001b[43mtime\u001b[49m\u001b[43m \u001b[49m\u001b[38;5;241;43m=\u001b[39;49m\u001b[43m \u001b[49m\u001b[38;5;124;43m'\u001b[39;49m\u001b[38;5;124;43m1953-12-31\u001b[39;49m\u001b[38;5;124;43m'\u001b[39;49m\u001b[43m)\u001b[49m\u001b[38;5;241m.\u001b[39mvalues\n",
      "File \u001b[0;32m~/compHydro/data/CAMELS_spat/camels-spat-env/lib/python3.12/site-packages/xarray/core/dataarray.py:1614\u001b[0m, in \u001b[0;36mDataArray.sel\u001b[0;34m(self, indexers, method, tolerance, drop, **indexers_kwargs)\u001b[0m\n\u001b[1;32m   1498\u001b[0m \u001b[38;5;28;01mdef\u001b[39;00m \u001b[38;5;21msel\u001b[39m(\n\u001b[1;32m   1499\u001b[0m     \u001b[38;5;28mself\u001b[39m,\n\u001b[1;32m   1500\u001b[0m     indexers: Mapping[Any, Any] \u001b[38;5;241m|\u001b[39m \u001b[38;5;28;01mNone\u001b[39;00m \u001b[38;5;241m=\u001b[39m \u001b[38;5;28;01mNone\u001b[39;00m,\n\u001b[0;32m   (...)\u001b[0m\n\u001b[1;32m   1504\u001b[0m     \u001b[38;5;241m*\u001b[39m\u001b[38;5;241m*\u001b[39mindexers_kwargs: Any,\n\u001b[1;32m   1505\u001b[0m ) \u001b[38;5;241m-\u001b[39m\u001b[38;5;241m>\u001b[39m Self:\n\u001b[1;32m   1506\u001b[0m \u001b[38;5;250m    \u001b[39m\u001b[38;5;124;03m\"\"\"Return a new DataArray whose data is given by selecting index\u001b[39;00m\n\u001b[1;32m   1507\u001b[0m \u001b[38;5;124;03m    labels along the specified dimension(s).\u001b[39;00m\n\u001b[1;32m   1508\u001b[0m \n\u001b[0;32m   (...)\u001b[0m\n\u001b[1;32m   1612\u001b[0m \u001b[38;5;124;03m    Dimensions without coordinates: points\u001b[39;00m\n\u001b[1;32m   1613\u001b[0m \u001b[38;5;124;03m    \"\"\"\u001b[39;00m\n\u001b[0;32m-> 1614\u001b[0m     ds \u001b[38;5;241m=\u001b[39m \u001b[38;5;28;43mself\u001b[39;49m\u001b[38;5;241;43m.\u001b[39;49m\u001b[43m_to_temp_dataset\u001b[49m\u001b[43m(\u001b[49m\u001b[43m)\u001b[49m\u001b[38;5;241;43m.\u001b[39;49m\u001b[43msel\u001b[49m\u001b[43m(\u001b[49m\n\u001b[1;32m   1615\u001b[0m \u001b[43m        \u001b[49m\u001b[43mindexers\u001b[49m\u001b[38;5;241;43m=\u001b[39;49m\u001b[43mindexers\u001b[49m\u001b[43m,\u001b[49m\n\u001b[1;32m   1616\u001b[0m \u001b[43m        \u001b[49m\u001b[43mdrop\u001b[49m\u001b[38;5;241;43m=\u001b[39;49m\u001b[43mdrop\u001b[49m\u001b[43m,\u001b[49m\n\u001b[1;32m   1617\u001b[0m \u001b[43m        \u001b[49m\u001b[43mmethod\u001b[49m\u001b[38;5;241;43m=\u001b[39;49m\u001b[43mmethod\u001b[49m\u001b[43m,\u001b[49m\n\u001b[1;32m   1618\u001b[0m \u001b[43m        \u001b[49m\u001b[43mtolerance\u001b[49m\u001b[38;5;241;43m=\u001b[39;49m\u001b[43mtolerance\u001b[49m\u001b[43m,\u001b[49m\n\u001b[1;32m   1619\u001b[0m \u001b[43m        \u001b[49m\u001b[38;5;241;43m*\u001b[39;49m\u001b[38;5;241;43m*\u001b[39;49m\u001b[43mindexers_kwargs\u001b[49m\u001b[43m,\u001b[49m\n\u001b[1;32m   1620\u001b[0m \u001b[43m    \u001b[49m\u001b[43m)\u001b[49m\n\u001b[1;32m   1621\u001b[0m     \u001b[38;5;28;01mreturn\u001b[39;00m \u001b[38;5;28mself\u001b[39m\u001b[38;5;241m.\u001b[39m_from_temp_dataset(ds)\n",
      "File \u001b[0;32m~/compHydro/data/CAMELS_spat/camels-spat-env/lib/python3.12/site-packages/xarray/core/dataset.py:3091\u001b[0m, in \u001b[0;36mDataset.sel\u001b[0;34m(self, indexers, method, tolerance, drop, **indexers_kwargs)\u001b[0m\n\u001b[1;32m   3023\u001b[0m \u001b[38;5;250m\u001b[39m\u001b[38;5;124;03m\"\"\"Returns a new dataset with each array indexed by tick labels\u001b[39;00m\n\u001b[1;32m   3024\u001b[0m \u001b[38;5;124;03malong the specified dimension(s).\u001b[39;00m\n\u001b[1;32m   3025\u001b[0m \n\u001b[0;32m   (...)\u001b[0m\n\u001b[1;32m   3088\u001b[0m \n\u001b[1;32m   3089\u001b[0m \u001b[38;5;124;03m\"\"\"\u001b[39;00m\n\u001b[1;32m   3090\u001b[0m indexers \u001b[38;5;241m=\u001b[39m either_dict_or_kwargs(indexers, indexers_kwargs, \u001b[38;5;124m\"\u001b[39m\u001b[38;5;124msel\u001b[39m\u001b[38;5;124m\"\u001b[39m)\n\u001b[0;32m-> 3091\u001b[0m query_results \u001b[38;5;241m=\u001b[39m \u001b[43mmap_index_queries\u001b[49m\u001b[43m(\u001b[49m\n\u001b[1;32m   3092\u001b[0m \u001b[43m    \u001b[49m\u001b[38;5;28;43mself\u001b[39;49m\u001b[43m,\u001b[49m\u001b[43m \u001b[49m\u001b[43mindexers\u001b[49m\u001b[38;5;241;43m=\u001b[39;49m\u001b[43mindexers\u001b[49m\u001b[43m,\u001b[49m\u001b[43m \u001b[49m\u001b[43mmethod\u001b[49m\u001b[38;5;241;43m=\u001b[39;49m\u001b[43mmethod\u001b[49m\u001b[43m,\u001b[49m\u001b[43m \u001b[49m\u001b[43mtolerance\u001b[49m\u001b[38;5;241;43m=\u001b[39;49m\u001b[43mtolerance\u001b[49m\n\u001b[1;32m   3093\u001b[0m \u001b[43m\u001b[49m\u001b[43m)\u001b[49m\n\u001b[1;32m   3095\u001b[0m \u001b[38;5;28;01mif\u001b[39;00m drop:\n\u001b[1;32m   3096\u001b[0m     no_scalar_variables \u001b[38;5;241m=\u001b[39m {}\n",
      "File \u001b[0;32m~/compHydro/data/CAMELS_spat/camels-spat-env/lib/python3.12/site-packages/xarray/core/indexing.py:190\u001b[0m, in \u001b[0;36mmap_index_queries\u001b[0;34m(obj, indexers, method, tolerance, **indexers_kwargs)\u001b[0m\n\u001b[1;32m    188\u001b[0m         results\u001b[38;5;241m.\u001b[39mappend(IndexSelResult(labels))\n\u001b[1;32m    189\u001b[0m     \u001b[38;5;28;01melse\u001b[39;00m:\n\u001b[0;32m--> 190\u001b[0m         results\u001b[38;5;241m.\u001b[39mappend(\u001b[43mindex\u001b[49m\u001b[38;5;241;43m.\u001b[39;49m\u001b[43msel\u001b[49m\u001b[43m(\u001b[49m\u001b[43mlabels\u001b[49m\u001b[43m,\u001b[49m\u001b[43m \u001b[49m\u001b[38;5;241;43m*\u001b[39;49m\u001b[38;5;241;43m*\u001b[39;49m\u001b[43moptions\u001b[49m\u001b[43m)\u001b[49m)\n\u001b[1;32m    192\u001b[0m merged \u001b[38;5;241m=\u001b[39m merge_sel_results(results)\n\u001b[1;32m    194\u001b[0m \u001b[38;5;66;03m# drop dimension coordinates found in dimension indexers\u001b[39;00m\n\u001b[1;32m    195\u001b[0m \u001b[38;5;66;03m# (also drop multi-index if any)\u001b[39;00m\n\u001b[1;32m    196\u001b[0m \u001b[38;5;66;03m# (.sel() already ensures alignment)\u001b[39;00m\n",
      "File \u001b[0;32m~/compHydro/data/CAMELS_spat/camels-spat-env/lib/python3.12/site-packages/xarray/core/indexes.py:784\u001b[0m, in \u001b[0;36mPandasIndex.sel\u001b[0;34m(self, labels, method, tolerance)\u001b[0m\n\u001b[1;32m    782\u001b[0m     indexer \u001b[38;5;241m=\u001b[39m get_indexer_nd(\u001b[38;5;28mself\u001b[39m\u001b[38;5;241m.\u001b[39mindex, label_array, method, tolerance)\n\u001b[1;32m    783\u001b[0m     \u001b[38;5;28;01mif\u001b[39;00m np\u001b[38;5;241m.\u001b[39many(indexer \u001b[38;5;241m<\u001b[39m \u001b[38;5;241m0\u001b[39m):\n\u001b[0;32m--> 784\u001b[0m         \u001b[38;5;28;01mraise\u001b[39;00m \u001b[38;5;167;01mKeyError\u001b[39;00m(\u001b[38;5;124mf\u001b[39m\u001b[38;5;124m\"\u001b[39m\u001b[38;5;124mnot all values found in index \u001b[39m\u001b[38;5;132;01m{\u001b[39;00mcoord_name\u001b[38;5;132;01m!r}\u001b[39;00m\u001b[38;5;124m\"\u001b[39m)\n\u001b[1;32m    786\u001b[0m \u001b[38;5;66;03m# attach dimension names and/or coordinates to positional indexer\u001b[39;00m\n\u001b[1;32m    787\u001b[0m \u001b[38;5;28;01mif\u001b[39;00m \u001b[38;5;28misinstance\u001b[39m(label, Variable):\n",
      "\u001b[0;31mKeyError\u001b[0m: \"not all values found in index 'hru'\""
     ]
    }
   ],
   "source": [
    "# Match the accummulated values to the correct HRU IDs in the shapefile\n",
    "hru_ids_shp = bas_albers[hm_hruid].astype(int) # hru order in shapefile\n",
    "\n",
    "for plot_var in plot_vars:\n",
    "    bas_albers[plot_var] = summa[plot_var].sel(hru=hru_ids_shp.values, time = '1953-12-31').values"
   ]
  },
  {
   "cell_type": "code",
   "execution_count": null,
   "metadata": {},
   "outputs": [],
   "source": []
  },
  {
   "cell_type": "code",
   "execution_count": null,
   "metadata": {},
   "outputs": [],
   "source": [
    "hru_ids_shp = riv_albers[hm_hruid].astype(int)\n",
    "hru_ids_shp"
   ]
  },
  {
   "cell_type": "code",
   "execution_count": null,
   "metadata": {},
   "outputs": [],
   "source": []
  },
  {
   "cell_type": "code",
   "execution_count": null,
   "metadata": {},
   "outputs": [],
   "source": []
  },
  {
   "cell_type": "markdown",
   "metadata": {},
   "source": [
    "#### Map mizuRoute sims to river shapes"
   ]
  },
  {
   "cell_type": "code",
   "execution_count": 27,
   "metadata": {
    "scrolled": true
   },
   "outputs": [
    {
     "name": "stdout",
     "output_type": "stream",
     "text": [
      "<xarray.Dataset> Size: 144MB\n",
      "Dimensions:          (time: 744, seg: 11129, hru: 14861)\n",
      "Coordinates:\n",
      "  * time             (time) datetime64[ns] 6kB 1950-11-30T23:59:59.999986688 ...\n",
      "Dimensions without coordinates: seg, hru\n",
      "Data variables:\n",
      "    reachID          (seg) int32 45kB ...\n",
      "    basinID          (hru) int32 59kB ...\n",
      "    basRunoff        (time, hru) float32 44MB ...\n",
      "    instRunoff       (time, seg) float32 33MB ...\n",
      "    dlayRunoff       (time, seg) float32 33MB ...\n",
      "    IRFroutedRunoff  (time, seg) float32 33MB ...\n",
      "Attributes:\n",
      "    mizuRoute-version:  v1.2.2\n",
      "    gitBranch:          develop-0-geb77a0d\n",
      "    gitHash:            eb77a0d2d4684ea55ac2a42b7c0dd3c8f7e958b3\n"
     ]
    }
   ],
   "source": [
    "# Get the aggregated statistics of mizuRoute simulations\n",
    "mizu = xr.open_dataset(mizu_output_path/mizu_output_name)#.sel(time = ['1950','1954'])\n",
    "print(mizu)\n",
    "#mizu['IRFroutedRunoff']"
   ]
  },
  {
   "cell_type": "code",
   "execution_count": null,
   "metadata": {},
   "outputs": [],
   "source": []
  },
  {
   "cell_type": "code",
   "execution_count": null,
   "metadata": {},
   "outputs": [],
   "source": []
  },
  {
   "cell_type": "code",
   "execution_count": 38,
   "metadata": {},
   "outputs": [
    {
     "ename": "TypeError",
     "evalue": "No numeric data to plot.",
     "output_type": "error",
     "traceback": [
      "\u001b[0;31m---------------------------------------------------------------------------\u001b[0m",
      "\u001b[0;31mTypeError\u001b[0m                                 Traceback (most recent call last)",
      "Cell \u001b[0;32mIn[38], line 2\u001b[0m\n\u001b[1;32m      1\u001b[0m reach \u001b[38;5;241m=\u001b[39m mizu\u001b[38;5;241m.\u001b[39msel(seg \u001b[38;5;241m=\u001b[39m mizu[\u001b[38;5;124m'\u001b[39m\u001b[38;5;124mreachID\u001b[39m\u001b[38;5;124m'\u001b[39m] \u001b[38;5;241m==\u001b[39m \u001b[38;5;241m1700\u001b[39m)\n\u001b[0;32m----> 2\u001b[0m \u001b[43mreach\u001b[49m\u001b[43m[\u001b[49m\u001b[38;5;124;43m'\u001b[39;49m\u001b[38;5;124;43mIRFroutedRunoff\u001b[39;49m\u001b[38;5;124;43m'\u001b[39;49m\u001b[43m]\u001b[49m\u001b[38;5;241;43m.\u001b[39;49m\u001b[43mplot\u001b[49m\u001b[43m(\u001b[49m\u001b[43m)\u001b[49m\n",
      "File \u001b[0;32m~/compHydro/data/CAMELS_spat/camels-spat-env/lib/python3.12/site-packages/xarray/plot/accessor.py:48\u001b[0m, in \u001b[0;36mDataArrayPlotAccessor.__call__\u001b[0;34m(self, **kwargs)\u001b[0m\n\u001b[1;32m     46\u001b[0m \u001b[38;5;129m@functools\u001b[39m\u001b[38;5;241m.\u001b[39mwraps(dataarray_plot\u001b[38;5;241m.\u001b[39mplot, assigned\u001b[38;5;241m=\u001b[39m(\u001b[38;5;124m\"\u001b[39m\u001b[38;5;124m__doc__\u001b[39m\u001b[38;5;124m\"\u001b[39m, \u001b[38;5;124m\"\u001b[39m\u001b[38;5;124m__annotations__\u001b[39m\u001b[38;5;124m\"\u001b[39m))\n\u001b[1;32m     47\u001b[0m \u001b[38;5;28;01mdef\u001b[39;00m \u001b[38;5;21m__call__\u001b[39m(\u001b[38;5;28mself\u001b[39m, \u001b[38;5;241m*\u001b[39m\u001b[38;5;241m*\u001b[39mkwargs) \u001b[38;5;241m-\u001b[39m\u001b[38;5;241m>\u001b[39m Any:\n\u001b[0;32m---> 48\u001b[0m     \u001b[38;5;28;01mreturn\u001b[39;00m \u001b[43mdataarray_plot\u001b[49m\u001b[38;5;241;43m.\u001b[39;49m\u001b[43mplot\u001b[49m\u001b[43m(\u001b[49m\u001b[38;5;28;43mself\u001b[39;49m\u001b[38;5;241;43m.\u001b[39;49m\u001b[43m_da\u001b[49m\u001b[43m,\u001b[49m\u001b[43m \u001b[49m\u001b[38;5;241;43m*\u001b[39;49m\u001b[38;5;241;43m*\u001b[39;49m\u001b[43mkwargs\u001b[49m\u001b[43m)\u001b[49m\n",
      "File \u001b[0;32m~/compHydro/data/CAMELS_spat/camels-spat-env/lib/python3.12/site-packages/xarray/plot/dataarray_plot.py:282\u001b[0m, in \u001b[0;36mplot\u001b[0;34m(darray, row, col, col_wrap, ax, hue, subplot_kws, **kwargs)\u001b[0m\n\u001b[1;32m    279\u001b[0m plotfunc: Callable\n\u001b[1;32m    281\u001b[0m \u001b[38;5;28;01mif\u001b[39;00m ndims \u001b[38;5;241m==\u001b[39m \u001b[38;5;241m0\u001b[39m \u001b[38;5;129;01mor\u001b[39;00m darray\u001b[38;5;241m.\u001b[39msize \u001b[38;5;241m==\u001b[39m \u001b[38;5;241m0\u001b[39m:\n\u001b[0;32m--> 282\u001b[0m     \u001b[38;5;28;01mraise\u001b[39;00m \u001b[38;5;167;01mTypeError\u001b[39;00m(\u001b[38;5;124m\"\u001b[39m\u001b[38;5;124mNo numeric data to plot.\u001b[39m\u001b[38;5;124m\"\u001b[39m)\n\u001b[1;32m    283\u001b[0m \u001b[38;5;28;01mif\u001b[39;00m ndims \u001b[38;5;129;01min\u001b[39;00m (\u001b[38;5;241m1\u001b[39m, \u001b[38;5;241m2\u001b[39m):\n\u001b[1;32m    284\u001b[0m     \u001b[38;5;28;01mif\u001b[39;00m row \u001b[38;5;129;01mor\u001b[39;00m col:\n",
      "\u001b[0;31mTypeError\u001b[0m: No numeric data to plot."
     ]
    }
   ],
   "source": [
    "reach = mizu.sel(seg = mizu['reachID'] == 1700)\n",
    "reach['IRFroutedRunoff'].plot()"
   ]
  },
  {
   "cell_type": "code",
   "execution_count": null,
   "metadata": {},
   "outputs": [],
   "source": [
    "summa['scalarSWE'].sel(hru = 1050).plot()"
   ]
  },
  {
   "cell_type": "code",
   "execution_count": null,
   "metadata": {},
   "outputs": [],
   "source": []
  },
  {
   "cell_type": "code",
   "execution_count": null,
   "metadata": {},
   "outputs": [],
   "source": []
  },
  {
   "cell_type": "code",
   "execution_count": 33,
   "metadata": {},
   "outputs": [],
   "source": [
    "# Specify variables of interest\n",
    "mizu_vars = ['IRFroutedRunoff']#,'KWTroutedRunoff']"
   ]
  },
  {
   "cell_type": "code",
   "execution_count": 30,
   "metadata": {},
   "outputs": [],
   "source": [
    "# polygon order in the simulation file\n",
    "seg_ids_sim = mizu['reachID'].values"
   ]
  },
  {
   "cell_type": "code",
   "execution_count": 31,
   "metadata": {},
   "outputs": [],
   "source": [
    "# ensure that the shapefile is in the same order as the sims\n",
    "riv_albers = riv_albers.set_index(riv_albers[seg_id].astype('int'))\n",
    "riv_albers = riv_albers.reindex(seg_ids_sim)"
   ]
  },
  {
   "cell_type": "code",
   "execution_count": 34,
   "metadata": {},
   "outputs": [],
   "source": [
    "# Match the accummulated values to the correct HRU IDs in the shapefile\n",
    "seg_ids_riv = riv_albers.index.values # hru order in shapefile\n",
    "for mizu_var in mizu_vars:\n",
    "    riv_albers[mizu_var] = mizu[mizu_var].sel(seg=np.where(mizu['reachID'].values == seg_ids_riv)[0]).values[0]"
   ]
  },
  {
   "cell_type": "code",
   "execution_count": 35,
   "metadata": {},
   "outputs": [
    {
     "name": "stdout",
     "output_type": "stream",
     "text": [
      "           fid  LINKNO  DSLINKNO  USLINKNO1  USLINKNO2  DSNODEID  strmOrder  \\\n",
      "LINKNO                                                                        \n",
      "800013463  NaN     NaN       NaN        NaN        NaN       NaN        NaN   \n",
      "800015683  NaN     NaN       NaN        NaN        NaN       NaN        NaN   \n",
      "800015684  NaN     NaN       NaN        NaN        NaN       NaN        NaN   \n",
      "800015699  NaN     NaN       NaN        NaN        NaN       NaN        NaN   \n",
      "800015700  NaN     NaN       NaN        NaN        NaN       NaN        NaN   \n",
      "...        ...     ...       ...        ...        ...       ...        ...   \n",
      "800013853  NaN     NaN       NaN        NaN        NaN       NaN        NaN   \n",
      "800000647  NaN     NaN       NaN        NaN        NaN       NaN        NaN   \n",
      "800013854  NaN     NaN       NaN        NaN        NaN       NaN        NaN   \n",
      "800011653  NaN     NaN       NaN        NaN        NaN       NaN        NaN   \n",
      "800007188  NaN     NaN       NaN        NaN        NaN       NaN        NaN   \n",
      "\n",
      "           Length  Magnitude  DSContArea  ...  StraightL  USContArea  WSNO  \\\n",
      "LINKNO                                    ...                                \n",
      "800013463     NaN        NaN         NaN  ...        NaN         NaN   NaN   \n",
      "800015683     NaN        NaN         NaN  ...        NaN         NaN   NaN   \n",
      "800015684     NaN        NaN         NaN  ...        NaN         NaN   NaN   \n",
      "800015699     NaN        NaN         NaN  ...        NaN         NaN   NaN   \n",
      "800015700     NaN        NaN         NaN  ...        NaN         NaN   NaN   \n",
      "...           ...        ...         ...  ...        ...         ...   ...   \n",
      "800013853     NaN        NaN         NaN  ...        NaN         NaN   NaN   \n",
      "800000647     NaN        NaN         NaN  ...        NaN         NaN   NaN   \n",
      "800013854     NaN        NaN         NaN  ...        NaN         NaN   NaN   \n",
      "800011653     NaN        NaN         NaN  ...        NaN         NaN   NaN   \n",
      "800007188     NaN        NaN         NaN  ...        NaN         NaN   NaN   \n",
      "\n",
      "           DOUTEND  DOUTSTART  DOUTMID  length_m  geometry  IRFroutedRunoff  \\\n",
      "LINKNO                                                                        \n",
      "800013463      NaN        NaN      NaN       NaN      None        94.936905   \n",
      "800015683      NaN        NaN      NaN       NaN      None        86.028816   \n",
      "800015684      NaN        NaN      NaN       NaN      None        87.464439   \n",
      "800015699      NaN        NaN      NaN       NaN      None        88.911743   \n",
      "800015700      NaN        NaN      NaN       NaN      None        90.382431   \n",
      "...            ...        ...      ...       ...       ...              ...   \n",
      "800013853      NaN        NaN      NaN       NaN      None         0.002112   \n",
      "800000647      NaN        NaN      NaN       NaN      None         0.000603   \n",
      "800013854      NaN        NaN      NaN       NaN      None         0.000426   \n",
      "800011653      NaN        NaN      NaN       NaN      None         0.030702   \n",
      "800007188      NaN        NaN      NaN       NaN      None         0.030711   \n",
      "\n",
      "          lineWidth  \n",
      "LINKNO               \n",
      "800013463  1.977435  \n",
      "800015683  1.934644  \n",
      "800015684  1.941831  \n",
      "800015699  1.948959  \n",
      "800015700  1.956084  \n",
      "...             ...  \n",
      "800013853  0.000000  \n",
      "800000647  0.000000  \n",
      "800013854  0.000000  \n",
      "800011653  0.000000  \n",
      "800007188  0.000000  \n",
      "\n",
      "[11129 rows x 22 columns]\n"
     ]
    }
   ],
   "source": [
    "# Add a linewidth column for the river network\n",
    "riv_albers['lineWidth'] = np.maximum(np.log10(riv_albers['IRFroutedRunoff'] ),0)\n",
    "print(riv_albers)"
   ]
  },
  {
   "cell_type": "markdown",
   "metadata": {},
   "source": [
    "#### Select lakes of a certain size for plotting"
   ]
  },
  {
   "cell_type": "code",
   "execution_count": null,
   "metadata": {},
   "outputs": [],
   "source": [
    "if plot_lakes:\n",
    "    minSize = 1000 # km2\n",
    "    in_domain = (lak_albers['Country'] == 'Canada') | \\\n",
    "                (lak_albers['Country'] == 'United States of America') \n",
    "    out_domain = (lak_albers['Pour_long'] > -80) & (lak_albers['Pour_lat'] > 65) # Exclude Baffin Island\n",
    "    large_lakes_albers = lak_albers.loc[(lak_albers['Lake_area'] > minSize) & in_domain & (~out_domain) ]"
   ]
  },
  {
   "cell_type": "code",
   "execution_count": null,
   "metadata": {},
   "outputs": [],
   "source": [
    "# Set the lake color\n",
    "if plot_lakes:\n",
    "    lake_col = (8/255,81/255,156/255)"
   ]
  },
  {
   "cell_type": "markdown",
   "metadata": {},
   "source": [
    "### Figure"
   ]
  },
  {
   "cell_type": "code",
   "execution_count": 36,
   "metadata": {},
   "outputs": [],
   "source": [
    "# Set the font size: we need this to be huge so we can also make our plotting area huge, to avoid a gnarly plotting bug\n",
    "if 'compressed' in fig_name:\n",
    "    plt.rcParams.update({'font.size': 25})\n",
    "else:\n",
    "    plt.rcParams.update({'font.size': 100})"
   ]
  },
  {
   "cell_type": "code",
   "execution_count": null,
   "metadata": {},
   "outputs": [],
   "source": [
    "# Flip the evaporation values so that they become positive\n",
    "bas_albers['plot_ET'] = bas_albers['scalarTotalET'] * -1\n",
    "bas_albers['plot_ET'] = bas_albers['plot_ET'].where(bas_albers['scalarTotalET'] != -9999, np.nan)\n"
   ]
  },
  {
   "cell_type": "code",
   "execution_count": 37,
   "metadata": {},
   "outputs": [
    {
     "name": "stderr",
     "output_type": "stream",
     "text": [
      "/var/folders/pc/q8630ffx72z0bwfzz59ws0kc0000gn/T/ipykernel_7854/1170767490.py:7: UserWarning: Column names longer than 10 characters will be truncated when saved to ESRI Shapefile.\n",
      "  gdf.drop('LINKNO', axis = 1).to_file(\"/Users/darrieythorsson/compHydro/data/HawaiiDisTDX.shp\")\n"
     ]
    },
    {
     "name": "stdout",
     "output_type": "stream",
     "text": [
      "           fid  LINKNO  DSLINKNO  USLINKNO1  USLINKNO2  DSNODEID  strmOrder  \\\n",
      "LINKNO                                                                        \n",
      "800013463  NaN     NaN       NaN        NaN        NaN       NaN        NaN   \n",
      "800015683  NaN     NaN       NaN        NaN        NaN       NaN        NaN   \n",
      "800015684  NaN     NaN       NaN        NaN        NaN       NaN        NaN   \n",
      "800015699  NaN     NaN       NaN        NaN        NaN       NaN        NaN   \n",
      "800015700  NaN     NaN       NaN        NaN        NaN       NaN        NaN   \n",
      "...        ...     ...       ...        ...        ...       ...        ...   \n",
      "800013853  NaN     NaN       NaN        NaN        NaN       NaN        NaN   \n",
      "800000647  NaN     NaN       NaN        NaN        NaN       NaN        NaN   \n",
      "800013854  NaN     NaN       NaN        NaN        NaN       NaN        NaN   \n",
      "800011653  NaN     NaN       NaN        NaN        NaN       NaN        NaN   \n",
      "800007188  NaN     NaN       NaN        NaN        NaN       NaN        NaN   \n",
      "\n",
      "           Length  Magnitude  DSContArea  ...  StraightL  USContArea  WSNO  \\\n",
      "LINKNO                                    ...                                \n",
      "800013463     NaN        NaN         NaN  ...        NaN         NaN   NaN   \n",
      "800015683     NaN        NaN         NaN  ...        NaN         NaN   NaN   \n",
      "800015684     NaN        NaN         NaN  ...        NaN         NaN   NaN   \n",
      "800015699     NaN        NaN         NaN  ...        NaN         NaN   NaN   \n",
      "800015700     NaN        NaN         NaN  ...        NaN         NaN   NaN   \n",
      "...           ...        ...         ...  ...        ...         ...   ...   \n",
      "800013853     NaN        NaN         NaN  ...        NaN         NaN   NaN   \n",
      "800000647     NaN        NaN         NaN  ...        NaN         NaN   NaN   \n",
      "800013854     NaN        NaN         NaN  ...        NaN         NaN   NaN   \n",
      "800011653     NaN        NaN         NaN  ...        NaN         NaN   NaN   \n",
      "800007188     NaN        NaN         NaN  ...        NaN         NaN   NaN   \n",
      "\n",
      "           DOUTEND  DOUTSTART  DOUTMID  length_m  geometry  IRFroutedRunoff  \\\n",
      "LINKNO                                                                        \n",
      "800013463      NaN        NaN      NaN       NaN      None        94.936905   \n",
      "800015683      NaN        NaN      NaN       NaN      None        86.028816   \n",
      "800015684      NaN        NaN      NaN       NaN      None        87.464439   \n",
      "800015699      NaN        NaN      NaN       NaN      None        88.911743   \n",
      "800015700      NaN        NaN      NaN       NaN      None        90.382431   \n",
      "...            ...        ...      ...       ...       ...              ...   \n",
      "800013853      NaN        NaN      NaN       NaN      None         0.002112   \n",
      "800000647      NaN        NaN      NaN       NaN      None         0.000603   \n",
      "800013854      NaN        NaN      NaN       NaN      None         0.000426   \n",
      "800011653      NaN        NaN      NaN       NaN      None         0.030702   \n",
      "800007188      NaN        NaN      NaN       NaN      None         0.030711   \n",
      "\n",
      "          lineWidth  \n",
      "LINKNO               \n",
      "800013463  1.977435  \n",
      "800015683  1.934644  \n",
      "800015684  1.941831  \n",
      "800015699  1.948959  \n",
      "800015700  1.956084  \n",
      "...             ...  \n",
      "800013853  0.000000  \n",
      "800000647  0.000000  \n",
      "800013854  0.000000  \n",
      "800011653  0.000000  \n",
      "800007188  0.000000  \n",
      "\n",
      "[11129 rows x 22 columns]\n"
     ]
    },
    {
     "data": {
      "image/png": "[encoded data removed]",
      "text/plain": [
       "<Figure size 640x480 with 1 Axes>"
      ]
     },
     "metadata": {},
     "output_type": "display_data"
    }
   ],
   "source": [
    "riv_albers\n",
    "\n",
    "gdf = gpd.GeoDataFrame(\n",
    "    riv_albers,\n",
    "    geometry=riv_albers.geometry\n",
    ")\n",
    "gdf.drop('LINKNO', axis = 1).to_file(\"/Users/darrieythorsson/compHydro/data/HawaiiDisTDX.shp\")\n",
    "#gdf.drop('LINKNO', axis = 1).to_file(\"/Users/darrieythorsson/compHydro/data/YukonDisTDX.shp\")\n",
    "gdf.plot() # first image hereunder\n",
    "print(gdf)\n",
    "\n",
    "#geotif_file = \"/Users/darrieythorsson/compHydro/data/raster.tif\"\n",
    "#out_grd = make_geocube(\n",
    "#    vector_data=gdf,\n",
    "#    measurements=[\"IRFroutedRunoff\"],\n",
    "#    resolution = [100,100]\n",
    "#)\n",
    "\n",
    "#out_grd[\"IRFroutedRunoff\"].rio.to_raster(geotif_file)"
   ]
  },
  {
   "cell_type": "code",
   "execution_count": null,
   "metadata": {},
   "outputs": [],
   "source": []
  },
  {
   "cell_type": "code",
   "execution_count": null,
   "metadata": {},
   "outputs": [],
   "source": []
  },
  {
   "cell_type": "code",
   "execution_count": null,
   "metadata": {},
   "outputs": [],
   "source": [
    "'''if 'compressed' in fig_name:\n",
    "    fig,axs = plt.subplots(2,2,figsize=(35,33))\n",
    "else:\n",
    "    fig,axs = plt.subplots(2,2,figsize=(140,133))\n",
    "\n",
    "# colorbar axes\n",
    "\n",
    "cax2 = fig.add_axes([0.97 ,0.60,0.02,0.3])\n",
    "cax3 = fig.add_axes([0.473,0.10,0.02,0.3])\n",
    "\n",
    "'''\n",
    "\n",
    "\n",
    "fig,axs = plt.subplots(figsize=(140,133))\n",
    "plt.tight_layout()\n",
    "'''\n",
    "cax1 = fig.add_axes([0.473,0.60,0.02,0.3])\n",
    "# add maps\n",
    "bas_albers.plot(ax=axs, column='scalarSWE', edgecolor='none', legend=True, vmin=0, vmax=200, \\\n",
    "                cmap='Greys_r', cax=cax1, zorder=0)\n",
    "axs.set_title('(a) Maximum simulated Snow Water Equivalent')\n",
    "axs.axis('off')\n",
    "cax1.set_ylabel('scalarSWE $[kg~m^{-2}]$',labelpad=-600)\n",
    "\n",
    "# SM\n",
    "bas_albers.plot(ax=axs[0,1], column='scalarTotalSoilWat', edgecolor='none', legend=True, vmin=0, \\\n",
    "                cmap='cividis_r', cax=cax2, zorder=0)\n",
    "axs[0,1].set_title('(b) Mean simulated total soil water content')\n",
    "axs[0,1].axis('off')\n",
    "cax2.set_ylabel('scalarTotalSoilWat $[kg~m^{-2}]$',labelpad=-600)\n",
    "\n",
    "# ET\n",
    "bas_albers.plot(ax=axs[1,0], column='plot_ET', edgecolor='none', legend=True,\\\n",
    "                cmap='viridis', cax=cax3, zorder=0)\n",
    "axs[1,0].set_title('(c) Mean simulated total evapotranspiration')\n",
    "axs[1,0].axis('off')\n",
    "cax3.set_ylabel('scalarTotalET $[kg~m^{-2}~s^{-1}]$',labelpad=-450)\n",
    "'''\n",
    "# Flow\n",
    "cax4 = fig.add_axes([0.97 ,0.10,0.02,0.3])\n",
    "var = 'IRFroutedRunoff'\n",
    "norm = matplotlib.colors.LogNorm(vmin=riv_albers[var].min(), vmax=riv_albers[var].max())\n",
    "riv_albers.plot(ax=axs,column=var, linewidth=riv_albers['lineWidth']*10, \\\n",
    "                                    cmap='Blues', legend=True, cax=cax4, norm=norm, zorder=0)\n",
    "axs.set_title('(d) Mean simulated streamflow')\n",
    "axs.axis('off')\n",
    "\n",
    "'''\n",
    "# lakes\n",
    "if plot_lakes:\n",
    "    large_lakes_albers.plot(ax=axs, color=lake_col, zorder=1)\n",
    "    #large_lakes_albers.plot(ax=axs[0,1], color=lake_col, zorder=1)\n",
    "    #large_lakes_albers.plot(ax=axs[1,0], color=lake_col, zorder=1)\n",
    "    #large_lakes_albers.plot(ax=axs[1,1], color=lake_col, zorder=1)\n",
    "\n",
    "# Save \n",
    "plt.savefig(fig_path/fig_name, bbox_inches='tight', transparent=True)\n",
    "'''"
   ]
  },
  {
   "cell_type": "code",
   "execution_count": null,
   "metadata": {},
   "outputs": [],
   "source": []
  }
 ],
 "metadata": {
  "kernelspec": {
   "display_name": "camels-spat-env",
   "language": "python",
   "name": "camels-spat-env"
  },
  "language_info": {
   "codemirror_mode": {
    "name": "ipython",
    "version": 3
   },
   "file_extension": ".py",
   "mimetype": "text/x-python",
   "name": "python",
   "nbconvert_exporter": "python",
   "pygments_lexer": "ipython3",
   "version": "3.12.2"
  }
 },
 "nbformat": 4,
 "nbformat_minor": 4
}
