{
 "cells": [
  {
   "cell_type": "markdown",
   "metadata": {},
   "source": [
    "# Visualize geospatial parameters before and after remapping\n"
   ]
  },
  {
   "cell_type": "code",
   "execution_count": 82,
   "metadata": {},
   "outputs": [],
   "source": [
    "# modules\n",
    "import os\n",
    "import rioxarray as rxr\n",
    "import xarray as xr\n",
    "import geopandas as gpd\n",
    "from pathlib import Path\n",
    "import matplotlib.pyplot as plt"
   ]
  },
  {
   "cell_type": "markdown",
   "metadata": {},
   "source": [
    "#### Control file handling"
   ]
  },
  {
   "cell_type": "code",
   "execution_count": 83,
   "metadata": {},
   "outputs": [],
   "source": [
    "# Easy access to control file folder\n",
    "controlFolder = Path('../0_control_files')"
   ]
  },
  {
   "cell_type": "code",
   "execution_count": 84,
   "metadata": {},
   "outputs": [],
   "source": [
    "# Store the name of the 'active' file in a variable\n",
    "controlFile = 'control_active.txt'"
   ]
  },
  {
   "cell_type": "code",
   "execution_count": 85,
   "metadata": {},
   "outputs": [],
   "source": [
    "# Function to extract a given setting from the control file\n",
    "def read_from_control( file, setting ):\n",
    "    \n",
    "    # Open 'control_active.txt' and ...\n",
    "    with open(file) as contents:\n",
    "        for line in contents:\n",
    "            \n",
    "            # ... find the line with the requested setting\n",
    "            if setting in line and not line.startswith('#'):\n",
    "                break\n",
    "    \n",
    "    # Extract the setting's value\n",
    "    substring = line.split('|',1)[1]      # Remove the setting's name (split into 2 based on '|', keep only 2nd part)\n",
    "    substring = substring.split('#',1)[0] # Remove comments, does nothing if no '#' is found\n",
    "    substring = substring.strip()         # Remove leading and trailing whitespace, tabs, newlines\n",
    "       \n",
    "    # Return this value    \n",
    "    return substring"
   ]
  },
  {
   "cell_type": "code",
   "execution_count": 87,
   "metadata": {},
   "outputs": [],
   "source": [
    "# Function to specify a default path\n",
    "def make_default_path(suffix):\n",
    "    \n",
    "    # Get the root path\n",
    "    rootPath = Path( read_from_control(controlFolder/controlFile,'root_path') )\n",
    "    \n",
    "    # Get the domain folder\n",
    "    domainName = read_from_control(controlFolder/controlFile,'domain_name')\n",
    "    domainFolder = 'domain_' + domainName\n",
    "    \n",
    "    # Specify the forcing path\n",
    "    defaultPath = rootPath / domainFolder / suffix\n",
    "    \n",
    "    return defaultPath"
   ]
  },
  {
   "cell_type": "markdown",
   "metadata": {},
   "source": [
    "#### Define where to save the figure"
   ]
  },
  {
   "cell_type": "code",
   "execution_count": 66,
   "metadata": {},
   "outputs": [],
   "source": [
    "# Path and filename\n",
    "fig_path = read_from_control(controlFolder/controlFile,'visualization_folder')\n",
    "fig_name = 'geospatial_fields_remapping_v2.png'\n",
    "\n",
    "# Specify default path if needed\n",
    "if fig_path == 'default':\n",
    "    fig_path = make_default_path('visualization') # outputs a Path()\n",
    "else:\n",
    "    fig_path = Path(fig_path) # make sure a user-specified path is a Path()\n",
    "    \n",
    "# Make the folder if it doesn't exist\n",
    "fig_path.mkdir(parents=True, exist_ok=True)"
   ]
  },
  {
   "cell_type": "markdown",
   "metadata": {},
   "source": [
    "#### Find location the catchment shapefile"
   ]
  },
  {
   "cell_type": "code",
   "execution_count": 67,
   "metadata": {},
   "outputs": [],
   "source": [
    "# HRU fieldname - this is the same for all three shapefiles\n",
    "shp_hru = read_from_control(controlFolder/controlFile,'catchment_shp_hruid')"
   ]
  },
  {
   "cell_type": "code",
   "execution_count": 68,
   "metadata": {},
   "outputs": [],
   "source": [
    "# Path & name\n",
    "catchment_path = read_from_control(controlFolder/controlFile,'catchment_shp_path')\n",
    "catchment_name = read_from_control(controlFolder/controlFile,'catchment_shp_name')"
   ]
  },
  {
   "cell_type": "code",
   "execution_count": 69,
   "metadata": {},
   "outputs": [],
   "source": [
    "# Specify default path if needed\n",
    "if catchment_path == 'default':\n",
    "    catchment_path = make_default_path('shapefiles/catchment') # outputs a Path()\n",
    "else:\n",
    "    catchment_path = Path(catchment_path) # make sure a user-specified path is a Path()"
   ]
  },
  {
   "cell_type": "markdown",
   "metadata": {},
   "source": [
    "#### Find location of source .tifs"
   ]
  },
  {
   "cell_type": "code",
   "execution_count": 70,
   "metadata": {},
   "outputs": [],
   "source": [
    "# DEM path & name\n",
    "dem_path = read_from_control(controlFolder/controlFile,'parameter_dem_tif_path')\n",
    "dem_name = read_from_control(controlFolder/controlFile,'parameter_dem_tif_name')\n",
    "\n",
    "# Specify default path if needed\n",
    "if dem_path == 'default':\n",
    "    dem_path = make_default_path('parameters/dem/5_elevation') # outputs a Path()\n",
    "else:\n",
    "    dem_path = Path(dem_path) # make sure a user-specified path is a Path()"
   ]
  },
  {
   "cell_type": "code",
   "execution_count": 71,
   "metadata": {},
   "outputs": [],
   "source": [
    "# Soil path & name\n",
    "soil_path = read_from_control(controlFolder/controlFile,'parameter_soil_domain_path')\n",
    "soil_name = read_from_control(controlFolder/controlFile,'parameter_soil_tif_name')\n",
    "\n",
    "# Specify default path if needed\n",
    "if soil_path == 'default':\n",
    "    soil_path = make_default_path('parameters/soilclass/2_soil_classes_domain') # outputs a Path()\n",
    "else:\n",
    "    soil_path = Path(soil_path) # make sure a user-specified path is a Path()"
   ]
  },
  {
   "cell_type": "code",
   "execution_count": 72,
   "metadata": {},
   "outputs": [],
   "source": [
    "# Land path & name\n",
    "land_path = read_from_control(controlFolder/controlFile,'parameter_land_mode_path')\n",
    "land_name = read_from_control(controlFolder/controlFile,'parameter_land_tif_name')\n",
    "\n",
    "# Specify default path if needed\n",
    "if land_path == 'default':\n",
    "    land_path = make_default_path('parameters/landclass/7_mode_land_class') # outputs a Path()\n",
    "else:\n",
    "    land_path = Path(land_path) # make sure a user-specified path is a Path()"
   ]
  },
  {
   "cell_type": "markdown",
   "metadata": {},
   "source": [
    "#### Find location of the attributes file"
   ]
  },
  {
   "cell_type": "code",
   "execution_count": 73,
   "metadata": {},
   "outputs": [],
   "source": [
    "# attributes path & name\n",
    "att_path = read_from_control(controlFolder/controlFile,'settings_summa_path')\n",
    "att_name = read_from_control(controlFolder/controlFile,'settings_summa_attributes')"
   ]
  },
  {
   "cell_type": "code",
   "execution_count": 74,
   "metadata": {},
   "outputs": [],
   "source": [
    "# Specify default path if needed\n",
    "if att_path == 'default':\n",
    "    att_path = make_default_path('settings/SUMMA') # outputs a Path()\n",
    "else:\n",
    "    att_path = Path(att_path) # make sure a user-specified path is a Path()"
   ]
  },
  {
   "cell_type": "markdown",
   "metadata": {},
   "source": [
    "#### Load the shapefiles and the data"
   ]
  },
  {
   "cell_type": "code",
   "execution_count": 75,
   "metadata": {},
   "outputs": [],
   "source": [
    "# shapefile\n",
    "catchment = gpd.read_file(catchment_path/catchment_name)"
   ]
  },
  {
   "cell_type": "code",
   "execution_count": 76,
   "metadata": {},
   "outputs": [],
   "source": [
    "# tifs\n",
    "dem = rxr.open_rasterio(dem_path/dem_name)\n",
    "soil = rxr.open_rasterio(soil_path/soil_name)\n",
    "land = rxr.open_rasterio(land_path/land_name)"
   ]
  },
  {
   "cell_type": "code",
   "execution_count": 77,
   "metadata": {},
   "outputs": [],
   "source": [
    "# attributes\n",
    "att = xr.open_dataset(att_path/att_name)"
   ]
  },
  {
   "cell_type": "markdown",
   "metadata": {},
   "source": [
    "#### Map attributes data to catchment HRUs"
   ]
  },
  {
   "cell_type": "code",
   "execution_count": 78,
   "metadata": {},
   "outputs": [
    {
     "ename": "ImportError",
     "evalue": "cannot import name '_new_to_legacy_freq' from 'xarray.coding.cftime_offsets' (/Users/darrieythorsson/compHydro/data/CAMELS_spat/camels-spat-env/lib/python3.11/site-packages/xarray/coding/cftime_offsets.py)",
     "output_type": "error",
     "traceback": [
      "\u001b[0;31m---------------------------------------------------------------------------\u001b[0m",
      "\u001b[0;31mImportError\u001b[0m                               Traceback (most recent call last)",
      "Cell \u001b[0;32mIn[78], line 2\u001b[0m\n\u001b[1;32m      1\u001b[0m \u001b[38;5;66;03m# Elevation\u001b[39;00m\n\u001b[0;32m----> 2\u001b[0m \u001b[38;5;28;01mif\u001b[39;00m (\u001b[43matt\u001b[49m\u001b[43m[\u001b[49m\u001b[38;5;124;43m'\u001b[39;49m\u001b[38;5;124;43mhruId\u001b[39;49m\u001b[38;5;124;43m'\u001b[39;49m\u001b[43m]\u001b[49m\u001b[43m \u001b[49m\u001b[38;5;241;43m==\u001b[39;49m\u001b[43m \u001b[49m\u001b[43mcatchment\u001b[49m\u001b[43m[\u001b[49m\u001b[43mshp_hru\u001b[49m\u001b[43m]\u001b[49m)\u001b[38;5;241m.\u001b[39mall():\n\u001b[1;32m      3\u001b[0m     catchment[\u001b[38;5;124m'\u001b[39m\u001b[38;5;124mplot_elev\u001b[39m\u001b[38;5;124m'\u001b[39m] \u001b[38;5;241m=\u001b[39m att[\u001b[38;5;124m'\u001b[39m\u001b[38;5;124melevation\u001b[39m\u001b[38;5;124m'\u001b[39m]\n\u001b[1;32m      4\u001b[0m     catchment[\u001b[38;5;124m'\u001b[39m\u001b[38;5;124mplot_soil\u001b[39m\u001b[38;5;124m'\u001b[39m] \u001b[38;5;241m=\u001b[39m att[\u001b[38;5;124m'\u001b[39m\u001b[38;5;124msoilTypeIndex\u001b[39m\u001b[38;5;124m'\u001b[39m]\n",
      "File \u001b[0;32m~/compHydro/data/CAMELS_spat/camels-spat-env/lib/python3.11/site-packages/xarray/core/_typed_ops.py:293\u001b[0m, in \u001b[0;36m__eq__\u001b[0;34m(self, other)\u001b[0m\n\u001b[1;32m    290\u001b[0m \u001b[38;5;28;01mdef\u001b[39;00m \u001b[38;5;21m__ge__\u001b[39m(\u001b[38;5;28mself\u001b[39m, other: DaCompatible) \u001b[38;5;241m-\u001b[39m\u001b[38;5;241m>\u001b[39m Self:\n\u001b[1;32m    291\u001b[0m     \u001b[38;5;28;01mreturn\u001b[39;00m \u001b[38;5;28mself\u001b[39m\u001b[38;5;241m.\u001b[39m_binary_op(other, operator\u001b[38;5;241m.\u001b[39mge)\n\u001b[0;32m--> 293\u001b[0m \u001b[38;5;28;01mdef\u001b[39;00m \u001b[38;5;21m__eq__\u001b[39m(\u001b[38;5;28mself\u001b[39m, other: DaCompatible) \u001b[38;5;241m-\u001b[39m\u001b[38;5;241m>\u001b[39m Self:  \u001b[38;5;66;03m# type:ignore[override]\u001b[39;00m\n\u001b[1;32m    294\u001b[0m     \u001b[38;5;28;01mreturn\u001b[39;00m \u001b[38;5;28mself\u001b[39m\u001b[38;5;241m.\u001b[39m_binary_op(other, nputils\u001b[38;5;241m.\u001b[39marray_eq)\n\u001b[1;32m    296\u001b[0m \u001b[38;5;28;01mdef\u001b[39;00m \u001b[38;5;21m__ne__\u001b[39m(\u001b[38;5;28mself\u001b[39m, other: DaCompatible) \u001b[38;5;241m-\u001b[39m\u001b[38;5;241m>\u001b[39m Self:  \u001b[38;5;66;03m# type:ignore[override]\u001b[39;00m\n",
      "File \u001b[0;32m~/compHydro/data/CAMELS_spat/camels-spat-env/lib/python3.11/site-packages/xarray/core/dataarray.py:4676\u001b[0m, in \u001b[0;36m_binary_op\u001b[0;34m(self, other, f, reflexive)\u001b[0m\n\u001b[1;32m   4674\u001b[0m     align_type \u001b[38;5;241m=\u001b[39m OPTIONS[\u001b[38;5;124m\"\u001b[39m\u001b[38;5;124marithmetic_join\u001b[39m\u001b[38;5;124m\"\u001b[39m]\n\u001b[1;32m   4675\u001b[0m     \u001b[38;5;28mself\u001b[39m, other \u001b[38;5;241m=\u001b[39m align(\u001b[38;5;28mself\u001b[39m, other, join\u001b[38;5;241m=\u001b[39malign_type, copy\u001b[38;5;241m=\u001b[39m\u001b[38;5;28;01mFalse\u001b[39;00m)\n\u001b[0;32m-> 4676\u001b[0m other_variable_or_arraylike: DaCompatible \u001b[38;5;241m=\u001b[39m \u001b[38;5;28mgetattr\u001b[39m(other, \u001b[38;5;124m\"\u001b[39m\u001b[38;5;124mvariable\u001b[39m\u001b[38;5;124m\"\u001b[39m, other)\n\u001b[1;32m   4677\u001b[0m other_coords \u001b[38;5;241m=\u001b[39m \u001b[38;5;28mgetattr\u001b[39m(other, \u001b[38;5;124m\"\u001b[39m\u001b[38;5;124mcoords\u001b[39m\u001b[38;5;124m\"\u001b[39m, \u001b[38;5;28;01mNone\u001b[39;00m)\n\u001b[1;32m   4679\u001b[0m variable \u001b[38;5;241m=\u001b[39m (\n\u001b[1;32m   4680\u001b[0m     f(\u001b[38;5;28mself\u001b[39m\u001b[38;5;241m.\u001b[39mvariable, other_variable_or_arraylike)\n\u001b[1;32m   4681\u001b[0m     \u001b[38;5;28;01mif\u001b[39;00m \u001b[38;5;129;01mnot\u001b[39;00m reflexive\n\u001b[1;32m   4682\u001b[0m     \u001b[38;5;28;01melse\u001b[39;00m f(other_variable_or_arraylike, \u001b[38;5;28mself\u001b[39m\u001b[38;5;241m.\u001b[39mvariable)\n\u001b[1;32m   4683\u001b[0m )\n",
      "File \u001b[0;32m~/compHydro/data/CAMELS_spat/camels-spat-env/lib/python3.11/site-packages/xarray/core/groupby.py:14\u001b[0m\n\u001b[1;32m     11\u001b[0m \u001b[38;5;28;01mimport\u001b[39;00m \u001b[38;5;21;01mpandas\u001b[39;00m \u001b[38;5;28;01mas\u001b[39;00m \u001b[38;5;21;01mpd\u001b[39;00m\n\u001b[1;32m     12\u001b[0m \u001b[38;5;28;01mfrom\u001b[39;00m \u001b[38;5;21;01mpackaging\u001b[39;00m\u001b[38;5;21;01m.\u001b[39;00m\u001b[38;5;21;01mversion\u001b[39;00m \u001b[38;5;28;01mimport\u001b[39;00m Version\n\u001b[0;32m---> 14\u001b[0m \u001b[38;5;28;01mfrom\u001b[39;00m \u001b[38;5;21;01mxarray\u001b[39;00m\u001b[38;5;21;01m.\u001b[39;00m\u001b[38;5;21;01mcoding\u001b[39;00m\u001b[38;5;21;01m.\u001b[39;00m\u001b[38;5;21;01mcftime_offsets\u001b[39;00m \u001b[38;5;28;01mimport\u001b[39;00m _new_to_legacy_freq\n\u001b[1;32m     15\u001b[0m \u001b[38;5;28;01mfrom\u001b[39;00m \u001b[38;5;21;01mxarray\u001b[39;00m\u001b[38;5;21;01m.\u001b[39;00m\u001b[38;5;21;01mcore\u001b[39;00m \u001b[38;5;28;01mimport\u001b[39;00m dtypes, duck_array_ops, nputils, ops\n\u001b[1;32m     16\u001b[0m \u001b[38;5;28;01mfrom\u001b[39;00m \u001b[38;5;21;01mxarray\u001b[39;00m\u001b[38;5;21;01m.\u001b[39;00m\u001b[38;5;21;01mcore\u001b[39;00m\u001b[38;5;21;01m.\u001b[39;00m\u001b[38;5;21;01m_aggregations\u001b[39;00m \u001b[38;5;28;01mimport\u001b[39;00m (\n\u001b[1;32m     17\u001b[0m     DataArrayGroupByAggregations,\n\u001b[1;32m     18\u001b[0m     DatasetGroupByAggregations,\n\u001b[1;32m     19\u001b[0m )\n",
      "\u001b[0;31mImportError\u001b[0m: cannot import name '_new_to_legacy_freq' from 'xarray.coding.cftime_offsets' (/Users/darrieythorsson/compHydro/data/CAMELS_spat/camels-spat-env/lib/python3.11/site-packages/xarray/coding/cftime_offsets.py)"
     ]
    }
   ],
   "source": [
    "# Elevation\n",
    "if (att['hruId'] == catchment[shp_hru]).all():\n",
    "    catchment['plot_elev'] = att['elevation']\n",
    "    catchment['plot_soil'] = att['soilTypeIndex']\n",
    "    catchment['plot_land'] = att['vegTypeIndex']"
   ]
  },
  {
   "cell_type": "markdown",
   "metadata": {},
   "source": [
    "#### Plot settings and plotting data prep"
   ]
  },
  {
   "cell_type": "code",
   "execution_count": 36,
   "metadata": {},
   "outputs": [],
   "source": [
    "# Number of classes for land and soil\n",
    "n_land = 17\n",
    "n_soil = 12"
   ]
  },
  {
   "cell_type": "code",
   "execution_count": 37,
   "metadata": {},
   "outputs": [],
   "source": [
    "# Colors\n",
    "cmap_dem = 'Greys_r'\n",
    "#cmap_soil = plt.get_cmap('YlOrBr',n_soil)\n",
    "cmap_soil = plt.get_cmap('tab20c',n_soil)\n",
    "cmap_soil.set_under('w')\n",
    "#cmap_land = plt.get_cmap('Greens',n_land)\n",
    "cmap_land = plt.get_cmap('tab20c',n_land)\n",
    "cmap_land.set_under('w')"
   ]
  },
  {
   "cell_type": "code",
   "execution_count": 38,
   "metadata": {},
   "outputs": [
    {
     "ename": "NameError",
     "evalue": "name 'dem' is not defined",
     "output_type": "error",
     "traceback": [
      "\u001b[0;31m---------------------------------------------------------------------------\u001b[0m",
      "\u001b[0;31mNameError\u001b[0m                                 Traceback (most recent call last)",
      "Cell \u001b[0;32mIn[38], line 2\u001b[0m\n\u001b[1;32m      1\u001b[0m \u001b[38;5;66;03m# color limits\u001b[39;00m\n\u001b[0;32m----> 2\u001b[0m vmin_dem,vmax_dem \u001b[38;5;241m=\u001b[39m \u001b[43mdem\u001b[49m\u001b[38;5;241m.\u001b[39mmin(),dem\u001b[38;5;241m.\u001b[39mmax()\n\u001b[1;32m      3\u001b[0m vmin_soil,vmax_soil \u001b[38;5;241m=\u001b[39m \u001b[38;5;241m1\u001b[39m\u001b[38;5;241m-\u001b[39m\u001b[38;5;241m0.5\u001b[39m,n_soil\u001b[38;5;241m+\u001b[39m\u001b[38;5;241m0.5\u001b[39m \u001b[38;5;66;03m# slightly hacky way to get the labels for discrete classes in the right locations\u001b[39;00m\n\u001b[1;32m      4\u001b[0m vmin_land,vmax_land \u001b[38;5;241m=\u001b[39m \u001b[38;5;241m1\u001b[39m\u001b[38;5;241m-\u001b[39m\u001b[38;5;241m0.5\u001b[39m,n_land\u001b[38;5;241m+\u001b[39m\u001b[38;5;241m0.5\u001b[39m \n",
      "\u001b[0;31mNameError\u001b[0m: name 'dem' is not defined"
     ]
    }
   ],
   "source": [
    "# color limits\n",
    "vmin_dem,vmax_dem = dem.min(),dem.max()\n",
    "vmin_soil,vmax_soil = 1-0.5,n_soil+0.5 # slightly hacky way to get the labels for discrete classes in the right locations\n",
    "vmin_land,vmax_land = 1-0.5,n_land+0.5 "
   ]
  },
  {
   "cell_type": "code",
   "execution_count": 39,
   "metadata": {},
   "outputs": [],
   "source": [
    "# colorbar settings\n",
    "ticks_soil = range(n_soil+1)\n",
    "ticks_land = range(n_land+1)"
   ]
  },
  {
   "cell_type": "markdown",
   "metadata": {},
   "source": [
    "#### Create the figure"
   ]
  },
  {
   "cell_type": "code",
   "execution_count": 40,
   "metadata": {},
   "outputs": [],
   "source": [
    "plt.rcParams.update({'font.size': 16})"
   ]
  },
  {
   "cell_type": "code",
   "execution_count": 41,
   "metadata": {},
   "outputs": [
    {
     "ename": "NameError",
     "evalue": "name 'dem' is not defined",
     "output_type": "error",
     "traceback": [
      "\u001b[0;31m---------------------------------------------------------------------------\u001b[0m",
      "\u001b[0;31mNameError\u001b[0m                                 Traceback (most recent call last)",
      "Cell \u001b[0;32mIn[41], line 9\u001b[0m\n\u001b[1;32m      6\u001b[0m \u001b[38;5;66;03m# --- DEM\u001b[39;00m\n\u001b[1;32m      7\u001b[0m \u001b[38;5;66;03m# source data + catchment\u001b[39;00m\n\u001b[1;32m      8\u001b[0m axId \u001b[38;5;241m=\u001b[39m \u001b[38;5;241m0\u001b[39m\n\u001b[0;32m----> 9\u001b[0m h \u001b[38;5;241m=\u001b[39m \u001b[43mdem\u001b[49m\u001b[38;5;241m.\u001b[39msel(band\u001b[38;5;241m=\u001b[39m\u001b[38;5;241m1\u001b[39m)\u001b[38;5;241m.\u001b[39mplot(cmap\u001b[38;5;241m=\u001b[39mcmap_dem, ax\u001b[38;5;241m=\u001b[39maxs[axId], vmin\u001b[38;5;241m=\u001b[39mvmin_dem, vmax\u001b[38;5;241m=\u001b[39mvmax_dem, cbar_kwargs\u001b[38;5;241m=\u001b[39m{\u001b[38;5;124m'\u001b[39m\u001b[38;5;124mshrink\u001b[39m\u001b[38;5;124m'\u001b[39m: cbar_scale})\n\u001b[1;32m     10\u001b[0m catchment\u001b[38;5;241m.\u001b[39mplot(color\u001b[38;5;241m=\u001b[39m\u001b[38;5;124m'\u001b[39m\u001b[38;5;124mNone\u001b[39m\u001b[38;5;124m'\u001b[39m, edgecolor\u001b[38;5;241m=\u001b[39m\u001b[38;5;124m'\u001b[39m\u001b[38;5;124mk\u001b[39m\u001b[38;5;124m'\u001b[39m, ax\u001b[38;5;241m=\u001b[39maxs[axId]);\n\u001b[1;32m     11\u001b[0m axs[axId]\u001b[38;5;241m.\u001b[39mset_ylabel(\u001b[38;5;124m'\u001b[39m\u001b[38;5;124mLatitude [degrees North]\u001b[39m\u001b[38;5;124m'\u001b[39m)\n",
      "\u001b[0;31mNameError\u001b[0m: name 'dem' is not defined"
     ]
    },
    {
     "data": {
      "image/png": "[encoded data removed]",
      "text/plain": [
       "<Figure size 2000x3000 with 6 Axes>"
      ]
     },
     "metadata": {},
     "output_type": "display_data"
    }
   ],
   "source": [
    "fig, axs = plt.subplots(3,2,figsize=(20,30))\n",
    "axs = axs.flatten()\n",
    "cbar_scale = 0.97\n",
    "cbar_font = 14\n",
    "\n",
    "# --- DEM\n",
    "# source data + catchment\n",
    "axId = 0\n",
    "h = dem.sel(band=1).plot(cmap=cmap_dem, ax=axs[axId], vmin=vmin_dem, vmax=vmax_dem, cbar_kwargs={'shrink': cbar_scale})\n",
    "catchment.plot(color='None', edgecolor='k', ax=axs[axId]);\n",
    "axs[axId].set_ylabel('Latitude [degrees North]')\n",
    "axs[axId].set_xlabel('')\n",
    "axs[axId].set_title('(a) Merit Hydro adjusted elevations')\n",
    "h.colorbar.ax.set_title('[m.a.s.l.]', fontdict={'fontsize': cbar_font})\n",
    "\n",
    "# source data + HRU mean\n",
    "axId = 1\n",
    "h = dem.sel(band=1).plot(cmap=cmap_dem, ax=axs[axId], vmin=vmin_dem, vmax=vmax_dem, cbar_kwargs={'shrink': cbar_scale})\n",
    "catchment.plot(column='plot_elev', edgecolor='k', ax=axs[axId], cmap=cmap_dem, vmin=vmin_dem, vmax=vmax_dem);\n",
    "axs[axId].set_ylabel('')\n",
    "axs[axId].set_xlabel('')\n",
    "axs[axId].set_title('(b) HRU-averaged elevation')\n",
    "h.colorbar.ax.set_title('[m.a.s.l.]', fontdict={'fontsize': cbar_font})\n",
    "\n",
    "# --- Soil\n",
    "# source data + catchment\n",
    "axId = 2\n",
    "h = soil.sel(band=1).plot(cmap=cmap_soil, ax=axs[axId], vmin=vmin_soil, vmax=vmax_soil, cbar_kwargs={'shrink': cbar_scale})\n",
    "catchment.plot(color='None', edgecolor='k', ax=axs[axId]);\n",
    "axs[axId].set_ylabel('Latitude [degrees North]')\n",
    "axs[axId].set_xlabel('')\n",
    "axs[axId].set_title('(c) Soil texture classes')\n",
    "h.colorbar.set_ticks(ticks_soil)\n",
    "h.colorbar.ax.set_title('[-]', fontdict={'fontsize': cbar_font})\n",
    "\n",
    "# add 'no data' to tick labels\n",
    "tick_txt = []\n",
    "tick_txt = [str(val) for val in ticks_soil]\n",
    "tick_txt[0] = 'No data'\n",
    "h.colorbar.ax.set_yticklabels(tick_txt)\n",
    "\n",
    "# source data + HRU mean\n",
    "axId = 3\n",
    "h = soil.sel(band=1).plot(cmap=cmap_soil, ax=axs[axId], vmin=vmin_soil, vmax=vmax_soil, cbar_kwargs={'shrink': cbar_scale})\n",
    "catchment.plot(column='plot_soil', edgecolor='k', ax=axs[axId], cmap=cmap_soil, vmin=vmin_soil, vmax=vmax_soil);\n",
    "axs[axId].set_ylabel('')\n",
    "axs[axId].set_xlabel('')\n",
    "axs[axId].set_title('(d) Mode soil texture class per HRU')\n",
    "h.colorbar.set_ticks(ticks_soil)\n",
    "h.colorbar.ax.set_yticklabels(tick_txt)\n",
    "h.colorbar.ax.set_title('[-]', fontdict={'fontsize': cbar_font})\n",
    "\n",
    "# --- land\n",
    "# source data + catchment\n",
    "axId = 4\n",
    "h = land.sel(band=1).plot(cmap=cmap_land, ax=axs[axId], vmin=vmin_land, vmax=vmax_land, cbar_kwargs={'shrink': cbar_scale})\n",
    "catchment.plot(color='None', edgecolor='k', ax=axs[axId]);\n",
    "axs[axId].set_ylabel('Latitude [degrees North]')\n",
    "axs[axId].set_xlabel('Longitude [degrees East]')\n",
    "axs[axId].set_title('(e) IGBP land classes')\n",
    "h.colorbar.set_ticks(ticks_land)\n",
    "h.colorbar.ax.set_title('[-]', fontdict={'fontsize': cbar_font})\n",
    "\n",
    "# source data + HRU mean\n",
    "axId = 5\n",
    "h = land.sel(band=1).plot(cmap=cmap_land, ax=axs[axId], vmin=vmin_land, vmax=vmax_land, cbar_kwargs={'shrink': cbar_scale})\n",
    "catchment.plot(column='plot_land', edgecolor='k', ax=axs[axId], cmap=cmap_land, vmin=vmin_land, vmax=vmax_land);\n",
    "axs[axId].set_ylabel('')\n",
    "axs[axId].set_xlabel('Longitude [degrees East]')\n",
    "axs[axId].set_title('(f) Mode IGBP land class per HRU')\n",
    "h.colorbar.set_ticks(ticks_land)\n",
    "h.colorbar.ax.set_title('[-]', fontdict={'fontsize': cbar_font})\n",
    "\n",
    "# save\n",
    "plt.tight_layout()\n",
    "plt.savefig(fig_path/fig_name, bbox_inches='tight', dpi=300)"
   ]
  },
  {
   "cell_type": "code",
   "execution_count": null,
   "metadata": {},
   "outputs": [],
   "source": []
  }
 ],
 "metadata": {
  "kernelspec": {
   "display_name": "camels-spat-env",
   "language": "python",
   "name": "camels-spat-env"
  },
  "language_info": {
   "codemirror_mode": {
    "name": "ipython",
    "version": 3
   },
   "file_extension": ".py",
   "mimetype": "text/x-python",
   "name": "python",
   "nbconvert_exporter": "python",
   "pygments_lexer": "ipython3",
   "version": "3.11.7"
  }
 },
 "nbformat": 4,
 "nbformat_minor": 4
}
