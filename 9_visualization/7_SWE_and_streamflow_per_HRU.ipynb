{
 "cells": [
  {
   "cell_type": "markdown",
   "metadata": {},
   "source": [
    "# SWE and streamflow\n",
    "Plots maximum annual SWE per HRU and mean annual streamflow per stream segment. Needs:\n",
    "- Catchment shapefile with HRU delineation\n",
    "- River network shapefile with stream segments\n",
    "- SUMMA output `scalarSWE`\n",
    "- mizuRoute output `KWTroutedRunoff`"
   ]
  },
  {
   "cell_type": "code",
   "execution_count": 19,
   "metadata": {},
   "outputs": [],
   "source": [
    "# modules\n",
    "import os\n",
    "import numpy as np\n",
    "import xarray as xr\n",
    "import geopandas as gpd\n",
    "from pathlib import Path\n",
    "import matplotlib.pyplot as plt\n",
    "from matplotlib.lines import Line2D"
   ]
  },
  {
   "cell_type": "markdown",
   "metadata": {},
   "source": [
    "#### Control file handling"
   ]
  },
  {
   "cell_type": "code",
   "execution_count": 20,
   "metadata": {},
   "outputs": [],
   "source": [
    "# Easy access to control file folder\n",
    "controlFolder = Path('../0_control_files')"
   ]
  },
  {
   "cell_type": "code",
   "execution_count": 21,
   "metadata": {},
   "outputs": [],
   "source": [
    "# Store the name of the 'active' file in a variable\n",
    "controlFile = 'control_active.txt'"
   ]
  },
  {
   "cell_type": "code",
   "execution_count": 22,
   "metadata": {},
   "outputs": [],
   "source": [
    "# Function to extract a given setting from the control file\n",
    "def read_from_control( file, setting ):\n",
    "    \n",
    "    # Open 'control_active.txt' and ...\n",
    "    with open(file) as contents:\n",
    "        for line in contents:\n",
    "            \n",
    "            # ... find the line with the requested setting\n",
    "            if setting in line and not line.startswith('#'):\n",
    "                break\n",
    "    \n",
    "    # Extract the setting's value\n",
    "    substring = line.split('|',1)[1]      # Remove the setting's name (split into 2 based on '|', keep only 2nd part)\n",
    "    substring = substring.split('#',1)[0] # Remove comments, does nothing if no '#' is found\n",
    "    substring = substring.strip()         # Remove leading and trailing whitespace, tabs, newlines\n",
    "       \n",
    "    # Return this value    \n",
    "    return substring"
   ]
  },
  {
   "cell_type": "code",
   "execution_count": 23,
   "metadata": {},
   "outputs": [],
   "source": [
    "# Function to specify a default path\n",
    "def make_default_path(suffix):\n",
    "    \n",
    "    # Get the root path\n",
    "    rootPath = Path( read_from_control(controlFolder/controlFile,'root_path') )\n",
    "    \n",
    "    # Get the domain folder\n",
    "    domainName = read_from_control(controlFolder/controlFile,'domain_name')\n",
    "    domainFolder = 'domain_' + domainName\n",
    "    \n",
    "    # Specify the forcing path\n",
    "    defaultPath = rootPath / domainFolder / suffix\n",
    "    \n",
    "    return defaultPath"
   ]
  },
  {
   "cell_type": "markdown",
   "metadata": {},
   "source": [
    "#### Define where to save the figure"
   ]
  },
  {
   "cell_type": "code",
   "execution_count": 24,
   "metadata": {},
   "outputs": [],
   "source": [
    "# Path and filename\n",
    "fig_path = read_from_control(controlFolder/controlFile,'visualization_folder')\n",
    "fig_name = 'mean_elevation_per_hru_AND_mean_annual_streamflow_per_segment_AND_mean_max_swe_per_hru_FOR_bowAtBanff_v2.png'\n",
    "\n",
    "# Specify default path if needed\n",
    "if fig_path == 'default':\n",
    "    fig_path = make_default_path('visualization') # outputs a Path()\n",
    "else:\n",
    "    fig_path = Path(fig_path) # make sure a user-specified path is a Path()\n",
    "    \n",
    "# Make the folder if it doesn't exist\n",
    "fig_path.mkdir(parents=True, exist_ok=True)"
   ]
  },
  {
   "cell_type": "markdown",
   "metadata": {},
   "source": [
    "#### Get shapefile location from control file"
   ]
  },
  {
   "cell_type": "code",
   "execution_count": 25,
   "metadata": {},
   "outputs": [],
   "source": [
    "# HM catchment shapefile path & name\n",
    "hm_catchment_path = read_from_control(controlFolder/controlFile,'catchment_shp_path')\n",
    "hm_catchment_name = read_from_control(controlFolder/controlFile,'catchment_shp_name')\n",
    "\n",
    "# Specify default path if needed\n",
    "if hm_catchment_path == 'default':\n",
    "    hm_catchment_path = make_default_path('shapefiles/catchment') # outputs a Path()\n",
    "else:\n",
    "    hm_catchment_path = Path(hm_catchment_path) # make sure a user-specified path is a Path()"
   ]
  },
  {
   "cell_type": "code",
   "execution_count": 26,
   "metadata": {},
   "outputs": [],
   "source": [
    "# Find the GRU and HRU identifiers\n",
    "hm_gruid = read_from_control(controlFolder/controlFile,'catchment_shp_gruid')\n",
    "hm_hruid = read_from_control(controlFolder/controlFile,'catchment_shp_hruid')"
   ]
  },
  {
   "cell_type": "markdown",
   "metadata": {},
   "source": [
    "#### Get the shapefile with elevation for comparison purposes"
   ]
  },
  {
   "cell_type": "code",
   "execution_count": 27,
   "metadata": {},
   "outputs": [],
   "source": [
    "# Intersection of catchment shapefile and DEM; path & name\n",
    "elev_catchment_path = read_from_control(controlFolder/controlFile,'intersect_dem_path')\n",
    "elev_catchment_name = read_from_control(controlFolder/controlFile,'intersect_dem_name')\n",
    "\n",
    "# Specify default path if needed\n",
    "if elev_catchment_path == 'default':\n",
    "    elev_catchment_path = make_default_path('shapefiles/catchment_intersection/with_dem') # outputs a Path()\n",
    "else:\n",
    "    elev_catchment_path = Path(elev_catchment_path) # make sure a user-specified path is a Path()"
   ]
  },
  {
   "cell_type": "markdown",
   "metadata": {},
   "source": [
    "#### Get the shapefile with the river network"
   ]
  },
  {
   "cell_type": "code",
   "execution_count": 28,
   "metadata": {},
   "outputs": [],
   "source": [
    "# River network path & name\n",
    "river_network_path = read_from_control(controlFolder/controlFile,'river_network_shp_path')\n",
    "river_network_name = read_from_control(controlFolder/controlFile,'river_network_shp_name')\n",
    "\n",
    "# Specify default path if needed\n",
    "if river_network_path == 'default':\n",
    "    river_network_path = make_default_path('shapefiles/river_network') # outputs a Path()\n",
    "else:\n",
    "    river_network_path = Path(river_network_path) # make sure a user-specified path is a Path()"
   ]
  },
  {
   "cell_type": "code",
   "execution_count": 29,
   "metadata": {},
   "outputs": [],
   "source": [
    "# Find the segment ID\n",
    "seg_id = read_from_control(controlFolder/controlFile,'river_network_shp_segid')"
   ]
  },
  {
   "cell_type": "markdown",
   "metadata": {},
   "source": [
    "#### Find the location of the simulations"
   ]
  },
  {
   "cell_type": "code",
   "execution_count": 30,
   "metadata": {},
   "outputs": [],
   "source": [
    "# SUMMA simulation path\n",
    "summa_output_path = read_from_control(controlFolder/controlFile,'experiment_output_summa')\n",
    "experiment_id = read_from_control(controlFolder/controlFile,'experiment_id')\n",
    "\n",
    "# Specify default path if needed\n",
    "if summa_output_path == 'default':\n",
    "    summa_output_path = make_default_path('simulations/' + experiment_id + '/SUMMA') # outputs a Path()\n",
    "else:\n",
    "    summa_output_path = Path(summa_output_path) # make sure a user-specified path is a Path()"
   ]
  },
  {
   "cell_type": "code",
   "execution_count": 31,
   "metadata": {},
   "outputs": [],
   "source": [
    "# Specify the output file name and variable of interest\n",
    "summa_output_name = experiment_id + '_day.nc'\n",
    "summa_plot_var = 'scalarSWE'"
   ]
  },
  {
   "cell_type": "code",
   "execution_count": 32,
   "metadata": {},
   "outputs": [],
   "source": [
    "# mizuRoute simulation path\n",
    "mizu_output_path = read_from_control(controlFolder/controlFile,'experiment_output_mizuRoute')\n",
    "experiment_id = read_from_control(controlFolder/controlFile,'experiment_id')\n",
    "\n",
    "# Specify default path if needed\n",
    "if mizu_output_path == 'default':\n",
    "    mizu_output_path = make_default_path('simulations/' + experiment_id + '/mizuRoute') # outputs a Path()\n",
    "else:\n",
    "    mizu_output_path = Path(mizu_output_path) # make sure a user-specified path is a Path()"
   ]
  },
  {
   "cell_type": "code",
   "execution_count": 33,
   "metadata": {},
   "outputs": [],
   "source": [
    "# Specify the variable of interest\n",
    "mizu_output_name = 'run1*.nc'\n",
    "mizu_plot_var = 'KWTroutedRunoff'"
   ]
  },
  {
   "cell_type": "markdown",
   "metadata": {},
   "source": [
    "#### Load the shape and data"
   ]
  },
  {
   "cell_type": "code",
   "execution_count": 34,
   "metadata": {},
   "outputs": [],
   "source": [
    "# catchment shapefile\n",
    "shp_catchment = gpd.read_file(hm_catchment_path/hm_catchment_name)"
   ]
  },
  {
   "cell_type": "code",
   "execution_count": 35,
   "metadata": {},
   "outputs": [],
   "source": [
    "# river shapefile\n",
    "shp_river = gpd.read_file(river_network_path/river_network_name)"
   ]
  },
  {
   "cell_type": "code",
   "execution_count": 36,
   "metadata": {},
   "outputs": [],
   "source": [
    "# catchment with DEM\n",
    "shp_elev = gpd.read_file(elev_catchment_path/elev_catchment_name)"
   ]
  },
  {
   "cell_type": "code",
   "execution_count": 37,
   "metadata": {},
   "outputs": [],
   "source": [
    "# SUMMA simulations\n",
    "sim_summa = xr.open_dataset(summa_output_path/summa_output_name)"
   ]
  },
  {
   "cell_type": "code",
   "execution_count": 38,
   "metadata": {},
   "outputs": [],
   "source": [
    "# mizuRoute simulations\n",
    "mizu_files = [mizu_output_path/file for file in os.listdir(mizu_output_path) if file.endswith('.nc')] # find all files\n",
    "sim_mizu = xr.merge( xr.open_dataset(file) for file in mizu_files) # open all files into a single dataset"
   ]
  },
  {
   "cell_type": "markdown",
   "metadata": {},
   "source": [
    "#### Add a water year definition"
   ]
  },
  {
   "cell_type": "code",
   "execution_count": 39,
   "metadata": {},
   "outputs": [],
   "source": [
    "# Define in which month the water year starts\n",
    "water_year_start = 'Oct' # Assumed to be on the 1st of the month"
   ]
  },
  {
   "cell_type": "code",
   "execution_count": 40,
   "metadata": {},
   "outputs": [],
   "source": [
    "# Convert month the number \n",
    "months = ['Jan','Feb','Mar','Apr','May','Jun','Jul','Aug','Sep','Oct','Nov','Dec']\n",
    "start_month = months.index(water_year_start) + 1 # add 1 to account for 0-based indexing in Python"
   ]
  },
  {
   "cell_type": "code",
   "execution_count": 41,
   "metadata": {},
   "outputs": [
    {
     "data": {
      "text/html": [
       "<div><svg style=\"position: absolute; width: 0; height: 0; overflow: hidden\">\n",
       "<defs>\n",
       "<symbol id=\"icon-database\" viewBox=\"0 0 32 32\">\n",
       "<path d=\"M16 0c-8.837 0-16 2.239-16 5v4c0 2.761 7.163 5 16 5s16-2.239 16-5v-4c0-2.761-7.163-5-16-5z\"></path>\n",
       "<path d=\"M16 17c-8.837 0-16-2.239-16-5v6c0 2.761 7.163 5 16 5s16-2.239 16-5v-6c0 2.761-7.163 5-16 5z\"></path>\n",
       "<path d=\"M16 26c-8.837 0-16-2.239-16-5v6c0 2.761 7.163 5 16 5s16-2.239 16-5v-6c0 2.761-7.163 5-16 5z\"></path>\n",
       "</symbol>\n",
       "<symbol id=\"icon-file-text2\" viewBox=\"0 0 32 32\">\n",
       "<path d=\"M28.681 7.159c-0.694-0.947-1.662-2.053-2.724-3.116s-2.169-2.030-3.116-2.724c-1.612-1.182-2.393-1.319-2.841-1.319h-15.5c-1.378 0-2.5 1.121-2.5 2.5v27c0 1.378 1.122 2.5 2.5 2.5h23c1.378 0 2.5-1.122 2.5-2.5v-19.5c0-0.448-0.137-1.23-1.319-2.841zM24.543 5.457c0.959 0.959 1.712 1.825 2.268 2.543h-4.811v-4.811c0.718 0.556 1.584 1.309 2.543 2.268zM28 29.5c0 0.271-0.229 0.5-0.5 0.5h-23c-0.271 0-0.5-0.229-0.5-0.5v-27c0-0.271 0.229-0.5 0.5-0.5 0 0 15.499-0 15.5 0v7c0 0.552 0.448 1 1 1h7v19.5z\"></path>\n",
       "<path d=\"M23 26h-14c-0.552 0-1-0.448-1-1s0.448-1 1-1h14c0.552 0 1 0.448 1 1s-0.448 1-1 1z\"></path>\n",
       "<path d=\"M23 22h-14c-0.552 0-1-0.448-1-1s0.448-1 1-1h14c0.552 0 1 0.448 1 1s-0.448 1-1 1z\"></path>\n",
       "<path d=\"M23 18h-14c-0.552 0-1-0.448-1-1s0.448-1 1-1h14c0.552 0 1 0.448 1 1s-0.448 1-1 1z\"></path>\n",
       "</symbol>\n",
       "</defs>\n",
       "</svg>\n",
       "<style>/* CSS stylesheet for displaying xarray objects in jupyterlab.\n",
       " *\n",
       " */\n",
       "\n",
       ":root {\n",
       "  --xr-font-color0: var(--jp-content-font-color0, rgba(0, 0, 0, 1));\n",
       "  --xr-font-color2: var(--jp-content-font-color2, rgba(0, 0, 0, 0.54));\n",
       "  --xr-font-color3: var(--jp-content-font-color3, rgba(0, 0, 0, 0.38));\n",
       "  --xr-border-color: var(--jp-border-color2, #e0e0e0);\n",
       "  --xr-disabled-color: var(--jp-layout-color3, #bdbdbd);\n",
       "  --xr-background-color: var(--jp-layout-color0, white);\n",
       "  --xr-background-color-row-even: var(--jp-layout-color1, white);\n",
       "  --xr-background-color-row-odd: var(--jp-layout-color2, #eeeeee);\n",
       "}\n",
       "\n",
       "html[theme=dark],\n",
       "body[data-theme=dark],\n",
       "body.vscode-dark {\n",
       "  --xr-font-color0: rgba(255, 255, 255, 1);\n",
       "  --xr-font-color2: rgba(255, 255, 255, 0.54);\n",
       "  --xr-font-color3: rgba(255, 255, 255, 0.38);\n",
       "  --xr-border-color: #1F1F1F;\n",
       "  --xr-disabled-color: #515151;\n",
       "  --xr-background-color: #111111;\n",
       "  --xr-background-color-row-even: #111111;\n",
       "  --xr-background-color-row-odd: #313131;\n",
       "}\n",
       "\n",
       ".xr-wrap {\n",
       "  display: block !important;\n",
       "  min-width: 300px;\n",
       "  max-width: 700px;\n",
       "}\n",
       "\n",
       ".xr-text-repr-fallback {\n",
       "  /* fallback to plain text repr when CSS is not injected (untrusted notebook) */\n",
       "  display: none;\n",
       "}\n",
       "\n",
       ".xr-header {\n",
       "  padding-top: 6px;\n",
       "  padding-bottom: 6px;\n",
       "  margin-bottom: 4px;\n",
       "  border-bottom: solid 1px var(--xr-border-color);\n",
       "}\n",
       "\n",
       ".xr-header > div,\n",
       ".xr-header > ul {\n",
       "  display: inline;\n",
       "  margin-top: 0;\n",
       "  margin-bottom: 0;\n",
       "}\n",
       "\n",
       ".xr-obj-type,\n",
       ".xr-array-name {\n",
       "  margin-left: 2px;\n",
       "  margin-right: 10px;\n",
       "}\n",
       "\n",
       ".xr-obj-type {\n",
       "  color: var(--xr-font-color2);\n",
       "}\n",
       "\n",
       ".xr-sections {\n",
       "  padding-left: 0 !important;\n",
       "  display: grid;\n",
       "  grid-template-columns: 150px auto auto 1fr 20px 20px;\n",
       "}\n",
       "\n",
       ".xr-section-item {\n",
       "  display: contents;\n",
       "}\n",
       "\n",
       ".xr-section-item input {\n",
       "  display: none;\n",
       "}\n",
       "\n",
       ".xr-section-item input + label {\n",
       "  color: var(--xr-disabled-color);\n",
       "}\n",
       "\n",
       ".xr-section-item input:enabled + label {\n",
       "  cursor: pointer;\n",
       "  color: var(--xr-font-color2);\n",
       "}\n",
       "\n",
       ".xr-section-item input:enabled + label:hover {\n",
       "  color: var(--xr-font-color0);\n",
       "}\n",
       "\n",
       ".xr-section-summary {\n",
       "  grid-column: 1;\n",
       "  color: var(--xr-font-color2);\n",
       "  font-weight: 500;\n",
       "}\n",
       "\n",
       ".xr-section-summary > span {\n",
       "  display: inline-block;\n",
       "  padding-left: 0.5em;\n",
       "}\n",
       "\n",
       ".xr-section-summary-in:disabled + label {\n",
       "  color: var(--xr-font-color2);\n",
       "}\n",
       "\n",
       ".xr-section-summary-in + label:before {\n",
       "  display: inline-block;\n",
       "  content: '►';\n",
       "  font-size: 11px;\n",
       "  width: 15px;\n",
       "  text-align: center;\n",
       "}\n",
       "\n",
       ".xr-section-summary-in:disabled + label:before {\n",
       "  color: var(--xr-disabled-color);\n",
       "}\n",
       "\n",
       ".xr-section-summary-in:checked + label:before {\n",
       "  content: '▼';\n",
       "}\n",
       "\n",
       ".xr-section-summary-in:checked + label > span {\n",
       "  display: none;\n",
       "}\n",
       "\n",
       ".xr-section-summary,\n",
       ".xr-section-inline-details {\n",
       "  padding-top: 4px;\n",
       "  padding-bottom: 4px;\n",
       "}\n",
       "\n",
       ".xr-section-inline-details {\n",
       "  grid-column: 2 / -1;\n",
       "}\n",
       "\n",
       ".xr-section-details {\n",
       "  display: none;\n",
       "  grid-column: 1 / -1;\n",
       "  margin-bottom: 5px;\n",
       "}\n",
       "\n",
       ".xr-section-summary-in:checked ~ .xr-section-details {\n",
       "  display: contents;\n",
       "}\n",
       "\n",
       ".xr-array-wrap {\n",
       "  grid-column: 1 / -1;\n",
       "  display: grid;\n",
       "  grid-template-columns: 20px auto;\n",
       "}\n",
       "\n",
       ".xr-array-wrap > label {\n",
       "  grid-column: 1;\n",
       "  vertical-align: top;\n",
       "}\n",
       "\n",
       ".xr-preview {\n",
       "  color: var(--xr-font-color3);\n",
       "}\n",
       "\n",
       ".xr-array-preview,\n",
       ".xr-array-data {\n",
       "  padding: 0 5px !important;\n",
       "  grid-column: 2;\n",
       "}\n",
       "\n",
       ".xr-array-data,\n",
       ".xr-array-in:checked ~ .xr-array-preview {\n",
       "  display: none;\n",
       "}\n",
       "\n",
       ".xr-array-in:checked ~ .xr-array-data,\n",
       ".xr-array-preview {\n",
       "  display: inline-block;\n",
       "}\n",
       "\n",
       ".xr-dim-list {\n",
       "  display: inline-block !important;\n",
       "  list-style: none;\n",
       "  padding: 0 !important;\n",
       "  margin: 0;\n",
       "}\n",
       "\n",
       ".xr-dim-list li {\n",
       "  display: inline-block;\n",
       "  padding: 0;\n",
       "  margin: 0;\n",
       "}\n",
       "\n",
       ".xr-dim-list:before {\n",
       "  content: '(';\n",
       "}\n",
       "\n",
       ".xr-dim-list:after {\n",
       "  content: ')';\n",
       "}\n",
       "\n",
       ".xr-dim-list li:not(:last-child):after {\n",
       "  content: ',';\n",
       "  padding-right: 5px;\n",
       "}\n",
       "\n",
       ".xr-has-index {\n",
       "  font-weight: bold;\n",
       "}\n",
       "\n",
       ".xr-var-list,\n",
       ".xr-var-item {\n",
       "  display: contents;\n",
       "}\n",
       "\n",
       ".xr-var-item > div,\n",
       ".xr-var-item label,\n",
       ".xr-var-item > .xr-var-name span {\n",
       "  background-color: var(--xr-background-color-row-even);\n",
       "  margin-bottom: 0;\n",
       "}\n",
       "\n",
       ".xr-var-item > .xr-var-name:hover span {\n",
       "  padding-right: 5px;\n",
       "}\n",
       "\n",
       ".xr-var-list > li:nth-child(odd) > div,\n",
       ".xr-var-list > li:nth-child(odd) > label,\n",
       ".xr-var-list > li:nth-child(odd) > .xr-var-name span {\n",
       "  background-color: var(--xr-background-color-row-odd);\n",
       "}\n",
       "\n",
       ".xr-var-name {\n",
       "  grid-column: 1;\n",
       "}\n",
       "\n",
       ".xr-var-dims {\n",
       "  grid-column: 2;\n",
       "}\n",
       "\n",
       ".xr-var-dtype {\n",
       "  grid-column: 3;\n",
       "  text-align: right;\n",
       "  color: var(--xr-font-color2);\n",
       "}\n",
       "\n",
       ".xr-var-preview {\n",
       "  grid-column: 4;\n",
       "}\n",
       "\n",
       ".xr-index-preview {\n",
       "  grid-column: 2 / 5;\n",
       "  color: var(--xr-font-color2);\n",
       "}\n",
       "\n",
       ".xr-var-name,\n",
       ".xr-var-dims,\n",
       ".xr-var-dtype,\n",
       ".xr-preview,\n",
       ".xr-attrs dt {\n",
       "  white-space: nowrap;\n",
       "  overflow: hidden;\n",
       "  text-overflow: ellipsis;\n",
       "  padding-right: 10px;\n",
       "}\n",
       "\n",
       ".xr-var-name:hover,\n",
       ".xr-var-dims:hover,\n",
       ".xr-var-dtype:hover,\n",
       ".xr-attrs dt:hover {\n",
       "  overflow: visible;\n",
       "  width: auto;\n",
       "  z-index: 1;\n",
       "}\n",
       "\n",
       ".xr-var-attrs,\n",
       ".xr-var-data,\n",
       ".xr-index-data {\n",
       "  display: none;\n",
       "  background-color: var(--xr-background-color) !important;\n",
       "  padding-bottom: 5px !important;\n",
       "}\n",
       "\n",
       ".xr-var-attrs-in:checked ~ .xr-var-attrs,\n",
       ".xr-var-data-in:checked ~ .xr-var-data,\n",
       ".xr-index-data-in:checked ~ .xr-index-data {\n",
       "  display: block;\n",
       "}\n",
       "\n",
       ".xr-var-data > table {\n",
       "  float: right;\n",
       "}\n",
       "\n",
       ".xr-var-name span,\n",
       ".xr-var-data,\n",
       ".xr-index-name div,\n",
       ".xr-index-data,\n",
       ".xr-attrs {\n",
       "  padding-left: 25px !important;\n",
       "}\n",
       "\n",
       ".xr-attrs,\n",
       ".xr-var-attrs,\n",
       ".xr-var-data,\n",
       ".xr-index-data {\n",
       "  grid-column: 1 / -1;\n",
       "}\n",
       "\n",
       "dl.xr-attrs {\n",
       "  padding: 0;\n",
       "  margin: 0;\n",
       "  display: grid;\n",
       "  grid-template-columns: 125px auto;\n",
       "}\n",
       "\n",
       ".xr-attrs dt,\n",
       ".xr-attrs dd {\n",
       "  padding: 0;\n",
       "  margin: 0;\n",
       "  float: left;\n",
       "  padding-right: 10px;\n",
       "  width: auto;\n",
       "}\n",
       "\n",
       ".xr-attrs dt {\n",
       "  font-weight: normal;\n",
       "  grid-column: 1;\n",
       "}\n",
       "\n",
       ".xr-attrs dt:hover span {\n",
       "  display: inline-block;\n",
       "  background: var(--xr-background-color);\n",
       "  padding-right: 10px;\n",
       "}\n",
       "\n",
       ".xr-attrs dd {\n",
       "  grid-column: 2;\n",
       "  white-space: pre-wrap;\n",
       "  word-break: break-all;\n",
       "}\n",
       "\n",
       ".xr-icon-database,\n",
       ".xr-icon-file-text2,\n",
       ".xr-no-icon {\n",
       "  display: inline-block;\n",
       "  vertical-align: middle;\n",
       "  width: 1em;\n",
       "  height: 1.5em !important;\n",
       "  stroke-width: 0;\n",
       "  stroke: currentColor;\n",
       "  fill: currentColor;\n",
       "}\n",
       "</style><pre class='xr-text-repr-fallback'>&lt;xarray.Dataset&gt; Size: 2GB\n",
       "Dimensions:                   (time: 365, hru: 35295, gru: 35295)\n",
       "Coordinates:\n",
       "  * time                      (time) datetime64[ns] 3kB 2000-01-02 ... 2000-1...\n",
       "  * hru                       (hru) int64 282kB 1 2 3 4 ... 35322 35323 35324\n",
       "  * gru                       (gru) int64 282kB 1 2 3 4 ... 35322 35323 35324\n",
       "Data variables: (12/20)\n",
       "    scalarCanopyWat           (time, hru) float64 103MB ...\n",
       "    scalarSnowDepth           (time, hru) float64 103MB ...\n",
       "    scalarSWE                 (time, hru) float64 103MB ...\n",
       "    scalarAquiferStorage      (time, hru) float64 103MB ...\n",
       "    scalarGroundSnowFraction  (time, hru) float64 103MB ...\n",
       "    scalarTotalSoilWat        (time, hru) float64 103MB ...\n",
       "    ...                        ...\n",
       "    scalarTotalET             (time, hru) float64 103MB ...\n",
       "    scalarTotalRunoff         (time, hru) float64 103MB ...\n",
       "    scalarNetRadiation        (time, hru) float64 103MB ...\n",
       "    hruId                     (hru) int64 282kB ...\n",
       "    gruId                     (gru) int64 282kB ...\n",
       "    water_year                (time) int64 3kB 2000 2000 2000 ... 2000 2000 2000\n",
       "Attributes: (12/32)\n",
       "    summaVersion:     undefined\n",
       "    buildTime:        Fri 16 Feb 2024 08:37:03 MST\n",
       "    gitBranch:        main-0-g8540d65\n",
       "    gitHash:          8540d65e99f9fde311900d4e23934f40b3ce8bd7\n",
       "    soilCatTbl:       ROSETTA\n",
       "    vegeParTbl:       MODIFIED_IGBP_MODIS_NOAH\n",
       "    ...               ...\n",
       "    snowLayers:       CLM_2010\n",
       "    compaction:       anderson\n",
       "    thCondSnow:       jrdn1991\n",
       "    thCondSoil:       funcSoilWet\n",
       "    spatial_gw:       localColumn\n",
       "    subRouting:       timeDlay</pre><div class='xr-wrap' style='display:none'><div class='xr-header'><div class='xr-obj-type'>xarray.Dataset</div></div><ul class='xr-sections'><li class='xr-section-item'><input id='section-4823cf89-2a86-41c6-9dd6-f7fdf45354ce' class='xr-section-summary-in' type='checkbox' disabled ><label for='section-4823cf89-2a86-41c6-9dd6-f7fdf45354ce' class='xr-section-summary'  title='Expand/collapse section'>Dimensions:</label><div class='xr-section-inline-details'><ul class='xr-dim-list'><li><span class='xr-has-index'>time</span>: 365</li><li><span class='xr-has-index'>hru</span>: 35295</li><li><span class='xr-has-index'>gru</span>: 35295</li></ul></div><div class='xr-section-details'></div></li><li class='xr-section-item'><input id='section-d9c2d4d9-07d6-4e7a-9e30-d42b394366bb' class='xr-section-summary-in' type='checkbox'  checked><label for='section-d9c2d4d9-07d6-4e7a-9e30-d42b394366bb' class='xr-section-summary' >Coordinates: <span>(3)</span></label><div class='xr-section-inline-details'></div><div class='xr-section-details'><ul class='xr-var-list'><li class='xr-var-item'><div class='xr-var-name'><span class='xr-has-index'>time</span></div><div class='xr-var-dims'>(time)</div><div class='xr-var-dtype'>datetime64[ns]</div><div class='xr-var-preview xr-preview'>2000-01-02 ... 2000-12-31</div><input id='attrs-26585507-5e8c-4939-8e35-f35317e919ef' class='xr-var-attrs-in' type='checkbox' ><label for='attrs-26585507-5e8c-4939-8e35-f35317e919ef' title='Show/Hide attributes'><svg class='icon xr-icon-file-text2'><use xlink:href='#icon-file-text2'></use></svg></label><input id='data-efc097ab-aea1-4eb4-a580-f93c5532ec0a' class='xr-var-data-in' type='checkbox'><label for='data-efc097ab-aea1-4eb4-a580-f93c5532ec0a' title='Show/Hide data repr'><svg class='icon xr-icon-database'><use xlink:href='#icon-database'></use></svg></label><div class='xr-var-attrs'><dl class='xr-attrs'><dt><span>long_name :</span></dt><dd>time since time reference (instant)</dd></dl></div><div class='xr-var-data'><pre>array([&#x27;2000-01-02T00:00:00.000000000&#x27;, &#x27;2000-01-03T00:00:00.000000000&#x27;,\n",
       "       &#x27;2000-01-04T00:00:00.000000000&#x27;, ..., &#x27;2000-12-29T00:00:00.000000000&#x27;,\n",
       "       &#x27;2000-12-30T00:00:00.000000000&#x27;, &#x27;2000-12-31T00:00:00.000000000&#x27;],\n",
       "      dtype=&#x27;datetime64[ns]&#x27;)</pre></div></li><li class='xr-var-item'><div class='xr-var-name'><span class='xr-has-index'>hru</span></div><div class='xr-var-dims'>(hru)</div><div class='xr-var-dtype'>int64</div><div class='xr-var-preview xr-preview'>1 2 3 4 ... 35321 35322 35323 35324</div><input id='attrs-063cddac-f298-4efa-acfa-751f87c6ba7a' class='xr-var-attrs-in' type='checkbox' ><label for='attrs-063cddac-f298-4efa-acfa-751f87c6ba7a' title='Show/Hide attributes'><svg class='icon xr-icon-file-text2'><use xlink:href='#icon-file-text2'></use></svg></label><input id='data-9827b55a-1072-493a-aeef-e7e50e9e6356' class='xr-var-data-in' type='checkbox'><label for='data-9827b55a-1072-493a-aeef-e7e50e9e6356' title='Show/Hide data repr'><svg class='icon xr-icon-database'><use xlink:href='#icon-database'></use></svg></label><div class='xr-var-attrs'><dl class='xr-attrs'><dt><span>long_name :</span></dt><dd>hruId in the input file</dd><dt><span>units :</span></dt><dd>-</dd></dl></div><div class='xr-var-data'><pre>array([    1,     2,     3, ..., 35322, 35323, 35324])</pre></div></li><li class='xr-var-item'><div class='xr-var-name'><span class='xr-has-index'>gru</span></div><div class='xr-var-dims'>(gru)</div><div class='xr-var-dtype'>int64</div><div class='xr-var-preview xr-preview'>1 2 3 4 ... 35321 35322 35323 35324</div><input id='attrs-41136af2-fe19-4df9-afa7-569c58c0598c' class='xr-var-attrs-in' type='checkbox' ><label for='attrs-41136af2-fe19-4df9-afa7-569c58c0598c' title='Show/Hide attributes'><svg class='icon xr-icon-file-text2'><use xlink:href='#icon-file-text2'></use></svg></label><input id='data-902837a5-d5f0-448d-ab79-322bdcdfc9c2' class='xr-var-data-in' type='checkbox'><label for='data-902837a5-d5f0-448d-ab79-322bdcdfc9c2' title='Show/Hide data repr'><svg class='icon xr-icon-database'><use xlink:href='#icon-database'></use></svg></label><div class='xr-var-attrs'><dl class='xr-attrs'><dt><span>long_name :</span></dt><dd>gruId in the input file</dd><dt><span>units :</span></dt><dd>-</dd></dl></div><div class='xr-var-data'><pre>array([    1,     2,     3, ..., 35322, 35323, 35324])</pre></div></li></ul></div></li><li class='xr-section-item'><input id='section-070ded3e-47b8-4de7-83ee-1066244c8f71' class='xr-section-summary-in' type='checkbox'  ><label for='section-070ded3e-47b8-4de7-83ee-1066244c8f71' class='xr-section-summary' >Data variables: <span>(20)</span></label><div class='xr-section-inline-details'></div><div class='xr-section-details'><ul class='xr-var-list'><li class='xr-var-item'><div class='xr-var-name'><span>scalarCanopyWat</span></div><div class='xr-var-dims'>(time, hru)</div><div class='xr-var-dtype'>float64</div><div class='xr-var-preview xr-preview'>...</div><input id='attrs-220fb537-39f4-4e3f-b180-13c968e17733' class='xr-var-attrs-in' type='checkbox' ><label for='attrs-220fb537-39f4-4e3f-b180-13c968e17733' title='Show/Hide attributes'><svg class='icon xr-icon-file-text2'><use xlink:href='#icon-file-text2'></use></svg></label><input id='data-8c836389-c00a-4c31-9000-585e682389a5' class='xr-var-data-in' type='checkbox'><label for='data-8c836389-c00a-4c31-9000-585e682389a5' title='Show/Hide data repr'><svg class='icon xr-icon-database'><use xlink:href='#icon-database'></use></svg></label><div class='xr-var-attrs'><dl class='xr-attrs'><dt><span>long_name :</span></dt><dd>mass of total water on the vegetation canopy (instant)</dd><dt><span>units :</span></dt><dd>kg m-2</dd></dl></div><div class='xr-var-data'><pre>[12882675 values with dtype=float64]</pre></div></li><li class='xr-var-item'><div class='xr-var-name'><span>scalarSnowDepth</span></div><div class='xr-var-dims'>(time, hru)</div><div class='xr-var-dtype'>float64</div><div class='xr-var-preview xr-preview'>...</div><input id='attrs-ff179222-7631-48d9-93b2-95ada58be656' class='xr-var-attrs-in' type='checkbox' ><label for='attrs-ff179222-7631-48d9-93b2-95ada58be656' title='Show/Hide attributes'><svg class='icon xr-icon-file-text2'><use xlink:href='#icon-file-text2'></use></svg></label><input id='data-5be5bc32-610d-4424-b7e3-515abb9231cc' class='xr-var-data-in' type='checkbox'><label for='data-5be5bc32-610d-4424-b7e3-515abb9231cc' title='Show/Hide data repr'><svg class='icon xr-icon-database'><use xlink:href='#icon-database'></use></svg></label><div class='xr-var-attrs'><dl class='xr-attrs'><dt><span>long_name :</span></dt><dd>total snow depth (instant)</dd><dt><span>units :</span></dt><dd>m</dd></dl></div><div class='xr-var-data'><pre>[12882675 values with dtype=float64]</pre></div></li><li class='xr-var-item'><div class='xr-var-name'><span>scalarSWE</span></div><div class='xr-var-dims'>(time, hru)</div><div class='xr-var-dtype'>float64</div><div class='xr-var-preview xr-preview'>...</div><input id='attrs-b856cba9-05f7-4811-ad33-097159c81976' class='xr-var-attrs-in' type='checkbox' ><label for='attrs-b856cba9-05f7-4811-ad33-097159c81976' title='Show/Hide attributes'><svg class='icon xr-icon-file-text2'><use xlink:href='#icon-file-text2'></use></svg></label><input id='data-59887406-96b9-4a05-acb2-a968b599479b' class='xr-var-data-in' type='checkbox'><label for='data-59887406-96b9-4a05-acb2-a968b599479b' title='Show/Hide data repr'><svg class='icon xr-icon-database'><use xlink:href='#icon-database'></use></svg></label><div class='xr-var-attrs'><dl class='xr-attrs'><dt><span>long_name :</span></dt><dd>snow water equivalent (instant)</dd><dt><span>units :</span></dt><dd>kg m-2</dd></dl></div><div class='xr-var-data'><pre>[12882675 values with dtype=float64]</pre></div></li><li class='xr-var-item'><div class='xr-var-name'><span>scalarAquiferStorage</span></div><div class='xr-var-dims'>(time, hru)</div><div class='xr-var-dtype'>float64</div><div class='xr-var-preview xr-preview'>...</div><input id='attrs-9344c0d8-66bb-435d-b9a9-2502a8873da1' class='xr-var-attrs-in' type='checkbox' ><label for='attrs-9344c0d8-66bb-435d-b9a9-2502a8873da1' title='Show/Hide attributes'><svg class='icon xr-icon-file-text2'><use xlink:href='#icon-file-text2'></use></svg></label><input id='data-3917de62-605f-4dcc-b5b7-9504ccd73160' class='xr-var-data-in' type='checkbox'><label for='data-3917de62-605f-4dcc-b5b7-9504ccd73160' title='Show/Hide data repr'><svg class='icon xr-icon-database'><use xlink:href='#icon-database'></use></svg></label><div class='xr-var-attrs'><dl class='xr-attrs'><dt><span>long_name :</span></dt><dd>water required to bring aquifer to the bottom of the soil profile (instant)</dd><dt><span>units :</span></dt><dd>m</dd></dl></div><div class='xr-var-data'><pre>[12882675 values with dtype=float64]</pre></div></li><li class='xr-var-item'><div class='xr-var-name'><span>scalarGroundSnowFraction</span></div><div class='xr-var-dims'>(time, hru)</div><div class='xr-var-dtype'>float64</div><div class='xr-var-preview xr-preview'>...</div><input id='attrs-50bec126-db10-4f3e-9de9-7203e211a60b' class='xr-var-attrs-in' type='checkbox' ><label for='attrs-50bec126-db10-4f3e-9de9-7203e211a60b' title='Show/Hide attributes'><svg class='icon xr-icon-file-text2'><use xlink:href='#icon-file-text2'></use></svg></label><input id='data-ba6ba4b3-3692-453f-872d-f6b99bc6707d' class='xr-var-data-in' type='checkbox'><label for='data-ba6ba4b3-3692-453f-872d-f6b99bc6707d' title='Show/Hide data repr'><svg class='icon xr-icon-database'><use xlink:href='#icon-database'></use></svg></label><div class='xr-var-attrs'><dl class='xr-attrs'><dt><span>long_name :</span></dt><dd>fraction ground that is covered with snow (instant)</dd><dt><span>units :</span></dt><dd>-</dd></dl></div><div class='xr-var-data'><pre>[12882675 values with dtype=float64]</pre></div></li><li class='xr-var-item'><div class='xr-var-name'><span>scalarTotalSoilWat</span></div><div class='xr-var-dims'>(time, hru)</div><div class='xr-var-dtype'>float64</div><div class='xr-var-preview xr-preview'>...</div><input id='attrs-24d03290-e5ec-44f1-9a0d-874c379d39b5' class='xr-var-attrs-in' type='checkbox' ><label for='attrs-24d03290-e5ec-44f1-9a0d-874c379d39b5' title='Show/Hide attributes'><svg class='icon xr-icon-file-text2'><use xlink:href='#icon-file-text2'></use></svg></label><input id='data-f2a10580-0840-4d40-b3b6-fc18c1e77b60' class='xr-var-data-in' type='checkbox'><label for='data-f2a10580-0840-4d40-b3b6-fc18c1e77b60' title='Show/Hide data repr'><svg class='icon xr-icon-database'><use xlink:href='#icon-database'></use></svg></label><div class='xr-var-attrs'><dl class='xr-attrs'><dt><span>long_name :</span></dt><dd>total mass of water in the soil (instant)</dd><dt><span>units :</span></dt><dd>kg m-2</dd></dl></div><div class='xr-var-data'><pre>[12882675 values with dtype=float64]</pre></div></li><li class='xr-var-item'><div class='xr-var-name'><span>scalarSenHeatTotal</span></div><div class='xr-var-dims'>(time, hru)</div><div class='xr-var-dtype'>float64</div><div class='xr-var-preview xr-preview'>...</div><input id='attrs-d1e77f10-475a-486d-bdc4-88e4e06b9c88' class='xr-var-attrs-in' type='checkbox' ><label for='attrs-d1e77f10-475a-486d-bdc4-88e4e06b9c88' title='Show/Hide attributes'><svg class='icon xr-icon-file-text2'><use xlink:href='#icon-file-text2'></use></svg></label><input id='data-7c98782c-2210-4163-8421-7a6a7bff81d2' class='xr-var-data-in' type='checkbox'><label for='data-7c98782c-2210-4163-8421-7a6a7bff81d2' title='Show/Hide data repr'><svg class='icon xr-icon-database'><use xlink:href='#icon-database'></use></svg></label><div class='xr-var-attrs'><dl class='xr-attrs'><dt><span>long_name :</span></dt><dd>sensible heat from the canopy air space to the atmosphere (instant)</dd><dt><span>units :</span></dt><dd>W m-2</dd></dl></div><div class='xr-var-data'><pre>[12882675 values with dtype=float64]</pre></div></li><li class='xr-var-item'><div class='xr-var-name'><span>scalarLatHeatTotal</span></div><div class='xr-var-dims'>(time, hru)</div><div class='xr-var-dtype'>float64</div><div class='xr-var-preview xr-preview'>...</div><input id='attrs-4964d55c-0019-4b8a-962a-3d19b6e1625e' class='xr-var-attrs-in' type='checkbox' ><label for='attrs-4964d55c-0019-4b8a-962a-3d19b6e1625e' title='Show/Hide attributes'><svg class='icon xr-icon-file-text2'><use xlink:href='#icon-file-text2'></use></svg></label><input id='data-c1bb39ff-3170-4b3c-9b23-c1b4a6507ca4' class='xr-var-data-in' type='checkbox'><label for='data-c1bb39ff-3170-4b3c-9b23-c1b4a6507ca4' title='Show/Hide data repr'><svg class='icon xr-icon-database'><use xlink:href='#icon-database'></use></svg></label><div class='xr-var-attrs'><dl class='xr-attrs'><dt><span>long_name :</span></dt><dd>latent heat from the canopy air space to the atmosphere (instant)</dd><dt><span>units :</span></dt><dd>W m-2</dd></dl></div><div class='xr-var-data'><pre>[12882675 values with dtype=float64]</pre></div></li><li class='xr-var-item'><div class='xr-var-name'><span>scalarRainPlusMelt</span></div><div class='xr-var-dims'>(time, hru)</div><div class='xr-var-dtype'>float64</div><div class='xr-var-preview xr-preview'>...</div><input id='attrs-76459ff4-45a8-445a-b747-bfb9a88839b4' class='xr-var-attrs-in' type='checkbox' ><label for='attrs-76459ff4-45a8-445a-b747-bfb9a88839b4' title='Show/Hide attributes'><svg class='icon xr-icon-file-text2'><use xlink:href='#icon-file-text2'></use></svg></label><input id='data-18ef1447-f5f7-41e9-a35e-a165c7a7b2dc' class='xr-var-data-in' type='checkbox'><label for='data-18ef1447-f5f7-41e9-a35e-a165c7a7b2dc' title='Show/Hide data repr'><svg class='icon xr-icon-database'><use xlink:href='#icon-database'></use></svg></label><div class='xr-var-attrs'><dl class='xr-attrs'><dt><span>long_name :</span></dt><dd>rain plus melt, used as input to soil before surface runoff (instant)</dd><dt><span>units :</span></dt><dd>m s-1</dd></dl></div><div class='xr-var-data'><pre>[12882675 values with dtype=float64]</pre></div></li><li class='xr-var-item'><div class='xr-var-name'><span>scalarInfiltration</span></div><div class='xr-var-dims'>(time, hru)</div><div class='xr-var-dtype'>float64</div><div class='xr-var-preview xr-preview'>...</div><input id='attrs-35924db4-482a-4c66-9dd7-563066b18dc3' class='xr-var-attrs-in' type='checkbox' ><label for='attrs-35924db4-482a-4c66-9dd7-563066b18dc3' title='Show/Hide attributes'><svg class='icon xr-icon-file-text2'><use xlink:href='#icon-file-text2'></use></svg></label><input id='data-5a9c93c2-b56e-4ab6-a7df-cff21986919c' class='xr-var-data-in' type='checkbox'><label for='data-5a9c93c2-b56e-4ab6-a7df-cff21986919c' title='Show/Hide data repr'><svg class='icon xr-icon-database'><use xlink:href='#icon-database'></use></svg></label><div class='xr-var-attrs'><dl class='xr-attrs'><dt><span>long_name :</span></dt><dd>infiltration of water into the soil profile (instant)</dd><dt><span>units :</span></dt><dd>m s-1</dd></dl></div><div class='xr-var-data'><pre>[12882675 values with dtype=float64]</pre></div></li><li class='xr-var-item'><div class='xr-var-name'><span>scalarSurfaceRunoff</span></div><div class='xr-var-dims'>(time, hru)</div><div class='xr-var-dtype'>float64</div><div class='xr-var-preview xr-preview'>...</div><input id='attrs-0ac26412-8cec-4502-a533-df932a410142' class='xr-var-attrs-in' type='checkbox' ><label for='attrs-0ac26412-8cec-4502-a533-df932a410142' title='Show/Hide attributes'><svg class='icon xr-icon-file-text2'><use xlink:href='#icon-file-text2'></use></svg></label><input id='data-5732d71b-9628-4942-b76d-b0a169e9a561' class='xr-var-data-in' type='checkbox'><label for='data-5732d71b-9628-4942-b76d-b0a169e9a561' title='Show/Hide data repr'><svg class='icon xr-icon-database'><use xlink:href='#icon-database'></use></svg></label><div class='xr-var-attrs'><dl class='xr-attrs'><dt><span>long_name :</span></dt><dd>surface runoff (instant)</dd><dt><span>units :</span></dt><dd>m s-1</dd></dl></div><div class='xr-var-data'><pre>[12882675 values with dtype=float64]</pre></div></li><li class='xr-var-item'><div class='xr-var-name'><span>scalarSoilBaseflow</span></div><div class='xr-var-dims'>(time, hru)</div><div class='xr-var-dtype'>float64</div><div class='xr-var-preview xr-preview'>...</div><input id='attrs-0d3396e8-42f4-4832-9009-0d3d5f0134f6' class='xr-var-attrs-in' type='checkbox' ><label for='attrs-0d3396e8-42f4-4832-9009-0d3d5f0134f6' title='Show/Hide attributes'><svg class='icon xr-icon-file-text2'><use xlink:href='#icon-file-text2'></use></svg></label><input id='data-fbbf8848-8630-4af1-89cb-2936ed2c66a5' class='xr-var-data-in' type='checkbox'><label for='data-fbbf8848-8630-4af1-89cb-2936ed2c66a5' title='Show/Hide data repr'><svg class='icon xr-icon-database'><use xlink:href='#icon-database'></use></svg></label><div class='xr-var-attrs'><dl class='xr-attrs'><dt><span>long_name :</span></dt><dd>total baseflow from the soil profile (instant)</dd><dt><span>units :</span></dt><dd>m s-1</dd></dl></div><div class='xr-var-data'><pre>[12882675 values with dtype=float64]</pre></div></li><li class='xr-var-item'><div class='xr-var-name'><span>scalarSoilDrainage</span></div><div class='xr-var-dims'>(time, hru)</div><div class='xr-var-dtype'>float64</div><div class='xr-var-preview xr-preview'>...</div><input id='attrs-66226bb5-6876-4f6c-b6bf-e5b38868a635' class='xr-var-attrs-in' type='checkbox' ><label for='attrs-66226bb5-6876-4f6c-b6bf-e5b38868a635' title='Show/Hide attributes'><svg class='icon xr-icon-file-text2'><use xlink:href='#icon-file-text2'></use></svg></label><input id='data-d5d22c13-31f4-4bc2-b465-7451b6852ab8' class='xr-var-data-in' type='checkbox'><label for='data-d5d22c13-31f4-4bc2-b465-7451b6852ab8' title='Show/Hide data repr'><svg class='icon xr-icon-database'><use xlink:href='#icon-database'></use></svg></label><div class='xr-var-attrs'><dl class='xr-attrs'><dt><span>long_name :</span></dt><dd>drainage from the bottom of the soil profile (instant)</dd><dt><span>units :</span></dt><dd>m s-1</dd></dl></div><div class='xr-var-data'><pre>[12882675 values with dtype=float64]</pre></div></li><li class='xr-var-item'><div class='xr-var-name'><span>scalarAquiferBaseflow</span></div><div class='xr-var-dims'>(time, hru)</div><div class='xr-var-dtype'>float64</div><div class='xr-var-preview xr-preview'>...</div><input id='attrs-d1e47785-fad8-4e14-aba1-e8172e6cb868' class='xr-var-attrs-in' type='checkbox' ><label for='attrs-d1e47785-fad8-4e14-aba1-e8172e6cb868' title='Show/Hide attributes'><svg class='icon xr-icon-file-text2'><use xlink:href='#icon-file-text2'></use></svg></label><input id='data-5ef36609-f7e4-4e95-b8a5-24c304dba412' class='xr-var-data-in' type='checkbox'><label for='data-5ef36609-f7e4-4e95-b8a5-24c304dba412' title='Show/Hide data repr'><svg class='icon xr-icon-database'><use xlink:href='#icon-database'></use></svg></label><div class='xr-var-attrs'><dl class='xr-attrs'><dt><span>long_name :</span></dt><dd>baseflow from the aquifer (instant)</dd><dt><span>units :</span></dt><dd>m s-1</dd></dl></div><div class='xr-var-data'><pre>[12882675 values with dtype=float64]</pre></div></li><li class='xr-var-item'><div class='xr-var-name'><span>scalarTotalET</span></div><div class='xr-var-dims'>(time, hru)</div><div class='xr-var-dtype'>float64</div><div class='xr-var-preview xr-preview'>...</div><input id='attrs-5a98c811-dfd2-4f8a-b07f-44f3db190e23' class='xr-var-attrs-in' type='checkbox' ><label for='attrs-5a98c811-dfd2-4f8a-b07f-44f3db190e23' title='Show/Hide attributes'><svg class='icon xr-icon-file-text2'><use xlink:href='#icon-file-text2'></use></svg></label><input id='data-20a234df-647a-4fb4-8683-a08d2656f124' class='xr-var-data-in' type='checkbox'><label for='data-20a234df-647a-4fb4-8683-a08d2656f124' title='Show/Hide data repr'><svg class='icon xr-icon-database'><use xlink:href='#icon-database'></use></svg></label><div class='xr-var-attrs'><dl class='xr-attrs'><dt><span>long_name :</span></dt><dd>total ET (instant)</dd><dt><span>units :</span></dt><dd>kg m-2 s-1</dd></dl></div><div class='xr-var-data'><pre>[12882675 values with dtype=float64]</pre></div></li><li class='xr-var-item'><div class='xr-var-name'><span>scalarTotalRunoff</span></div><div class='xr-var-dims'>(time, hru)</div><div class='xr-var-dtype'>float64</div><div class='xr-var-preview xr-preview'>...</div><input id='attrs-5f5d278d-9711-416f-8e1f-c2b62436180f' class='xr-var-attrs-in' type='checkbox' ><label for='attrs-5f5d278d-9711-416f-8e1f-c2b62436180f' title='Show/Hide attributes'><svg class='icon xr-icon-file-text2'><use xlink:href='#icon-file-text2'></use></svg></label><input id='data-5bd31788-aa9a-4a8d-8915-0ebc968b0730' class='xr-var-data-in' type='checkbox'><label for='data-5bd31788-aa9a-4a8d-8915-0ebc968b0730' title='Show/Hide data repr'><svg class='icon xr-icon-database'><use xlink:href='#icon-database'></use></svg></label><div class='xr-var-attrs'><dl class='xr-attrs'><dt><span>long_name :</span></dt><dd>total runoff (instant)</dd><dt><span>units :</span></dt><dd>m s-1</dd></dl></div><div class='xr-var-data'><pre>[12882675 values with dtype=float64]</pre></div></li><li class='xr-var-item'><div class='xr-var-name'><span>scalarNetRadiation</span></div><div class='xr-var-dims'>(time, hru)</div><div class='xr-var-dtype'>float64</div><div class='xr-var-preview xr-preview'>...</div><input id='attrs-aea4d572-4df9-4f93-a80c-fd81a05f150d' class='xr-var-attrs-in' type='checkbox' ><label for='attrs-aea4d572-4df9-4f93-a80c-fd81a05f150d' title='Show/Hide attributes'><svg class='icon xr-icon-file-text2'><use xlink:href='#icon-file-text2'></use></svg></label><input id='data-e48bc443-f5dc-490f-b63b-2f9c3d461cc0' class='xr-var-data-in' type='checkbox'><label for='data-e48bc443-f5dc-490f-b63b-2f9c3d461cc0' title='Show/Hide data repr'><svg class='icon xr-icon-database'><use xlink:href='#icon-database'></use></svg></label><div class='xr-var-attrs'><dl class='xr-attrs'><dt><span>long_name :</span></dt><dd>net radiation (instant)</dd><dt><span>units :</span></dt><dd>W m-2</dd></dl></div><div class='xr-var-data'><pre>[12882675 values with dtype=float64]</pre></div></li><li class='xr-var-item'><div class='xr-var-name'><span>hruId</span></div><div class='xr-var-dims'>(hru)</div><div class='xr-var-dtype'>int64</div><div class='xr-var-preview xr-preview'>...</div><input id='attrs-c8268594-2908-4950-af42-380db91a0104' class='xr-var-attrs-in' type='checkbox' ><label for='attrs-c8268594-2908-4950-af42-380db91a0104' title='Show/Hide attributes'><svg class='icon xr-icon-file-text2'><use xlink:href='#icon-file-text2'></use></svg></label><input id='data-b9676925-f144-41e6-b62e-9af7b74d7d9e' class='xr-var-data-in' type='checkbox'><label for='data-b9676925-f144-41e6-b62e-9af7b74d7d9e' title='Show/Hide data repr'><svg class='icon xr-icon-database'><use xlink:href='#icon-database'></use></svg></label><div class='xr-var-attrs'><dl class='xr-attrs'><dt><span>long_name :</span></dt><dd>ID defining the hydrologic response unit</dd><dt><span>units :</span></dt><dd>-</dd></dl></div><div class='xr-var-data'><pre>[35295 values with dtype=int64]</pre></div></li><li class='xr-var-item'><div class='xr-var-name'><span>gruId</span></div><div class='xr-var-dims'>(gru)</div><div class='xr-var-dtype'>int64</div><div class='xr-var-preview xr-preview'>...</div><input id='attrs-3d62f8b8-668d-4c0f-93c7-22aa861cc7a9' class='xr-var-attrs-in' type='checkbox' ><label for='attrs-3d62f8b8-668d-4c0f-93c7-22aa861cc7a9' title='Show/Hide attributes'><svg class='icon xr-icon-file-text2'><use xlink:href='#icon-file-text2'></use></svg></label><input id='data-aab8ce2d-e489-4680-9433-b8d312c7e8d4' class='xr-var-data-in' type='checkbox'><label for='data-aab8ce2d-e489-4680-9433-b8d312c7e8d4' title='Show/Hide data repr'><svg class='icon xr-icon-database'><use xlink:href='#icon-database'></use></svg></label><div class='xr-var-attrs'><dl class='xr-attrs'><dt><span>long_name :</span></dt><dd>ID defining the grouped (basin) response unit</dd><dt><span>units :</span></dt><dd>-</dd></dl></div><div class='xr-var-data'><pre>[35295 values with dtype=int64]</pre></div></li><li class='xr-var-item'><div class='xr-var-name'><span>water_year</span></div><div class='xr-var-dims'>(time)</div><div class='xr-var-dtype'>int64</div><div class='xr-var-preview xr-preview'>2000 2000 2000 ... 2000 2000 2000</div><input id='attrs-62a5e410-391a-42b6-b326-dd103e16465f' class='xr-var-attrs-in' type='checkbox' ><label for='attrs-62a5e410-391a-42b6-b326-dd103e16465f' title='Show/Hide attributes'><svg class='icon xr-icon-file-text2'><use xlink:href='#icon-file-text2'></use></svg></label><input id='data-c9561325-8be6-40ab-a626-2f7e7418dc96' class='xr-var-data-in' type='checkbox'><label for='data-c9561325-8be6-40ab-a626-2f7e7418dc96' title='Show/Hide data repr'><svg class='icon xr-icon-database'><use xlink:href='#icon-database'></use></svg></label><div class='xr-var-attrs'><dl class='xr-attrs'><dt><span>long_name :</span></dt><dd>time since time reference (instant)</dd></dl></div><div class='xr-var-data'><pre>array([2000, 2000, 2000, ..., 2000, 2000, 2000])</pre></div></li></ul></div></li><li class='xr-section-item'><input id='section-3c7cb60a-d196-4645-ae8b-9d3869decb48' class='xr-section-summary-in' type='checkbox'  ><label for='section-3c7cb60a-d196-4645-ae8b-9d3869decb48' class='xr-section-summary' >Indexes: <span>(3)</span></label><div class='xr-section-inline-details'></div><div class='xr-section-details'><ul class='xr-var-list'><li class='xr-var-item'><div class='xr-index-name'><div>time</div></div><div class='xr-index-preview'>PandasIndex</div><div></div><input id='index-4eba6ca6-57e8-4499-befe-b1a78ed9d985' class='xr-index-data-in' type='checkbox'/><label for='index-4eba6ca6-57e8-4499-befe-b1a78ed9d985' title='Show/Hide index repr'><svg class='icon xr-icon-database'><use xlink:href='#icon-database'></use></svg></label><div class='xr-index-data'><pre>PandasIndex(DatetimeIndex([&#x27;2000-01-02&#x27;, &#x27;2000-01-03&#x27;, &#x27;2000-01-04&#x27;, &#x27;2000-01-05&#x27;,\n",
       "               &#x27;2000-01-06&#x27;, &#x27;2000-01-07&#x27;, &#x27;2000-01-08&#x27;, &#x27;2000-01-09&#x27;,\n",
       "               &#x27;2000-01-10&#x27;, &#x27;2000-01-11&#x27;,\n",
       "               ...\n",
       "               &#x27;2000-12-22&#x27;, &#x27;2000-12-23&#x27;, &#x27;2000-12-24&#x27;, &#x27;2000-12-25&#x27;,\n",
       "               &#x27;2000-12-26&#x27;, &#x27;2000-12-27&#x27;, &#x27;2000-12-28&#x27;, &#x27;2000-12-29&#x27;,\n",
       "               &#x27;2000-12-30&#x27;, &#x27;2000-12-31&#x27;],\n",
       "              dtype=&#x27;datetime64[ns]&#x27;, name=&#x27;time&#x27;, length=365, freq=None))</pre></div></li><li class='xr-var-item'><div class='xr-index-name'><div>hru</div></div><div class='xr-index-preview'>PandasIndex</div><div></div><input id='index-ff8ebd34-d2f6-4843-afd1-9f58034cb91d' class='xr-index-data-in' type='checkbox'/><label for='index-ff8ebd34-d2f6-4843-afd1-9f58034cb91d' title='Show/Hide index repr'><svg class='icon xr-icon-database'><use xlink:href='#icon-database'></use></svg></label><div class='xr-index-data'><pre>PandasIndex(Index([    1,     2,     3,     4,     5,     6,     7,     8,     9,    10,\n",
       "       ...\n",
       "       35315, 35316, 35317, 35318, 35319, 35320, 35321, 35322, 35323, 35324],\n",
       "      dtype=&#x27;int64&#x27;, name=&#x27;hru&#x27;, length=35295))</pre></div></li><li class='xr-var-item'><div class='xr-index-name'><div>gru</div></div><div class='xr-index-preview'>PandasIndex</div><div></div><input id='index-0611302b-3f65-4e79-b72b-c17b96baf2df' class='xr-index-data-in' type='checkbox'/><label for='index-0611302b-3f65-4e79-b72b-c17b96baf2df' title='Show/Hide index repr'><svg class='icon xr-icon-database'><use xlink:href='#icon-database'></use></svg></label><div class='xr-index-data'><pre>PandasIndex(Index([    1,     2,     3,     4,     5,     6,     7,     8,     9,    10,\n",
       "       ...\n",
       "       35315, 35316, 35317, 35318, 35319, 35320, 35321, 35322, 35323, 35324],\n",
       "      dtype=&#x27;int64&#x27;, name=&#x27;gru&#x27;, length=35295))</pre></div></li></ul></div></li><li class='xr-section-item'><input id='section-b69e5d65-b33d-4200-87db-357248530841' class='xr-section-summary-in' type='checkbox'  ><label for='section-b69e5d65-b33d-4200-87db-357248530841' class='xr-section-summary' >Attributes: <span>(32)</span></label><div class='xr-section-inline-details'></div><div class='xr-section-details'><dl class='xr-attrs'><dt><span>summaVersion :</span></dt><dd>undefined</dd><dt><span>buildTime :</span></dt><dd>Fri 16 Feb 2024 08:37:03 MST</dd><dt><span>gitBranch :</span></dt><dd>main-0-g8540d65</dd><dt><span>gitHash :</span></dt><dd>8540d65e99f9fde311900d4e23934f40b3ce8bd7</dd><dt><span>soilCatTbl :</span></dt><dd>ROSETTA</dd><dt><span>vegeParTbl :</span></dt><dd>MODIFIED_IGBP_MODIS_NOAH</dd><dt><span>soilStress :</span></dt><dd>NoahType</dd><dt><span>stomResist :</span></dt><dd>BallBerry</dd><dt><span>num_method :</span></dt><dd>itertive</dd><dt><span>fDerivMeth :</span></dt><dd>analytic</dd><dt><span>LAI_method :</span></dt><dd>monTable</dd><dt><span>notPopulatedYet :</span></dt><dd>notPopulatedYet</dd><dt><span>f_Richards :</span></dt><dd>mixdform</dd><dt><span>groundwatr :</span></dt><dd>bigBuckt</dd><dt><span>hc_profile :</span></dt><dd>constant</dd><dt><span>bcUpprTdyn :</span></dt><dd>nrg_flux</dd><dt><span>bcLowrTdyn :</span></dt><dd>zeroFlux</dd><dt><span>bcUpprSoiH :</span></dt><dd>liq_flux</dd><dt><span>bcLowrSoiH :</span></dt><dd>drainage</dd><dt><span>veg_traits :</span></dt><dd>Raupach_BLM1994</dd><dt><span>canopyEmis :</span></dt><dd>difTrans</dd><dt><span>snowIncept :</span></dt><dd>lightSnow</dd><dt><span>windPrfile :</span></dt><dd>logBelowCanopy</dd><dt><span>astability :</span></dt><dd>louisinv</dd><dt><span>canopySrad :</span></dt><dd>BeersLaw</dd><dt><span>alb_method :</span></dt><dd>conDecay</dd><dt><span>snowLayers :</span></dt><dd>CLM_2010</dd><dt><span>compaction :</span></dt><dd>anderson</dd><dt><span>thCondSnow :</span></dt><dd>jrdn1991</dd><dt><span>thCondSoil :</span></dt><dd>funcSoilWet</dd><dt><span>spatial_gw :</span></dt><dd>localColumn</dd><dt><span>subRouting :</span></dt><dd>timeDlay</dd></dl></div></li></ul></div></div>"
      ],
      "text/plain": [
       "<xarray.Dataset> Size: 2GB\n",
       "Dimensions:                   (time: 365, hru: 35295, gru: 35295)\n",
       "Coordinates:\n",
       "  * time                      (time) datetime64[ns] 3kB 2000-01-02 ... 2000-1...\n",
       "  * hru                       (hru) int64 282kB 1 2 3 4 ... 35322 35323 35324\n",
       "  * gru                       (gru) int64 282kB 1 2 3 4 ... 35322 35323 35324\n",
       "Data variables: (12/20)\n",
       "    scalarCanopyWat           (time, hru) float64 103MB ...\n",
       "    scalarSnowDepth           (time, hru) float64 103MB ...\n",
       "    scalarSWE                 (time, hru) float64 103MB ...\n",
       "    scalarAquiferStorage      (time, hru) float64 103MB ...\n",
       "    scalarGroundSnowFraction  (time, hru) float64 103MB ...\n",
       "    scalarTotalSoilWat        (time, hru) float64 103MB ...\n",
       "    ...                        ...\n",
       "    scalarTotalET             (time, hru) float64 103MB ...\n",
       "    scalarTotalRunoff         (time, hru) float64 103MB ...\n",
       "    scalarNetRadiation        (time, hru) float64 103MB ...\n",
       "    hruId                     (hru) int64 282kB ...\n",
       "    gruId                     (gru) int64 282kB ...\n",
       "    water_year                (time) int64 3kB 2000 2000 2000 ... 2000 2000 2000\n",
       "Attributes: (12/32)\n",
       "    summaVersion:     undefined\n",
       "    buildTime:        Fri 16 Feb 2024 08:37:03 MST\n",
       "    gitBranch:        main-0-g8540d65\n",
       "    gitHash:          8540d65e99f9fde311900d4e23934f40b3ce8bd7\n",
       "    soilCatTbl:       ROSETTA\n",
       "    vegeParTbl:       MODIFIED_IGBP_MODIS_NOAH\n",
       "    ...               ...\n",
       "    snowLayers:       CLM_2010\n",
       "    compaction:       anderson\n",
       "    thCondSnow:       jrdn1991\n",
       "    thCondSoil:       funcSoilWet\n",
       "    spatial_gw:       localColumn\n",
       "    subRouting:       timeDlay"
      ]
     },
     "execution_count": 41,
     "metadata": {},
     "output_type": "execute_result"
    }
   ],
   "source": [
    "# Add a water year variable for grouping\n",
    "sim_summa['water_year'] = sim_summa['time'].dt.year # set initial year\n",
    "sim_mizu['water_year'] = sim_mizu['time'].dt.year # set initial year\n",
    "sim_summa"
   ]
  },
  {
   "cell_type": "code",
   "execution_count": 42,
   "metadata": {},
   "outputs": [
    {
     "ename": "TypeError",
     "evalue": "IndexVariable values cannot be modified",
     "output_type": "error",
     "traceback": [
      "\u001b[0;31m---------------------------------------------------------------------------\u001b[0m",
      "\u001b[0;31mTypeError\u001b[0m                                 Traceback (most recent call last)",
      "Cell \u001b[0;32mIn[42], line 2\u001b[0m\n\u001b[1;32m      1\u001b[0m \u001b[38;5;66;03m# Overwrite the year for months that are part of the water year that started last calendar year\u001b[39;00m\n\u001b[0;32m----> 2\u001b[0m \u001b[43msim_summa\u001b[49m\u001b[43m[\u001b[49m\u001b[38;5;124;43m'\u001b[39;49m\u001b[38;5;124;43mwater_year\u001b[39;49m\u001b[38;5;124;43m'\u001b[39;49m\u001b[43m]\u001b[49m\u001b[38;5;241;43m.\u001b[39;49m\u001b[43mloc\u001b[49m\u001b[43m[\u001b[49m\u001b[43msim_summa\u001b[49m\u001b[43m[\u001b[49m\u001b[38;5;124;43m'\u001b[39;49m\u001b[38;5;124;43mtime\u001b[39;49m\u001b[38;5;124;43m'\u001b[39;49m\u001b[43m]\u001b[49m\u001b[38;5;241;43m.\u001b[39;49m\u001b[43mdt\u001b[49m\u001b[38;5;241;43m.\u001b[39;49m\u001b[43mmonth\u001b[49m\u001b[43m \u001b[49m\u001b[38;5;241;43m<\u001b[39;49m\u001b[43m \u001b[49m\u001b[43mstart_month\u001b[49m\u001b[43m]\u001b[49m \u001b[38;5;241m-\u001b[39m\u001b[38;5;241m=\u001b[39m \u001b[38;5;241m1\u001b[39m\n\u001b[1;32m      3\u001b[0m sim_mizu[\u001b[38;5;124m'\u001b[39m\u001b[38;5;124mwater_year\u001b[39m\u001b[38;5;124m'\u001b[39m]\u001b[38;5;241m.\u001b[39mloc[sim_mizu[\u001b[38;5;124m'\u001b[39m\u001b[38;5;124mtime\u001b[39m\u001b[38;5;124m'\u001b[39m]\u001b[38;5;241m.\u001b[39mdt\u001b[38;5;241m.\u001b[39mmonth \u001b[38;5;241m<\u001b[39m start_month] \u001b[38;5;241m-\u001b[39m\u001b[38;5;241m=\u001b[39m \u001b[38;5;241m1\u001b[39m\n",
      "File \u001b[0;32m~/compHydro/data/CAMELS_spat/camels-spat-env/lib/python3.12/site-packages/xarray/core/dataarray.py:236\u001b[0m, in \u001b[0;36m_LocIndexer.__setitem__\u001b[0;34m(self, key, value)\u001b[0m\n\u001b[1;32m    233\u001b[0m     key \u001b[38;5;241m=\u001b[39m \u001b[38;5;28mdict\u001b[39m(\u001b[38;5;28mzip\u001b[39m(\u001b[38;5;28mself\u001b[39m\u001b[38;5;241m.\u001b[39mdata_array\u001b[38;5;241m.\u001b[39mdims, labels))\n\u001b[1;32m    235\u001b[0m dim_indexers \u001b[38;5;241m=\u001b[39m map_index_queries(\u001b[38;5;28mself\u001b[39m\u001b[38;5;241m.\u001b[39mdata_array, key)\u001b[38;5;241m.\u001b[39mdim_indexers\n\u001b[0;32m--> 236\u001b[0m \u001b[38;5;28;43mself\u001b[39;49m\u001b[38;5;241;43m.\u001b[39;49m\u001b[43mdata_array\u001b[49m\u001b[43m[\u001b[49m\u001b[43mdim_indexers\u001b[49m\u001b[43m]\u001b[49m \u001b[38;5;241m=\u001b[39m value\n",
      "File \u001b[0;32m~/compHydro/data/CAMELS_spat/camels-spat-env/lib/python3.12/site-packages/xarray/core/dataarray.py:878\u001b[0m, in \u001b[0;36mDataArray.__setitem__\u001b[0;34m(self, key, value)\u001b[0m\n\u001b[1;32m    873\u001b[0m \u001b[38;5;66;03m# DataArray key -> Variable key\u001b[39;00m\n\u001b[1;32m    874\u001b[0m key \u001b[38;5;241m=\u001b[39m {\n\u001b[1;32m    875\u001b[0m     k: v\u001b[38;5;241m.\u001b[39mvariable \u001b[38;5;28;01mif\u001b[39;00m \u001b[38;5;28misinstance\u001b[39m(v, DataArray) \u001b[38;5;28;01melse\u001b[39;00m v\n\u001b[1;32m    876\u001b[0m     \u001b[38;5;28;01mfor\u001b[39;00m k, v \u001b[38;5;129;01min\u001b[39;00m \u001b[38;5;28mself\u001b[39m\u001b[38;5;241m.\u001b[39m_item_key_to_dict(key)\u001b[38;5;241m.\u001b[39mitems()\n\u001b[1;32m    877\u001b[0m }\n\u001b[0;32m--> 878\u001b[0m \u001b[38;5;28;43mself\u001b[39;49m\u001b[38;5;241;43m.\u001b[39;49m\u001b[43mvariable\u001b[49m\u001b[43m[\u001b[49m\u001b[43mkey\u001b[49m\u001b[43m]\u001b[49m \u001b[38;5;241m=\u001b[39m value\n",
      "File \u001b[0;32m~/compHydro/data/CAMELS_spat/camels-spat-env/lib/python3.12/site-packages/xarray/core/variable.py:2635\u001b[0m, in \u001b[0;36mIndexVariable.__setitem__\u001b[0;34m(self, key, value)\u001b[0m\n\u001b[1;32m   2634\u001b[0m \u001b[38;5;28;01mdef\u001b[39;00m \u001b[38;5;21m__setitem__\u001b[39m(\u001b[38;5;28mself\u001b[39m, key, value):\n\u001b[0;32m-> 2635\u001b[0m     \u001b[38;5;28;01mraise\u001b[39;00m \u001b[38;5;167;01mTypeError\u001b[39;00m(\u001b[38;5;124mf\u001b[39m\u001b[38;5;124m\"\u001b[39m\u001b[38;5;132;01m{\u001b[39;00m\u001b[38;5;28mtype\u001b[39m(\u001b[38;5;28mself\u001b[39m)\u001b[38;5;241m.\u001b[39m\u001b[38;5;18m__name__\u001b[39m\u001b[38;5;132;01m}\u001b[39;00m\u001b[38;5;124m values cannot be modified\u001b[39m\u001b[38;5;124m\"\u001b[39m)\n",
      "\u001b[0;31mTypeError\u001b[0m: IndexVariable values cannot be modified"
     ]
    }
   ],
   "source": [
    "# Overwrite the year for months that are part of the water year that started last calendar year\n",
    "sim_summa['water_year'].loc[sim_summa['time'].dt.month < start_month] -= 1\n",
    "sim_mizu['water_year'].loc[sim_mizu['time'].dt.month < start_month] -= 1"
   ]
  },
  {
   "cell_type": "markdown",
   "metadata": {},
   "source": [
    "#### Preprocessing"
   ]
  },
  {
   "cell_type": "code",
   "execution_count": null,
   "metadata": {},
   "outputs": [],
   "source": [
    "# Select only complete water years\n",
    "complete_water_years_summa = (sim_summa['water_year'] > min(sim_summa['water_year'])) & (sim_summa['water_year'] < max(sim_summa['water_year']))\n",
    "complete_water_years_mizu = (sim_mizu['water_year'] > min(sim_mizu['water_year'])) & (sim_mizu['water_year'] < max(sim_mizu['water_year']))"
   ]
  },
  {
   "cell_type": "code",
   "execution_count": null,
   "metadata": {},
   "outputs": [],
   "source": [
    "# Find the mean maximum water-year SWE per HRU\n",
    "plot_dat_summa = sim_summa[summa_plot_var].sel(time=complete_water_years_summa).groupby(sim_summa['water_year'].sel(time=complete_water_years_summa)).max(dim='time').mean(dim='water_year')"
   ]
  },
  {
   "cell_type": "code",
   "execution_count": null,
   "metadata": {},
   "outputs": [],
   "source": [
    "# Find the mean water-year streamflow per HRU\n",
    "plot_dat_mizu = sim_mizu[mizu_plot_var].sel(time=complete_water_years_mizu).groupby(sim_mizu['water_year'].sel(time=complete_water_years_mizu)).mean(dim='time').mean(dim='water_year')"
   ]
  },
  {
   "cell_type": "code",
   "execution_count": null,
   "metadata": {},
   "outputs": [],
   "source": [
    "# Match the accummulated values to the correct HRU IDs in the SUMMA shapefile\n",
    "hru_ids_shp = shp_catchment[hm_hruid] # hru order in shapefile\n",
    "shp_catchment['plot_var'] = plot_dat_summa.sel(hru=hru_ids_shp.values)"
   ]
  },
  {
   "cell_type": "code",
   "execution_count": null,
   "metadata": {},
   "outputs": [],
   "source": [
    "# Match the accummulated values to the correct stream IDs in the shapefile\n",
    "seg_ids_shp = shp_river[seg_id] # stream segment order in shapefile\n",
    "shp_river['plot_var'] = plot_dat_mizu.sel(seg=np.where(sim_mizu['reachID'].values == seg_ids_shp.values.astype('int'))[0])"
   ]
  },
  {
   "cell_type": "code",
   "execution_count": null,
   "metadata": {},
   "outputs": [],
   "source": [
    "# Get the units of our plotting variable\n",
    "units_summa = sim_summa[summa_plot_var].units\n",
    "units_mizu = sim_mizu[mizu_plot_var].units"
   ]
  },
  {
   "cell_type": "code",
   "execution_count": null,
   "metadata": {},
   "outputs": [],
   "source": [
    "# Check what the units are\n",
    "print(units_summa)\n",
    "print(units_mizu)"
   ]
  },
  {
   "cell_type": "code",
   "execution_count": null,
   "metadata": {},
   "outputs": [],
   "source": [
    "# Format the units into something nicer\n",
    "units_summa = '$kg~m^{-2}$' # LaTeX syntax: $ for math mode, ~ for space, ^ for superscript, _ for subscript, {} to group\n",
    "units_mizu  = '$m^3~s^{-1}$'"
   ]
  },
  {
   "cell_type": "code",
   "execution_count": null,
   "metadata": {},
   "outputs": [],
   "source": [
    "# Create a shapefile with only GRU boundaries for overlay\n",
    "hm_grus_only = shp_catchment[[hm_gruid,'geometry']] # keep only the gruId and geometry\n",
    "hm_grus_only = hm_grus_only.dissolve(by=hm_gruid) # Dissolve HRU delineation"
   ]
  },
  {
   "cell_type": "markdown",
   "metadata": {},
   "source": [
    "#### Define where the outlet is"
   ]
  },
  {
   "cell_type": "code",
   "execution_count": null,
   "metadata": {},
   "outputs": [],
   "source": [
    "outlet_lat,outlet_lon = 51.167,-115.555"
   ]
  },
  {
   "cell_type": "code",
   "execution_count": null,
   "metadata": {},
   "outputs": [],
   "source": [
    "def add_outlet(ax,lat,lon):\n",
    "    ax.plot(lon,lat,linestyle='None',marker='o',color='r',markersize=10,label='outlet')\n",
    "    return"
   ]
  },
  {
   "cell_type": "markdown",
   "metadata": {},
   "source": [
    "#### Figure"
   ]
  },
  {
   "cell_type": "code",
   "execution_count": null,
   "metadata": {},
   "outputs": [],
   "source": [
    "# Set a colormap\n",
    "cmap_elev = 'terrain'\n",
    "cmap_q = 'Blues'\n",
    "cmap_swe = 'pink'"
   ]
  },
  {
   "cell_type": "code",
   "execution_count": null,
   "metadata": {},
   "outputs": [],
   "source": [
    "size = 16\n",
    "plt.rcParams.update({'font.size': size, \n",
    "                     'axes.labelsize': size, \n",
    "                     'xtick.labelsize': size, \n",
    "                     'ytick.labelsize': size})"
   ]
  },
  {
   "cell_type": "code",
   "execution_count": null,
   "metadata": {},
   "outputs": [],
   "source": [
    "fig, axs = plt.subplots(1,2,figsize=(20,10))\n",
    "plt.tight_layout()\n",
    "\n",
    "# --- elevation\n",
    "axId = 0\n",
    "\n",
    "# Data\n",
    "shp_elev.plot(ax=axs[axId], column='elev_mean',edgecolor='k', cmap = cmap_elev, legend=False)\n",
    "hm_grus_only.plot(ax=axs[axId],facecolor='none',edgecolor='k',linewidth=2) \n",
    "add_outlet(axs[axId],outlet_lat,outlet_lon)\n",
    "\n",
    "# Custom colorbar\n",
    "cax = fig.add_axes([0.46, 0.1, 0.02, 0.5])\n",
    "vmin,vmax = shp_elev['elev_mean'].min(),shp_elev['elev_mean'].max()\n",
    "sm = plt.cm.ScalarMappable(cmap=cmap_elev, norm=plt.Normalize(vmin=vmin, vmax=vmax))\n",
    "sm._A = []\n",
    "cbr = fig.colorbar(sm, cax=cax)\n",
    "cbr.ax.set_title('$[m.a.s.l.]$')\n",
    "\n",
    "# Custom legend\n",
    "lines = [Line2D([0], [0], color='k', lw=2),\n",
    "         Line2D([0], [0], color='k', lw=1),\n",
    "         Line2D([0], [0], color='r', linestyle='None', marker='.', markersize=10, lw=2)]\n",
    "label = ['SUMMA GRUs',\n",
    "         'SUMMA HRUs',\n",
    "         'Outlet']\n",
    "axs[axId].legend(lines,label,loc='lower left');\n",
    "\n",
    "# Chart junk\n",
    "axs[axId].set_title('(a) Mean HRU elevation derived from MERIT DEM');\n",
    "axs[axId].set_frame_on(False)\n",
    "axs[axId].set_xlabel('Longitude [degrees East]')\n",
    "axs[axId].set_ylabel('Latitude [degrees North]')\n",
    "\n",
    "\n",
    "# --- mean flow\n",
    "axId = 1\n",
    "\n",
    "# Data\n",
    "shp_catchment.plot(ax=axs[axId], column='plot_var',edgecolor='k', cmap = cmap_swe, legend=False)\n",
    "hm_grus_only.plot(ax=axs[axId],facecolor='none',edgecolor='k',linewidth=2) \n",
    "shp_river.plot(ax=axs[axId], column='plot_var', cmap=cmap_q,linewidth=5)\n",
    "add_outlet(axs[axId],outlet_lat,outlet_lon)\n",
    "\n",
    "# Custom colorbars\n",
    "cax = fig.add_axes([0.96, 0.1, 0.02, 0.5])\n",
    "vmin,vmax = shp_catchment['plot_var'].min(),shp_catchment['plot_var'].max()\n",
    "sm = plt.cm.ScalarMappable(cmap=cmap_swe, norm=plt.Normalize(vmin=vmin, vmax=vmax))\n",
    "sm._A = []\n",
    "cbr = fig.colorbar(sm, cax=cax)\n",
    "cbr.ax.set_title('[{}]'.format(units_summa))\n",
    "\n",
    "cax = fig.add_axes([1.02, 0.1, 0.02, 0.5])\n",
    "vmin,vmax = shp_river['plot_var'].min(),shp_river['plot_var'].max()\n",
    "sm = plt.cm.ScalarMappable(cmap=cmap_q, norm=plt.Normalize(vmin=vmin, vmax=vmax))\n",
    "sm._A = []\n",
    "cbr = fig.colorbar(sm, cax=cax)\n",
    "cbr.ax.set_title('[{}]'.format(units_mizu))\n",
    "\n",
    "# Chart junk\n",
    "axs[axId].set_title('(b) Mean annual max SWE and mean annual Q');\n",
    "axs[axId].set_frame_on(False)\n",
    "axs[axId].set_xlabel('Longitude [degrees East]')\n",
    "\n",
    "\n",
    "# Save \n",
    "plt.savefig(fig_path/fig_name, bbox_inches='tight', transparent=True, dpi=300)"
   ]
  },
  {
   "cell_type": "code",
   "execution_count": null,
   "metadata": {},
   "outputs": [],
   "source": []
  }
 ],
 "metadata": {
  "kernelspec": {
   "display_name": "camels-spat-env",
   "language": "python",
   "name": "camels-spat-env"
  },
  "language_info": {
   "codemirror_mode": {
    "name": "ipython",
    "version": 3
   },
   "file_extension": ".py",
   "mimetype": "text/x-python",
   "name": "python",
   "nbconvert_exporter": "python",
   "pygments_lexer": "ipython3",
   "version": "3.12.3"
  }
 },
 "nbformat": 4,
 "nbformat_minor": 4
}
